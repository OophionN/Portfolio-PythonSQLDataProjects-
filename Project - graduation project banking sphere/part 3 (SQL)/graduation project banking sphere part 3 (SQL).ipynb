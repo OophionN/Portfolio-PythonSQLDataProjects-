{
 "cells": [
  {
   "cell_type": "markdown",
   "id": "f25b7aea",
   "metadata": {
    "toc": true
   },
   "source": [
    "<h1>Table of Contents<span class=\"tocSkip\"></span></h1>\n",
    "<div class=\"toc\"><ul class=\"toc-item\"><li><span><a href=\"#Общие-вводные\" data-toc-modified-id=\"Общие-вводные-1\"><span class=\"toc-item-num\">1&nbsp;&nbsp;</span>Общие вводные</a></span><ul class=\"toc-item\"><li><span><a href=\"#Описание-данных\" data-toc-modified-id=\"Описание-данных-1.1\"><span class=\"toc-item-num\">1.1&nbsp;&nbsp;</span>Описание данных</a></span></li><li><span><a href=\"#Задание\" data-toc-modified-id=\"Задание-1.2\"><span class=\"toc-item-num\">1.2&nbsp;&nbsp;</span>Задание</a></span></li><li><span><a href=\"#Общие-описание-действий-при-выполнении-задания\" data-toc-modified-id=\"Общие-описание-действий-при-выполнении-задания-1.3\"><span class=\"toc-item-num\">1.3&nbsp;&nbsp;</span>Общие описание действий при выполнении задания</a></span></li></ul></li><li><span><a href=\"#Подготовка-инструментов-для-выполнения-задания\" data-toc-modified-id=\"Подготовка-инструментов-для-выполнения-задания-2\"><span class=\"toc-item-num\">2&nbsp;&nbsp;</span>Подготовка инструментов для выполнения задания</a></span></li><li><span><a href=\"#Знакомство-с-таблицами\" data-toc-modified-id=\"Знакомство-с-таблицами-3\"><span class=\"toc-item-num\">3&nbsp;&nbsp;</span>Знакомство с таблицами</a></span></li><li><span><a href=\"#Выполнение-заданий\" data-toc-modified-id=\"Выполнение-заданий-4\"><span class=\"toc-item-num\">4&nbsp;&nbsp;</span>Выполнение заданий</a></span><ul class=\"toc-item\"><li><span><a href=\"#Сколько-книг-вышло-после-1-января-2000-года\" data-toc-modified-id=\"Сколько-книг-вышло-после-1-января-2000-года-4.1\"><span class=\"toc-item-num\">4.1&nbsp;&nbsp;</span>Сколько книг вышло после 1 января 2000 года</a></span></li><li><span><a href=\"#Для-каждой-книги-посчитаем-количество-обзоров-и-среднюю-оценку\" data-toc-modified-id=\"Для-каждой-книги-посчитаем-количество-обзоров-и-среднюю-оценку-4.2\"><span class=\"toc-item-num\">4.2&nbsp;&nbsp;</span>Для каждой книги посчитаем количество обзоров и среднюю оценку</a></span></li><li><span><a href=\"#Определим-издательство,-которое-выпустило-наибольшее-число-книг-толще-50-страниц;\" data-toc-modified-id=\"Определим-издательство,-которое-выпустило-наибольшее-число-книг-толще-50-страниц;-4.3\"><span class=\"toc-item-num\">4.3&nbsp;&nbsp;</span>Определим издательство, которое выпустило наибольшее число книг толще 50 страниц;</a></span></li><li><span><a href=\"#Определим-автора-с-самой-высокой-средней-оценкой-книг-—-учитывайте-только-книги-с-50-и-более-оценками.\" data-toc-modified-id=\"Определим-автора-с-самой-высокой-средней-оценкой-книг-—-учитывайте-только-книги-с-50-и-более-оценками.-4.4\"><span class=\"toc-item-num\">4.4&nbsp;&nbsp;</span>Определим автора с самой высокой средней оценкой книг — учитывайте только книги с 50 и более оценками.</a></span></li><li><span><a href=\"#Посчитаем-среднее-количество-обзоров-от-пользователей,-которые-поставили-больше-48-оценок.\" data-toc-modified-id=\"Посчитаем-среднее-количество-обзоров-от-пользователей,-которые-поставили-больше-48-оценок.-4.5\"><span class=\"toc-item-num\">4.5&nbsp;&nbsp;</span>Посчитаем среднее количество обзоров от пользователей, которые поставили больше 48 оценок.</a></span></li></ul></li><li><span><a href=\"#Вывод.\" data-toc-modified-id=\"Вывод.-5\"><span class=\"toc-item-num\">5&nbsp;&nbsp;</span>Вывод.</a></span></li></ul></div>"
   ]
  },
  {
   "cell_type": "markdown",
   "id": "3bfc0c5e",
   "metadata": {},
   "source": [
    "# Общие вводные"
   ]
  },
  {
   "cell_type": "markdown",
   "id": "820cf4b2",
   "metadata": {},
   "source": [
    "Коронавирус застал мир врасплох, изменив привычный порядок вещей. В свободное время жители городов больше не выходят на улицу, не посещают кафе и торговые центры. Зато стало больше времени для книг. Это заметили стартаперы — и бросились создавать приложения для тех, кто любит читать.\n",
    "\n",
    "\n",
    "Ваша компания решила быть на волне и купила крупный сервис для чтения книг по подписке. Ваша первая задача как аналитика — проанализировать базу данных.\n",
    "В ней — информация о книгах, издательствах, авторах, а также пользовательские обзоры книг. Эти данные помогут сформулировать ценностное предложение для нового продукта."
   ]
  },
  {
   "cell_type": "markdown",
   "id": "8146f439",
   "metadata": {},
   "source": [
    "## Описание данных"
   ]
  },
  {
   "cell_type": "markdown",
   "id": "0a704e3e",
   "metadata": {},
   "source": [
    "Таблица books (Содержит данные о книгах):\n",
    "\n",
    "    - book_id — идентификатор книги;\n",
    "    - author_id — идентификатор автора;\n",
    "    - title — название книги;\n",
    "    - num_pages — количество страниц;\n",
    "    - publication_date — дата публикации книги;\n",
    "    - publisher_id — идентификатор издателя.\n",
    "\n",
    "Таблица authors (Содержит данные об авторах):\n",
    "\n",
    "    - author_id — идентификатор автора;\n",
    "    - author — имя автора.\n",
    "\n",
    "Таблица publishers (Содержит данные об издательствах):\n",
    "\n",
    "    - publisher_id — идентификатор издательства;\n",
    "    - publisher — название издательства;\n",
    "    \n",
    "Таблица ratings (Содержит данные о пользовательских оценках книг):\n",
    "\n",
    "    - rating_id — идентификатор оценки;\n",
    "    - book_id — идентификатор книги;\n",
    "    - username — имя пользователя, оставившего оценку;\n",
    "    - rating — оценка книги.\n",
    "    \n",
    "Таблица reviews (Содержит данные о пользовательских обзорах на книги):\n",
    "\n",
    "    - review_id — идентификатор обзора;\n",
    "    - book_id — идентификатор книги;\n",
    "    - username — имя пользователя, написавшего обзор;\n",
    "    - text — текст обзора."
   ]
  },
  {
   "cell_type": "markdown",
   "id": "106e8c0e",
   "metadata": {},
   "source": [
    "<a id=\"задачи\"></a>"
   ]
  },
  {
   "cell_type": "markdown",
   "id": "90545279",
   "metadata": {},
   "source": [
    "## Задание \n",
    "\n",
    "\n",
    "    1. Посчитайте, сколько книг вышло после 1 января 2000 года;\n",
    "    2. Для каждой книги посчитайте количество обзоров и среднюю оценку;\n",
    "    3. Определите издательство, которое выпустило наибольшее число книг толще 50 страниц — так вы исключите из анализа брошюры;\n",
    "    3. Определите автора с самой высокой средней оценкой книг — учитывайте только книги с 50 и более оценками;\n",
    "    4. Посчитайте среднее количество обзоров от пользователей, которые поставили больше 48 оценок."
   ]
  },
  {
   "cell_type": "markdown",
   "id": "321e402b",
   "metadata": {},
   "source": [
    "## Общие описание действий при выполнении задания\n",
    "\n",
    "    1. Описание исследования;\n",
    "    2. Исследование таблицы (нужно выввести первые строки);\n",
    "    3. 1 задание - 1 запрос;\n",
    "    4. Выводы по каждой из решённых задач."
   ]
  },
  {
   "cell_type": "markdown",
   "id": "21025fcf",
   "metadata": {},
   "source": [
    "# Подготовка инструментов для выполнения задания"
   ]
  },
  {
   "cell_type": "code",
   "execution_count": 1,
   "id": "2e403357",
   "metadata": {},
   "outputs": [],
   "source": [
    "import pandas as pd\n",
    "from sqlalchemy import text, create_engine\n",
    "# библиотеки для выведения ER-диаграммы\n",
    "from IPython.display import Image, display \n",
    "import requests\n",
    "\n",
    "pd.set_option('display.max_columns', 100)\n",
    "pd.set_option('display.max_rows', 100)\n",
    "pd.set_option('display.max_colwidth', 1000)"
   ]
  },
  {
   "cell_type": "markdown",
   "id": "4891c417",
   "metadata": {},
   "source": [
    "<a id=\"ER_диаграмма\"></a>"
   ]
  },
  {
   "cell_type": "code",
   "execution_count": 2,
   "id": "d41f3966",
   "metadata": {},
   "outputs": [
    {
     "data": {
      "image/jpeg": "[encoded data removed]",
      "text/plain": [
       "<IPython.core.display.Image object>"
      ]
     },
     "metadata": {},
     "output_type": "display_data"
    }
   ],
   "source": [
    "try:\n",
    "    image_path = r\"C:\\Users\\PC_Maks\\Desktop\\1.jpg\"\n",
    "    display(Image(filename=image_path))\n",
    "except:\n",
    "    image_url = \"https://i.postimg.cc/yYDBx1qK/1.jpg\"\n",
    "    response = requests.get(image_url)\n",
    "    image_data = response.content\n",
    "    display(Image(image_data))"
   ]
  },
  {
   "cell_type": "code",
   "execution_count": 3,
   "id": "38bd0c35",
   "metadata": {},
   "outputs": [],
   "source": [
    "# устанавливаем параметры\n",
    "db_config = {'user': 'praktikum_student', # имя пользователя\n",
    "'pwd': 'Sdf4$2;d-d30pp', # пароль\n",
    "'host': 'rc1b-wcoijxj3yxfsf3fs.mdb.yandexcloud.net',\n",
    "'port': 6432, # порт подключения\n",
    "'db': 'data-analyst-final-project-db'} # название базы данных\n",
    "connection_string = 'postgresql://{user}:{pwd}@{host}:{port}/{db}'.format(**db_config)"
   ]
  },
  {
   "cell_type": "code",
   "execution_count": 4,
   "id": "f4073acd",
   "metadata": {},
   "outputs": [],
   "source": [
    "# сохраняем коннектор\n",
    "engine = create_engine(connection_string, connect_args={'sslmode':'require'})"
   ]
  },
  {
   "cell_type": "markdown",
   "id": "5feec6bd",
   "metadata": {},
   "source": [
    "# Знакомство с таблицами\n",
    "Посмотрим на перые строки"
   ]
  },
  {
   "cell_type": "markdown",
   "id": "ef6cb90c",
   "metadata": {},
   "source": [
    "[Перейти к диаграмме](#ER_диаграмма)\n",
    "\n",
    "[Перейти к задачам](#задачи)"
   ]
  },
  {
   "cell_type": "code",
   "execution_count": 5,
   "id": "c03d656f",
   "metadata": {},
   "outputs": [],
   "source": [
    "list_table = ['books', 'authors', 'publishers', 'ratings', 'reviews']"
   ]
  },
  {
   "cell_type": "code",
   "execution_count": 6,
   "id": "d0104d6a",
   "metadata": {
    "scrolled": false
   },
   "outputs": [
    {
     "name": "stdout",
     "output_type": "stream",
     "text": [
      "НАЗВАНИЕ ТАБЛИЦЫ: books \n",
      "\n",
      "   book_id  author_id                                                  title  \\\n",
      "0        1        546                                           'Salem's Lot   \n",
      "1        2        465                     1 000 Places to See Before You Die   \n",
      "2        3        407    13 Little Blue Envelopes (Little Blue Envelope  #1)   \n",
      "3        4         82  1491: New Revelations of the Americas Before Columbus   \n",
      "4        5        125                                                   1776   \n",
      "\n",
      "   num_pages publication_date  publisher_id  \n",
      "0        594       2005-11-01            93  \n",
      "1        992       2003-05-22           336  \n",
      "2        322       2010-12-21           135  \n",
      "3        541       2006-10-10           309  \n",
      "4        386       2006-07-04           268   \n",
      "\n",
      "НАЗВАНИЕ ТАБЛИЦЫ: authors \n",
      "\n",
      "   author_id                          author\n",
      "0          1                      A.S. Byatt\n",
      "1          2  Aesop/Laura Harris/Laura Gibbs\n",
      "2          3                 Agatha Christie\n",
      "3          4                   Alan Brennert\n",
      "4          5        Alan Moore/David   Lloyd \n",
      "\n",
      "НАЗВАНИЕ ТАБЛИЦЫ: publishers \n",
      "\n",
      "   publisher_id                          publisher\n",
      "0             1                                Ace\n",
      "1             2                           Ace Book\n",
      "2             3                          Ace Books\n",
      "3             4                      Ace Hardcover\n",
      "4             5  Addison Wesley Publishing Company \n",
      "\n",
      "НАЗВАНИЕ ТАБЛИЦЫ: ratings \n",
      "\n",
      "   rating_id  book_id       username  rating\n",
      "0          1        1     ryanfranco       4\n",
      "1          2        1  grantpatricia       2\n",
      "2          3        1   brandtandrea       5\n",
      "3          4        2       lorichen       3\n",
      "4          5        2    mariokeller       2 \n",
      "\n",
      "НАЗВАНИЕ ТАБЛИЦЫ: reviews \n",
      "\n",
      "   review_id  book_id       username  \\\n",
      "0          1        1   brandtandrea   \n",
      "1          2        1     ryanfranco   \n",
      "2          3        2       lorichen   \n",
      "3          4        3  johnsonamanda   \n",
      "4          5        3    scotttamara   \n",
      "\n",
      "                                                                                                                               text  \n",
      "0                                        Mention society tell send professor analysis. Over provide race technology continue these.  \n",
      "1                                                 Foot glass pretty audience hit themselves. Among admit investment argue security.  \n",
      "2  Listen treat keep worry. Miss husband tax but person sport treatment industry. Kitchen decision deep the. Social party body the.  \n",
      "3          Finally month interesting blue could nature cultural bit. Prepare beat finish grow that smile teach. Dream me play near.  \n",
      "4                  Nation purpose heavy give wait song will. List dinner another whole positive radio fast. Music staff many green.   \n",
      "\n"
     ]
    }
   ],
   "source": [
    "for name_table in list_table:\n",
    "    query = '''SELECT * FROM {} LIMIT 5'''.format(name_table)\n",
    "    con=engine.connect()\n",
    "    df = pd.io.sql.read_sql(sql=text(query), con=con)\n",
    "    con.close()\n",
    "    print(f'НАЗВАНИЕ ТАБЛИЦЫ: {name_table}', '\\n')\n",
    "    print(df, '\\n')"
   ]
  },
  {
   "cell_type": "markdown",
   "id": "72009a59",
   "metadata": {},
   "source": [
    "# Выполнение заданий"
   ]
  },
  {
   "cell_type": "markdown",
   "id": "fbb43e1e",
   "metadata": {},
   "source": [
    "## Сколько книг вышло после 1 января 2000 года"
   ]
  },
  {
   "cell_type": "markdown",
   "id": "b9eedb7d",
   "metadata": {},
   "source": [
    "[Перейти к диаграмме](#ER_диаграмма)\n",
    "\n",
    "[Перейти к задачам](#задачи)"
   ]
  },
  {
   "cell_type": "code",
   "execution_count": 7,
   "id": "2a6e7297",
   "metadata": {},
   "outputs": [
    {
     "data": {
      "text/html": [
       "<div>\n",
       "<style scoped>\n",
       "    .dataframe tbody tr th:only-of-type {\n",
       "        vertical-align: middle;\n",
       "    }\n",
       "\n",
       "    .dataframe tbody tr th {\n",
       "        vertical-align: top;\n",
       "    }\n",
       "\n",
       "    .dataframe thead th {\n",
       "        text-align: right;\n",
       "    }\n",
       "</style>\n",
       "<table border=\"1\" class=\"dataframe\">\n",
       "  <thead>\n",
       "    <tr style=\"text-align: right;\">\n",
       "      <th></th>\n",
       "      <th>count</th>\n",
       "    </tr>\n",
       "  </thead>\n",
       "  <tbody>\n",
       "    <tr>\n",
       "      <th>0</th>\n",
       "      <td>819</td>\n",
       "    </tr>\n",
       "  </tbody>\n",
       "</table>\n",
       "</div>"
      ],
      "text/plain": [
       "   count\n",
       "0    819"
      ]
     },
     "execution_count": 7,
     "metadata": {},
     "output_type": "execute_result"
    }
   ],
   "source": [
    "query = '''SELECT count (title)\n",
    "FROM books \n",
    "WHERE publication_date > '2000-01-01'\n",
    "'''\n",
    "con=engine.connect()\n",
    "pd.io.sql.read_sql(sql=text(query), con = con)"
   ]
  },
  {
   "cell_type": "markdown",
   "id": "d88986f9",
   "metadata": {},
   "source": [
    "Всего после 1 января 2000 года вышло 819 книг "
   ]
  },
  {
   "cell_type": "markdown",
   "id": "8bf62cff",
   "metadata": {},
   "source": [
    "## Для каждой книги посчитаем количество обзоров и среднюю оценку"
   ]
  },
  {
   "cell_type": "markdown",
   "id": "63770c0e",
   "metadata": {},
   "source": [
    "[Перейти к диаграмме](#ER_диаграмма)"
   ]
  },
  {
   "cell_type": "code",
   "execution_count": 8,
   "id": "d11bd1f8",
   "metadata": {
    "scrolled": false
   },
   "outputs": [
    {
     "data": {
      "text/html": [
       "<div>\n",
       "<style scoped>\n",
       "    .dataframe tbody tr th:only-of-type {\n",
       "        vertical-align: middle;\n",
       "    }\n",
       "\n",
       "    .dataframe tbody tr th {\n",
       "        vertical-align: top;\n",
       "    }\n",
       "\n",
       "    .dataframe thead th {\n",
       "        text-align: right;\n",
       "    }\n",
       "</style>\n",
       "<table border=\"1\" class=\"dataframe\">\n",
       "  <thead>\n",
       "    <tr style=\"text-align: right;\">\n",
       "      <th></th>\n",
       "      <th>book_id</th>\n",
       "      <th>title</th>\n",
       "      <th>rating</th>\n",
       "      <th>count_review</th>\n",
       "    </tr>\n",
       "  </thead>\n",
       "  <tbody>\n",
       "    <tr>\n",
       "      <th>0</th>\n",
       "      <td>948</td>\n",
       "      <td>Twilight (Twilight  #1)</td>\n",
       "      <td>3.66</td>\n",
       "      <td>7</td>\n",
       "    </tr>\n",
       "    <tr>\n",
       "      <th>1</th>\n",
       "      <td>963</td>\n",
       "      <td>Water for Elephants</td>\n",
       "      <td>3.98</td>\n",
       "      <td>6</td>\n",
       "    </tr>\n",
       "    <tr>\n",
       "      <th>2</th>\n",
       "      <td>734</td>\n",
       "      <td>The Glass Castle</td>\n",
       "      <td>4.21</td>\n",
       "      <td>6</td>\n",
       "    </tr>\n",
       "    <tr>\n",
       "      <th>3</th>\n",
       "      <td>302</td>\n",
       "      <td>Harry Potter and the Prisoner of Azkaban (Harry Potter  #3)</td>\n",
       "      <td>4.41</td>\n",
       "      <td>6</td>\n",
       "    </tr>\n",
       "    <tr>\n",
       "      <th>4</th>\n",
       "      <td>695</td>\n",
       "      <td>The Curious Incident of the Dog in the Night-Time</td>\n",
       "      <td>4.08</td>\n",
       "      <td>6</td>\n",
       "    </tr>\n",
       "    <tr>\n",
       "      <th>...</th>\n",
       "      <td>...</td>\n",
       "      <td>...</td>\n",
       "      <td>...</td>\n",
       "      <td>...</td>\n",
       "    </tr>\n",
       "    <tr>\n",
       "      <th>995</th>\n",
       "      <td>83</td>\n",
       "      <td>Anne Rice's The Vampire Lestat: A Graphic Novel</td>\n",
       "      <td>3.67</td>\n",
       "      <td>0</td>\n",
       "    </tr>\n",
       "    <tr>\n",
       "      <th>996</th>\n",
       "      <td>808</td>\n",
       "      <td>The Natural Way to Draw</td>\n",
       "      <td>3.00</td>\n",
       "      <td>0</td>\n",
       "    </tr>\n",
       "    <tr>\n",
       "      <th>997</th>\n",
       "      <td>672</td>\n",
       "      <td>The Cat in the Hat and Other Dr. Seuss Favorites</td>\n",
       "      <td>5.00</td>\n",
       "      <td>0</td>\n",
       "    </tr>\n",
       "    <tr>\n",
       "      <th>998</th>\n",
       "      <td>221</td>\n",
       "      <td>Essential Tales and Poems</td>\n",
       "      <td>4.00</td>\n",
       "      <td>0</td>\n",
       "    </tr>\n",
       "    <tr>\n",
       "      <th>999</th>\n",
       "      <td>191</td>\n",
       "      <td>Disney's Beauty and the Beast (A Little Golden Book)</td>\n",
       "      <td>4.00</td>\n",
       "      <td>0</td>\n",
       "    </tr>\n",
       "  </tbody>\n",
       "</table>\n",
       "<p>1000 rows × 4 columns</p>\n",
       "</div>"
      ],
      "text/plain": [
       "     book_id                                                        title  \\\n",
       "0        948                                      Twilight (Twilight  #1)   \n",
       "1        963                                          Water for Elephants   \n",
       "2        734                                             The Glass Castle   \n",
       "3        302  Harry Potter and the Prisoner of Azkaban (Harry Potter  #3)   \n",
       "4        695            The Curious Incident of the Dog in the Night-Time   \n",
       "..       ...                                                          ...   \n",
       "995       83              Anne Rice's The Vampire Lestat: A Graphic Novel   \n",
       "996      808                                      The Natural Way to Draw   \n",
       "997      672             The Cat in the Hat and Other Dr. Seuss Favorites   \n",
       "998      221                                    Essential Tales and Poems   \n",
       "999      191         Disney's Beauty and the Beast (A Little Golden Book)   \n",
       "\n",
       "     rating  count_review  \n",
       "0      3.66             7  \n",
       "1      3.98             6  \n",
       "2      4.21             6  \n",
       "3      4.41             6  \n",
       "4      4.08             6  \n",
       "..      ...           ...  \n",
       "995    3.67             0  \n",
       "996    3.00             0  \n",
       "997    5.00             0  \n",
       "998    4.00             0  \n",
       "999    4.00             0  \n",
       "\n",
       "[1000 rows x 4 columns]"
      ]
     },
     "execution_count": 8,
     "metadata": {},
     "output_type": "execute_result"
    }
   ],
   "source": [
    "query = '''SELECT b.book_id, b.title, ROUND(AVG(r.rating), 2) as rating, COUNT(DISTINCT rev.review_id) as count_review\n",
    "FROM books AS b\n",
    "LEFT JOIN ratings AS r ON b.book_id = r.book_id\n",
    "LEFT JOIN reviews AS rev ON b.book_id = rev.book_id\n",
    "GROUP BY b.book_id, b.title\n",
    "ORDER BY count_review DESC;\n",
    "\n",
    "'''\n",
    "\n",
    "df_rating = pd.io.sql.read_sql(sql=text(query), con = con)\n",
    "df_rating"
   ]
  },
  {
   "cell_type": "markdown",
   "id": "4023476a",
   "metadata": {},
   "source": [
    "Оценки распределились в диапазоне от 1,5 до 5.0, а обзоры от 0 до 7"
   ]
  },
  {
   "cell_type": "markdown",
   "id": "45992b2e",
   "metadata": {},
   "source": []
  },
  {
   "cell_type": "markdown",
   "id": "72c149b9",
   "metadata": {},
   "source": [
    "## Определим издательство, которое выпустило наибольшее число книг толще 50 страниц;"
   ]
  },
  {
   "cell_type": "markdown",
   "id": "ccb54c4a",
   "metadata": {},
   "source": [
    "[Перейти к диаграмме](#ER_диаграмма)"
   ]
  },
  {
   "cell_type": "code",
   "execution_count": 9,
   "id": "b0a33fb8",
   "metadata": {},
   "outputs": [
    {
     "data": {
      "text/html": [
       "<div>\n",
       "<style scoped>\n",
       "    .dataframe tbody tr th:only-of-type {\n",
       "        vertical-align: middle;\n",
       "    }\n",
       "\n",
       "    .dataframe tbody tr th {\n",
       "        vertical-align: top;\n",
       "    }\n",
       "\n",
       "    .dataframe thead th {\n",
       "        text-align: right;\n",
       "    }\n",
       "</style>\n",
       "<table border=\"1\" class=\"dataframe\">\n",
       "  <thead>\n",
       "    <tr style=\"text-align: right;\">\n",
       "      <th></th>\n",
       "      <th>publisher</th>\n",
       "      <th>count_books</th>\n",
       "    </tr>\n",
       "  </thead>\n",
       "  <tbody>\n",
       "    <tr>\n",
       "      <th>0</th>\n",
       "      <td>Penguin Books</td>\n",
       "      <td>42</td>\n",
       "    </tr>\n",
       "  </tbody>\n",
       "</table>\n",
       "</div>"
      ],
      "text/plain": [
       "       publisher  count_books\n",
       "0  Penguin Books           42"
      ]
     },
     "execution_count": 9,
     "metadata": {},
     "output_type": "execute_result"
    }
   ],
   "source": [
    "query = '''SELECT pub.publisher, count (distinct b.book_id) as count_books\n",
    "FROM books AS b\n",
    "JOIN publishers AS pub ON pub.publisher_id = b.publisher_id\n",
    "WHERE b.num_pages > 50\n",
    "GROUP BY pub.publisher\n",
    "ORDER BY count_books DESC\n",
    "limit 1\n",
    "'''\n",
    "df_big_publ = pd.io.sql.read_sql(sql=text(query), con = con)\n",
    "df_big_publ"
   ]
  },
  {
   "cell_type": "markdown",
   "id": "d4f791eb",
   "metadata": {},
   "source": []
  },
  {
   "cell_type": "markdown",
   "id": "90336895",
   "metadata": {},
   "source": [
    "## Определим автора с самой высокой средней оценкой книг — учитывайте только книги с 50 и более оценками."
   ]
  },
  {
   "cell_type": "markdown",
   "id": "afdc1aa4",
   "metadata": {},
   "source": [
    "[Перейти к диаграмме](#ER_диаграмма)"
   ]
  },
  {
   "cell_type": "code",
   "execution_count": 18,
   "id": "b2222ad3",
   "metadata": {},
   "outputs": [
    {
     "data": {
      "text/html": [
       "<div>\n",
       "<style scoped>\n",
       "    .dataframe tbody tr th:only-of-type {\n",
       "        vertical-align: middle;\n",
       "    }\n",
       "\n",
       "    .dataframe tbody tr th {\n",
       "        vertical-align: top;\n",
       "    }\n",
       "\n",
       "    .dataframe thead th {\n",
       "        text-align: right;\n",
       "    }\n",
       "</style>\n",
       "<table border=\"1\" class=\"dataframe\">\n",
       "  <thead>\n",
       "    <tr style=\"text-align: right;\">\n",
       "      <th></th>\n",
       "      <th>author</th>\n",
       "      <th>average_rating</th>\n",
       "    </tr>\n",
       "  </thead>\n",
       "  <tbody>\n",
       "    <tr>\n",
       "      <th>0</th>\n",
       "      <td>J.K. Rowling/Mary GrandPré</td>\n",
       "      <td>4.283844</td>\n",
       "    </tr>\n",
       "  </tbody>\n",
       "</table>\n",
       "</div>"
      ],
      "text/plain": [
       "                       author  average_rating\n",
       "0  J.K. Rowling/Mary GrandPré        4.283844"
      ]
     },
     "execution_count": 18,
     "metadata": {},
     "output_type": "execute_result"
    }
   ],
   "source": [
    "query = '''WITH top_books AS (\n",
    "    SELECT b.book_id, b.title, b.author_id, COUNT(r.rating) AS rating_count, AVG(r.rating) AS rating_avg\n",
    "    FROM books AS b\n",
    "    JOIN ratings AS r ON b.book_id = r.book_id\n",
    "    GROUP BY b.book_id, b.title, b.author_id\n",
    "    HAVING COUNT(r.rating) >= 50\n",
    "), top_authors AS (\n",
    "    SELECT a.author_id, AVG(tb.rating_avg) AS avg_rating\n",
    "    FROM top_books AS tb\n",
    "    JOIN authors AS a ON tb.author_id = a.author_id\n",
    "    GROUP BY a.author_id\n",
    ")\n",
    "SELECT a.author, ta.avg_rating AS average_rating\n",
    "FROM top_authors AS ta\n",
    "JOIN authors AS a ON ta.author_id = a.author_id\n",
    "ORDER BY ta.avg_rating DESC\n",
    "LIMIT 1;\n",
    "\n",
    "'''\n",
    "df_great_author = pd.io.sql.read_sql(sql=text(query), con = con)\n",
    "df_great_author"
   ]
  },
  {
   "cell_type": "markdown",
   "id": "321198dc",
   "metadata": {},
   "source": [
    "Самая высокая средняя оценка книг, у которых от 50 и более оценок, среди всех авторов - у J.K. Rowling/Mary GrandPré"
   ]
  },
  {
   "cell_type": "markdown",
   "id": "d1285249",
   "metadata": {},
   "source": [
    "## Посчитаем среднее количество обзоров от пользователей, которые поставили больше 48 оценок."
   ]
  },
  {
   "cell_type": "markdown",
   "id": "8828a014",
   "metadata": {},
   "source": [
    "[Перейти к диаграмме](#ER_диаграмма)"
   ]
  },
  {
   "cell_type": "code",
   "execution_count": 11,
   "id": "b70c7c3f",
   "metadata": {
    "scrolled": false
   },
   "outputs": [
    {
     "data": {
      "text/html": [
       "<div>\n",
       "<style scoped>\n",
       "    .dataframe tbody tr th:only-of-type {\n",
       "        vertical-align: middle;\n",
       "    }\n",
       "\n",
       "    .dataframe tbody tr th {\n",
       "        vertical-align: top;\n",
       "    }\n",
       "\n",
       "    .dataframe thead th {\n",
       "        text-align: right;\n",
       "    }\n",
       "</style>\n",
       "<table border=\"1\" class=\"dataframe\">\n",
       "  <thead>\n",
       "    <tr style=\"text-align: right;\">\n",
       "      <th></th>\n",
       "      <th>average_reviews</th>\n",
       "    </tr>\n",
       "  </thead>\n",
       "  <tbody>\n",
       "    <tr>\n",
       "      <th>0</th>\n",
       "      <td>24.0</td>\n",
       "    </tr>\n",
       "  </tbody>\n",
       "</table>\n",
       "</div>"
      ],
      "text/plain": [
       "   average_reviews\n",
       "0             24.0"
      ]
     },
     "execution_count": 11,
     "metadata": {},
     "output_type": "execute_result"
    }
   ],
   "source": [
    "query = '''WITH rated_users AS (\n",
    "    SELECT username\n",
    "    FROM ratings\n",
    "    GROUP BY username\n",
    "    HAVING COUNT(rating) > 48\n",
    ")\n",
    "SELECT AVG(review_count) AS average_reviews\n",
    "FROM (\n",
    "    SELECT COUNT(review_id) AS review_count\n",
    "    FROM reviews\n",
    "    WHERE username IN (\n",
    "        SELECT username\n",
    "        FROM rated_users\n",
    "    )\n",
    "    GROUP BY username\n",
    ") subquery\n",
    "\n",
    "\n",
    "'''\n",
    "df_most_active_users = pd.io.sql.read_sql(sql=text(query), con = con)\n",
    "df_most_active_users"
   ]
  },
  {
   "cell_type": "markdown",
   "id": "47cd5a66",
   "metadata": {},
   "source": [
    "В среднем активные пользователи пишут по 24 обзора. Учитывая наш фильр в 48 оценок, получается, что каждый активный пользователь пишет обзор на каждую вторую книгу, которой поставил оценку."
   ]
  },
  {
   "cell_type": "markdown",
   "id": "edb7a763",
   "metadata": {},
   "source": [
    "# Вывод. "
   ]
  },
  {
   "cell_type": "markdown",
   "id": "687d7686",
   "metadata": {},
   "source": [
    "    1. Всего после 1 января 2000 года было выпущено 818 книг. Эта информация помогает нам понять объем книжного контента, доступного для анализа.\n",
    "\n",
    "    2. У всех книг в исходнных данных до 7 обзоров, что свидетельствует о разнообразии мнений пользователей. Средняя оценка книг варьируется от 1.5 до 5.0, что позволяет нам оценить качество и популярность книг в базе данных.\n",
    "\n",
    "    3. При анализе издательств, которые выпустили книги толще 50 страниц, наибольшее количество таких книг было выпущено издательством Penguin Books — 42 книги. Это указывает на значительную активность издательства в данной области.\n",
    "\n",
    "    4. При рассмотрении авторов с самыми высокими средними оценками книг (с учетом только книг с 50 и более оценками), мы обнаружили, что J.K. Rowling/Mary GrandPré имеет самую высокую среднюю оценку книг - 4.28. Это подчеркивает популярность и качество их работы среди читателей.\n",
    "\n",
    "    5. В среднем, активные пользователи пишут около 24 обзоров. Если мы учитываем только пользователей, которые поставили более 48 оценок, можно сделать вывод, что каждый активный пользователь пишет обзор на каждую вторую книгу, которой он поставил оценку. Это указывает на высокую активность и заинтересованность этой группы пользователей в оценивании и обсуждении книг."
   ]
  }
 ],
 "metadata": {
  "ExecuteTimeLog": [
   {
    "duration": 4,
    "start_time": "2023-06-30T11:10:49.097Z"
   },
   {
    "duration": 309,
    "start_time": "2023-06-30T11:10:49.102Z"
   },
   {
    "duration": 3,
    "start_time": "2023-06-30T11:10:49.414Z"
   },
   {
    "duration": 10,
    "start_time": "2023-06-30T11:10:49.418Z"
   },
   {
    "duration": 6,
    "start_time": "2023-06-30T11:10:49.429Z"
   },
   {
    "duration": 472,
    "start_time": "2023-06-30T11:10:49.436Z"
   },
   {
    "duration": 42,
    "start_time": "2023-06-30T11:10:49.910Z"
   },
   {
    "duration": 76,
    "start_time": "2023-06-30T11:10:49.954Z"
   },
   {
    "duration": 33,
    "start_time": "2023-06-30T11:10:50.032Z"
   },
   {
    "duration": 38,
    "start_time": "2023-06-30T11:10:50.066Z"
   },
   {
    "duration": 34,
    "start_time": "2023-06-30T11:10:50.106Z"
   },
   {
    "duration": 735,
    "start_time": "2023-06-30T11:14:15.814Z"
   },
   {
    "duration": 1036,
    "start_time": "2023-06-30T11:14:16.552Z"
   },
   {
    "duration": 4,
    "start_time": "2023-06-30T11:14:17.591Z"
   },
   {
    "duration": 12392,
    "start_time": "2023-06-30T11:14:17.598Z"
   },
   {
    "duration": 3,
    "start_time": "2023-06-30T11:14:29.993Z"
   },
   {
    "duration": 128,
    "start_time": "2023-06-30T11:14:29.998Z"
   },
   {
    "duration": 13,
    "start_time": "2023-06-30T11:14:30.128Z"
   },
   {
    "duration": 87,
    "start_time": "2023-06-30T11:14:30.143Z"
   },
   {
    "duration": 15,
    "start_time": "2023-06-30T11:14:30.232Z"
   },
   {
    "duration": 52,
    "start_time": "2023-06-30T11:14:30.251Z"
   },
   {
    "duration": 16,
    "start_time": "2023-06-30T11:14:30.305Z"
   },
   {
    "duration": 8,
    "start_time": "2023-06-30T11:17:15.032Z"
   },
   {
    "duration": 38,
    "start_time": "2023-06-30T11:19:04.535Z"
   },
   {
    "duration": 38,
    "start_time": "2023-06-30T11:19:50.269Z"
   },
   {
    "duration": 35,
    "start_time": "2023-06-30T11:21:34.674Z"
   },
   {
    "duration": 52,
    "start_time": "2023-06-30T11:21:40.038Z"
   },
   {
    "duration": 29,
    "start_time": "2023-06-30T11:22:20.311Z"
   },
   {
    "duration": 42,
    "start_time": "2023-06-30T11:23:01.257Z"
   },
   {
    "duration": 31,
    "start_time": "2023-06-30T11:24:47.552Z"
   },
   {
    "duration": 22,
    "start_time": "2023-06-30T11:27:21.676Z"
   },
   {
    "duration": 32,
    "start_time": "2023-06-30T11:28:16.764Z"
   },
   {
    "duration": 31,
    "start_time": "2023-06-30T11:28:29.247Z"
   },
   {
    "duration": 120,
    "start_time": "2023-06-30T11:28:52.123Z"
   },
   {
    "duration": 17,
    "start_time": "2023-06-30T11:29:32.576Z"
   },
   {
    "duration": 15,
    "start_time": "2023-06-30T11:29:49.204Z"
   },
   {
    "duration": 22,
    "start_time": "2023-06-30T11:30:20.442Z"
   },
   {
    "duration": 18,
    "start_time": "2023-06-30T11:30:44.597Z"
   },
   {
    "duration": 26,
    "start_time": "2023-06-30T11:32:26.454Z"
   },
   {
    "duration": 24,
    "start_time": "2023-06-30T11:32:31.350Z"
   },
   {
    "duration": 15,
    "start_time": "2023-06-30T11:33:21.476Z"
   },
   {
    "duration": 41,
    "start_time": "2023-06-30T11:38:06.943Z"
   },
   {
    "duration": 45,
    "start_time": "2023-06-30T11:38:12.657Z"
   },
   {
    "duration": 606,
    "start_time": "2023-06-30T11:39:22.225Z"
   },
   {
    "duration": 355,
    "start_time": "2023-06-30T11:39:22.833Z"
   },
   {
    "duration": 4,
    "start_time": "2023-06-30T11:39:23.190Z"
   },
   {
    "duration": 9019,
    "start_time": "2023-06-30T11:39:23.196Z"
   },
   {
    "duration": 3,
    "start_time": "2023-06-30T11:39:32.217Z"
   },
   {
    "duration": 79,
    "start_time": "2023-06-30T11:39:32.222Z"
   },
   {
    "duration": 11,
    "start_time": "2023-06-30T11:39:32.304Z"
   },
   {
    "duration": 42,
    "start_time": "2023-06-30T11:39:32.317Z"
   },
   {
    "duration": 19,
    "start_time": "2023-06-30T11:39:32.360Z"
   },
   {
    "duration": 21,
    "start_time": "2023-06-30T11:39:32.381Z"
   },
   {
    "duration": 16,
    "start_time": "2023-06-30T11:39:32.404Z"
   },
   {
    "duration": 15,
    "start_time": "2023-06-30T12:02:28.609Z"
   },
   {
    "duration": 22,
    "start_time": "2023-06-30T12:02:37.788Z"
   },
   {
    "duration": 21,
    "start_time": "2023-06-30T12:03:11.830Z"
   },
   {
    "duration": 120,
    "start_time": "2023-06-30T12:03:43.498Z"
   },
   {
    "duration": 55,
    "start_time": "2023-06-30T12:04:47.763Z"
   },
   {
    "duration": 20,
    "start_time": "2023-06-30T12:05:03.110Z"
   },
   {
    "duration": 20,
    "start_time": "2023-06-30T12:06:05.942Z"
   }
  ],
  "kernelspec": {
   "display_name": "Python 3 (ipykernel)",
   "language": "python",
   "name": "python3"
  },
  "language_info": {
   "codemirror_mode": {
    "name": "ipython",
    "version": 3
   },
   "file_extension": ".py",
   "mimetype": "text/x-python",
   "name": "python",
   "nbconvert_exporter": "python",
   "pygments_lexer": "ipython3",
   "version": "3.9.13"
  },
  "toc": {
   "base_numbering": 1,
   "nav_menu": {},
   "number_sections": true,
   "sideBar": true,
   "skip_h1_title": false,
   "title_cell": "Table of Contents",
   "title_sidebar": "Contents",
   "toc_cell": true,
   "toc_position": {
    "height": "calc(100% - 180px)",
    "left": "10px",
    "top": "150px",
    "width": "384px"
   },
   "toc_section_display": true,
   "toc_window_display": true
  }
 },
 "nbformat": 4,
 "nbformat_minor": 5
}
