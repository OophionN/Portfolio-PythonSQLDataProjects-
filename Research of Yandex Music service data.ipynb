{
 "cells": [
  {
   "cell_type": "markdown",
   "metadata": {
    "deletable": false,
    "editable": false,
    "id": "E0vqbgi9ay0H"
   },
   "source": [
    "# Яндекс Музыка"
   ]
  },
  {
   "cell_type": "markdown",
   "metadata": {
    "deletable": false,
    "editable": false,
    "id": "VUC88oWjTJw2"
   },
   "source": [
    "Сравнение Москвы и Петербурга окружено мифами. Например:\n",
    " * Москва — мегаполис, подчинённый жёсткому ритму рабочей недели;\n",
    " * Петербург — культурная столица, со своими вкусами.\n",
    "\n",
    "На данных Яндекс Музыки вы сравните поведение пользователей двух столиц.\n",
    "\n",
    "**Цель исследования** — проверьте три гипотезы:\n",
    "1. Активность пользователей зависит от дня недели. Причём в Москве и Петербурге это проявляется по-разному.\n",
    "2. В понедельник утром в Москве преобладают одни жанры, а в Петербурге — другие. Так же и вечером пятницы преобладают разные жанры — в зависимости от города. \n",
    "3. Москва и Петербург предпочитают разные жанры музыки. В Москве чаще слушают поп-музыку, в Петербурге — русский рэп.\n",
    "\n",
    "**Ход исследования**\n",
    "\n",
    "Данные о поведении пользователей вы получите из файла `yandex_music_project.csv`. О качестве данных ничего не известно. Поэтому перед проверкой гипотез понадобится обзор данных. \n",
    "\n",
    "Вы проверите данные на ошибки и оцените их влияние на исследование. Затем, на этапе предобработки вы поищете возможность исправить самые критичные ошибки данных.\n",
    " \n",
    "Таким образом, исследование пройдёт в три этапа:\n",
    " 1. Обзор данных.\n",
    " 2. Предобработка данных.\n",
    " 3. Проверка гипотез.\n",
    "\n"
   ]
  },
  {
   "cell_type": "markdown",
   "metadata": {
    "deletable": false,
    "editable": false,
    "id": "Ml1hmfXC_Zcs"
   },
   "source": [
    "## Обзор данных\n",
    "\n",
    "Составьте первое представление о данных Яндекс Музыки.\n",
    "\n",
    "\n"
   ]
  },
  {
   "cell_type": "markdown",
   "metadata": {
    "deletable": false,
    "editable": false,
    "id": "57eAOGIz_Zcs",
    "tags": [
     "start_task"
    ]
   },
   "source": [
    "**Задание 1**\n",
    "\n",
    "Основной инструмент аналитика — `pandas`. Импортируйте эту библиотеку."
   ]
  },
  {
   "cell_type": "code",
   "execution_count": 1,
   "metadata": {
    "deletable": false,
    "id": "AXN7PHPN_Zcs"
   },
   "outputs": [],
   "source": [
    "import pandas as pd\n",
    "# импорт библиотеки pandas"
   ]
  },
  {
   "cell_type": "markdown",
   "metadata": {
    "deletable": false,
    "editable": false,
    "id": "SG23P8tt_Zcs",
    "tags": [
     "start_task"
    ]
   },
   "source": [
    "**Задание 2**\n",
    "\n",
    "Прочитайте файл `yandex_music_project.csv` из папки `/datasets` и сохраните его в переменной `df`:"
   ]
  },
  {
   "cell_type": "code",
   "execution_count": 2,
   "metadata": {
    "deletable": false,
    "id": "fFVu7vqh_Zct"
   },
   "outputs": [],
   "source": [
    "df = pd.read_csv ('/datasets/yandex_music_project.csv')\n",
    "# чтение файла с данными и сохранение в df"
   ]
  },
  {
   "cell_type": "markdown",
   "metadata": {
    "deletable": false,
    "editable": false,
    "id": "rDoOMd3uTqnZ",
    "tags": [
     "start_task"
    ]
   },
   "source": [
    "**Задание 3**\n",
    "\n",
    "\n",
    "Выведите на экран первые десять строк таблицы:"
   ]
  },
  {
   "cell_type": "code",
   "execution_count": 3,
   "metadata": {
    "deletable": false,
    "id": "oWTVX3gW_Zct"
   },
   "outputs": [
    {
     "data": {
      "text/html": [
       "<div>\n",
       "<style scoped>\n",
       "    .dataframe tbody tr th:only-of-type {\n",
       "        vertical-align: middle;\n",
       "    }\n",
       "\n",
       "    .dataframe tbody tr th {\n",
       "        vertical-align: top;\n",
       "    }\n",
       "\n",
       "    .dataframe thead th {\n",
       "        text-align: right;\n",
       "    }\n",
       "</style>\n",
       "<table border=\"1\" class=\"dataframe\">\n",
       "  <thead>\n",
       "    <tr style=\"text-align: right;\">\n",
       "      <th></th>\n",
       "      <th>userID</th>\n",
       "      <th>Track</th>\n",
       "      <th>artist</th>\n",
       "      <th>genre</th>\n",
       "      <th>City</th>\n",
       "      <th>time</th>\n",
       "      <th>Day</th>\n",
       "    </tr>\n",
       "  </thead>\n",
       "  <tbody>\n",
       "    <tr>\n",
       "      <th>0</th>\n",
       "      <td>FFB692EC</td>\n",
       "      <td>Kamigata To Boots</td>\n",
       "      <td>The Mass Missile</td>\n",
       "      <td>rock</td>\n",
       "      <td>Saint-Petersburg</td>\n",
       "      <td>20:28:33</td>\n",
       "      <td>Wednesday</td>\n",
       "    </tr>\n",
       "    <tr>\n",
       "      <th>1</th>\n",
       "      <td>55204538</td>\n",
       "      <td>Delayed Because of Accident</td>\n",
       "      <td>Andreas Rönnberg</td>\n",
       "      <td>rock</td>\n",
       "      <td>Moscow</td>\n",
       "      <td>14:07:09</td>\n",
       "      <td>Friday</td>\n",
       "    </tr>\n",
       "    <tr>\n",
       "      <th>2</th>\n",
       "      <td>20EC38</td>\n",
       "      <td>Funiculì funiculà</td>\n",
       "      <td>Mario Lanza</td>\n",
       "      <td>pop</td>\n",
       "      <td>Saint-Petersburg</td>\n",
       "      <td>20:58:07</td>\n",
       "      <td>Wednesday</td>\n",
       "    </tr>\n",
       "    <tr>\n",
       "      <th>3</th>\n",
       "      <td>A3DD03C9</td>\n",
       "      <td>Dragons in the Sunset</td>\n",
       "      <td>Fire + Ice</td>\n",
       "      <td>folk</td>\n",
       "      <td>Saint-Petersburg</td>\n",
       "      <td>08:37:09</td>\n",
       "      <td>Monday</td>\n",
       "    </tr>\n",
       "    <tr>\n",
       "      <th>4</th>\n",
       "      <td>E2DC1FAE</td>\n",
       "      <td>Soul People</td>\n",
       "      <td>Space Echo</td>\n",
       "      <td>dance</td>\n",
       "      <td>Moscow</td>\n",
       "      <td>08:34:34</td>\n",
       "      <td>Monday</td>\n",
       "    </tr>\n",
       "    <tr>\n",
       "      <th>5</th>\n",
       "      <td>842029A1</td>\n",
       "      <td>Преданная</td>\n",
       "      <td>IMPERVTOR</td>\n",
       "      <td>rusrap</td>\n",
       "      <td>Saint-Petersburg</td>\n",
       "      <td>13:09:41</td>\n",
       "      <td>Friday</td>\n",
       "    </tr>\n",
       "    <tr>\n",
       "      <th>6</th>\n",
       "      <td>4CB90AA5</td>\n",
       "      <td>True</td>\n",
       "      <td>Roman Messer</td>\n",
       "      <td>dance</td>\n",
       "      <td>Moscow</td>\n",
       "      <td>13:00:07</td>\n",
       "      <td>Wednesday</td>\n",
       "    </tr>\n",
       "    <tr>\n",
       "      <th>7</th>\n",
       "      <td>F03E1C1F</td>\n",
       "      <td>Feeling This Way</td>\n",
       "      <td>Polina Griffith</td>\n",
       "      <td>dance</td>\n",
       "      <td>Moscow</td>\n",
       "      <td>20:47:49</td>\n",
       "      <td>Wednesday</td>\n",
       "    </tr>\n",
       "    <tr>\n",
       "      <th>8</th>\n",
       "      <td>8FA1D3BE</td>\n",
       "      <td>И вновь продолжается бой</td>\n",
       "      <td>NaN</td>\n",
       "      <td>ruspop</td>\n",
       "      <td>Moscow</td>\n",
       "      <td>09:17:40</td>\n",
       "      <td>Friday</td>\n",
       "    </tr>\n",
       "    <tr>\n",
       "      <th>9</th>\n",
       "      <td>E772D5C0</td>\n",
       "      <td>Pessimist</td>\n",
       "      <td>NaN</td>\n",
       "      <td>dance</td>\n",
       "      <td>Saint-Petersburg</td>\n",
       "      <td>21:20:49</td>\n",
       "      <td>Wednesday</td>\n",
       "    </tr>\n",
       "  </tbody>\n",
       "</table>\n",
       "</div>"
      ],
      "text/plain": [
       "     userID                        Track            artist   genre  \\\n",
       "0  FFB692EC            Kamigata To Boots  The Mass Missile    rock   \n",
       "1  55204538  Delayed Because of Accident  Andreas Rönnberg    rock   \n",
       "2    20EC38            Funiculì funiculà       Mario Lanza     pop   \n",
       "3  A3DD03C9        Dragons in the Sunset        Fire + Ice    folk   \n",
       "4  E2DC1FAE                  Soul People        Space Echo   dance   \n",
       "5  842029A1                    Преданная         IMPERVTOR  rusrap   \n",
       "6  4CB90AA5                         True      Roman Messer   dance   \n",
       "7  F03E1C1F             Feeling This Way   Polina Griffith   dance   \n",
       "8  8FA1D3BE     И вновь продолжается бой               NaN  ruspop   \n",
       "9  E772D5C0                    Pessimist               NaN   dance   \n",
       "\n",
       "             City        time        Day  \n",
       "0  Saint-Petersburg  20:28:33  Wednesday  \n",
       "1            Moscow  14:07:09     Friday  \n",
       "2  Saint-Petersburg  20:58:07  Wednesday  \n",
       "3  Saint-Petersburg  08:37:09     Monday  \n",
       "4            Moscow  08:34:34     Monday  \n",
       "5  Saint-Petersburg  13:09:41     Friday  \n",
       "6            Moscow  13:00:07  Wednesday  \n",
       "7            Moscow  20:47:49  Wednesday  \n",
       "8            Moscow  09:17:40     Friday  \n",
       "9  Saint-Petersburg  21:20:49  Wednesday  "
      ]
     },
     "execution_count": 3,
     "metadata": {},
     "output_type": "execute_result"
    }
   ],
   "source": [
    "df.head (10)\n",
    "# получение первых 10 строк таблицы df"
   ]
  },
  {
   "cell_type": "markdown",
   "metadata": {
    "deletable": false,
    "editable": false,
    "id": "EO73Kwic_Zct",
    "tags": [
     "start_task"
    ]
   },
   "source": [
    "**Задание 4**\n",
    "\n",
    "\n",
    "Одной командой получить общую информацию о таблице c помощью метода `info()`:"
   ]
  },
  {
   "cell_type": "code",
   "execution_count": 4,
   "metadata": {
    "deletable": false,
    "id": "DSf2kIb-_Zct"
   },
   "outputs": [
    {
     "name": "stdout",
     "output_type": "stream",
     "text": [
      "<class 'pandas.core.frame.DataFrame'>\n",
      "RangeIndex: 65079 entries, 0 to 65078\n",
      "Data columns (total 7 columns):\n",
      " #   Column    Non-Null Count  Dtype \n",
      "---  ------    --------------  ----- \n",
      " 0     userID  65079 non-null  object\n",
      " 1   Track     63848 non-null  object\n",
      " 2   artist    57876 non-null  object\n",
      " 3   genre     63881 non-null  object\n",
      " 4     City    65079 non-null  object\n",
      " 5   time      65079 non-null  object\n",
      " 6   Day       65079 non-null  object\n",
      "dtypes: object(7)\n",
      "memory usage: 3.5+ MB\n"
     ]
    }
   ],
   "source": [
    "df.info()\n",
    "# получение общей информации о данных в таблице df"
   ]
  },
  {
   "cell_type": "markdown",
   "metadata": {
    "deletable": false,
    "editable": false,
    "id": "TaQ2Iwbr_Zct"
   },
   "source": [
    "Итак, в таблице семь столбцов. Тип данных во всех столбцах — `object`.\n",
    "\n",
    "Согласно документации к данным:\n",
    "* `userID` — идентификатор пользователя;\n",
    "* `Track` — название трека;  \n",
    "* `artist` — имя исполнителя;\n",
    "* `genre` — название жанра;\n",
    "* `City` — город пользователя;\n",
    "* `time` — время начала прослушивания;\n",
    "* `Day` — день недели.\n",
    "\n",
    "Количество значений в столбцах различается. Значит, в данных есть пропущенные значения."
   ]
  },
  {
   "cell_type": "markdown",
   "metadata": {
    "deletable": false,
    "editable": false,
    "id": "rAfziTBDmf2h",
    "tags": [
     "start_task"
    ]
   },
   "source": [
    "**Задание 5**\n",
    "\n",
    "**Вопрос со свободной формой ответа**\n",
    "\n",
    "В названиях колонок видны нарушения стиля:\n",
    "* Строчные буквы сочетаются с прописными.\n",
    "* Встречаются пробелы.\n",
    "\n",
    "Какое третье нарушение?"
   ]
  },
  {
   "cell_type": "code",
   "execution_count": 5,
   "metadata": {
    "id": "jD8EXEIvmf2h"
   },
   "outputs": [],
   "source": [
    "#не используется змеиный сталь# Напишите ваш ответ здесь комментарием. Не удаляйте символ #. Не меняйте тип этой ячейки на Markdown."
   ]
  },
  {
   "cell_type": "markdown",
   "metadata": {
    "deletable": false,
    "editable": false,
    "id": "MCB6-dXG_Zct"
   },
   "source": [
    "**Выводы**\n",
    "\n",
    "В каждой строке таблицы — данные о прослушанном треке. Часть колонок описывает саму композицию: название, исполнителя и жанр. Остальные данные рассказывают о пользователе: из какого он города, когда он слушал музыку. \n",
    "\n",
    "Предварительно можно утверждать, что данных достаточно для проверки гипотез. Но встречаются пропуски в данных, а в названиях колонок — расхождения с хорошим стилем.\n",
    "\n",
    "Чтобы двигаться дальше, нужно устранить проблемы в данных."
   ]
  },
  {
   "cell_type": "markdown",
   "metadata": {
    "deletable": false,
    "editable": false,
    "id": "SjYF6Ub9_Zct"
   },
   "source": [
    "## Предобработка данных\n",
    "Исправьте стиль в заголовках столбцов, исключите пропуски. Затем проверьте данные на дубликаты."
   ]
  },
  {
   "cell_type": "markdown",
   "metadata": {
    "deletable": false,
    "editable": false,
    "id": "dIaKXr29_Zct",
    "tags": [
     "start_task"
    ]
   },
   "source": [
    "### Стиль заголовков\n",
    "\n",
    "**Задание 6**\n",
    "\n",
    "Выведите на экран названия столбцов:"
   ]
  },
  {
   "cell_type": "code",
   "execution_count": 6,
   "metadata": {
    "deletable": false,
    "id": "oKOTdF_Q_Zct"
   },
   "outputs": [
    {
     "data": {
      "text/plain": [
       "Index(['  userID', 'Track', 'artist', 'genre', '  City  ', 'time', 'Day'], dtype='object')"
      ]
     },
     "execution_count": 6,
     "metadata": {},
     "output_type": "execute_result"
    }
   ],
   "source": [
    "df.columns# перечень названий столбцов таблицы df"
   ]
  },
  {
   "cell_type": "markdown",
   "metadata": {
    "deletable": false,
    "editable": false,
    "id": "zj5534cv_Zct",
    "tags": [
     "start_task"
    ]
   },
   "source": [
    "**Задание 7**\n",
    "\n",
    "\n",
    "Приведите названия в соответствие с хорошим стилем:\n",
    "* несколько слов в названии запишите в «змеином_регистре»,\n",
    "* все символы сделайте строчными,\n",
    "* устраните пробелы.\n",
    "\n",
    "Для этого переименуйте колонки так:\n",
    "* `'  userID'` → `'user_id'`;\n",
    "* `'Track'` → `'track'`;\n",
    "* `'  City  '` → `'city'`;\n",
    "* `'Day'` → `'day'`."
   ]
  },
  {
   "cell_type": "code",
   "execution_count": 7,
   "metadata": {
    "deletable": false,
    "id": "ISlFqs5y_Zct"
   },
   "outputs": [],
   "source": [
    "df=df.rename (columns={'  userID':'user_id', 'Track':'track', '  City  ':'city', 'Day':'day'})\n",
    "    \n",
    "    \n",
    "    # переименование столбцов"
   ]
  },
  {
   "cell_type": "markdown",
   "metadata": {
    "deletable": false,
    "editable": false,
    "id": "1dqbh00J_Zct",
    "tags": [
     "start_task"
    ]
   },
   "source": [
    "**Задание 8**\n",
    "\n",
    "\n",
    "Проверьте результат. Для этого ещё раз выведите на экран названия столбцов:"
   ]
  },
  {
   "cell_type": "code",
   "execution_count": 8,
   "metadata": {
    "deletable": false,
    "id": "d4NOAmTW_Zct"
   },
   "outputs": [
    {
     "data": {
      "text/plain": [
       "Index(['user_id', 'track', 'artist', 'genre', 'city', 'time', 'day'], dtype='object')"
      ]
     },
     "execution_count": 8,
     "metadata": {},
     "output_type": "execute_result"
    }
   ],
   "source": [
    "df.columns\n",
    "# проверка результатов - перечень названий столбцов"
   ]
  },
  {
   "cell_type": "markdown",
   "metadata": {
    "deletable": false,
    "editable": false,
    "id": "5ISfbcfY_Zct",
    "tags": [
     "start_task"
    ]
   },
   "source": [
    "### Пропуски значений\n",
    "\n",
    "**Задание 9**\n",
    "\n",
    "Сначала посчитайте, сколько в таблице пропущенных значений. Для этого достаточно двух методов `pandas`:"
   ]
  },
  {
   "cell_type": "code",
   "execution_count": 9,
   "metadata": {
    "deletable": false,
    "id": "RskX29qr_Zct"
   },
   "outputs": [
    {
     "data": {
      "text/plain": [
       "user_id       0\n",
       "track      1231\n",
       "artist     7203\n",
       "genre      1198\n",
       "city          0\n",
       "time          0\n",
       "day           0\n",
       "dtype: int64"
      ]
     },
     "execution_count": 9,
     "metadata": {},
     "output_type": "execute_result"
    }
   ],
   "source": [
    "df.isna (). sum ()\n",
    "# подсчёт пропусков"
   ]
  },
  {
   "cell_type": "markdown",
   "metadata": {
    "deletable": false,
    "editable": false,
    "id": "qubhgnlO_Zct"
   },
   "source": [
    "Не все пропущенные значения влияют на исследование. Так в `track` и `artist` пропуски не важны для вашей работы. Достаточно заменить их явными обозначениями.\n",
    "\n",
    "Но пропуски в `genre` могут помешать сравнению музыкальных вкусов в Москве и Санкт-Петербурге. На практике было бы правильно установить причину пропусков и восстановить данные. Такой возможности нет в учебном проекте. Придётся:\n",
    "* заполнить и эти пропуски явными обозначениями;\n",
    "* оценить, насколько они повредят расчётам. "
   ]
  },
  {
   "cell_type": "markdown",
   "metadata": {
    "deletable": false,
    "editable": false,
    "id": "fSv2laPA_Zct",
    "tags": [
     "start_task"
    ]
   },
   "source": [
    "**Задание 10**\n",
    "\n",
    "Замените пропущенные значения в столбцах `track`, `artist` и `genre` на строку `'unknown'`. Для этого создайте список `columns_to_replace`, переберите его элементы циклом `for` и для каждого столбца выполните замену пропущенных значений:"
   ]
  },
  {
   "cell_type": "code",
   "execution_count": 10,
   "metadata": {
    "deletable": false,
    "id": "KplB5qWs_Zct"
   },
   "outputs": [],
   "source": [
    "df=df.fillna ('unknown')\n",
    "# перебор названий столбцов в цикле и замена пропущенных значений на 'unknown'"
   ]
  },
  {
   "cell_type": "markdown",
   "metadata": {
    "deletable": false,
    "editable": false,
    "id": "Ilsm-MZo_Zct",
    "tags": [
     "start_task"
    ]
   },
   "source": [
    "**Задание 11**\n",
    "\n",
    "Убедитесь, что в таблице не осталось пропусков. Для этого ещё раз посчитайте пропущенные значения."
   ]
  },
  {
   "cell_type": "code",
   "execution_count": 11,
   "metadata": {
    "deletable": false,
    "id": "Tq4nYRX4_Zct"
   },
   "outputs": [
    {
     "data": {
      "text/plain": [
       "user_id    0\n",
       "track      0\n",
       "artist     0\n",
       "genre      0\n",
       "city       0\n",
       "time       0\n",
       "day        0\n",
       "dtype: int64"
      ]
     },
     "execution_count": 11,
     "metadata": {},
     "output_type": "execute_result"
    }
   ],
   "source": [
    "df.isna (). sum ()\n",
    "# подсчёт пропусков"
   ]
  },
  {
   "cell_type": "markdown",
   "metadata": {
    "deletable": false,
    "editable": false,
    "id": "BWKRtBJ3_Zct",
    "tags": [
     "start_task"
    ]
   },
   "source": [
    "### Дубликаты\n",
    "\n",
    "**Задание 12**\n",
    "\n",
    "Посчитайте явные дубликаты в таблице одной командой:"
   ]
  },
  {
   "cell_type": "code",
   "execution_count": 12,
   "metadata": {
    "deletable": false,
    "id": "36eES_S0_Zct"
   },
   "outputs": [
    {
     "data": {
      "text/plain": [
       "3826"
      ]
     },
     "execution_count": 12,
     "metadata": {},
     "output_type": "execute_result"
    }
   ],
   "source": [
    "df.duplicated ().sum ()\n",
    "# подсчёт явных дубликатов"
   ]
  },
  {
   "cell_type": "markdown",
   "metadata": {
    "deletable": false,
    "editable": false,
    "id": "Ot25h6XR_Zct",
    "tags": [
     "start_task"
    ]
   },
   "source": [
    "**Задание 13**\n",
    "\n",
    "Вызовите специальный метод `pandas`, чтобы удалить явные дубликаты:"
   ]
  },
  {
   "cell_type": "code",
   "execution_count": 13,
   "metadata": {
    "deletable": false,
    "id": "exFHq6tt_Zct"
   },
   "outputs": [],
   "source": [
    "df=df.drop_duplicates ()\n",
    "# удаление явных дубликатов"
   ]
  },
  {
   "cell_type": "markdown",
   "metadata": {
    "deletable": false,
    "editable": false,
    "id": "Im2YwBEG_Zct",
    "tags": [
     "start_task"
    ]
   },
   "source": [
    "**Задание 14**\n",
    "\n",
    "Ещё раз посчитайте явные дубликаты в таблице — убедитесь, что полностью от них избавились:"
   ]
  },
  {
   "cell_type": "code",
   "execution_count": 14,
   "metadata": {
    "deletable": false,
    "id": "-8PuNWQ0_Zct"
   },
   "outputs": [
    {
     "data": {
      "text/plain": [
       "0"
      ]
     },
     "execution_count": 14,
     "metadata": {},
     "output_type": "execute_result"
    }
   ],
   "source": [
    "df.duplicated ().sum ()\n",
    "# проверка на отсутствие дубликатов"
   ]
  },
  {
   "cell_type": "markdown",
   "metadata": {
    "deletable": false,
    "editable": false,
    "id": "QlFBsxAr_Zct"
   },
   "source": [
    "Теперь избавьтесь от неявных дубликатов в колонке `genre`. Например, название одного и того же жанра может быть записано немного по-разному. Такие ошибки тоже повлияют на результат исследования."
   ]
  },
  {
   "cell_type": "markdown",
   "metadata": {
    "deletable": false,
    "editable": false,
    "id": "eSjWwsOh_Zct",
    "tags": [
     "start_task"
    ]
   },
   "source": [
    "**Задание 15**\n",
    "\n",
    "Выведите на экран список уникальных названий жанров, отсортированный в алфавитном порядке. Для этого:\n",
    "1. извлеките нужный столбец датафрейма; \n",
    "2. примените к нему метод сортировки;\n",
    "3. для отсортированного столбца вызовите метод, который вернёт уникальные значения из столбца."
   ]
  },
  {
   "cell_type": "code",
   "execution_count": 15,
   "metadata": {
    "deletable": false,
    "id": "JIUcqzZN_Zct"
   },
   "outputs": [
    {
     "data": {
      "text/plain": [
       "array(['acid', 'acoustic', 'action', 'adult', 'africa', 'afrikaans',\n",
       "       'alternative', 'alternativepunk', 'ambient', 'americana',\n",
       "       'animated', 'anime', 'arabesk', 'arabic', 'arena',\n",
       "       'argentinetango', 'art', 'audiobook', 'author', 'avantgarde',\n",
       "       'axé', 'baile', 'balkan', 'beats', 'bigroom', 'black', 'bluegrass',\n",
       "       'blues', 'bollywood', 'bossa', 'brazilian', 'breakbeat', 'breaks',\n",
       "       'broadway', 'cantautori', 'cantopop', 'canzone', 'caribbean',\n",
       "       'caucasian', 'celtic', 'chamber', 'chanson', 'children', 'chill',\n",
       "       'chinese', 'choral', 'christian', 'christmas', 'classical',\n",
       "       'classicmetal', 'club', 'colombian', 'comedy', 'conjazz',\n",
       "       'contemporary', 'country', 'cuban', 'dance', 'dancehall',\n",
       "       'dancepop', 'dark', 'death', 'deep', 'deutschrock', 'deutschspr',\n",
       "       'dirty', 'disco', 'dnb', 'documentary', 'downbeat', 'downtempo',\n",
       "       'drum', 'dub', 'dubstep', 'eastern', 'easy', 'electronic',\n",
       "       'electropop', 'emo', 'entehno', 'epicmetal', 'estrada', 'ethnic',\n",
       "       'eurofolk', 'european', 'experimental', 'extrememetal', 'fado',\n",
       "       'fairytail', 'film', 'fitness', 'flamenco', 'folk', 'folklore',\n",
       "       'folkmetal', 'folkrock', 'folktronica', 'forró', 'frankreich',\n",
       "       'französisch', 'french', 'funk', 'future', 'gangsta', 'garage',\n",
       "       'german', 'ghazal', 'gitarre', 'glitch', 'gospel', 'gothic',\n",
       "       'grime', 'grunge', 'gypsy', 'handsup', \"hard'n'heavy\", 'hardcore',\n",
       "       'hardstyle', 'hardtechno', 'hip', 'hip-hop', 'hiphop',\n",
       "       'historisch', 'holiday', 'hop', 'horror', 'house', 'hymn', 'idm',\n",
       "       'independent', 'indian', 'indie', 'indipop', 'industrial',\n",
       "       'inspirational', 'instrumental', 'international', 'irish', 'jam',\n",
       "       'japanese', 'jazz', 'jewish', 'jpop', 'jungle', 'k-pop',\n",
       "       'karadeniz', 'karaoke', 'kayokyoku', 'korean', 'laiko', 'latin',\n",
       "       'latino', 'leftfield', 'local', 'lounge', 'loungeelectronic',\n",
       "       'lovers', 'malaysian', 'mandopop', 'marschmusik', 'meditative',\n",
       "       'mediterranean', 'melodic', 'metal', 'metalcore', 'mexican',\n",
       "       'middle', 'minimal', 'miscellaneous', 'modern', 'mood', 'mpb',\n",
       "       'muslim', 'native', 'neoklassik', 'neue', 'new', 'newage',\n",
       "       'newwave', 'nu', 'nujazz', 'numetal', 'oceania', 'old', 'opera',\n",
       "       'orchestral', 'other', 'piano', 'podcasts', 'pop', 'popdance',\n",
       "       'popelectronic', 'popeurodance', 'poprussian', 'post',\n",
       "       'posthardcore', 'postrock', 'power', 'progmetal', 'progressive',\n",
       "       'psychedelic', 'punjabi', 'punk', 'quebecois', 'ragga', 'ram',\n",
       "       'rancheras', 'rap', 'rave', 'reggae', 'reggaeton', 'regional',\n",
       "       'relax', 'religious', 'retro', 'rhythm', 'rnb', 'rnr', 'rock',\n",
       "       'rockabilly', 'rockalternative', 'rockindie', 'rockother',\n",
       "       'romance', 'roots', 'ruspop', 'rusrap', 'rusrock', 'russian',\n",
       "       'salsa', 'samba', 'scenic', 'schlager', 'self', 'sertanejo',\n",
       "       'shanson', 'shoegazing', 'showtunes', 'singer', 'ska', 'skarock',\n",
       "       'slow', 'smooth', 'soft', 'soul', 'soulful', 'sound', 'soundtrack',\n",
       "       'southern', 'specialty', 'speech', 'spiritual', 'sport',\n",
       "       'stonerrock', 'surf', 'swing', 'synthpop', 'synthrock',\n",
       "       'sängerportrait', 'tango', 'tanzorchester', 'taraftar', 'tatar',\n",
       "       'tech', 'techno', 'teen', 'thrash', 'top', 'traditional',\n",
       "       'tradjazz', 'trance', 'tribal', 'trip', 'triphop', 'tropical',\n",
       "       'türk', 'türkçe', 'ukrrock', 'unknown', 'urban', 'uzbek',\n",
       "       'variété', 'vi', 'videogame', 'vocal', 'western', 'world',\n",
       "       'worldbeat', 'ïîï', 'электроника'], dtype=object)"
      ]
     },
     "execution_count": 15,
     "metadata": {},
     "output_type": "execute_result"
    }
   ],
   "source": [
    "df['genre'].sort_values().unique()\n",
    "\n",
    "\n",
    "\n",
    "# Просмотр уникальных названий жанров"
   ]
  },
  {
   "cell_type": "markdown",
   "metadata": {
    "deletable": false,
    "editable": false,
    "id": "qej-Qmuo_Zct",
    "tags": [
     "start_task"
    ]
   },
   "source": [
    "**Задание 16**\n",
    "\n",
    "Просмотрите список и найдите неявные дубликаты названия `hiphop`. Это могут быть названия с ошибками или альтернативные названия того же жанра.\n",
    "\n",
    "Вы увидите следующие неявные дубликаты:\n",
    "* *hip*,\n",
    "* *hop*,\n",
    "* *hip-hop*.\n",
    "\n",
    "Чтобы очистить от них таблицу используйте метод `replace()` с двумя аргументами: списком строк-дубликатов (включащий *hip*, *hop* и *hip-hop*) и строкой с правильным значением. Вам нужно исправить колонку `genre` в таблице `df`: заменить каждое значение из списка дубликатов на верное. Вместо `hip`, `hop` и `hip-hop` в таблице должно быть значение `hiphop`:"
   ]
  },
  {
   "cell_type": "code",
   "execution_count": 39,
   "metadata": {
    "deletable": false,
    "id": "ErNDkmns_Zct"
   },
   "outputs": [],
   "source": [
    "\n",
    "uncorrect_genre = ['hip', 'hop', 'hip-hop']\n",
    "df ['genre']= df ['genre'].replace (uncorrect_genre, 'hiphop')\n",
    "#df ['genre']= df ['genre'].replace ('электроника', 'electronic')\n",
    "\n",
    "# Устранение неявных дубликатов"
   ]
  },
  {
   "cell_type": "markdown",
   "metadata": {
    "deletable": false,
    "editable": false,
    "id": "zQKF16_RG15m",
    "tags": [
     "start_task"
    ]
   },
   "source": [
    "**Задание 17**\n",
    "\n",
    "Проверьте, что заменили неправильные названия:\n",
    "\n",
    "*   hip,\n",
    "*   hop,\n",
    "*   hip-hop.\n",
    "\n",
    "Выведите отсортированный список уникальных значений столбца `genre`:"
   ]
  },
  {
   "cell_type": "code",
   "execution_count": 17,
   "metadata": {
    "deletable": false,
    "id": "wvixALnFG15m"
   },
   "outputs": [
    {
     "data": {
      "text/plain": [
       "array(['acid', 'acoustic', 'action', 'adult', 'africa', 'afrikaans',\n",
       "       'alternative', 'alternativepunk', 'ambient', 'americana',\n",
       "       'animated', 'anime', 'arabesk', 'arabic', 'arena',\n",
       "       'argentinetango', 'art', 'audiobook', 'author', 'avantgarde',\n",
       "       'axé', 'baile', 'balkan', 'beats', 'bigroom', 'black', 'bluegrass',\n",
       "       'blues', 'bollywood', 'bossa', 'brazilian', 'breakbeat', 'breaks',\n",
       "       'broadway', 'cantautori', 'cantopop', 'canzone', 'caribbean',\n",
       "       'caucasian', 'celtic', 'chamber', 'chanson', 'children', 'chill',\n",
       "       'chinese', 'choral', 'christian', 'christmas', 'classical',\n",
       "       'classicmetal', 'club', 'colombian', 'comedy', 'conjazz',\n",
       "       'contemporary', 'country', 'cuban', 'dance', 'dancehall',\n",
       "       'dancepop', 'dark', 'death', 'deep', 'deutschrock', 'deutschspr',\n",
       "       'dirty', 'disco', 'dnb', 'documentary', 'downbeat', 'downtempo',\n",
       "       'drum', 'dub', 'dubstep', 'eastern', 'easy', 'electronic',\n",
       "       'electropop', 'emo', 'entehno', 'epicmetal', 'estrada', 'ethnic',\n",
       "       'eurofolk', 'european', 'experimental', 'extrememetal', 'fado',\n",
       "       'fairytail', 'film', 'fitness', 'flamenco', 'folk', 'folklore',\n",
       "       'folkmetal', 'folkrock', 'folktronica', 'forró', 'frankreich',\n",
       "       'französisch', 'french', 'funk', 'future', 'gangsta', 'garage',\n",
       "       'german', 'ghazal', 'gitarre', 'glitch', 'gospel', 'gothic',\n",
       "       'grime', 'grunge', 'gypsy', 'handsup', \"hard'n'heavy\", 'hardcore',\n",
       "       'hardstyle', 'hardtechno', 'hiphop', 'historisch', 'holiday',\n",
       "       'horror', 'house', 'hymn', 'idm', 'independent', 'indian', 'indie',\n",
       "       'indipop', 'industrial', 'inspirational', 'instrumental',\n",
       "       'international', 'irish', 'jam', 'japanese', 'jazz', 'jewish',\n",
       "       'jpop', 'jungle', 'k-pop', 'karadeniz', 'karaoke', 'kayokyoku',\n",
       "       'korean', 'laiko', 'latin', 'latino', 'leftfield', 'local',\n",
       "       'lounge', 'loungeelectronic', 'lovers', 'malaysian', 'mandopop',\n",
       "       'marschmusik', 'meditative', 'mediterranean', 'melodic', 'metal',\n",
       "       'metalcore', 'mexican', 'middle', 'minimal', 'miscellaneous',\n",
       "       'modern', 'mood', 'mpb', 'muslim', 'native', 'neoklassik', 'neue',\n",
       "       'new', 'newage', 'newwave', 'nu', 'nujazz', 'numetal', 'oceania',\n",
       "       'old', 'opera', 'orchestral', 'other', 'piano', 'podcasts', 'pop',\n",
       "       'popdance', 'popelectronic', 'popeurodance', 'poprussian', 'post',\n",
       "       'posthardcore', 'postrock', 'power', 'progmetal', 'progressive',\n",
       "       'psychedelic', 'punjabi', 'punk', 'quebecois', 'ragga', 'ram',\n",
       "       'rancheras', 'rap', 'rave', 'reggae', 'reggaeton', 'regional',\n",
       "       'relax', 'religious', 'retro', 'rhythm', 'rnb', 'rnr', 'rock',\n",
       "       'rockabilly', 'rockalternative', 'rockindie', 'rockother',\n",
       "       'romance', 'roots', 'ruspop', 'rusrap', 'rusrock', 'russian',\n",
       "       'salsa', 'samba', 'scenic', 'schlager', 'self', 'sertanejo',\n",
       "       'shanson', 'shoegazing', 'showtunes', 'singer', 'ska', 'skarock',\n",
       "       'slow', 'smooth', 'soft', 'soul', 'soulful', 'sound', 'soundtrack',\n",
       "       'southern', 'specialty', 'speech', 'spiritual', 'sport',\n",
       "       'stonerrock', 'surf', 'swing', 'synthpop', 'synthrock',\n",
       "       'sängerportrait', 'tango', 'tanzorchester', 'taraftar', 'tatar',\n",
       "       'tech', 'techno', 'teen', 'thrash', 'top', 'traditional',\n",
       "       'tradjazz', 'trance', 'tribal', 'trip', 'triphop', 'tropical',\n",
       "       'türk', 'türkçe', 'ukrrock', 'unknown', 'urban', 'uzbek',\n",
       "       'variété', 'vi', 'videogame', 'vocal', 'western', 'world',\n",
       "       'worldbeat', 'ïîï'], dtype=object)"
      ]
     },
     "execution_count": 17,
     "metadata": {},
     "output_type": "execute_result"
    }
   ],
   "source": [
    "df['genre'].sort_values().unique ()\n",
    "\n",
    "\n",
    "# Проверка на неявные дубликаты"
   ]
  },
  {
   "cell_type": "markdown",
   "metadata": {
    "deletable": false,
    "editable": false,
    "id": "jz6a9-7HQUDd"
   },
   "source": [
    "**Выводы**\n",
    "\n",
    "Предобработка обнаружила три проблемы в данных:\n",
    "\n",
    "- нарушения в стиле заголовков,\n",
    "- пропущенные значения,\n",
    "- дубликаты — явные и неявные.\n",
    "\n",
    "Вы исправили заголовки, чтобы упростить работу с таблицей. Без дубликатов исследование станет более точным.\n",
    "\n",
    "Пропущенные значения вы заменили на `'unknown'`. Ещё предстоит увидеть, не повредят ли исследованию пропуски в колонке `genre`.\n",
    "\n",
    "Теперь можно перейти к проверке гипотез. "
   ]
  },
  {
   "cell_type": "markdown",
   "metadata": {
    "deletable": false,
    "editable": false,
    "id": "WttZHXH0SqKk"
   },
   "source": [
    "## Проверка гипотез"
   ]
  },
  {
   "cell_type": "markdown",
   "metadata": {
    "deletable": false,
    "editable": false,
    "id": "Im936VVi_Zcu"
   },
   "source": [
    "### Сравнение поведения пользователей двух столиц"
   ]
  },
  {
   "cell_type": "markdown",
   "metadata": {
    "deletable": false,
    "editable": false,
    "id": "nwt_MuaL_Zcu"
   },
   "source": [
    "Первая гипотеза утверждает, что пользователи по-разному слушают музыку в Москве и Санкт-Петербурге. Проверьте это предположение по данным о трёх днях недели — понедельнике, среде и пятнице. Для этого:\n",
    "\n",
    "* Разделите пользователей Москвы и Санкт-Петербурга.\n",
    "* Сравните, сколько треков послушала каждая группа пользователей в понедельник, среду и пятницу.\n"
   ]
  },
  {
   "cell_type": "markdown",
   "metadata": {
    "deletable": false,
    "editable": false,
    "id": "8Dw_YMmT_Zcu",
    "tags": [
     "start_task"
    ]
   },
   "source": [
    "**Задание 18**\n",
    "\n",
    "Для тренировки сначала выполните каждый из расчётов по отдельности. \n",
    "\n",
    "Оцените активность пользователей в каждом городе. Сгруппируйте данные по городу и посчитайте прослушивания в каждой группе.\n",
    "\n"
   ]
  },
  {
   "cell_type": "code",
   "execution_count": 45,
   "metadata": {
    "deletable": false,
    "id": "0_Qs96oh_Zcu"
   },
   "outputs": [
    {
     "data": {
      "text/plain": [
       "city\n",
       "Moscow              42741\n",
       "Saint-Petersburg    18512\n",
       "Name: track, dtype: int64"
      ]
     },
     "execution_count": 45,
     "metadata": {},
     "output_type": "execute_result"
    }
   ],
   "source": [
    "#df_groupby_city = df.groupby ('city').count ()\n",
    "#df_groupby_city\n",
    "df_groupby_city = df.groupby ('city') ['track'].count ()\n",
    "df_groupby_city\n",
    "#df_groupby_city_msc ['']= df_groupby_city [df_groupby_city['city']=='Moscow']\n",
    "                # Подсчёт прослушиваний в каждом городе"
   ]
  },
  {
   "cell_type": "markdown",
   "metadata": {
    "deletable": false,
    "editable": false,
    "id": "dzli3w8o_Zcu",
    "tags": [
     "start_task"
    ]
   },
   "source": [
    "В Москве прослушиваний больше, чем в Петербурге. Из этого не следует, что московские пользователи чаще слушают музыку. Просто самих пользователей в Москве больше.\n",
    "\n",
    "**Задание 19**\n",
    "\n",
    "Теперь сгруппируйте данные по дню недели и посчитайте прослушивания в понедельник, среду и пятницу. Учтите, что в данных есть информация о прослушиваниях только за эти дни.\n"
   ]
  },
  {
   "cell_type": "code",
   "execution_count": 46,
   "metadata": {
    "deletable": false,
    "id": "uZMKjiJz_Zcu"
   },
   "outputs": [
    {
     "data": {
      "text/plain": [
       "day\n",
       "Friday       21840\n",
       "Monday       21354\n",
       "Wednesday    18059\n",
       "Name: track, dtype: int64"
      ]
     },
     "execution_count": 46,
     "metadata": {},
     "output_type": "execute_result"
    }
   ],
   "source": [
    "df_groupby_day = df.groupby ('day')['track'] .count ()\n",
    "df_groupby_day\n",
    "# Подсчёт прослушиваний в каждый из трёх дней"
   ]
  },
  {
   "cell_type": "markdown",
   "metadata": {
    "deletable": false,
    "editable": false,
    "id": "cC2tNrlL_Zcu"
   },
   "source": [
    "В среднем пользователи из двух городов менее активны по средам. Но картина может измениться, если рассмотреть каждый город в отдельности."
   ]
  },
  {
   "cell_type": "markdown",
   "metadata": {
    "deletable": false,
    "editable": false,
    "id": "POzs8bGa_Zcu",
    "tags": [
     "start_task"
    ]
   },
   "source": [
    "**Задание 20**\n",
    "\n",
    "\n",
    "Вы видели, как работает группировка по городу и по дням недели. Теперь напишите функцию, которая объединит два эти расчёта.\n",
    "\n",
    "Создайте функцию `number_tracks()`, которая посчитает прослушивания для заданного дня и города. Ей понадобятся два параметра:\n",
    "* день недели,\n",
    "* название города.\n",
    "\n",
    "В функции сохраните в переменную строки исходной таблицы, у которых значение:\n",
    "  * в колонке `day` равно параметру `day`,\n",
    "  * в колонке `city` равно параметру `city`.\n",
    "\n",
    "Для этого примените последовательную фильтрацию с логической индексацией (или сложные логические выражения в одну строку, если вы уже знакомы с ними).\n",
    "\n",
    "Затем посчитайте значения в столбце `user_id` получившейся таблицы. Результат сохраните в новую переменную. Верните эту переменную из функции."
   ]
  },
  {
   "cell_type": "code",
   "execution_count": 20,
   "metadata": {
    "deletable": false,
    "id": "Nz3GdQB1_Zcu"
   },
   "outputs": [],
   "source": [
    "def number_tracks (weekday,city):\n",
    "    \n",
    "    track_list = df [df ['day']==weekday]\n",
    "    track_list = track_list [track_list ['city']==city]\n",
    "    track_list_count = track_list ['genre'].count ()\n",
    "    \n",
    "    return track_list_count\n",
    "# <создание функции number_tracks()>\n",
    "# Объявляется функция с двумя параметрами: day, city.\n",
    "# В переменной track_list сохраняются те строки таблицы df, для которых \n",
    "# значение в столбце 'day' равно параметру day и одновременно значение\n",
    "# в столбце 'city' равно параметру city (используйте последовательную фильтрацию\n",
    "# с помощью логической индексации или сложные логические выражения в одну строку, если вы уже знакомы с ними).\n",
    "# В переменной track_list_count сохраняется число значений столбца 'user_id',\n",
    "# рассчитанное методом count() для таблицы track_list.\n",
    "# Функция возвращает число - значение track_list_count.\n",
    "\n",
    "# Функция для подсчёта прослушиваний для конкретного города и дня.\n",
    "# С помощью последовательной фильтрации с логической индексацией она \n",
    "# сначала получит из исходной таблицы строки с нужным днём,\n",
    "# затем из результата отфильтрует строки с нужным городом,\n",
    "# методом count() посчитает количество значений в колонке user_id. \n",
    "# Это количество функция вернёт в качестве результата"
   ]
  },
  {
   "cell_type": "markdown",
   "metadata": {
    "deletable": false,
    "editable": false,
    "id": "ytf7xFrFJQ2r",
    "tags": [
     "start_task"
    ]
   },
   "source": [
    "**Задание 21**\n",
    "\n",
    "Вызовите `number_tracks()` шесть раз, меняя значение параметров — так, чтобы получить данные для каждого города в каждый из трёх дней."
   ]
  },
  {
   "cell_type": "code",
   "execution_count": 21,
   "metadata": {
    "deletable": false,
    "id": "rJcRATNQ_Zcu"
   },
   "outputs": [
    {
     "data": {
      "text/plain": [
       "15740"
      ]
     },
     "execution_count": 21,
     "metadata": {},
     "output_type": "execute_result"
    }
   ],
   "source": [
    "number_tracks('Monday', 'Moscow')\n",
    "# количество прослушиваний в Москве по понедельникам"
   ]
  },
  {
   "cell_type": "code",
   "execution_count": 22,
   "metadata": {
    "deletable": false,
    "id": "hq_ncZ5T_Zcu"
   },
   "outputs": [
    {
     "data": {
      "text/plain": [
       "5614"
      ]
     },
     "execution_count": 22,
     "metadata": {},
     "output_type": "execute_result"
    }
   ],
   "source": [
    "number_tracks('Monday', 'Saint-Petersburg')\n",
    "# количество прослушиваний в Санкт-Петербурге по понедельникам"
   ]
  },
  {
   "cell_type": "code",
   "execution_count": 23,
   "metadata": {
    "deletable": false,
    "id": "_NTy2VPU_Zcu"
   },
   "outputs": [
    {
     "data": {
      "text/plain": [
       "11056"
      ]
     },
     "execution_count": 23,
     "metadata": {},
     "output_type": "execute_result"
    }
   ],
   "source": [
    "number_tracks('Wednesday', 'Moscow')\n",
    "# количество прослушиваний в Москве по средам"
   ]
  },
  {
   "cell_type": "code",
   "execution_count": 24,
   "metadata": {
    "deletable": false,
    "id": "j2y3TAwo_Zcu"
   },
   "outputs": [
    {
     "data": {
      "text/plain": [
       "7003"
      ]
     },
     "execution_count": 24,
     "metadata": {},
     "output_type": "execute_result"
    }
   ],
   "source": [
    "number_tracks('Wednesday', 'Saint-Petersburg') \n",
    "#количество прослушиваний в Санкт-Петербурге по средам"
   ]
  },
  {
   "cell_type": "code",
   "execution_count": 25,
   "metadata": {
    "deletable": false,
    "id": "vYDw5u_K_Zcu"
   },
   "outputs": [
    {
     "data": {
      "text/plain": [
       "15945"
      ]
     },
     "execution_count": 25,
     "metadata": {},
     "output_type": "execute_result"
    }
   ],
   "source": [
    "number_tracks('Friday', 'Moscow')\n",
    "# количество прослушиваний в Москве по пятницам"
   ]
  },
  {
   "cell_type": "code",
   "execution_count": 26,
   "metadata": {
    "deletable": false,
    "id": "8_yzFtW3_Zcu"
   },
   "outputs": [
    {
     "data": {
      "text/plain": [
       "5895"
      ]
     },
     "execution_count": 26,
     "metadata": {},
     "output_type": "execute_result"
    }
   ],
   "source": [
    "number_tracks('Friday', 'Saint-Petersburg') \n",
    "# количество прослушиваний в Санкт-Петербурге по пятницам"
   ]
  },
  {
   "cell_type": "markdown",
   "metadata": {
    "deletable": false,
    "editable": false,
    "id": "7QXffbO-_Zcu",
    "tags": [
     "start_task"
    ]
   },
   "source": [
    "**Задание 22**\n",
    "\n",
    "Создайте c помощью конструктора `pd.DataFrame` таблицу, где\n",
    "* названия колонок — `['city', 'monday', 'wednesday', 'friday']`;\n",
    "* данные — результаты, которые вы получили с помощью `number_tracks`."
   ]
  },
  {
   "cell_type": "code",
   "execution_count": 27,
   "metadata": {
    "deletable": false,
    "id": "APAcLpOr_Zcu"
   },
   "outputs": [
    {
     "data": {
      "text/html": [
       "<div>\n",
       "<style scoped>\n",
       "    .dataframe tbody tr th:only-of-type {\n",
       "        vertical-align: middle;\n",
       "    }\n",
       "\n",
       "    .dataframe tbody tr th {\n",
       "        vertical-align: top;\n",
       "    }\n",
       "\n",
       "    .dataframe thead th {\n",
       "        text-align: right;\n",
       "    }\n",
       "</style>\n",
       "<table border=\"1\" class=\"dataframe\">\n",
       "  <thead>\n",
       "    <tr style=\"text-align: right;\">\n",
       "      <th></th>\n",
       "      <th>city</th>\n",
       "      <th>Monday</th>\n",
       "      <th>Wednesday</th>\n",
       "      <th>Friday</th>\n",
       "    </tr>\n",
       "  </thead>\n",
       "  <tbody>\n",
       "    <tr>\n",
       "      <th>0</th>\n",
       "      <td>Moscow</td>\n",
       "      <td>15740</td>\n",
       "      <td>11056</td>\n",
       "      <td>15945</td>\n",
       "    </tr>\n",
       "    <tr>\n",
       "      <th>1</th>\n",
       "      <td>Saint-Petersburg</td>\n",
       "      <td>5614</td>\n",
       "      <td>7003</td>\n",
       "      <td>5895</td>\n",
       "    </tr>\n",
       "  </tbody>\n",
       "</table>\n",
       "</div>"
      ],
      "text/plain": [
       "               city  Monday  Wednesday  Friday\n",
       "0            Moscow   15740      11056   15945\n",
       "1  Saint-Petersburg    5614       7003    5895"
      ]
     },
     "execution_count": 27,
     "metadata": {},
     "output_type": "execute_result"
    }
   ],
   "source": [
    "columns_data_track_day_city = ['city', 'Monday', 'Wednesday', 'Friday']\n",
    "values_city_day = [\n",
    "    ['Moscow', number_tracks('Monday', 'Moscow'), number_tracks('Wednesday', 'Moscow'), number_tracks('Friday', 'Moscow')],\n",
    "    ['Saint-Petersburg', number_tracks('Monday', 'Saint-Petersburg'), number_tracks('Wednesday', 'Saint-Petersburg'), number_tracks('Friday', 'Saint-Petersburg')]\n",
    "]\n",
    "general_data_city = pd.DataFrame (data=values_city_day, columns=columns_data_track_day_city)\n",
    "general_data_city\n",
    "# Таблица с результатами"
   ]
  },
  {
   "cell_type": "markdown",
   "metadata": {
    "deletable": false,
    "editable": false,
    "id": "-EgPIHYu_Zcu"
   },
   "source": [
    "**Выводы**\n",
    "\n",
    "Данные показывают разницу поведения пользователей:\n",
    "\n",
    "- В Москве пик прослушиваний приходится на понедельник и пятницу, а в среду заметен спад.\n",
    "- В Петербурге, наоборот, больше слушают музыку по средам. Активность в понедельник и пятницу здесь почти в равной мере уступает среде.\n",
    "\n",
    "Значит, данные говорят в пользу первой гипотезы."
   ]
  },
  {
   "cell_type": "markdown",
   "metadata": {
    "deletable": false,
    "editable": false,
    "id": "atZAxtq4_Zcu"
   },
   "source": [
    "### Музыка в начале и в конце недели"
   ]
  },
  {
   "cell_type": "markdown",
   "metadata": {
    "deletable": false,
    "editable": false,
    "id": "eXrQqXFH_Zcu"
   },
   "source": [
    "Согласно второй гипотезе, утром в понедельник в Москве преобладают одни жанры, а в Петербурге — другие. Так же и вечером пятницы преобладают разные жанры — в зависимости от города."
   ]
  },
  {
   "cell_type": "markdown",
   "metadata": {
    "deletable": false,
    "editable": false,
    "id": "S8UcW6Hw_Zcu",
    "tags": [
     "start_task"
    ]
   },
   "source": [
    "**Задание 23**\n",
    "\n",
    "Сохраните таблицы с данными в две переменные:\n",
    "* по Москве — в `moscow_general`;\n",
    "* по Санкт-Петербургу — в `spb_general`."
   ]
  },
  {
   "cell_type": "code",
   "execution_count": 28,
   "metadata": {
    "deletable": false,
    "id": "qeaFfM_P_Zcu"
   },
   "outputs": [
    {
     "data": {
      "text/html": [
       "<div>\n",
       "<style scoped>\n",
       "    .dataframe tbody tr th:only-of-type {\n",
       "        vertical-align: middle;\n",
       "    }\n",
       "\n",
       "    .dataframe tbody tr th {\n",
       "        vertical-align: top;\n",
       "    }\n",
       "\n",
       "    .dataframe thead th {\n",
       "        text-align: right;\n",
       "    }\n",
       "</style>\n",
       "<table border=\"1\" class=\"dataframe\">\n",
       "  <thead>\n",
       "    <tr style=\"text-align: right;\">\n",
       "      <th></th>\n",
       "      <th>user_id</th>\n",
       "      <th>track</th>\n",
       "      <th>artist</th>\n",
       "      <th>genre</th>\n",
       "      <th>city</th>\n",
       "      <th>time</th>\n",
       "      <th>day</th>\n",
       "    </tr>\n",
       "  </thead>\n",
       "  <tbody>\n",
       "    <tr>\n",
       "      <th>1</th>\n",
       "      <td>55204538</td>\n",
       "      <td>Delayed Because of Accident</td>\n",
       "      <td>Andreas Rönnberg</td>\n",
       "      <td>rock</td>\n",
       "      <td>Moscow</td>\n",
       "      <td>14:07:09</td>\n",
       "      <td>Friday</td>\n",
       "    </tr>\n",
       "    <tr>\n",
       "      <th>4</th>\n",
       "      <td>E2DC1FAE</td>\n",
       "      <td>Soul People</td>\n",
       "      <td>Space Echo</td>\n",
       "      <td>dance</td>\n",
       "      <td>Moscow</td>\n",
       "      <td>08:34:34</td>\n",
       "      <td>Monday</td>\n",
       "    </tr>\n",
       "    <tr>\n",
       "      <th>6</th>\n",
       "      <td>4CB90AA5</td>\n",
       "      <td>True</td>\n",
       "      <td>Roman Messer</td>\n",
       "      <td>dance</td>\n",
       "      <td>Moscow</td>\n",
       "      <td>13:00:07</td>\n",
       "      <td>Wednesday</td>\n",
       "    </tr>\n",
       "    <tr>\n",
       "      <th>7</th>\n",
       "      <td>F03E1C1F</td>\n",
       "      <td>Feeling This Way</td>\n",
       "      <td>Polina Griffith</td>\n",
       "      <td>dance</td>\n",
       "      <td>Moscow</td>\n",
       "      <td>20:47:49</td>\n",
       "      <td>Wednesday</td>\n",
       "    </tr>\n",
       "    <tr>\n",
       "      <th>8</th>\n",
       "      <td>8FA1D3BE</td>\n",
       "      <td>И вновь продолжается бой</td>\n",
       "      <td>unknown</td>\n",
       "      <td>ruspop</td>\n",
       "      <td>Moscow</td>\n",
       "      <td>09:17:40</td>\n",
       "      <td>Friday</td>\n",
       "    </tr>\n",
       "    <tr>\n",
       "      <th>...</th>\n",
       "      <td>...</td>\n",
       "      <td>...</td>\n",
       "      <td>...</td>\n",
       "      <td>...</td>\n",
       "      <td>...</td>\n",
       "      <td>...</td>\n",
       "      <td>...</td>\n",
       "    </tr>\n",
       "    <tr>\n",
       "      <th>65073</th>\n",
       "      <td>83A474E7</td>\n",
       "      <td>I Worship Only What You Bleed</td>\n",
       "      <td>The Black Dahlia Murder</td>\n",
       "      <td>extrememetal</td>\n",
       "      <td>Moscow</td>\n",
       "      <td>21:07:12</td>\n",
       "      <td>Monday</td>\n",
       "    </tr>\n",
       "    <tr>\n",
       "      <th>65074</th>\n",
       "      <td>729CBB09</td>\n",
       "      <td>My Name</td>\n",
       "      <td>McLean</td>\n",
       "      <td>rnb</td>\n",
       "      <td>Moscow</td>\n",
       "      <td>13:32:28</td>\n",
       "      <td>Wednesday</td>\n",
       "    </tr>\n",
       "    <tr>\n",
       "      <th>65076</th>\n",
       "      <td>C5E3A0D5</td>\n",
       "      <td>Jalopiina</td>\n",
       "      <td>unknown</td>\n",
       "      <td>industrial</td>\n",
       "      <td>Moscow</td>\n",
       "      <td>20:09:26</td>\n",
       "      <td>Friday</td>\n",
       "    </tr>\n",
       "    <tr>\n",
       "      <th>65077</th>\n",
       "      <td>321D0506</td>\n",
       "      <td>Freight Train</td>\n",
       "      <td>Chas McDevitt</td>\n",
       "      <td>rock</td>\n",
       "      <td>Moscow</td>\n",
       "      <td>21:43:59</td>\n",
       "      <td>Friday</td>\n",
       "    </tr>\n",
       "    <tr>\n",
       "      <th>65078</th>\n",
       "      <td>3A64EF84</td>\n",
       "      <td>Tell Me Sweet Little Lies</td>\n",
       "      <td>Monica Lopez</td>\n",
       "      <td>country</td>\n",
       "      <td>Moscow</td>\n",
       "      <td>21:59:46</td>\n",
       "      <td>Friday</td>\n",
       "    </tr>\n",
       "  </tbody>\n",
       "</table>\n",
       "<p>42741 rows × 7 columns</p>\n",
       "</div>"
      ],
      "text/plain": [
       "        user_id                          track                   artist  \\\n",
       "1      55204538    Delayed Because of Accident         Andreas Rönnberg   \n",
       "4      E2DC1FAE                    Soul People               Space Echo   \n",
       "6      4CB90AA5                           True             Roman Messer   \n",
       "7      F03E1C1F               Feeling This Way          Polina Griffith   \n",
       "8      8FA1D3BE       И вновь продолжается бой                  unknown   \n",
       "...         ...                            ...                      ...   \n",
       "65073  83A474E7  I Worship Only What You Bleed  The Black Dahlia Murder   \n",
       "65074  729CBB09                        My Name                   McLean   \n",
       "65076  C5E3A0D5                      Jalopiina                  unknown   \n",
       "65077  321D0506                  Freight Train            Chas McDevitt   \n",
       "65078  3A64EF84      Tell Me Sweet Little Lies             Monica Lopez   \n",
       "\n",
       "              genre    city      time        day  \n",
       "1              rock  Moscow  14:07:09     Friday  \n",
       "4             dance  Moscow  08:34:34     Monday  \n",
       "6             dance  Moscow  13:00:07  Wednesday  \n",
       "7             dance  Moscow  20:47:49  Wednesday  \n",
       "8            ruspop  Moscow  09:17:40     Friday  \n",
       "...             ...     ...       ...        ...  \n",
       "65073  extrememetal  Moscow  21:07:12     Monday  \n",
       "65074           rnb  Moscow  13:32:28  Wednesday  \n",
       "65076    industrial  Moscow  20:09:26     Friday  \n",
       "65077          rock  Moscow  21:43:59     Friday  \n",
       "65078       country  Moscow  21:59:46     Friday  \n",
       "\n",
       "[42741 rows x 7 columns]"
      ]
     },
     "execution_count": 28,
     "metadata": {},
     "output_type": "execute_result"
    }
   ],
   "source": [
    "moscow_general = df [ df ['city'] == 'Moscow']\n",
    "# получение таблицы moscow_general из тех строк таблицы df, \n",
    "# для которых значение в столбце 'city' равно 'Moscow'\n"
   ]
  },
  {
   "cell_type": "code",
   "execution_count": 29,
   "metadata": {
    "deletable": false,
    "id": "ORaVRKto_Zcu"
   },
   "outputs": [
    {
     "data": {
      "text/html": [
       "<div>\n",
       "<style scoped>\n",
       "    .dataframe tbody tr th:only-of-type {\n",
       "        vertical-align: middle;\n",
       "    }\n",
       "\n",
       "    .dataframe tbody tr th {\n",
       "        vertical-align: top;\n",
       "    }\n",
       "\n",
       "    .dataframe thead th {\n",
       "        text-align: right;\n",
       "    }\n",
       "</style>\n",
       "<table border=\"1\" class=\"dataframe\">\n",
       "  <thead>\n",
       "    <tr style=\"text-align: right;\">\n",
       "      <th></th>\n",
       "      <th>user_id</th>\n",
       "      <th>track</th>\n",
       "      <th>artist</th>\n",
       "      <th>genre</th>\n",
       "      <th>city</th>\n",
       "      <th>time</th>\n",
       "      <th>day</th>\n",
       "    </tr>\n",
       "  </thead>\n",
       "  <tbody>\n",
       "    <tr>\n",
       "      <th>0</th>\n",
       "      <td>FFB692EC</td>\n",
       "      <td>Kamigata To Boots</td>\n",
       "      <td>The Mass Missile</td>\n",
       "      <td>rock</td>\n",
       "      <td>Saint-Petersburg</td>\n",
       "      <td>20:28:33</td>\n",
       "      <td>Wednesday</td>\n",
       "    </tr>\n",
       "    <tr>\n",
       "      <th>2</th>\n",
       "      <td>20EC38</td>\n",
       "      <td>Funiculì funiculà</td>\n",
       "      <td>Mario Lanza</td>\n",
       "      <td>pop</td>\n",
       "      <td>Saint-Petersburg</td>\n",
       "      <td>20:58:07</td>\n",
       "      <td>Wednesday</td>\n",
       "    </tr>\n",
       "    <tr>\n",
       "      <th>3</th>\n",
       "      <td>A3DD03C9</td>\n",
       "      <td>Dragons in the Sunset</td>\n",
       "      <td>Fire + Ice</td>\n",
       "      <td>folk</td>\n",
       "      <td>Saint-Petersburg</td>\n",
       "      <td>08:37:09</td>\n",
       "      <td>Monday</td>\n",
       "    </tr>\n",
       "    <tr>\n",
       "      <th>5</th>\n",
       "      <td>842029A1</td>\n",
       "      <td>Преданная</td>\n",
       "      <td>IMPERVTOR</td>\n",
       "      <td>rusrap</td>\n",
       "      <td>Saint-Petersburg</td>\n",
       "      <td>13:09:41</td>\n",
       "      <td>Friday</td>\n",
       "    </tr>\n",
       "    <tr>\n",
       "      <th>9</th>\n",
       "      <td>E772D5C0</td>\n",
       "      <td>Pessimist</td>\n",
       "      <td>unknown</td>\n",
       "      <td>dance</td>\n",
       "      <td>Saint-Petersburg</td>\n",
       "      <td>21:20:49</td>\n",
       "      <td>Wednesday</td>\n",
       "    </tr>\n",
       "    <tr>\n",
       "      <th>...</th>\n",
       "      <td>...</td>\n",
       "      <td>...</td>\n",
       "      <td>...</td>\n",
       "      <td>...</td>\n",
       "      <td>...</td>\n",
       "      <td>...</td>\n",
       "      <td>...</td>\n",
       "    </tr>\n",
       "    <tr>\n",
       "      <th>65063</th>\n",
       "      <td>D94F810B</td>\n",
       "      <td>Theme from the Walking Dead</td>\n",
       "      <td>Proyecto Halloween</td>\n",
       "      <td>film</td>\n",
       "      <td>Saint-Petersburg</td>\n",
       "      <td>21:14:40</td>\n",
       "      <td>Monday</td>\n",
       "    </tr>\n",
       "    <tr>\n",
       "      <th>65064</th>\n",
       "      <td>BC8EC5CF</td>\n",
       "      <td>Red Lips: Gta (Rover Rework)</td>\n",
       "      <td>Rover</td>\n",
       "      <td>electronic</td>\n",
       "      <td>Saint-Petersburg</td>\n",
       "      <td>21:06:50</td>\n",
       "      <td>Monday</td>\n",
       "    </tr>\n",
       "    <tr>\n",
       "      <th>65065</th>\n",
       "      <td>29E04611</td>\n",
       "      <td>Bre Petrunko</td>\n",
       "      <td>Perunika Trio</td>\n",
       "      <td>world</td>\n",
       "      <td>Saint-Petersburg</td>\n",
       "      <td>13:56:00</td>\n",
       "      <td>Monday</td>\n",
       "    </tr>\n",
       "    <tr>\n",
       "      <th>65066</th>\n",
       "      <td>1B91C621</td>\n",
       "      <td>(Hello) Cloud Mountain</td>\n",
       "      <td>sleepmakeswaves</td>\n",
       "      <td>postrock</td>\n",
       "      <td>Saint-Petersburg</td>\n",
       "      <td>09:22:13</td>\n",
       "      <td>Monday</td>\n",
       "    </tr>\n",
       "    <tr>\n",
       "      <th>65075</th>\n",
       "      <td>D08D4A55</td>\n",
       "      <td>Maybe One Day (feat. Black Spade)</td>\n",
       "      <td>Blu &amp; Exile</td>\n",
       "      <td>hiphop</td>\n",
       "      <td>Saint-Petersburg</td>\n",
       "      <td>10:00:00</td>\n",
       "      <td>Monday</td>\n",
       "    </tr>\n",
       "  </tbody>\n",
       "</table>\n",
       "<p>18512 rows × 7 columns</p>\n",
       "</div>"
      ],
      "text/plain": [
       "        user_id                              track              artist  \\\n",
       "0      FFB692EC                  Kamigata To Boots    The Mass Missile   \n",
       "2        20EC38                  Funiculì funiculà         Mario Lanza   \n",
       "3      A3DD03C9              Dragons in the Sunset          Fire + Ice   \n",
       "5      842029A1                          Преданная           IMPERVTOR   \n",
       "9      E772D5C0                          Pessimist             unknown   \n",
       "...         ...                                ...                 ...   \n",
       "65063  D94F810B        Theme from the Walking Dead  Proyecto Halloween   \n",
       "65064  BC8EC5CF       Red Lips: Gta (Rover Rework)               Rover   \n",
       "65065  29E04611                       Bre Petrunko       Perunika Trio   \n",
       "65066  1B91C621             (Hello) Cloud Mountain     sleepmakeswaves   \n",
       "65075  D08D4A55  Maybe One Day (feat. Black Spade)         Blu & Exile   \n",
       "\n",
       "            genre              city      time        day  \n",
       "0            rock  Saint-Petersburg  20:28:33  Wednesday  \n",
       "2             pop  Saint-Petersburg  20:58:07  Wednesday  \n",
       "3            folk  Saint-Petersburg  08:37:09     Monday  \n",
       "5          rusrap  Saint-Petersburg  13:09:41     Friday  \n",
       "9           dance  Saint-Petersburg  21:20:49  Wednesday  \n",
       "...           ...               ...       ...        ...  \n",
       "65063        film  Saint-Petersburg  21:14:40     Monday  \n",
       "65064  electronic  Saint-Petersburg  21:06:50     Monday  \n",
       "65065       world  Saint-Petersburg  13:56:00     Monday  \n",
       "65066    postrock  Saint-Petersburg  09:22:13     Monday  \n",
       "65075      hiphop  Saint-Petersburg  10:00:00     Monday  \n",
       "\n",
       "[18512 rows x 7 columns]"
      ]
     },
     "execution_count": 29,
     "metadata": {},
     "output_type": "execute_result"
    }
   ],
   "source": [
    "spb_general = df [ df ['city'] == 'Saint-Petersburg']\n",
    "# получение таблицы spb_general из тех строк таблицы df,\n",
    "# для которых значение в столбце 'city' равно 'Saint-Petersburg'\n"
   ]
  },
  {
   "cell_type": "markdown",
   "metadata": {
    "deletable": false,
    "editable": false,
    "id": "MEJV-CX2_Zcu",
    "tags": [
     "start_task"
    ]
   },
   "source": [
    "**Задание 24**\n",
    "\n",
    "Создайте функцию `genre_weekday()` с четырьмя параметрами:\n",
    "* таблица (датафрейм) с данными,\n",
    "* день недели,\n",
    "* начальная временная метка в формате 'hh:mm', \n",
    "* последняя временная метка в формате 'hh:mm'.\n",
    "\n",
    "Функция должна вернуть информацию о топ-10 жанров тех треков, которые прослушивали в указанный день, в промежутке между двумя отметками времени."
   ]
  },
  {
   "cell_type": "code",
   "execution_count": 30,
   "metadata": {
    "deletable": false,
    "id": "laJT9BYl_Zcu"
   },
   "outputs": [],
   "source": [
    "# Объявление функции genre_weekday() с параметрами table, day, time1, time2,\n",
    "# которая возвращает информацию о самых популярных жанрах в указанный день в\n",
    "# заданное время:\n",
    "# 1) в переменную genre_df сохраняются те строки переданного датафрейма table, для\n",
    "#    которых одновременно:\n",
    "#    - значение в столбце day равно значению аргумента day\n",
    "#    - значение в столбце time больше значения аргумента time1\n",
    "#    - значение в столбце time меньше значения аргумента time2\n",
    "#    Используйте последовательную фильтрацию с помощью логической индексации.\n",
    "# 2) сгруппировать датафрейм genre_df по столбцу genre, взять один из его\n",
    "#    столбцов и посчитать методом count() количество записей для каждого из\n",
    "#    присутствующих жанров, получившийся Series записать в переменную\n",
    "#    genre_df_count\n",
    "# 3) отсортировать genre_df_count по убыванию встречаемости и сохранить\n",
    "#    в переменную genre_df_sorted\n",
    "# 4) вернуть Series из 10 первых значений genre_df_sorted, это будут топ-10\n",
    "#    популярных жанров (в указанный день, в заданное время)\n",
    "\n",
    "def genre_weekday(table, day, time1, time2):\n",
    "    # последовательная фильтрация\n",
    "    # оставляем в genre_df только те строки df, у которых день равен day\n",
    "    genre_df = table [table ['day'] == day] \n",
    "    # ваш код здесь\n",
    "    # оставляем в genre_df только те строки genre_df, у которых время меньше time2\n",
    "    genre_df = genre_df [genre_df ['time'] < time2] \n",
    "    # ваш код здесь\n",
    "    # оставляем в genre_df только те строки genre_df, у которых время больше time1\n",
    "    genre_df = genre_df [genre_df ['time'] > time1] \n",
    "    # ваш код здесь\n",
    "    # сгруппируем отфильтрованный датафрейм по столбцу с названиями жанров, возьмём столбец genre и посчитаем кол-во строк для каждого жанра методом count()\n",
    "    genre_df_grouped = genre_df.groupby ('genre') ['genre'].count ()\n",
    "    # ваш код здесь\n",
    "    # отсортируем результат по убыванию (чтобы в начале Series оказались самые популярные жанры)\n",
    "    genre_df_sorted = genre_df_grouped.sort_values (ascending=False) \n",
    "    # ваш код здесь\n",
    "    # вернём Series с 10 самыми популярными жанрами в указанный отрезок времени заданного дня\n",
    "    return genre_df_sorted[:10]"
   ]
  },
  {
   "cell_type": "markdown",
   "metadata": {
    "deletable": false,
    "editable": false,
    "id": "la2s2_PF_Zcu",
    "tags": [
     "start_task"
    ]
   },
   "source": [
    "**Задание 25**\n",
    "\n",
    "\n",
    "Cравните результаты функции `genre_weekday()` для Москвы и Санкт-Петербурга в понедельник утром (с 7:00 до 11:00) и в пятницу вечером (с 17:00 до 23:00):"
   ]
  },
  {
   "cell_type": "code",
   "execution_count": 31,
   "metadata": {
    "deletable": false,
    "id": "yz7itPUQ_Zcu"
   },
   "outputs": [
    {
     "data": {
      "text/plain": [
       "genre\n",
       "pop            781\n",
       "dance          549\n",
       "electronic     480\n",
       "rock           474\n",
       "hiphop         286\n",
       "ruspop         186\n",
       "world          181\n",
       "rusrap         175\n",
       "alternative    164\n",
       "unknown        161\n",
       "Name: genre, dtype: int64"
      ]
     },
     "execution_count": 31,
     "metadata": {},
     "output_type": "execute_result"
    }
   ],
   "source": [
    "genre_weekday (moscow_general, 'Monday', '07:00', '11:00')\n",
    "\n",
    "\n",
    "# вызов функции для утра понедельника в Москве (вместо df — таблица moscow_general)\n",
    "# объекты, хранящие время, являются строками и сравниваются как строки\n",
    "# пример вызова: genre_weekday(moscow_general, 'Monday', '07:00', '11:00')"
   ]
  },
  {
   "cell_type": "code",
   "execution_count": 32,
   "metadata": {
    "deletable": false,
    "id": "kwUcHPdy_Zcu"
   },
   "outputs": [
    {
     "data": {
      "text/plain": [
       "genre\n",
       "pop            218\n",
       "dance          182\n",
       "rock           162\n",
       "electronic     147\n",
       "hiphop          80\n",
       "ruspop          64\n",
       "alternative     58\n",
       "rusrap          55\n",
       "jazz            44\n",
       "classical       40\n",
       "Name: genre, dtype: int64"
      ]
     },
     "execution_count": 32,
     "metadata": {},
     "output_type": "execute_result"
    }
   ],
   "source": [
    "genre_weekday (spb_general, 'Monday', '07:00', '11:00')\n",
    "# вызов функции для утра понедельника в Петербурге (вместо df — таблица spb_general)"
   ]
  },
  {
   "cell_type": "code",
   "execution_count": 33,
   "metadata": {
    "deletable": false,
    "id": "EzXVRE1o_Zcu"
   },
   "outputs": [
    {
     "data": {
      "text/plain": [
       "genre\n",
       "pop            713\n",
       "rock           517\n",
       "dance          495\n",
       "electronic     482\n",
       "hiphop         273\n",
       "world          208\n",
       "ruspop         170\n",
       "alternative    163\n",
       "classical      163\n",
       "rusrap         142\n",
       "Name: genre, dtype: int64"
      ]
     },
     "execution_count": 33,
     "metadata": {},
     "output_type": "execute_result"
    }
   ],
   "source": [
    "genre_weekday (moscow_general, 'Friday', '17:00', '23:00')\n",
    "# вызов функции для вечера пятницы в Москве"
   ]
  },
  {
   "cell_type": "code",
   "execution_count": 34,
   "metadata": {
    "deletable": false,
    "id": "JZaEKu5v_Zcu"
   },
   "outputs": [
    {
     "data": {
      "text/plain": [
       "genre\n",
       "pop            256\n",
       "electronic     216\n",
       "rock           216\n",
       "dance          210\n",
       "hiphop          97\n",
       "alternative     63\n",
       "jazz            61\n",
       "classical       60\n",
       "rusrap          59\n",
       "world           54\n",
       "Name: genre, dtype: int64"
      ]
     },
     "execution_count": 34,
     "metadata": {},
     "output_type": "execute_result"
    }
   ],
   "source": [
    "genre_weekday (spb_general, 'Friday', '17:00', '23:00')\n",
    "# вызов функции для вечера пятницы в Петербурге"
   ]
  },
  {
   "cell_type": "markdown",
   "metadata": {
    "deletable": false,
    "editable": false,
    "id": "wrCe4MNX_Zcu"
   },
   "source": [
    "**Выводы**\n",
    "\n",
    "Если сравнить топ-10 жанров в понедельник утром, можно сделать такие выводы:\n",
    "\n",
    "1. В Москве и Петербурге слушают похожую музыку. Единственное отличие — в московский рейтинг вошёл жанр “world”, а в петербургский — джаз и классика.\n",
    "\n",
    "2. В Москве пропущенных значений оказалось так много, что значение `'unknown'` заняло десятое место среди самых популярных жанров. Значит, пропущенные значения занимают существенную долю в данных и угрожают достоверности исследования.\n",
    "\n",
    "Вечер пятницы не меняет эту картину. Некоторые жанры поднимаются немного выше, другие спускаются, но в целом топ-10 остаётся тем же самым.\n",
    "\n",
    "Таким образом, вторая гипотеза подтвердилась лишь частично:\n",
    "* Пользователи слушают похожую музыку в начале недели и в конце.\n",
    "* Разница между Москвой и Петербургом не слишком выражена. В Москве чаще слушают русскую популярную музыку, в Петербурге — джаз.\n",
    "\n",
    "Однако пропуски в данных ставят под сомнение этот результат. В Москве их так много, что рейтинг топ-10 мог бы выглядеть иначе, если бы не утерянные  данные о жанрах."
   ]
  },
  {
   "cell_type": "markdown",
   "metadata": {
    "deletable": false,
    "editable": false,
    "id": "JolODAqr_Zcu"
   },
   "source": [
    "### Жанровые предпочтения в Москве и Петербурге\n",
    "\n",
    "Гипотеза: Петербург — столица рэпа, музыку этого жанра там слушают чаще, чем в Москве.  А Москва — город контрастов, в котором, тем не менее, преобладает поп-музыка."
   ]
  },
  {
   "cell_type": "markdown",
   "metadata": {
    "deletable": false,
    "editable": false,
    "id": "DlegSvaT_Zcu",
    "tags": [
     "start_task"
    ]
   },
   "source": [
    "**Задание 26**\n",
    "\n",
    "Сгруппируйте таблицу `moscow_general` по жанру и посчитайте прослушивания треков каждого жанра методом `count()`. Затем отсортируйте результат в порядке убывания и сохраните его в таблице `moscow_genres`."
   ]
  },
  {
   "cell_type": "code",
   "execution_count": 35,
   "metadata": {
    "deletable": false,
    "id": "r19lIPke_Zcu"
   },
   "outputs": [],
   "source": [
    "moscow_generals = moscow_general.groupby('genre') ['genre'].count ()\n",
    "moscow_genres = moscow_generals.sort_values (ascending=False)\n",
    "# одной строкой: группировка таблицы moscow_general по столбцу 'genre', \n",
    "# подсчёт числа значений 'genre' в этой группировке методом count(), \n",
    "# сортировка получившегося Series в порядке убывания и сохранение в moscow_genres"
   ]
  },
  {
   "cell_type": "markdown",
   "metadata": {
    "deletable": false,
    "editable": false,
    "id": "6kMuomxTiIr8",
    "tags": [
     "start_task"
    ]
   },
   "source": [
    "**Задание 27**\n",
    "\n",
    "Выведите на экран первые десять строк `moscow_genres`:"
   ]
  },
  {
   "cell_type": "code",
   "execution_count": 36,
   "metadata": {
    "deletable": false,
    "id": "WhCSooF8_Zcv"
   },
   "outputs": [
    {
     "data": {
      "text/plain": [
       "genre\n",
       "pop            5892\n",
       "dance          4435\n",
       "rock           3965\n",
       "electronic     3786\n",
       "hiphop         2096\n",
       "classical      1616\n",
       "world          1432\n",
       "alternative    1379\n",
       "ruspop         1372\n",
       "rusrap         1161\n",
       "Name: genre, dtype: int64"
      ]
     },
     "execution_count": 36,
     "metadata": {},
     "output_type": "execute_result"
    }
   ],
   "source": [
    "moscow_genres.head (10)\n",
    "# просмотр первых 10 строк moscow_genres"
   ]
  },
  {
   "cell_type": "markdown",
   "metadata": {
    "deletable": false,
    "editable": false,
    "id": "cnPG2vnN_Zcv",
    "tags": [
     "start_task"
    ]
   },
   "source": [
    "**Задание 28**\n",
    "\n",
    "\n",
    "Теперь повторите то же и для Петербурга.\n",
    "\n",
    "Сгруппируйте таблицу `spb_general` по жанру. Посчитайте прослушивания треков каждого жанра. Результат отсортируйте в порядке убывания и сохраните в таблице `spb_genres`:\n"
   ]
  },
  {
   "cell_type": "code",
   "execution_count": 37,
   "metadata": {
    "deletable": false,
    "id": "gluLIpE7_Zcv"
   },
   "outputs": [],
   "source": [
    "spb_generals = spb_general.groupby('genre') ['genre'].count ()\n",
    "spb_genres = spb_generals.sort_values (ascending=False)\n",
    "# одной строкой: группировка таблицы spb_general по столбцу 'genre', \n",
    "# подсчёт числа значений 'genre' в этой группировке методом count(), \n",
    "# сортировка получившегося Series в порядке убывания и сохранение в spb_genres"
   ]
  },
  {
   "cell_type": "markdown",
   "metadata": {
    "deletable": false,
    "editable": false,
    "id": "5Doha_ODgyQ8",
    "tags": [
     "start_task"
    ]
   },
   "source": [
    "**Задание 29**\n",
    "\n",
    "Выведите на экран первые десять строк `spb_genres`:"
   ]
  },
  {
   "cell_type": "code",
   "execution_count": 38,
   "metadata": {
    "deletable": false,
    "id": "uaGJHjVU_Zcv"
   },
   "outputs": [
    {
     "data": {
      "text/plain": [
       "genre\n",
       "pop            2431\n",
       "dance          1932\n",
       "rock           1879\n",
       "electronic     1737\n",
       "hiphop          960\n",
       "alternative     649\n",
       "classical       646\n",
       "rusrap          564\n",
       "ruspop          538\n",
       "world           515\n",
       "Name: genre, dtype: int64"
      ]
     },
     "execution_count": 38,
     "metadata": {},
     "output_type": "execute_result"
    }
   ],
   "source": [
    "spb_genres.head (10)\n",
    "# просмотр первых 10 строк spb_genres"
   ]
  },
  {
   "cell_type": "markdown",
   "metadata": {
    "deletable": false,
    "editable": false,
    "id": "RY51YJYu_Zcv"
   },
   "source": [
    "**Выводы**"
   ]
  },
  {
   "cell_type": "markdown",
   "metadata": {
    "deletable": false,
    "editable": false,
    "id": "nVhnJEm__Zcv"
   },
   "source": [
    "Гипотеза частично подтвердилась:\n",
    "* Поп-музыка — самый популярный жанр в Москве, как и предполагала гипотеза. Более того, в топ-10 жанров встречается близкий жанр — русская популярная музыка.\n",
    "* Вопреки ожиданиям, рэп одинаково популярен в Москве и Петербурге. \n"
   ]
  },
  {
   "cell_type": "markdown",
   "metadata": {
    "deletable": false,
    "editable": false,
    "id": "ykKQ0N65_Zcv"
   },
   "source": [
    "## Итоги исследования"
   ]
  },
  {
   "cell_type": "markdown",
   "metadata": {
    "deletable": false,
    "editable": false,
    "id": "tjUwbHb3_Zcv"
   },
   "source": [
    "Вы проверили три гипотезы и установили:\n",
    "\n",
    "1. День недели по-разному влияет на активность пользователей в Москве и Петербурге. \n",
    "\n",
    "Первая гипотеза полностью подтвердилась.\n",
    "\n",
    "2. Музыкальные предпочтения не сильно меняются в течение недели — будь то Москва или Петербург. Небольшие различия заметны в начале недели, по понедельникам:\n",
    "* в Москве слушают музыку жанра “world”,\n",
    "* в Петербурге — джаз и классику.\n",
    "\n",
    "Таким образом, вторая гипотеза подтвердилась лишь отчасти. Этот результат мог оказаться иным, если бы не пропуски в данных.\n",
    "\n",
    "3. Во вкусах пользователей Москвы и Петербурга больше общего чем различий. Вопреки ожиданиям, предпочтения жанров в Петербурге напоминают московские.\n",
    "\n",
    "Третья гипотеза не подтвердилась. Если различия в предпочтениях и существуют, на основной массе пользователей они незаметны.\n",
    "\n",
    "**На практике исследования содержат проверки статистических гипотез.**\n",
    "Из данных одного сервиса не всегда можно сделать вывод о всех жителях города.\n",
    "Проверки статистических гипотез покажут, насколько они достоверны, исходя из имеющихся данных. \n",
    "С методами проверок гипотез вы ещё познакомитесь в следующих темах."
   ]
  }
 ],
 "metadata": {
  "ExecuteTimeLog": [
   {
    "duration": 47,
    "start_time": "2022-12-27T08:19:04.379Z"
   },
   {
    "duration": 328,
    "start_time": "2022-12-27T08:19:09.486Z"
   },
   {
    "duration": 155,
    "start_time": "2022-12-27T08:19:11.300Z"
   },
   {
    "duration": 27,
    "start_time": "2022-12-27T08:19:12.780Z"
   },
   {
    "duration": 22,
    "start_time": "2022-12-27T08:19:25.350Z"
   },
   {
    "duration": 28,
    "start_time": "2022-12-27T08:19:48.717Z"
   },
   {
    "duration": 5,
    "start_time": "2022-12-27T08:23:37.085Z"
   },
   {
    "duration": 11,
    "start_time": "2022-12-27T08:33:35.542Z"
   },
   {
    "duration": 5,
    "start_time": "2022-12-27T08:33:54.885Z"
   },
   {
    "duration": 13,
    "start_time": "2022-12-27T08:34:25.776Z"
   },
   {
    "duration": 4,
    "start_time": "2022-12-27T08:34:29.852Z"
   },
   {
    "duration": 22,
    "start_time": "2022-12-27T08:35:25.384Z"
   },
   {
    "duration": 30,
    "start_time": "2022-12-27T08:40:08.863Z"
   },
   {
    "duration": 24,
    "start_time": "2022-12-27T08:40:22.078Z"
   },
   {
    "duration": 9,
    "start_time": "2022-12-27T08:40:55.620Z"
   },
   {
    "duration": 7,
    "start_time": "2022-12-27T08:41:18.949Z"
   },
   {
    "duration": 7,
    "start_time": "2022-12-27T08:41:40.141Z"
   },
   {
    "duration": 36,
    "start_time": "2022-12-27T08:42:16.077Z"
   },
   {
    "duration": 28,
    "start_time": "2022-12-27T08:42:18.995Z"
   },
   {
    "duration": 8,
    "start_time": "2022-12-27T08:42:22.608Z"
   },
   {
    "duration": 57,
    "start_time": "2022-12-27T08:42:58.456Z"
   },
   {
    "duration": 8,
    "start_time": "2022-12-27T08:43:41.905Z"
   },
   {
    "duration": 72,
    "start_time": "2022-12-27T08:43:50.334Z"
   },
   {
    "duration": 74,
    "start_time": "2022-12-27T08:44:05.446Z"
   },
   {
    "duration": 66,
    "start_time": "2022-12-27T08:44:38.635Z"
   },
   {
    "duration": 73,
    "start_time": "2022-12-27T08:45:20.709Z"
   },
   {
    "duration": 54,
    "start_time": "2022-12-27T08:45:26.119Z"
   },
   {
    "duration": 371,
    "start_time": "2022-12-27T08:46:28.661Z"
   },
   {
    "duration": 168,
    "start_time": "2022-12-27T08:46:29.034Z"
   },
   {
    "duration": 23,
    "start_time": "2022-12-27T08:46:29.203Z"
   },
   {
    "duration": 28,
    "start_time": "2022-12-27T08:46:29.228Z"
   },
   {
    "duration": 3,
    "start_time": "2022-12-27T08:46:29.257Z"
   },
   {
    "duration": 9,
    "start_time": "2022-12-27T08:46:29.262Z"
   },
   {
    "duration": 48,
    "start_time": "2022-12-27T08:46:29.272Z"
   },
   {
    "duration": 10,
    "start_time": "2022-12-27T08:46:29.321Z"
   },
   {
    "duration": 29,
    "start_time": "2022-12-27T08:46:29.333Z"
   },
   {
    "duration": 37,
    "start_time": "2022-12-27T08:46:29.365Z"
   },
   {
    "duration": 29,
    "start_time": "2022-12-27T08:46:29.404Z"
   },
   {
    "duration": 64,
    "start_time": "2022-12-27T08:46:29.435Z"
   },
   {
    "duration": 106,
    "start_time": "2022-12-27T08:46:29.500Z"
   },
   {
    "duration": 70,
    "start_time": "2022-12-27T08:46:29.607Z"
   },
   {
    "duration": 2,
    "start_time": "2022-12-27T08:46:29.679Z"
   },
   {
    "duration": 11,
    "start_time": "2022-12-27T08:46:29.683Z"
   },
   {
    "duration": 8,
    "start_time": "2022-12-27T08:46:29.695Z"
   },
   {
    "duration": 7,
    "start_time": "2022-12-27T08:46:29.705Z"
   },
   {
    "duration": 12,
    "start_time": "2022-12-27T08:46:29.714Z"
   },
   {
    "duration": 13,
    "start_time": "2022-12-27T08:46:29.728Z"
   },
   {
    "duration": 8,
    "start_time": "2022-12-27T08:46:29.742Z"
   },
   {
    "duration": 11,
    "start_time": "2022-12-27T08:46:29.752Z"
   },
   {
    "duration": 15,
    "start_time": "2022-12-27T08:46:29.764Z"
   },
   {
    "duration": 13,
    "start_time": "2022-12-27T08:46:29.781Z"
   },
   {
    "duration": 5,
    "start_time": "2022-12-27T08:46:29.795Z"
   },
   {
    "duration": 11,
    "start_time": "2022-12-27T08:46:29.801Z"
   },
   {
    "duration": 8,
    "start_time": "2022-12-27T08:46:29.814Z"
   },
   {
    "duration": 45,
    "start_time": "2022-12-27T08:46:29.825Z"
   },
   {
    "duration": 7,
    "start_time": "2022-12-27T08:46:29.872Z"
   },
   {
    "duration": 74,
    "start_time": "2022-12-27T08:46:29.881Z"
   },
   {
    "duration": 0,
    "start_time": "2022-12-27T08:46:29.956Z"
   },
   {
    "duration": 1,
    "start_time": "2022-12-27T08:46:29.957Z"
   },
   {
    "duration": 0,
    "start_time": "2022-12-27T08:46:29.958Z"
   },
   {
    "duration": 0,
    "start_time": "2022-12-27T08:46:29.959Z"
   },
   {
    "duration": 0,
    "start_time": "2022-12-27T08:46:29.961Z"
   },
   {
    "duration": 0,
    "start_time": "2022-12-27T08:46:29.962Z"
   },
   {
    "duration": 0,
    "start_time": "2022-12-27T08:46:29.963Z"
   },
   {
    "duration": 0,
    "start_time": "2022-12-27T08:46:29.964Z"
   },
   {
    "duration": 8,
    "start_time": "2022-12-27T08:48:32.363Z"
   },
   {
    "duration": 65,
    "start_time": "2022-12-27T08:49:21.984Z"
   },
   {
    "duration": 9,
    "start_time": "2022-12-27T08:49:55.988Z"
   },
   {
    "duration": 8,
    "start_time": "2022-12-27T08:50:07.373Z"
   },
   {
    "duration": 10,
    "start_time": "2022-12-27T08:51:31.829Z"
   },
   {
    "duration": 9,
    "start_time": "2022-12-27T08:51:56.390Z"
   },
   {
    "duration": 8,
    "start_time": "2022-12-27T08:52:09.710Z"
   },
   {
    "duration": 10,
    "start_time": "2022-12-27T08:55:08.814Z"
   },
   {
    "duration": 8,
    "start_time": "2022-12-27T08:55:50.172Z"
   },
   {
    "duration": 26,
    "start_time": "2022-12-27T09:04:13.939Z"
   },
   {
    "duration": 35,
    "start_time": "2022-12-27T09:04:30.432Z"
   },
   {
    "duration": 30,
    "start_time": "2022-12-27T09:05:09.571Z"
   },
   {
    "duration": 8,
    "start_time": "2022-12-27T09:05:31.248Z"
   },
   {
    "duration": 9,
    "start_time": "2022-12-27T09:06:06.889Z"
   },
   {
    "duration": 32,
    "start_time": "2022-12-27T09:08:21.386Z"
   },
   {
    "duration": 33,
    "start_time": "2022-12-27T09:09:32.940Z"
   },
   {
    "duration": 3,
    "start_time": "2022-12-27T09:19:27.957Z"
   },
   {
    "duration": 7,
    "start_time": "2022-12-27T09:20:39.913Z"
   },
   {
    "duration": 312,
    "start_time": "2022-12-27T09:20:51.963Z"
   },
   {
    "duration": 3,
    "start_time": "2022-12-27T09:21:46.285Z"
   },
   {
    "duration": 303,
    "start_time": "2022-12-27T09:21:49.503Z"
   },
   {
    "duration": 5,
    "start_time": "2022-12-27T09:22:19.818Z"
   },
   {
    "duration": 18,
    "start_time": "2022-12-27T09:22:22.385Z"
   },
   {
    "duration": 7,
    "start_time": "2022-12-27T09:22:47.289Z"
   },
   {
    "duration": 4,
    "start_time": "2022-12-27T09:24:32.232Z"
   },
   {
    "duration": 7,
    "start_time": "2022-12-27T09:24:36.552Z"
   },
   {
    "duration": 7,
    "start_time": "2022-12-27T09:24:59.766Z"
   },
   {
    "duration": 22,
    "start_time": "2022-12-27T09:25:09.426Z"
   },
   {
    "duration": 21,
    "start_time": "2022-12-27T09:25:43.618Z"
   },
   {
    "duration": 20,
    "start_time": "2022-12-27T09:27:08.787Z"
   },
   {
    "duration": 5,
    "start_time": "2022-12-27T09:28:03.477Z"
   },
   {
    "duration": 18,
    "start_time": "2022-12-27T09:28:06.410Z"
   },
   {
    "duration": 28,
    "start_time": "2022-12-27T09:28:09.537Z"
   },
   {
    "duration": 5,
    "start_time": "2022-12-27T09:28:34.457Z"
   },
   {
    "duration": 19,
    "start_time": "2022-12-27T09:28:37.272Z"
   },
   {
    "duration": 4,
    "start_time": "2022-12-27T09:29:02.569Z"
   },
   {
    "duration": 24,
    "start_time": "2022-12-27T09:29:04.660Z"
   },
   {
    "duration": 4,
    "start_time": "2022-12-27T09:30:19.492Z"
   },
   {
    "duration": 190,
    "start_time": "2022-12-27T09:30:22.514Z"
   },
   {
    "duration": 4,
    "start_time": "2022-12-27T09:32:23.652Z"
   },
   {
    "duration": 197,
    "start_time": "2022-12-27T09:32:26.074Z"
   },
   {
    "duration": 89,
    "start_time": "2022-12-27T09:32:30.379Z"
   },
   {
    "duration": 405,
    "start_time": "2022-12-27T09:32:44.214Z"
   },
   {
    "duration": 151,
    "start_time": "2022-12-27T09:32:44.621Z"
   },
   {
    "duration": 17,
    "start_time": "2022-12-27T09:32:44.773Z"
   },
   {
    "duration": 36,
    "start_time": "2022-12-27T09:32:44.792Z"
   },
   {
    "duration": 8,
    "start_time": "2022-12-27T09:32:44.830Z"
   },
   {
    "duration": 25,
    "start_time": "2022-12-27T09:32:44.839Z"
   },
   {
    "duration": 23,
    "start_time": "2022-12-27T09:32:44.866Z"
   },
   {
    "duration": 19,
    "start_time": "2022-12-27T09:32:44.891Z"
   },
   {
    "duration": 25,
    "start_time": "2022-12-27T09:32:44.912Z"
   },
   {
    "duration": 39,
    "start_time": "2022-12-27T09:32:44.939Z"
   },
   {
    "duration": 35,
    "start_time": "2022-12-27T09:32:44.980Z"
   },
   {
    "duration": 86,
    "start_time": "2022-12-27T09:32:45.017Z"
   },
   {
    "duration": 96,
    "start_time": "2022-12-27T09:32:45.105Z"
   },
   {
    "duration": 64,
    "start_time": "2022-12-27T09:32:45.203Z"
   },
   {
    "duration": 7,
    "start_time": "2022-12-27T09:32:45.269Z"
   },
   {
    "duration": 58,
    "start_time": "2022-12-27T09:32:45.277Z"
   },
   {
    "duration": 40,
    "start_time": "2022-12-27T09:32:45.337Z"
   },
   {
    "duration": 50,
    "start_time": "2022-12-27T09:32:45.379Z"
   },
   {
    "duration": 33,
    "start_time": "2022-12-27T09:32:45.431Z"
   },
   {
    "duration": 4,
    "start_time": "2022-12-27T09:32:45.466Z"
   },
   {
    "duration": 268,
    "start_time": "2022-12-27T09:32:45.472Z"
   },
   {
    "duration": 99,
    "start_time": "2022-12-27T09:32:45.742Z"
   },
   {
    "duration": 199,
    "start_time": "2022-12-27T09:32:45.843Z"
   },
   {
    "duration": 2,
    "start_time": "2022-12-27T09:32:46.044Z"
   },
   {
    "duration": 26,
    "start_time": "2022-12-27T09:32:46.048Z"
   },
   {
    "duration": 25,
    "start_time": "2022-12-27T09:32:46.076Z"
   },
   {
    "duration": 29,
    "start_time": "2022-12-27T09:32:46.103Z"
   },
   {
    "duration": 29,
    "start_time": "2022-12-27T09:32:46.136Z"
   },
   {
    "duration": 23,
    "start_time": "2022-12-27T09:32:46.166Z"
   },
   {
    "duration": 75,
    "start_time": "2022-12-27T09:32:46.191Z"
   },
   {
    "duration": 0,
    "start_time": "2022-12-27T09:32:46.268Z"
   },
   {
    "duration": 0,
    "start_time": "2022-12-27T09:32:46.269Z"
   },
   {
    "duration": 0,
    "start_time": "2022-12-27T09:32:46.271Z"
   },
   {
    "duration": 0,
    "start_time": "2022-12-27T09:32:46.272Z"
   },
   {
    "duration": 0,
    "start_time": "2022-12-27T09:32:46.273Z"
   },
   {
    "duration": 0,
    "start_time": "2022-12-27T09:32:46.275Z"
   },
   {
    "duration": 0,
    "start_time": "2022-12-27T09:32:46.277Z"
   },
   {
    "duration": 0,
    "start_time": "2022-12-27T09:32:46.278Z"
   },
   {
    "duration": 3,
    "start_time": "2022-12-27T09:33:32.081Z"
   },
   {
    "duration": 183,
    "start_time": "2022-12-27T09:33:35.665Z"
   },
   {
    "duration": 4,
    "start_time": "2022-12-27T09:34:33.187Z"
   },
   {
    "duration": 232,
    "start_time": "2022-12-27T09:34:35.410Z"
   },
   {
    "duration": 3,
    "start_time": "2022-12-27T09:36:44.643Z"
   },
   {
    "duration": 705,
    "start_time": "2022-12-27T09:36:48.576Z"
   },
   {
    "duration": 4,
    "start_time": "2022-12-27T09:38:16.573Z"
   },
   {
    "duration": 1151,
    "start_time": "2022-12-27T09:38:19.410Z"
   },
   {
    "duration": 6,
    "start_time": "2022-12-27T09:38:33.181Z"
   },
   {
    "duration": 1176,
    "start_time": "2022-12-27T09:38:57.858Z"
   },
   {
    "duration": 4,
    "start_time": "2022-12-27T09:39:04.036Z"
   },
   {
    "duration": 1153,
    "start_time": "2022-12-27T09:39:07.438Z"
   },
   {
    "duration": 3,
    "start_time": "2022-12-27T09:39:33.864Z"
   },
   {
    "duration": 571,
    "start_time": "2022-12-27T09:39:36.568Z"
   },
   {
    "duration": 4,
    "start_time": "2022-12-27T09:39:52.950Z"
   },
   {
    "duration": 583,
    "start_time": "2022-12-27T09:39:56.194Z"
   },
   {
    "duration": 3,
    "start_time": "2022-12-27T09:40:27.565Z"
   },
   {
    "duration": 12,
    "start_time": "2022-12-27T09:40:29.747Z"
   },
   {
    "duration": 12,
    "start_time": "2022-12-27T09:40:33.055Z"
   },
   {
    "duration": 4,
    "start_time": "2022-12-27T09:41:01.922Z"
   },
   {
    "duration": 830,
    "start_time": "2022-12-27T09:41:04.187Z"
   },
   {
    "duration": 3,
    "start_time": "2022-12-27T09:42:30.206Z"
   },
   {
    "duration": 8,
    "start_time": "2022-12-27T09:42:33.068Z"
   },
   {
    "duration": 4,
    "start_time": "2022-12-27T09:43:30.709Z"
   },
   {
    "duration": 13,
    "start_time": "2022-12-27T09:43:32.773Z"
   },
   {
    "duration": 13,
    "start_time": "2022-12-27T09:45:23.941Z"
   },
   {
    "duration": 10,
    "start_time": "2022-12-27T09:45:26.625Z"
   },
   {
    "duration": 5,
    "start_time": "2022-12-27T09:45:59.342Z"
   },
   {
    "duration": 8,
    "start_time": "2022-12-27T09:46:02.443Z"
   },
   {
    "duration": 4,
    "start_time": "2022-12-27T09:46:18.110Z"
   },
   {
    "duration": 8,
    "start_time": "2022-12-27T09:46:20.100Z"
   },
   {
    "duration": 7,
    "start_time": "2022-12-27T09:47:47.775Z"
   },
   {
    "duration": 392,
    "start_time": "2022-12-27T09:51:26.022Z"
   },
   {
    "duration": 149,
    "start_time": "2022-12-27T09:51:26.415Z"
   },
   {
    "duration": 17,
    "start_time": "2022-12-27T09:51:26.566Z"
   },
   {
    "duration": 35,
    "start_time": "2022-12-27T09:51:26.584Z"
   },
   {
    "duration": 14,
    "start_time": "2022-12-27T09:51:26.621Z"
   },
   {
    "duration": 29,
    "start_time": "2022-12-27T09:51:26.636Z"
   },
   {
    "duration": 22,
    "start_time": "2022-12-27T09:51:26.667Z"
   },
   {
    "duration": 24,
    "start_time": "2022-12-27T09:51:26.691Z"
   },
   {
    "duration": 39,
    "start_time": "2022-12-27T09:51:26.717Z"
   },
   {
    "duration": 61,
    "start_time": "2022-12-27T09:51:26.758Z"
   },
   {
    "duration": 46,
    "start_time": "2022-12-27T09:51:26.821Z"
   },
   {
    "duration": 90,
    "start_time": "2022-12-27T09:51:26.869Z"
   },
   {
    "duration": 107,
    "start_time": "2022-12-27T09:51:26.961Z"
   },
   {
    "duration": 63,
    "start_time": "2022-12-27T09:51:27.072Z"
   },
   {
    "duration": 6,
    "start_time": "2022-12-27T09:51:27.137Z"
   },
   {
    "duration": 68,
    "start_time": "2022-12-27T09:51:27.145Z"
   },
   {
    "duration": 59,
    "start_time": "2022-12-27T09:51:27.215Z"
   },
   {
    "duration": 66,
    "start_time": "2022-12-27T09:51:27.275Z"
   },
   {
    "duration": 28,
    "start_time": "2022-12-27T09:51:27.342Z"
   },
   {
    "duration": 5,
    "start_time": "2022-12-27T09:51:27.372Z"
   },
   {
    "duration": 45,
    "start_time": "2022-12-27T09:51:27.378Z"
   },
   {
    "duration": 42,
    "start_time": "2022-12-27T09:51:27.424Z"
   },
   {
    "duration": 29,
    "start_time": "2022-12-27T09:51:27.467Z"
   },
   {
    "duration": 37,
    "start_time": "2022-12-27T09:51:27.497Z"
   },
   {
    "duration": 27,
    "start_time": "2022-12-27T09:51:27.536Z"
   },
   {
    "duration": 20,
    "start_time": "2022-12-27T09:51:27.564Z"
   },
   {
    "duration": 30,
    "start_time": "2022-12-27T09:51:27.586Z"
   },
   {
    "duration": 15,
    "start_time": "2022-12-27T09:51:27.617Z"
   },
   {
    "duration": 32,
    "start_time": "2022-12-27T09:51:27.634Z"
   },
   {
    "duration": 71,
    "start_time": "2022-12-27T09:51:27.668Z"
   },
   {
    "duration": 0,
    "start_time": "2022-12-27T09:51:27.741Z"
   },
   {
    "duration": 0,
    "start_time": "2022-12-27T09:51:27.742Z"
   },
   {
    "duration": 0,
    "start_time": "2022-12-27T09:51:27.743Z"
   },
   {
    "duration": 0,
    "start_time": "2022-12-27T09:51:27.744Z"
   },
   {
    "duration": 0,
    "start_time": "2022-12-27T09:51:27.745Z"
   },
   {
    "duration": 0,
    "start_time": "2022-12-27T09:51:27.746Z"
   },
   {
    "duration": 0,
    "start_time": "2022-12-27T09:51:27.747Z"
   },
   {
    "duration": 0,
    "start_time": "2022-12-27T09:51:27.748Z"
   },
   {
    "duration": 8,
    "start_time": "2022-12-27T09:51:42.445Z"
   },
   {
    "duration": 442,
    "start_time": "2022-12-27T09:52:14.091Z"
   },
   {
    "duration": 169,
    "start_time": "2022-12-27T09:52:14.534Z"
   },
   {
    "duration": 19,
    "start_time": "2022-12-27T09:52:14.705Z"
   },
   {
    "duration": 66,
    "start_time": "2022-12-27T09:52:14.726Z"
   },
   {
    "duration": 10,
    "start_time": "2022-12-27T09:52:14.795Z"
   },
   {
    "duration": 9,
    "start_time": "2022-12-27T09:52:14.807Z"
   },
   {
    "duration": 17,
    "start_time": "2022-12-27T09:52:14.818Z"
   },
   {
    "duration": 17,
    "start_time": "2022-12-27T09:52:14.837Z"
   },
   {
    "duration": 28,
    "start_time": "2022-12-27T09:52:14.856Z"
   },
   {
    "duration": 39,
    "start_time": "2022-12-27T09:52:14.886Z"
   },
   {
    "duration": 33,
    "start_time": "2022-12-27T09:52:14.927Z"
   },
   {
    "duration": 70,
    "start_time": "2022-12-27T09:52:14.961Z"
   },
   {
    "duration": 111,
    "start_time": "2022-12-27T09:52:15.033Z"
   },
   {
    "duration": 59,
    "start_time": "2022-12-27T09:52:15.147Z"
   },
   {
    "duration": 23,
    "start_time": "2022-12-27T09:52:15.207Z"
   },
   {
    "duration": 12,
    "start_time": "2022-12-27T09:52:15.231Z"
   },
   {
    "duration": 8,
    "start_time": "2022-12-27T09:52:15.245Z"
   },
   {
    "duration": 33,
    "start_time": "2022-12-27T09:52:15.254Z"
   },
   {
    "duration": 59,
    "start_time": "2022-12-27T09:52:15.288Z"
   },
   {
    "duration": 4,
    "start_time": "2022-12-27T09:52:15.349Z"
   },
   {
    "duration": 53,
    "start_time": "2022-12-27T09:52:15.355Z"
   },
   {
    "duration": 15,
    "start_time": "2022-12-27T09:52:15.410Z"
   },
   {
    "duration": 15,
    "start_time": "2022-12-27T09:52:15.426Z"
   },
   {
    "duration": 3,
    "start_time": "2022-12-27T09:52:15.443Z"
   },
   {
    "duration": 7,
    "start_time": "2022-12-27T09:52:15.447Z"
   },
   {
    "duration": 6,
    "start_time": "2022-12-27T09:52:15.456Z"
   },
   {
    "duration": 8,
    "start_time": "2022-12-27T09:52:15.464Z"
   },
   {
    "duration": 5,
    "start_time": "2022-12-27T09:52:15.473Z"
   },
   {
    "duration": 25,
    "start_time": "2022-12-27T09:52:15.480Z"
   },
   {
    "duration": 86,
    "start_time": "2022-12-27T09:52:15.506Z"
   },
   {
    "duration": 0,
    "start_time": "2022-12-27T09:52:15.594Z"
   },
   {
    "duration": 0,
    "start_time": "2022-12-27T09:52:15.596Z"
   },
   {
    "duration": 0,
    "start_time": "2022-12-27T09:52:15.597Z"
   },
   {
    "duration": 0,
    "start_time": "2022-12-27T09:52:15.599Z"
   },
   {
    "duration": 0,
    "start_time": "2022-12-27T09:52:15.600Z"
   },
   {
    "duration": 0,
    "start_time": "2022-12-27T09:52:15.602Z"
   },
   {
    "duration": 0,
    "start_time": "2022-12-27T09:52:15.603Z"
   },
   {
    "duration": 0,
    "start_time": "2022-12-27T09:52:15.605Z"
   },
   {
    "duration": 14,
    "start_time": "2022-12-27T09:52:57.886Z"
   },
   {
    "duration": 15,
    "start_time": "2022-12-27T10:16:14.234Z"
   },
   {
    "duration": 14,
    "start_time": "2022-12-27T10:16:16.687Z"
   },
   {
    "duration": 89,
    "start_time": "2022-12-27T10:23:13.747Z"
   },
   {
    "duration": 84,
    "start_time": "2022-12-27T10:25:18.659Z"
   },
   {
    "duration": 100,
    "start_time": "2022-12-27T10:25:25.808Z"
   },
   {
    "duration": 4,
    "start_time": "2022-12-27T10:27:11.602Z"
   },
   {
    "duration": 8,
    "start_time": "2022-12-27T10:27:21.441Z"
   },
   {
    "duration": 8,
    "start_time": "2022-12-27T10:29:31.989Z"
   },
   {
    "duration": 208,
    "start_time": "2022-12-27T10:40:04.577Z"
   },
   {
    "duration": 80,
    "start_time": "2022-12-27T10:46:20.951Z"
   },
   {
    "duration": 57,
    "start_time": "2022-12-27T10:48:42.965Z"
   },
   {
    "duration": 74,
    "start_time": "2022-12-27T10:49:06.805Z"
   },
   {
    "duration": 4,
    "start_time": "2022-12-27T10:49:36.936Z"
   },
   {
    "duration": 21,
    "start_time": "2022-12-27T10:49:40.516Z"
   },
   {
    "duration": 20,
    "start_time": "2022-12-27T10:50:06.377Z"
   },
   {
    "duration": 5,
    "start_time": "2022-12-27T10:50:32.016Z"
   },
   {
    "duration": 16,
    "start_time": "2022-12-27T10:50:34.796Z"
   },
   {
    "duration": 361,
    "start_time": "2022-12-27T10:50:48.656Z"
   },
   {
    "duration": 163,
    "start_time": "2022-12-27T10:50:49.019Z"
   },
   {
    "duration": 17,
    "start_time": "2022-12-27T10:50:49.184Z"
   },
   {
    "duration": 32,
    "start_time": "2022-12-27T10:50:49.203Z"
   },
   {
    "duration": 3,
    "start_time": "2022-12-27T10:50:49.236Z"
   },
   {
    "duration": 9,
    "start_time": "2022-12-27T10:50:49.241Z"
   },
   {
    "duration": 12,
    "start_time": "2022-12-27T10:50:49.252Z"
   },
   {
    "duration": 12,
    "start_time": "2022-12-27T10:50:49.266Z"
   },
   {
    "duration": 26,
    "start_time": "2022-12-27T10:50:49.280Z"
   },
   {
    "duration": 36,
    "start_time": "2022-12-27T10:50:49.308Z"
   },
   {
    "duration": 26,
    "start_time": "2022-12-27T10:50:49.345Z"
   },
   {
    "duration": 64,
    "start_time": "2022-12-27T10:50:49.373Z"
   },
   {
    "duration": 101,
    "start_time": "2022-12-27T10:50:49.439Z"
   },
   {
    "duration": 54,
    "start_time": "2022-12-27T10:50:49.541Z"
   },
   {
    "duration": 7,
    "start_time": "2022-12-27T10:50:49.596Z"
   },
   {
    "duration": 27,
    "start_time": "2022-12-27T10:50:49.604Z"
   },
   {
    "duration": 27,
    "start_time": "2022-12-27T10:50:49.633Z"
   },
   {
    "duration": 41,
    "start_time": "2022-12-27T10:50:49.662Z"
   },
   {
    "duration": 33,
    "start_time": "2022-12-27T10:50:49.705Z"
   },
   {
    "duration": 3,
    "start_time": "2022-12-27T10:50:49.739Z"
   },
   {
    "duration": 39,
    "start_time": "2022-12-27T10:50:49.744Z"
   },
   {
    "duration": 20,
    "start_time": "2022-12-27T10:50:49.785Z"
   },
   {
    "duration": 19,
    "start_time": "2022-12-27T10:50:49.807Z"
   },
   {
    "duration": 19,
    "start_time": "2022-12-27T10:50:49.828Z"
   },
   {
    "duration": 17,
    "start_time": "2022-12-27T10:50:49.849Z"
   },
   {
    "duration": 20,
    "start_time": "2022-12-27T10:50:49.868Z"
   },
   {
    "duration": 80,
    "start_time": "2022-12-27T10:50:49.889Z"
   },
   {
    "duration": 7,
    "start_time": "2022-12-27T10:50:49.972Z"
   },
   {
    "duration": 20,
    "start_time": "2022-12-27T10:50:49.981Z"
   },
   {
    "duration": 26,
    "start_time": "2022-12-27T10:50:50.003Z"
   },
   {
    "duration": 53,
    "start_time": "2022-12-27T10:50:50.031Z"
   },
   {
    "duration": 5,
    "start_time": "2022-12-27T10:50:50.085Z"
   },
   {
    "duration": 18,
    "start_time": "2022-12-27T10:50:50.091Z"
   },
   {
    "duration": 12,
    "start_time": "2022-12-27T10:50:50.111Z"
   },
   {
    "duration": 33,
    "start_time": "2022-12-27T10:50:50.125Z"
   },
   {
    "duration": 30,
    "start_time": "2022-12-27T10:50:50.160Z"
   },
   {
    "duration": 13,
    "start_time": "2022-12-27T10:50:50.192Z"
   },
   {
    "duration": 18,
    "start_time": "2022-12-27T10:50:50.207Z"
   },
   {
    "duration": 1146,
    "start_time": "2022-12-27T10:52:02.274Z"
   },
   {
    "duration": 354,
    "start_time": "2022-12-27T10:52:19.057Z"
   },
   {
    "duration": 145,
    "start_time": "2022-12-27T10:52:19.413Z"
   },
   {
    "duration": 15,
    "start_time": "2022-12-27T10:52:19.559Z"
   },
   {
    "duration": 50,
    "start_time": "2022-12-27T10:52:19.576Z"
   },
   {
    "duration": 6,
    "start_time": "2022-12-27T10:52:19.628Z"
   },
   {
    "duration": 10,
    "start_time": "2022-12-27T10:52:19.635Z"
   },
   {
    "duration": 12,
    "start_time": "2022-12-27T10:52:19.646Z"
   },
   {
    "duration": 9,
    "start_time": "2022-12-27T10:52:19.659Z"
   },
   {
    "duration": 25,
    "start_time": "2022-12-27T10:52:19.669Z"
   },
   {
    "duration": 34,
    "start_time": "2022-12-27T10:52:19.696Z"
   },
   {
    "duration": 23,
    "start_time": "2022-12-27T10:52:19.732Z"
   },
   {
    "duration": 73,
    "start_time": "2022-12-27T10:52:19.757Z"
   },
   {
    "duration": 101,
    "start_time": "2022-12-27T10:52:19.832Z"
   },
   {
    "duration": 55,
    "start_time": "2022-12-27T10:52:19.935Z"
   },
   {
    "duration": 7,
    "start_time": "2022-12-27T10:52:19.991Z"
   },
   {
    "duration": 33,
    "start_time": "2022-12-27T10:52:19.999Z"
   },
   {
    "duration": 7,
    "start_time": "2022-12-27T10:52:20.034Z"
   },
   {
    "duration": 37,
    "start_time": "2022-12-27T10:52:20.043Z"
   },
   {
    "duration": 29,
    "start_time": "2022-12-27T10:52:20.082Z"
   },
   {
    "duration": 13,
    "start_time": "2022-12-27T10:52:20.113Z"
   },
   {
    "duration": 23,
    "start_time": "2022-12-27T10:52:20.128Z"
   },
   {
    "duration": 13,
    "start_time": "2022-12-27T10:52:20.152Z"
   },
   {
    "duration": 12,
    "start_time": "2022-12-27T10:52:20.167Z"
   },
   {
    "duration": 11,
    "start_time": "2022-12-27T10:52:20.181Z"
   },
   {
    "duration": 42,
    "start_time": "2022-12-27T10:52:20.193Z"
   },
   {
    "duration": 13,
    "start_time": "2022-12-27T10:52:20.236Z"
   },
   {
    "duration": 75,
    "start_time": "2022-12-27T10:52:20.251Z"
   },
   {
    "duration": 8,
    "start_time": "2022-12-27T10:52:20.329Z"
   },
   {
    "duration": 15,
    "start_time": "2022-12-27T10:52:20.338Z"
   },
   {
    "duration": 6,
    "start_time": "2022-12-27T10:52:20.354Z"
   },
   {
    "duration": 1292,
    "start_time": "2022-12-27T10:52:20.362Z"
   },
   {
    "duration": 0,
    "start_time": "2022-12-27T10:52:21.656Z"
   },
   {
    "duration": 0,
    "start_time": "2022-12-27T10:52:21.657Z"
   },
   {
    "duration": 0,
    "start_time": "2022-12-27T10:52:21.658Z"
   },
   {
    "duration": 0,
    "start_time": "2022-12-27T10:52:21.659Z"
   },
   {
    "duration": 0,
    "start_time": "2022-12-27T10:52:21.660Z"
   },
   {
    "duration": 0,
    "start_time": "2022-12-27T10:52:21.661Z"
   },
   {
    "duration": 0,
    "start_time": "2022-12-27T10:52:21.662Z"
   },
   {
    "duration": 1158,
    "start_time": "2022-12-27T10:54:00.343Z"
   },
   {
    "duration": 67,
    "start_time": "2022-12-27T10:55:21.804Z"
   },
   {
    "duration": 8,
    "start_time": "2022-12-27T10:55:29.056Z"
   },
   {
    "duration": 7,
    "start_time": "2022-12-27T10:55:32.676Z"
   },
   {
    "duration": 1133,
    "start_time": "2022-12-27T10:56:17.409Z"
   },
   {
    "duration": 337,
    "start_time": "2022-12-27T10:56:41.076Z"
   },
   {
    "duration": 159,
    "start_time": "2022-12-27T10:56:41.415Z"
   },
   {
    "duration": 20,
    "start_time": "2022-12-27T10:56:41.575Z"
   },
   {
    "duration": 59,
    "start_time": "2022-12-27T10:56:41.596Z"
   },
   {
    "duration": 15,
    "start_time": "2022-12-27T10:56:41.657Z"
   },
   {
    "duration": 22,
    "start_time": "2022-12-27T10:56:41.674Z"
   },
   {
    "duration": 18,
    "start_time": "2022-12-27T10:56:41.698Z"
   },
   {
    "duration": 25,
    "start_time": "2022-12-27T10:56:41.718Z"
   },
   {
    "duration": 41,
    "start_time": "2022-12-27T10:56:41.744Z"
   },
   {
    "duration": 56,
    "start_time": "2022-12-27T10:56:41.786Z"
   },
   {
    "duration": 46,
    "start_time": "2022-12-27T10:56:41.844Z"
   },
   {
    "duration": 89,
    "start_time": "2022-12-27T10:56:41.892Z"
   },
   {
    "duration": 93,
    "start_time": "2022-12-27T10:56:41.983Z"
   },
   {
    "duration": 67,
    "start_time": "2022-12-27T10:56:42.080Z"
   },
   {
    "duration": 7,
    "start_time": "2022-12-27T10:56:42.149Z"
   },
   {
    "duration": 10,
    "start_time": "2022-12-27T10:56:42.158Z"
   },
   {
    "duration": 7,
    "start_time": "2022-12-27T10:56:42.170Z"
   },
   {
    "duration": 49,
    "start_time": "2022-12-27T10:56:42.178Z"
   },
   {
    "duration": 30,
    "start_time": "2022-12-27T10:56:42.229Z"
   },
   {
    "duration": 16,
    "start_time": "2022-12-27T10:56:42.260Z"
   },
   {
    "duration": 20,
    "start_time": "2022-12-27T10:56:42.278Z"
   },
   {
    "duration": 13,
    "start_time": "2022-12-27T10:56:42.300Z"
   },
   {
    "duration": 25,
    "start_time": "2022-12-27T10:56:42.314Z"
   },
   {
    "duration": 12,
    "start_time": "2022-12-27T10:56:42.340Z"
   },
   {
    "duration": 15,
    "start_time": "2022-12-27T10:56:42.354Z"
   },
   {
    "duration": 14,
    "start_time": "2022-12-27T10:56:42.371Z"
   },
   {
    "duration": 96,
    "start_time": "2022-12-27T10:56:42.386Z"
   },
   {
    "duration": 7,
    "start_time": "2022-12-27T10:56:42.483Z"
   },
   {
    "duration": 8,
    "start_time": "2022-12-27T10:56:42.491Z"
   },
   {
    "duration": 7,
    "start_time": "2022-12-27T10:56:42.501Z"
   },
   {
    "duration": 1250,
    "start_time": "2022-12-27T10:56:42.509Z"
   },
   {
    "duration": 0,
    "start_time": "2022-12-27T10:56:43.760Z"
   },
   {
    "duration": 0,
    "start_time": "2022-12-27T10:56:43.761Z"
   },
   {
    "duration": 0,
    "start_time": "2022-12-27T10:56:43.763Z"
   },
   {
    "duration": 0,
    "start_time": "2022-12-27T10:56:43.764Z"
   },
   {
    "duration": 0,
    "start_time": "2022-12-27T10:56:43.766Z"
   },
   {
    "duration": 0,
    "start_time": "2022-12-27T10:56:43.767Z"
   },
   {
    "duration": 0,
    "start_time": "2022-12-27T10:56:43.768Z"
   },
   {
    "duration": 4,
    "start_time": "2022-12-27T11:02:15.233Z"
   },
   {
    "duration": 1152,
    "start_time": "2022-12-27T11:02:18.381Z"
   },
   {
    "duration": 343,
    "start_time": "2022-12-27T11:05:03.381Z"
   },
   {
    "duration": 170,
    "start_time": "2022-12-27T11:05:03.726Z"
   },
   {
    "duration": 15,
    "start_time": "2022-12-27T11:05:03.897Z"
   },
   {
    "duration": 37,
    "start_time": "2022-12-27T11:05:03.914Z"
   },
   {
    "duration": 7,
    "start_time": "2022-12-27T11:05:03.954Z"
   },
   {
    "duration": 20,
    "start_time": "2022-12-27T11:05:03.963Z"
   },
   {
    "duration": 29,
    "start_time": "2022-12-27T11:05:03.984Z"
   },
   {
    "duration": 35,
    "start_time": "2022-12-27T11:05:04.014Z"
   },
   {
    "duration": 42,
    "start_time": "2022-12-27T11:05:04.051Z"
   },
   {
    "duration": 48,
    "start_time": "2022-12-27T11:05:04.095Z"
   },
   {
    "duration": 28,
    "start_time": "2022-12-27T11:05:04.144Z"
   },
   {
    "duration": 80,
    "start_time": "2022-12-27T11:05:04.173Z"
   },
   {
    "duration": 91,
    "start_time": "2022-12-27T11:05:04.255Z"
   },
   {
    "duration": 55,
    "start_time": "2022-12-27T11:05:04.347Z"
   },
   {
    "duration": 7,
    "start_time": "2022-12-27T11:05:04.403Z"
   },
   {
    "duration": 44,
    "start_time": "2022-12-27T11:05:04.411Z"
   },
   {
    "duration": 18,
    "start_time": "2022-12-27T11:05:04.457Z"
   },
   {
    "duration": 41,
    "start_time": "2022-12-27T11:05:04.477Z"
   },
   {
    "duration": 42,
    "start_time": "2022-12-27T11:05:04.520Z"
   },
   {
    "duration": 4,
    "start_time": "2022-12-27T11:05:04.564Z"
   },
   {
    "duration": 53,
    "start_time": "2022-12-27T11:05:04.570Z"
   },
   {
    "duration": 36,
    "start_time": "2022-12-27T11:05:04.625Z"
   },
   {
    "duration": 29,
    "start_time": "2022-12-27T11:05:04.663Z"
   },
   {
    "duration": 23,
    "start_time": "2022-12-27T11:05:04.693Z"
   },
   {
    "duration": 46,
    "start_time": "2022-12-27T11:05:04.717Z"
   },
   {
    "duration": 17,
    "start_time": "2022-12-27T11:05:04.765Z"
   },
   {
    "duration": 84,
    "start_time": "2022-12-27T11:05:04.783Z"
   },
   {
    "duration": 7,
    "start_time": "2022-12-27T11:05:04.870Z"
   },
   {
    "duration": 28,
    "start_time": "2022-12-27T11:05:04.878Z"
   },
   {
    "duration": 31,
    "start_time": "2022-12-27T11:05:04.908Z"
   },
   {
    "duration": 1332,
    "start_time": "2022-12-27T11:05:04.941Z"
   },
   {
    "duration": 0,
    "start_time": "2022-12-27T11:05:06.275Z"
   },
   {
    "duration": 0,
    "start_time": "2022-12-27T11:05:06.275Z"
   },
   {
    "duration": 0,
    "start_time": "2022-12-27T11:05:06.276Z"
   },
   {
    "duration": 0,
    "start_time": "2022-12-27T11:05:06.277Z"
   },
   {
    "duration": 0,
    "start_time": "2022-12-27T11:05:06.278Z"
   },
   {
    "duration": 0,
    "start_time": "2022-12-27T11:05:06.279Z"
   },
   {
    "duration": 0,
    "start_time": "2022-12-27T11:05:06.280Z"
   },
   {
    "duration": 4,
    "start_time": "2022-12-27T11:07:26.402Z"
   },
   {
    "duration": 1219,
    "start_time": "2022-12-27T11:07:29.169Z"
   },
   {
    "duration": 1219,
    "start_time": "2022-12-27T11:09:17.698Z"
   },
   {
    "duration": 365,
    "start_time": "2022-12-27T11:11:03.551Z"
   },
   {
    "duration": 158,
    "start_time": "2022-12-27T11:11:03.918Z"
   },
   {
    "duration": 16,
    "start_time": "2022-12-27T11:11:04.078Z"
   },
   {
    "duration": 48,
    "start_time": "2022-12-27T11:11:04.095Z"
   },
   {
    "duration": 24,
    "start_time": "2022-12-27T11:11:04.145Z"
   },
   {
    "duration": 12,
    "start_time": "2022-12-27T11:11:04.171Z"
   },
   {
    "duration": 30,
    "start_time": "2022-12-27T11:11:04.184Z"
   },
   {
    "duration": 11,
    "start_time": "2022-12-27T11:11:04.215Z"
   },
   {
    "duration": 26,
    "start_time": "2022-12-27T11:11:04.228Z"
   },
   {
    "duration": 45,
    "start_time": "2022-12-27T11:11:04.256Z"
   },
   {
    "duration": 33,
    "start_time": "2022-12-27T11:11:04.302Z"
   },
   {
    "duration": 95,
    "start_time": "2022-12-27T11:11:04.336Z"
   },
   {
    "duration": 101,
    "start_time": "2022-12-27T11:11:04.432Z"
   },
   {
    "duration": 58,
    "start_time": "2022-12-27T11:11:04.537Z"
   },
   {
    "duration": 7,
    "start_time": "2022-12-27T11:11:04.596Z"
   },
   {
    "duration": 30,
    "start_time": "2022-12-27T11:11:04.604Z"
   },
   {
    "duration": 31,
    "start_time": "2022-12-27T11:11:04.636Z"
   },
   {
    "duration": 56,
    "start_time": "2022-12-27T11:11:04.669Z"
   },
   {
    "duration": 33,
    "start_time": "2022-12-27T11:11:04.726Z"
   },
   {
    "duration": 4,
    "start_time": "2022-12-27T11:11:04.760Z"
   },
   {
    "duration": 58,
    "start_time": "2022-12-27T11:11:04.765Z"
   },
   {
    "duration": 30,
    "start_time": "2022-12-27T11:11:04.824Z"
   },
   {
    "duration": 36,
    "start_time": "2022-12-27T11:11:04.855Z"
   },
   {
    "duration": 38,
    "start_time": "2022-12-27T11:11:04.893Z"
   },
   {
    "duration": 27,
    "start_time": "2022-12-27T11:11:04.932Z"
   },
   {
    "duration": 14,
    "start_time": "2022-12-27T11:11:04.961Z"
   },
   {
    "duration": 85,
    "start_time": "2022-12-27T11:11:04.977Z"
   },
   {
    "duration": 7,
    "start_time": "2022-12-27T11:11:05.064Z"
   },
   {
    "duration": 34,
    "start_time": "2022-12-27T11:11:05.073Z"
   },
   {
    "duration": 23,
    "start_time": "2022-12-27T11:11:05.108Z"
   },
   {
    "duration": 1257,
    "start_time": "2022-12-27T11:11:05.133Z"
   },
   {
    "duration": 0,
    "start_time": "2022-12-27T11:11:06.391Z"
   },
   {
    "duration": 0,
    "start_time": "2022-12-27T11:11:06.392Z"
   },
   {
    "duration": 0,
    "start_time": "2022-12-27T11:11:06.394Z"
   },
   {
    "duration": 0,
    "start_time": "2022-12-27T11:11:06.394Z"
   },
   {
    "duration": 0,
    "start_time": "2022-12-27T11:11:06.395Z"
   },
   {
    "duration": 0,
    "start_time": "2022-12-27T11:11:06.396Z"
   },
   {
    "duration": 0,
    "start_time": "2022-12-27T11:11:06.397Z"
   },
   {
    "duration": 4,
    "start_time": "2022-12-27T11:18:06.017Z"
   },
   {
    "duration": 1119,
    "start_time": "2022-12-27T11:18:09.140Z"
   },
   {
    "duration": 4,
    "start_time": "2022-12-27T11:26:12.023Z"
   },
   {
    "duration": 1121,
    "start_time": "2022-12-27T11:26:15.845Z"
   },
   {
    "duration": 4,
    "start_time": "2022-12-27T11:27:11.446Z"
   },
   {
    "duration": 10,
    "start_time": "2022-12-27T11:27:14.335Z"
   },
   {
    "duration": 71,
    "start_time": "2022-12-27T11:27:48.900Z"
   },
   {
    "duration": 4,
    "start_time": "2022-12-27T11:27:57.789Z"
   },
   {
    "duration": 1199,
    "start_time": "2022-12-27T11:28:04.834Z"
   },
   {
    "duration": 5,
    "start_time": "2022-12-27T11:29:11.997Z"
   },
   {
    "duration": 1200,
    "start_time": "2022-12-27T11:29:14.858Z"
   },
   {
    "duration": 4,
    "start_time": "2022-12-27T11:31:18.761Z"
   },
   {
    "duration": 1091,
    "start_time": "2022-12-27T11:31:21.748Z"
   },
   {
    "duration": 383,
    "start_time": "2022-12-27T11:31:29.347Z"
   },
   {
    "duration": 172,
    "start_time": "2022-12-27T11:31:29.731Z"
   },
   {
    "duration": 21,
    "start_time": "2022-12-27T11:31:29.905Z"
   },
   {
    "duration": 27,
    "start_time": "2022-12-27T11:31:29.928Z"
   },
   {
    "duration": 3,
    "start_time": "2022-12-27T11:31:29.956Z"
   },
   {
    "duration": 12,
    "start_time": "2022-12-27T11:31:29.960Z"
   },
   {
    "duration": 13,
    "start_time": "2022-12-27T11:31:29.973Z"
   },
   {
    "duration": 8,
    "start_time": "2022-12-27T11:31:29.988Z"
   },
   {
    "duration": 38,
    "start_time": "2022-12-27T11:31:29.998Z"
   },
   {
    "duration": 78,
    "start_time": "2022-12-27T11:31:30.038Z"
   },
   {
    "duration": 44,
    "start_time": "2022-12-27T11:31:30.118Z"
   },
   {
    "duration": 90,
    "start_time": "2022-12-27T11:31:30.163Z"
   },
   {
    "duration": 94,
    "start_time": "2022-12-27T11:31:30.255Z"
   },
   {
    "duration": 56,
    "start_time": "2022-12-27T11:31:30.350Z"
   },
   {
    "duration": 21,
    "start_time": "2022-12-27T11:31:30.408Z"
   },
   {
    "duration": 29,
    "start_time": "2022-12-27T11:31:30.430Z"
   },
   {
    "duration": 29,
    "start_time": "2022-12-27T11:31:30.460Z"
   },
   {
    "duration": 58,
    "start_time": "2022-12-27T11:31:30.490Z"
   },
   {
    "duration": 53,
    "start_time": "2022-12-27T11:31:30.550Z"
   },
   {
    "duration": 18,
    "start_time": "2022-12-27T11:31:30.604Z"
   },
   {
    "duration": 76,
    "start_time": "2022-12-27T11:31:30.623Z"
   },
   {
    "duration": 93,
    "start_time": "2022-12-27T11:31:30.700Z"
   },
   {
    "duration": 52,
    "start_time": "2022-12-27T11:31:30.795Z"
   },
   {
    "duration": 45,
    "start_time": "2022-12-27T11:31:30.849Z"
   },
   {
    "duration": 34,
    "start_time": "2022-12-27T11:31:30.895Z"
   },
   {
    "duration": 32,
    "start_time": "2022-12-27T11:31:30.931Z"
   },
   {
    "duration": 85,
    "start_time": "2022-12-27T11:31:30.965Z"
   },
   {
    "duration": 7,
    "start_time": "2022-12-27T11:31:31.052Z"
   },
   {
    "duration": 35,
    "start_time": "2022-12-27T11:31:31.061Z"
   },
   {
    "duration": 32,
    "start_time": "2022-12-27T11:31:31.098Z"
   },
   {
    "duration": 1277,
    "start_time": "2022-12-27T11:31:31.132Z"
   },
   {
    "duration": 0,
    "start_time": "2022-12-27T11:31:32.410Z"
   },
   {
    "duration": 0,
    "start_time": "2022-12-27T11:31:32.411Z"
   },
   {
    "duration": 0,
    "start_time": "2022-12-27T11:31:32.412Z"
   },
   {
    "duration": 0,
    "start_time": "2022-12-27T11:31:32.413Z"
   },
   {
    "duration": 0,
    "start_time": "2022-12-27T11:31:32.414Z"
   },
   {
    "duration": 0,
    "start_time": "2022-12-27T11:31:32.415Z"
   },
   {
    "duration": 0,
    "start_time": "2022-12-27T11:31:32.416Z"
   },
   {
    "duration": 1115,
    "start_time": "2022-12-27T11:34:47.446Z"
   },
   {
    "duration": 19,
    "start_time": "2022-12-27T11:36:12.174Z"
   },
   {
    "duration": 17,
    "start_time": "2022-12-27T11:36:32.525Z"
   },
   {
    "duration": 4,
    "start_time": "2022-12-27T11:36:38.181Z"
   },
   {
    "duration": 10,
    "start_time": "2022-12-27T11:36:40.764Z"
   },
   {
    "duration": 15,
    "start_time": "2022-12-27T11:37:05.996Z"
   },
   {
    "duration": 389,
    "start_time": "2022-12-27T11:37:18.019Z"
   },
   {
    "duration": 166,
    "start_time": "2022-12-27T11:37:18.410Z"
   },
   {
    "duration": 16,
    "start_time": "2022-12-27T11:37:18.577Z"
   },
   {
    "duration": 39,
    "start_time": "2022-12-27T11:37:18.595Z"
   },
   {
    "duration": 14,
    "start_time": "2022-12-27T11:37:18.635Z"
   },
   {
    "duration": 44,
    "start_time": "2022-12-27T11:37:18.651Z"
   },
   {
    "duration": 20,
    "start_time": "2022-12-27T11:37:18.697Z"
   },
   {
    "duration": 37,
    "start_time": "2022-12-27T11:37:18.718Z"
   },
   {
    "duration": 46,
    "start_time": "2022-12-27T11:37:18.757Z"
   },
   {
    "duration": 42,
    "start_time": "2022-12-27T11:37:18.805Z"
   },
   {
    "duration": 39,
    "start_time": "2022-12-27T11:37:18.849Z"
   },
   {
    "duration": 82,
    "start_time": "2022-12-27T11:37:18.890Z"
   },
   {
    "duration": 110,
    "start_time": "2022-12-27T11:37:18.975Z"
   },
   {
    "duration": 74,
    "start_time": "2022-12-27T11:37:19.087Z"
   },
   {
    "duration": 8,
    "start_time": "2022-12-27T11:37:19.162Z"
   },
   {
    "duration": 51,
    "start_time": "2022-12-27T11:37:19.171Z"
   },
   {
    "duration": 14,
    "start_time": "2022-12-27T11:37:19.224Z"
   },
   {
    "duration": 34,
    "start_time": "2022-12-27T11:37:19.239Z"
   },
   {
    "duration": 31,
    "start_time": "2022-12-27T11:37:19.275Z"
   },
   {
    "duration": 3,
    "start_time": "2022-12-27T11:37:19.308Z"
   },
   {
    "duration": 18,
    "start_time": "2022-12-27T11:37:19.326Z"
   },
   {
    "duration": 15,
    "start_time": "2022-12-27T11:37:19.345Z"
   },
   {
    "duration": 15,
    "start_time": "2022-12-27T11:37:19.362Z"
   },
   {
    "duration": 17,
    "start_time": "2022-12-27T11:37:19.379Z"
   },
   {
    "duration": 42,
    "start_time": "2022-12-27T11:37:19.398Z"
   },
   {
    "duration": 18,
    "start_time": "2022-12-27T11:37:19.442Z"
   },
   {
    "duration": 84,
    "start_time": "2022-12-27T11:37:19.462Z"
   },
   {
    "duration": 20,
    "start_time": "2022-12-27T11:37:19.550Z"
   },
   {
    "duration": 18,
    "start_time": "2022-12-27T11:37:19.572Z"
   },
   {
    "duration": 4,
    "start_time": "2022-12-27T11:37:19.592Z"
   },
   {
    "duration": 40,
    "start_time": "2022-12-27T11:37:19.598Z"
   },
   {
    "duration": 2,
    "start_time": "2022-12-27T11:37:19.640Z"
   },
   {
    "duration": 5,
    "start_time": "2022-12-27T11:37:19.644Z"
   },
   {
    "duration": 6,
    "start_time": "2022-12-27T11:37:19.650Z"
   },
   {
    "duration": 7,
    "start_time": "2022-12-27T11:37:19.658Z"
   },
   {
    "duration": 8,
    "start_time": "2022-12-27T11:37:19.666Z"
   },
   {
    "duration": 5,
    "start_time": "2022-12-27T11:37:19.676Z"
   },
   {
    "duration": 8,
    "start_time": "2022-12-27T11:37:19.682Z"
   },
   {
    "duration": 5,
    "start_time": "2022-12-27T11:38:03.620Z"
   },
   {
    "duration": 69,
    "start_time": "2022-12-27T11:38:06.555Z"
   },
   {
    "duration": 4,
    "start_time": "2022-12-27T11:39:10.134Z"
   },
   {
    "duration": 18,
    "start_time": "2022-12-27T11:39:12.744Z"
   },
   {
    "duration": 5,
    "start_time": "2022-12-27T11:39:45.956Z"
   },
   {
    "duration": 28,
    "start_time": "2022-12-27T11:39:52.900Z"
   },
   {
    "duration": 5,
    "start_time": "2022-12-27T11:40:32.476Z"
   },
   {
    "duration": 19,
    "start_time": "2022-12-27T11:40:34.499Z"
   },
   {
    "duration": 16,
    "start_time": "2022-12-27T11:44:55.322Z"
   },
   {
    "duration": 27,
    "start_time": "2022-12-27T11:45:01.514Z"
   },
   {
    "duration": 11,
    "start_time": "2022-12-27T11:45:14.482Z"
   },
   {
    "duration": 29,
    "start_time": "2022-12-27T11:45:44.446Z"
   },
   {
    "duration": 18,
    "start_time": "2022-12-27T11:46:04.621Z"
   },
   {
    "duration": 21,
    "start_time": "2022-12-27T11:46:30.767Z"
   },
   {
    "duration": 25,
    "start_time": "2022-12-27T11:47:07.910Z"
   },
   {
    "duration": 4,
    "start_time": "2022-12-27T11:47:22.452Z"
   },
   {
    "duration": 19,
    "start_time": "2022-12-27T11:47:24.888Z"
   },
   {
    "duration": 6,
    "start_time": "2022-12-27T11:47:32.076Z"
   },
   {
    "duration": 22,
    "start_time": "2022-12-27T11:49:49.264Z"
   },
   {
    "duration": 14,
    "start_time": "2022-12-27T11:49:57.254Z"
   },
   {
    "duration": 5,
    "start_time": "2022-12-27T11:50:23.802Z"
   },
   {
    "duration": 18,
    "start_time": "2022-12-27T11:50:27.467Z"
   },
   {
    "duration": 15,
    "start_time": "2022-12-27T11:50:30.045Z"
   },
   {
    "duration": 24,
    "start_time": "2022-12-27T11:50:32.481Z"
   },
   {
    "duration": 17,
    "start_time": "2022-12-27T11:50:34.890Z"
   },
   {
    "duration": 27,
    "start_time": "2022-12-27T11:55:56.066Z"
   },
   {
    "duration": 28,
    "start_time": "2022-12-27T11:56:40.058Z"
   },
   {
    "duration": 11,
    "start_time": "2022-12-27T11:57:04.136Z"
   },
   {
    "duration": 5,
    "start_time": "2022-12-27T11:57:45.319Z"
   },
   {
    "duration": 8,
    "start_time": "2022-12-27T11:58:02.762Z"
   },
   {
    "duration": 4,
    "start_time": "2022-12-27T11:59:21.389Z"
   },
   {
    "duration": 5,
    "start_time": "2022-12-27T11:59:24.816Z"
   },
   {
    "duration": 10,
    "start_time": "2022-12-27T12:00:18.160Z"
   },
   {
    "duration": 8,
    "start_time": "2022-12-27T12:00:38.391Z"
   },
   {
    "duration": 11,
    "start_time": "2022-12-27T12:00:48.084Z"
   },
   {
    "duration": 9,
    "start_time": "2022-12-27T12:00:52.861Z"
   },
   {
    "duration": 8,
    "start_time": "2022-12-27T12:03:09.291Z"
   },
   {
    "duration": 8,
    "start_time": "2022-12-27T12:04:04.378Z"
   },
   {
    "duration": 9,
    "start_time": "2022-12-27T12:04:17.746Z"
   },
   {
    "duration": 15,
    "start_time": "2022-12-27T12:04:55.571Z"
   },
   {
    "duration": 9,
    "start_time": "2022-12-27T12:06:44.144Z"
   },
   {
    "duration": 7,
    "start_time": "2022-12-27T12:07:43.173Z"
   },
   {
    "duration": 17,
    "start_time": "2022-12-27T12:07:55.725Z"
   },
   {
    "duration": 9,
    "start_time": "2022-12-27T12:08:26.299Z"
   },
   {
    "duration": 376,
    "start_time": "2022-12-27T12:08:43.645Z"
   },
   {
    "duration": 184,
    "start_time": "2022-12-27T12:08:44.027Z"
   },
   {
    "duration": 16,
    "start_time": "2022-12-27T12:08:44.213Z"
   },
   {
    "duration": 54,
    "start_time": "2022-12-27T12:08:44.233Z"
   },
   {
    "duration": 4,
    "start_time": "2022-12-27T12:08:44.289Z"
   },
   {
    "duration": 26,
    "start_time": "2022-12-27T12:08:44.294Z"
   },
   {
    "duration": 51,
    "start_time": "2022-12-27T12:08:44.321Z"
   },
   {
    "duration": 7,
    "start_time": "2022-12-27T12:08:44.374Z"
   },
   {
    "duration": 23,
    "start_time": "2022-12-27T12:08:44.383Z"
   },
   {
    "duration": 33,
    "start_time": "2022-12-27T12:08:44.407Z"
   },
   {
    "duration": 31,
    "start_time": "2022-12-27T12:08:44.442Z"
   },
   {
    "duration": 68,
    "start_time": "2022-12-27T12:08:44.475Z"
   },
   {
    "duration": 102,
    "start_time": "2022-12-27T12:08:44.545Z"
   },
   {
    "duration": 53,
    "start_time": "2022-12-27T12:08:44.652Z"
   },
   {
    "duration": 28,
    "start_time": "2022-12-27T12:08:44.707Z"
   },
   {
    "duration": 9,
    "start_time": "2022-12-27T12:08:44.745Z"
   },
   {
    "duration": 19,
    "start_time": "2022-12-27T12:08:44.755Z"
   },
   {
    "duration": 50,
    "start_time": "2022-12-27T12:08:44.775Z"
   },
   {
    "duration": 33,
    "start_time": "2022-12-27T12:08:44.830Z"
   },
   {
    "duration": 4,
    "start_time": "2022-12-27T12:08:44.865Z"
   },
   {
    "duration": 33,
    "start_time": "2022-12-27T12:08:44.870Z"
   },
   {
    "duration": 54,
    "start_time": "2022-12-27T12:08:44.904Z"
   },
   {
    "duration": 17,
    "start_time": "2022-12-27T12:08:44.959Z"
   },
   {
    "duration": 30,
    "start_time": "2022-12-27T12:08:44.978Z"
   },
   {
    "duration": 47,
    "start_time": "2022-12-27T12:08:45.010Z"
   },
   {
    "duration": 27,
    "start_time": "2022-12-27T12:08:45.059Z"
   },
   {
    "duration": 76,
    "start_time": "2022-12-27T12:08:45.087Z"
   },
   {
    "duration": 18,
    "start_time": "2022-12-27T12:08:45.165Z"
   },
   {
    "duration": 28,
    "start_time": "2022-12-27T12:08:45.185Z"
   },
   {
    "duration": 19,
    "start_time": "2022-12-27T12:08:45.215Z"
   },
   {
    "duration": 59,
    "start_time": "2022-12-27T12:08:45.235Z"
   },
   {
    "duration": 9,
    "start_time": "2022-12-27T12:08:45.296Z"
   },
   {
    "duration": 48,
    "start_time": "2022-12-27T12:08:45.307Z"
   },
   {
    "duration": 14,
    "start_time": "2022-12-27T12:08:45.357Z"
   },
   {
    "duration": 68,
    "start_time": "2022-12-27T12:08:45.373Z"
   },
   {
    "duration": 81,
    "start_time": "2022-12-27T12:08:45.446Z"
   },
   {
    "duration": 0,
    "start_time": "2022-12-27T12:08:45.529Z"
   },
   {
    "duration": 0,
    "start_time": "2022-12-27T12:08:45.530Z"
   },
   {
    "duration": 8,
    "start_time": "2022-12-27T12:09:17.246Z"
   },
   {
    "duration": 5,
    "start_time": "2022-12-27T12:09:35.249Z"
   },
   {
    "duration": 8,
    "start_time": "2022-12-27T12:09:37.876Z"
   },
   {
    "duration": 77,
    "start_time": "2022-12-27T12:09:45.046Z"
   },
   {
    "duration": 5,
    "start_time": "2022-12-27T12:09:51.347Z"
   },
   {
    "duration": 8,
    "start_time": "2022-12-27T12:09:53.555Z"
   },
   {
    "duration": 390,
    "start_time": "2022-12-27T12:11:45.944Z"
   },
   {
    "duration": 173,
    "start_time": "2022-12-27T12:11:46.336Z"
   },
   {
    "duration": 25,
    "start_time": "2022-12-27T12:11:46.510Z"
   },
   {
    "duration": 26,
    "start_time": "2022-12-27T12:11:46.536Z"
   },
   {
    "duration": 3,
    "start_time": "2022-12-27T12:11:46.564Z"
   },
   {
    "duration": 9,
    "start_time": "2022-12-27T12:11:46.568Z"
   },
   {
    "duration": 14,
    "start_time": "2022-12-27T12:11:46.579Z"
   },
   {
    "duration": 12,
    "start_time": "2022-12-27T12:11:46.594Z"
   },
   {
    "duration": 36,
    "start_time": "2022-12-27T12:11:46.607Z"
   },
   {
    "duration": 37,
    "start_time": "2022-12-27T12:11:46.644Z"
   },
   {
    "duration": 22,
    "start_time": "2022-12-27T12:11:46.683Z"
   },
   {
    "duration": 75,
    "start_time": "2022-12-27T12:11:46.707Z"
   },
   {
    "duration": 104,
    "start_time": "2022-12-27T12:11:46.784Z"
   },
   {
    "duration": 65,
    "start_time": "2022-12-27T12:11:46.892Z"
   },
   {
    "duration": 7,
    "start_time": "2022-12-27T12:11:46.959Z"
   },
   {
    "duration": 25,
    "start_time": "2022-12-27T12:11:46.967Z"
   },
   {
    "duration": 13,
    "start_time": "2022-12-27T12:11:46.994Z"
   },
   {
    "duration": 44,
    "start_time": "2022-12-27T12:11:47.008Z"
   },
   {
    "duration": 33,
    "start_time": "2022-12-27T12:11:47.054Z"
   },
   {
    "duration": 3,
    "start_time": "2022-12-27T12:11:47.089Z"
   },
   {
    "duration": 37,
    "start_time": "2022-12-27T12:11:47.094Z"
   },
   {
    "duration": 16,
    "start_time": "2022-12-27T12:11:47.136Z"
   },
   {
    "duration": 14,
    "start_time": "2022-12-27T12:11:47.154Z"
   },
   {
    "duration": 41,
    "start_time": "2022-12-27T12:11:47.170Z"
   },
   {
    "duration": 23,
    "start_time": "2022-12-27T12:11:47.212Z"
   },
   {
    "duration": 17,
    "start_time": "2022-12-27T12:11:47.236Z"
   },
   {
    "duration": 73,
    "start_time": "2022-12-27T12:11:47.254Z"
   },
   {
    "duration": 21,
    "start_time": "2022-12-27T12:11:47.329Z"
   },
   {
    "duration": 35,
    "start_time": "2022-12-27T12:11:47.351Z"
   },
   {
    "duration": 26,
    "start_time": "2022-12-27T12:11:47.388Z"
   },
   {
    "duration": 58,
    "start_time": "2022-12-27T12:11:47.416Z"
   },
   {
    "duration": 10,
    "start_time": "2022-12-27T12:11:47.475Z"
   },
   {
    "duration": 28,
    "start_time": "2022-12-27T12:11:47.486Z"
   },
   {
    "duration": 21,
    "start_time": "2022-12-27T12:11:47.515Z"
   },
   {
    "duration": 51,
    "start_time": "2022-12-27T12:11:47.539Z"
   },
   {
    "duration": 8,
    "start_time": "2022-12-27T12:11:47.591Z"
   },
   {
    "duration": 20,
    "start_time": "2022-12-27T12:11:47.600Z"
   },
   {
    "duration": 40,
    "start_time": "2022-12-27T12:11:47.621Z"
   },
   {
    "duration": 7,
    "start_time": "2022-12-27T12:12:50.820Z"
   },
   {
    "duration": 9,
    "start_time": "2022-12-27T12:12:52.848Z"
   },
   {
    "duration": 84,
    "start_time": "2022-12-27T12:13:18.796Z"
   },
   {
    "duration": 10,
    "start_time": "2022-12-27T12:13:30.874Z"
   },
   {
    "duration": 7,
    "start_time": "2022-12-27T12:13:40.539Z"
   },
   {
    "duration": 4,
    "start_time": "2022-12-27T12:13:42.715Z"
   },
   {
    "duration": 5,
    "start_time": "2022-12-27T12:13:52.348Z"
   },
   {
    "duration": 5,
    "start_time": "2022-12-27T12:13:56.915Z"
   },
   {
    "duration": 12,
    "start_time": "2022-12-27T12:14:10.787Z"
   },
   {
    "duration": 5,
    "start_time": "2022-12-27T12:14:41.996Z"
   },
   {
    "duration": 5,
    "start_time": "2022-12-27T12:14:44.065Z"
   },
   {
    "duration": 9,
    "start_time": "2022-12-27T12:15:01.344Z"
   },
   {
    "duration": 10,
    "start_time": "2022-12-27T12:15:21.544Z"
   },
   {
    "duration": 357,
    "start_time": "2022-12-27T12:15:26.786Z"
   },
   {
    "duration": 150,
    "start_time": "2022-12-27T12:15:27.145Z"
   },
   {
    "duration": 16,
    "start_time": "2022-12-27T12:15:27.296Z"
   },
   {
    "duration": 40,
    "start_time": "2022-12-27T12:15:27.314Z"
   },
   {
    "duration": 11,
    "start_time": "2022-12-27T12:15:27.356Z"
   },
   {
    "duration": 30,
    "start_time": "2022-12-27T12:15:27.368Z"
   },
   {
    "duration": 39,
    "start_time": "2022-12-27T12:15:27.400Z"
   },
   {
    "duration": 21,
    "start_time": "2022-12-27T12:15:27.441Z"
   },
   {
    "duration": 34,
    "start_time": "2022-12-27T12:15:27.463Z"
   },
   {
    "duration": 53,
    "start_time": "2022-12-27T12:15:27.499Z"
   },
   {
    "duration": 28,
    "start_time": "2022-12-27T12:15:27.553Z"
   },
   {
    "duration": 71,
    "start_time": "2022-12-27T12:15:27.582Z"
   },
   {
    "duration": 97,
    "start_time": "2022-12-27T12:15:27.655Z"
   },
   {
    "duration": 77,
    "start_time": "2022-12-27T12:15:27.756Z"
   },
   {
    "duration": 13,
    "start_time": "2022-12-27T12:15:27.835Z"
   },
   {
    "duration": 40,
    "start_time": "2022-12-27T12:15:27.849Z"
   },
   {
    "duration": 66,
    "start_time": "2022-12-27T12:15:27.890Z"
   },
   {
    "duration": 74,
    "start_time": "2022-12-27T12:15:27.957Z"
   },
   {
    "duration": 39,
    "start_time": "2022-12-27T12:15:28.033Z"
   },
   {
    "duration": 26,
    "start_time": "2022-12-27T12:15:28.074Z"
   },
   {
    "duration": 74,
    "start_time": "2022-12-27T12:15:28.101Z"
   },
   {
    "duration": 63,
    "start_time": "2022-12-27T12:15:28.176Z"
   },
   {
    "duration": 38,
    "start_time": "2022-12-27T12:15:28.241Z"
   },
   {
    "duration": 32,
    "start_time": "2022-12-27T12:15:28.280Z"
   },
   {
    "duration": 41,
    "start_time": "2022-12-27T12:15:28.313Z"
   },
   {
    "duration": 33,
    "start_time": "2022-12-27T12:15:28.356Z"
   },
   {
    "duration": 77,
    "start_time": "2022-12-27T12:15:28.390Z"
   },
   {
    "duration": 19,
    "start_time": "2022-12-27T12:15:28.469Z"
   },
   {
    "duration": 56,
    "start_time": "2022-12-27T12:15:28.490Z"
   },
   {
    "duration": 20,
    "start_time": "2022-12-27T12:15:28.548Z"
   },
   {
    "duration": 71,
    "start_time": "2022-12-27T12:15:28.570Z"
   },
   {
    "duration": 20,
    "start_time": "2022-12-27T12:15:28.643Z"
   },
   {
    "duration": 38,
    "start_time": "2022-12-27T12:15:28.665Z"
   },
   {
    "duration": 18,
    "start_time": "2022-12-27T12:15:28.705Z"
   },
   {
    "duration": 31,
    "start_time": "2022-12-27T12:15:28.725Z"
   },
   {
    "duration": 7,
    "start_time": "2022-12-27T12:15:28.758Z"
   },
   {
    "duration": 6,
    "start_time": "2022-12-27T12:15:28.767Z"
   },
   {
    "duration": 9,
    "start_time": "2022-12-27T12:15:28.775Z"
   },
   {
    "duration": 8,
    "start_time": "2022-12-27T12:16:25.046Z"
   },
   {
    "duration": 9,
    "start_time": "2022-12-27T12:16:38.132Z"
   },
   {
    "duration": 383,
    "start_time": "2022-12-27T12:17:10.428Z"
   },
   {
    "duration": 172,
    "start_time": "2022-12-27T12:17:10.814Z"
   },
   {
    "duration": 15,
    "start_time": "2022-12-27T12:17:10.989Z"
   },
   {
    "duration": 42,
    "start_time": "2022-12-27T12:17:11.006Z"
   },
   {
    "duration": 12,
    "start_time": "2022-12-27T12:17:11.052Z"
   },
   {
    "duration": 11,
    "start_time": "2022-12-27T12:17:11.066Z"
   },
   {
    "duration": 22,
    "start_time": "2022-12-27T12:17:11.079Z"
   },
   {
    "duration": 11,
    "start_time": "2022-12-27T12:17:11.103Z"
   },
   {
    "duration": 34,
    "start_time": "2022-12-27T12:17:11.116Z"
   },
   {
    "duration": 35,
    "start_time": "2022-12-27T12:17:11.152Z"
   },
   {
    "duration": 33,
    "start_time": "2022-12-27T12:17:11.189Z"
   },
   {
    "duration": 84,
    "start_time": "2022-12-27T12:17:11.224Z"
   },
   {
    "duration": 97,
    "start_time": "2022-12-27T12:17:11.309Z"
   },
   {
    "duration": 61,
    "start_time": "2022-12-27T12:17:11.410Z"
   },
   {
    "duration": 8,
    "start_time": "2022-12-27T12:17:11.473Z"
   },
   {
    "duration": 13,
    "start_time": "2022-12-27T12:17:11.482Z"
   },
   {
    "duration": 26,
    "start_time": "2022-12-27T12:17:11.496Z"
   },
   {
    "duration": 80,
    "start_time": "2022-12-27T12:17:11.523Z"
   },
   {
    "duration": 53,
    "start_time": "2022-12-27T12:17:11.606Z"
   },
   {
    "duration": 4,
    "start_time": "2022-12-27T12:17:11.662Z"
   },
   {
    "duration": 34,
    "start_time": "2022-12-27T12:17:11.668Z"
   },
   {
    "duration": 21,
    "start_time": "2022-12-27T12:17:11.704Z"
   },
   {
    "duration": 27,
    "start_time": "2022-12-27T12:17:11.727Z"
   },
   {
    "duration": 12,
    "start_time": "2022-12-27T12:17:11.756Z"
   },
   {
    "duration": 15,
    "start_time": "2022-12-27T12:17:11.770Z"
   },
   {
    "duration": 16,
    "start_time": "2022-12-27T12:17:11.786Z"
   },
   {
    "duration": 92,
    "start_time": "2022-12-27T12:17:11.803Z"
   },
   {
    "duration": 34,
    "start_time": "2022-12-27T12:17:11.897Z"
   },
   {
    "duration": 23,
    "start_time": "2022-12-27T12:17:11.933Z"
   },
   {
    "duration": 4,
    "start_time": "2022-12-27T12:17:11.957Z"
   },
   {
    "duration": 35,
    "start_time": "2022-12-27T12:17:11.963Z"
   },
   {
    "duration": 10,
    "start_time": "2022-12-27T12:17:12.000Z"
   },
   {
    "duration": 23,
    "start_time": "2022-12-27T12:17:12.011Z"
   },
   {
    "duration": 13,
    "start_time": "2022-12-27T12:17:12.036Z"
   },
   {
    "duration": 17,
    "start_time": "2022-12-27T12:17:12.050Z"
   },
   {
    "duration": 8,
    "start_time": "2022-12-27T12:17:12.069Z"
   },
   {
    "duration": 16,
    "start_time": "2022-12-27T12:17:12.079Z"
   },
   {
    "duration": 12,
    "start_time": "2022-12-27T12:17:12.097Z"
   },
   {
    "duration": 78,
    "start_time": "2022-12-27T12:22:16.769Z"
   },
   {
    "duration": 358,
    "start_time": "2022-12-27T12:23:39.194Z"
   },
   {
    "duration": 162,
    "start_time": "2022-12-27T12:23:39.555Z"
   },
   {
    "duration": 20,
    "start_time": "2022-12-27T12:23:39.719Z"
   },
   {
    "duration": 79,
    "start_time": "2022-12-27T12:23:39.740Z"
   },
   {
    "duration": 59,
    "start_time": "2022-12-27T12:23:39.822Z"
   },
   {
    "duration": 70,
    "start_time": "2022-12-27T12:23:39.882Z"
   },
   {
    "duration": 63,
    "start_time": "2022-12-27T12:23:39.954Z"
   },
   {
    "duration": 70,
    "start_time": "2022-12-27T12:23:40.018Z"
   },
   {
    "duration": 83,
    "start_time": "2022-12-27T12:23:40.089Z"
   },
   {
    "duration": 66,
    "start_time": "2022-12-27T12:23:40.173Z"
   },
   {
    "duration": 62,
    "start_time": "2022-12-27T12:23:40.240Z"
   },
   {
    "duration": 105,
    "start_time": "2022-12-27T12:23:40.304Z"
   },
   {
    "duration": 93,
    "start_time": "2022-12-27T12:23:40.410Z"
   },
   {
    "duration": 68,
    "start_time": "2022-12-27T12:23:40.507Z"
   },
   {
    "duration": 6,
    "start_time": "2022-12-27T12:23:40.577Z"
   },
   {
    "duration": 28,
    "start_time": "2022-12-27T12:23:40.584Z"
   },
   {
    "duration": 67,
    "start_time": "2022-12-27T12:23:40.614Z"
   },
   {
    "duration": 37,
    "start_time": "2022-12-27T12:23:40.683Z"
   },
   {
    "duration": 48,
    "start_time": "2022-12-27T12:23:40.723Z"
   },
   {
    "duration": 3,
    "start_time": "2022-12-27T12:23:40.773Z"
   },
   {
    "duration": 25,
    "start_time": "2022-12-27T12:23:40.778Z"
   },
   {
    "duration": 19,
    "start_time": "2022-12-27T12:23:40.805Z"
   },
   {
    "duration": 23,
    "start_time": "2022-12-27T12:23:40.826Z"
   },
   {
    "duration": 32,
    "start_time": "2022-12-27T12:23:40.850Z"
   },
   {
    "duration": 24,
    "start_time": "2022-12-27T12:23:40.884Z"
   },
   {
    "duration": 23,
    "start_time": "2022-12-27T12:23:40.910Z"
   },
   {
    "duration": 92,
    "start_time": "2022-12-27T12:23:40.935Z"
   },
   {
    "duration": 30,
    "start_time": "2022-12-27T12:23:41.028Z"
   },
   {
    "duration": 30,
    "start_time": "2022-12-27T12:23:41.060Z"
   },
   {
    "duration": 20,
    "start_time": "2022-12-27T12:23:41.091Z"
   },
   {
    "duration": 81,
    "start_time": "2022-12-27T12:23:41.113Z"
   },
   {
    "duration": 29,
    "start_time": "2022-12-27T12:23:41.195Z"
   },
   {
    "duration": 66,
    "start_time": "2022-12-27T12:23:41.226Z"
   },
   {
    "duration": 19,
    "start_time": "2022-12-27T12:23:41.293Z"
   },
   {
    "duration": 51,
    "start_time": "2022-12-27T12:23:41.313Z"
   },
   {
    "duration": 5,
    "start_time": "2022-12-27T12:23:41.366Z"
   },
   {
    "duration": 17,
    "start_time": "2022-12-27T12:23:41.373Z"
   },
   {
    "duration": 21,
    "start_time": "2022-12-27T12:23:41.391Z"
   },
   {
    "duration": 87,
    "start_time": "2022-12-27T12:24:47.304Z"
   },
   {
    "duration": 374,
    "start_time": "2022-12-27T12:25:07.738Z"
   },
   {
    "duration": 151,
    "start_time": "2022-12-27T12:25:08.114Z"
   },
   {
    "duration": 15,
    "start_time": "2022-12-27T12:25:08.266Z"
   },
   {
    "duration": 29,
    "start_time": "2022-12-27T12:25:08.283Z"
   },
   {
    "duration": 3,
    "start_time": "2022-12-27T12:25:08.314Z"
   },
   {
    "duration": 5,
    "start_time": "2022-12-27T12:25:08.328Z"
   },
   {
    "duration": 23,
    "start_time": "2022-12-27T12:25:08.341Z"
   },
   {
    "duration": 9,
    "start_time": "2022-12-27T12:25:08.366Z"
   },
   {
    "duration": 33,
    "start_time": "2022-12-27T12:25:08.377Z"
   },
   {
    "duration": 34,
    "start_time": "2022-12-27T12:25:08.411Z"
   },
   {
    "duration": 23,
    "start_time": "2022-12-27T12:25:08.446Z"
   },
   {
    "duration": 73,
    "start_time": "2022-12-27T12:25:08.470Z"
   },
   {
    "duration": 94,
    "start_time": "2022-12-27T12:25:08.545Z"
   },
   {
    "duration": 53,
    "start_time": "2022-12-27T12:25:08.642Z"
   },
   {
    "duration": 7,
    "start_time": "2022-12-27T12:25:08.696Z"
   },
   {
    "duration": 35,
    "start_time": "2022-12-27T12:25:08.705Z"
   },
   {
    "duration": 7,
    "start_time": "2022-12-27T12:25:08.742Z"
   },
   {
    "duration": 30,
    "start_time": "2022-12-27T12:25:08.750Z"
   },
   {
    "duration": 26,
    "start_time": "2022-12-27T12:25:08.782Z"
   },
   {
    "duration": 26,
    "start_time": "2022-12-27T12:25:08.809Z"
   },
   {
    "duration": 26,
    "start_time": "2022-12-27T12:25:08.837Z"
   },
   {
    "duration": 20,
    "start_time": "2022-12-27T12:25:08.865Z"
   },
   {
    "duration": 16,
    "start_time": "2022-12-27T12:25:08.887Z"
   },
   {
    "duration": 13,
    "start_time": "2022-12-27T12:25:08.904Z"
   },
   {
    "duration": 35,
    "start_time": "2022-12-27T12:25:08.918Z"
   },
   {
    "duration": 24,
    "start_time": "2022-12-27T12:25:08.954Z"
   },
   {
    "duration": 84,
    "start_time": "2022-12-27T12:25:08.979Z"
   },
   {
    "duration": 17,
    "start_time": "2022-12-27T12:25:09.065Z"
   },
   {
    "duration": 22,
    "start_time": "2022-12-27T12:25:09.083Z"
   },
   {
    "duration": 4,
    "start_time": "2022-12-27T12:25:09.107Z"
   },
   {
    "duration": 31,
    "start_time": "2022-12-27T12:25:09.112Z"
   },
   {
    "duration": 19,
    "start_time": "2022-12-27T12:25:09.144Z"
   },
   {
    "duration": 17,
    "start_time": "2022-12-27T12:25:09.165Z"
   },
   {
    "duration": 12,
    "start_time": "2022-12-27T12:25:09.183Z"
   },
   {
    "duration": 9,
    "start_time": "2022-12-27T12:25:09.196Z"
   },
   {
    "duration": 24,
    "start_time": "2022-12-27T12:25:09.207Z"
   },
   {
    "duration": 15,
    "start_time": "2022-12-27T12:25:09.233Z"
   },
   {
    "duration": 8,
    "start_time": "2022-12-27T12:25:09.249Z"
   },
   {
    "duration": 78,
    "start_time": "2022-12-27T12:26:14.222Z"
   },
   {
    "duration": 58,
    "start_time": "2022-12-27T12:26:33.673Z"
   },
   {
    "duration": 57,
    "start_time": "2022-12-27T12:26:44.305Z"
   },
   {
    "duration": 55,
    "start_time": "2022-12-27T12:28:28.280Z"
   },
   {
    "duration": 62,
    "start_time": "2022-12-27T12:29:16.159Z"
   },
   {
    "duration": 12,
    "start_time": "2022-12-27T12:29:47.577Z"
   },
   {
    "duration": 5,
    "start_time": "2022-12-27T12:30:16.648Z"
   },
   {
    "duration": 11,
    "start_time": "2022-12-27T12:30:46.040Z"
   },
   {
    "duration": 10,
    "start_time": "2022-12-27T12:30:56.237Z"
   },
   {
    "duration": 7,
    "start_time": "2022-12-27T12:31:47.011Z"
   },
   {
    "duration": 10,
    "start_time": "2022-12-27T12:31:57.538Z"
   },
   {
    "duration": 11,
    "start_time": "2022-12-27T12:32:17.395Z"
   },
   {
    "duration": 415,
    "start_time": "2022-12-27T12:32:34.813Z"
   },
   {
    "duration": 175,
    "start_time": "2022-12-27T12:32:35.230Z"
   },
   {
    "duration": 22,
    "start_time": "2022-12-27T12:32:35.406Z"
   },
   {
    "duration": 98,
    "start_time": "2022-12-27T12:32:35.430Z"
   },
   {
    "duration": 25,
    "start_time": "2022-12-27T12:32:35.530Z"
   },
   {
    "duration": 23,
    "start_time": "2022-12-27T12:32:35.557Z"
   },
   {
    "duration": 36,
    "start_time": "2022-12-27T12:32:35.582Z"
   },
   {
    "duration": 38,
    "start_time": "2022-12-27T12:32:35.621Z"
   },
   {
    "duration": 57,
    "start_time": "2022-12-27T12:32:35.661Z"
   },
   {
    "duration": 48,
    "start_time": "2022-12-27T12:32:35.720Z"
   },
   {
    "duration": 73,
    "start_time": "2022-12-27T12:32:35.770Z"
   },
   {
    "duration": 87,
    "start_time": "2022-12-27T12:32:35.844Z"
   },
   {
    "duration": 84,
    "start_time": "2022-12-27T12:32:35.933Z"
   },
   {
    "duration": 59,
    "start_time": "2022-12-27T12:32:36.029Z"
   },
   {
    "duration": 77,
    "start_time": "2022-12-27T12:32:36.090Z"
   },
   {
    "duration": 0,
    "start_time": "2022-12-27T12:32:36.169Z"
   },
   {
    "duration": 0,
    "start_time": "2022-12-27T12:32:36.170Z"
   },
   {
    "duration": 0,
    "start_time": "2022-12-27T12:32:36.172Z"
   },
   {
    "duration": 0,
    "start_time": "2022-12-27T12:32:36.173Z"
   },
   {
    "duration": 0,
    "start_time": "2022-12-27T12:32:36.174Z"
   },
   {
    "duration": 0,
    "start_time": "2022-12-27T12:32:36.175Z"
   },
   {
    "duration": 0,
    "start_time": "2022-12-27T12:32:36.176Z"
   },
   {
    "duration": 0,
    "start_time": "2022-12-27T12:32:36.177Z"
   },
   {
    "duration": 0,
    "start_time": "2022-12-27T12:32:36.178Z"
   },
   {
    "duration": 0,
    "start_time": "2022-12-27T12:32:36.179Z"
   },
   {
    "duration": 0,
    "start_time": "2022-12-27T12:32:36.180Z"
   },
   {
    "duration": 0,
    "start_time": "2022-12-27T12:32:36.181Z"
   },
   {
    "duration": 0,
    "start_time": "2022-12-27T12:32:36.182Z"
   },
   {
    "duration": 0,
    "start_time": "2022-12-27T12:32:36.183Z"
   },
   {
    "duration": 0,
    "start_time": "2022-12-27T12:32:36.185Z"
   },
   {
    "duration": 0,
    "start_time": "2022-12-27T12:32:36.186Z"
   },
   {
    "duration": 0,
    "start_time": "2022-12-27T12:32:36.187Z"
   },
   {
    "duration": 0,
    "start_time": "2022-12-27T12:32:36.226Z"
   },
   {
    "duration": 0,
    "start_time": "2022-12-27T12:32:36.228Z"
   },
   {
    "duration": 0,
    "start_time": "2022-12-27T12:32:36.230Z"
   },
   {
    "duration": 0,
    "start_time": "2022-12-27T12:32:36.231Z"
   },
   {
    "duration": 0,
    "start_time": "2022-12-27T12:32:36.233Z"
   },
   {
    "duration": 0,
    "start_time": "2022-12-27T12:32:36.234Z"
   },
   {
    "duration": 10,
    "start_time": "2022-12-27T12:33:02.600Z"
   },
   {
    "duration": 8,
    "start_time": "2022-12-27T12:33:36.032Z"
   },
   {
    "duration": 14,
    "start_time": "2022-12-27T12:33:54.313Z"
   },
   {
    "duration": 10,
    "start_time": "2022-12-27T12:35:35.072Z"
   },
   {
    "duration": 10,
    "start_time": "2022-12-27T12:36:08.288Z"
   },
   {
    "duration": 10,
    "start_time": "2022-12-27T12:36:12.197Z"
   },
   {
    "duration": 364,
    "start_time": "2022-12-27T12:36:44.758Z"
   },
   {
    "duration": 159,
    "start_time": "2022-12-27T12:36:45.126Z"
   },
   {
    "duration": 15,
    "start_time": "2022-12-27T12:36:45.287Z"
   },
   {
    "duration": 31,
    "start_time": "2022-12-27T12:36:45.304Z"
   },
   {
    "duration": 12,
    "start_time": "2022-12-27T12:36:45.338Z"
   },
   {
    "duration": 21,
    "start_time": "2022-12-27T12:36:45.351Z"
   },
   {
    "duration": 18,
    "start_time": "2022-12-27T12:36:45.374Z"
   },
   {
    "duration": 7,
    "start_time": "2022-12-27T12:36:45.393Z"
   },
   {
    "duration": 27,
    "start_time": "2022-12-27T12:36:45.402Z"
   },
   {
    "duration": 39,
    "start_time": "2022-12-27T12:36:45.432Z"
   },
   {
    "duration": 35,
    "start_time": "2022-12-27T12:36:45.473Z"
   },
   {
    "duration": 85,
    "start_time": "2022-12-27T12:36:45.510Z"
   },
   {
    "duration": 105,
    "start_time": "2022-12-27T12:36:45.597Z"
   },
   {
    "duration": 65,
    "start_time": "2022-12-27T12:36:45.708Z"
   },
   {
    "duration": 70,
    "start_time": "2022-12-27T12:36:45.774Z"
   },
   {
    "duration": 0,
    "start_time": "2022-12-27T12:36:45.846Z"
   },
   {
    "duration": 0,
    "start_time": "2022-12-27T12:36:45.847Z"
   },
   {
    "duration": 0,
    "start_time": "2022-12-27T12:36:45.849Z"
   },
   {
    "duration": 0,
    "start_time": "2022-12-27T12:36:45.851Z"
   },
   {
    "duration": 0,
    "start_time": "2022-12-27T12:36:45.852Z"
   },
   {
    "duration": 0,
    "start_time": "2022-12-27T12:36:45.853Z"
   },
   {
    "duration": 0,
    "start_time": "2022-12-27T12:36:45.854Z"
   },
   {
    "duration": 0,
    "start_time": "2022-12-27T12:36:45.855Z"
   },
   {
    "duration": 0,
    "start_time": "2022-12-27T12:36:45.856Z"
   },
   {
    "duration": 0,
    "start_time": "2022-12-27T12:36:45.857Z"
   },
   {
    "duration": 0,
    "start_time": "2022-12-27T12:36:45.858Z"
   },
   {
    "duration": 0,
    "start_time": "2022-12-27T12:36:45.859Z"
   },
   {
    "duration": 0,
    "start_time": "2022-12-27T12:36:45.861Z"
   },
   {
    "duration": 0,
    "start_time": "2022-12-27T12:36:45.862Z"
   },
   {
    "duration": 0,
    "start_time": "2022-12-27T12:36:45.863Z"
   },
   {
    "duration": 0,
    "start_time": "2022-12-27T12:36:45.865Z"
   },
   {
    "duration": 0,
    "start_time": "2022-12-27T12:36:45.866Z"
   },
   {
    "duration": 0,
    "start_time": "2022-12-27T12:36:45.867Z"
   },
   {
    "duration": 0,
    "start_time": "2022-12-27T12:36:45.868Z"
   },
   {
    "duration": 0,
    "start_time": "2022-12-27T12:36:45.869Z"
   },
   {
    "duration": 0,
    "start_time": "2022-12-27T12:36:45.871Z"
   },
   {
    "duration": 0,
    "start_time": "2022-12-27T12:36:45.872Z"
   },
   {
    "duration": 0,
    "start_time": "2022-12-27T12:36:45.873Z"
   },
   {
    "duration": 33,
    "start_time": "2022-12-27T12:37:07.739Z"
   },
   {
    "duration": 830,
    "start_time": "2022-12-27T12:38:57.071Z"
   },
   {
    "duration": 388,
    "start_time": "2022-12-27T12:39:09.123Z"
   },
   {
    "duration": 166,
    "start_time": "2022-12-27T12:39:09.513Z"
   },
   {
    "duration": 16,
    "start_time": "2022-12-27T12:39:09.681Z"
   },
   {
    "duration": 37,
    "start_time": "2022-12-27T12:39:09.699Z"
   },
   {
    "duration": 26,
    "start_time": "2022-12-27T12:39:09.738Z"
   },
   {
    "duration": 32,
    "start_time": "2022-12-27T12:39:09.766Z"
   },
   {
    "duration": 22,
    "start_time": "2022-12-27T12:39:09.800Z"
   },
   {
    "duration": 26,
    "start_time": "2022-12-27T12:39:09.824Z"
   },
   {
    "duration": 55,
    "start_time": "2022-12-27T12:39:09.852Z"
   },
   {
    "duration": 43,
    "start_time": "2022-12-27T12:39:09.909Z"
   },
   {
    "duration": 37,
    "start_time": "2022-12-27T12:39:09.953Z"
   },
   {
    "duration": 103,
    "start_time": "2022-12-27T12:39:09.992Z"
   },
   {
    "duration": 82,
    "start_time": "2022-12-27T12:39:10.097Z"
   },
   {
    "duration": 63,
    "start_time": "2022-12-27T12:39:10.184Z"
   },
   {
    "duration": 931,
    "start_time": "2022-12-27T12:39:10.248Z"
   },
   {
    "duration": 0,
    "start_time": "2022-12-27T12:39:11.181Z"
   },
   {
    "duration": 0,
    "start_time": "2022-12-27T12:39:11.182Z"
   },
   {
    "duration": 0,
    "start_time": "2022-12-27T12:39:11.184Z"
   },
   {
    "duration": 0,
    "start_time": "2022-12-27T12:39:11.185Z"
   },
   {
    "duration": 1,
    "start_time": "2022-12-27T12:39:11.186Z"
   },
   {
    "duration": 0,
    "start_time": "2022-12-27T12:39:11.188Z"
   },
   {
    "duration": 0,
    "start_time": "2022-12-27T12:39:11.189Z"
   },
   {
    "duration": 0,
    "start_time": "2022-12-27T12:39:11.190Z"
   },
   {
    "duration": 0,
    "start_time": "2022-12-27T12:39:11.191Z"
   },
   {
    "duration": 0,
    "start_time": "2022-12-27T12:39:11.192Z"
   },
   {
    "duration": 0,
    "start_time": "2022-12-27T12:39:11.193Z"
   },
   {
    "duration": 0,
    "start_time": "2022-12-27T12:39:11.194Z"
   },
   {
    "duration": 0,
    "start_time": "2022-12-27T12:39:11.195Z"
   },
   {
    "duration": 0,
    "start_time": "2022-12-27T12:39:11.196Z"
   },
   {
    "duration": 0,
    "start_time": "2022-12-27T12:39:11.197Z"
   },
   {
    "duration": 0,
    "start_time": "2022-12-27T12:39:11.198Z"
   },
   {
    "duration": 0,
    "start_time": "2022-12-27T12:39:11.199Z"
   },
   {
    "duration": 0,
    "start_time": "2022-12-27T12:39:11.200Z"
   },
   {
    "duration": 0,
    "start_time": "2022-12-27T12:39:11.201Z"
   },
   {
    "duration": 0,
    "start_time": "2022-12-27T12:39:11.202Z"
   },
   {
    "duration": 0,
    "start_time": "2022-12-27T12:39:11.203Z"
   },
   {
    "duration": 0,
    "start_time": "2022-12-27T12:39:11.204Z"
   },
   {
    "duration": 0,
    "start_time": "2022-12-27T12:39:11.205Z"
   },
   {
    "duration": 45,
    "start_time": "2022-12-27T12:40:09.818Z"
   },
   {
    "duration": 12,
    "start_time": "2022-12-27T12:42:42.841Z"
   },
   {
    "duration": 35,
    "start_time": "2022-12-27T12:49:31.937Z"
   },
   {
    "duration": 40,
    "start_time": "2022-12-27T12:49:43.588Z"
   },
   {
    "duration": 8,
    "start_time": "2022-12-27T12:49:54.363Z"
   },
   {
    "duration": 388,
    "start_time": "2022-12-27T12:50:29.341Z"
   },
   {
    "duration": 174,
    "start_time": "2022-12-27T12:50:29.731Z"
   },
   {
    "duration": 17,
    "start_time": "2022-12-27T12:50:29.907Z"
   },
   {
    "duration": 37,
    "start_time": "2022-12-27T12:50:29.927Z"
   },
   {
    "duration": 25,
    "start_time": "2022-12-27T12:50:29.967Z"
   },
   {
    "duration": 40,
    "start_time": "2022-12-27T12:50:29.994Z"
   },
   {
    "duration": 32,
    "start_time": "2022-12-27T12:50:30.036Z"
   },
   {
    "duration": 37,
    "start_time": "2022-12-27T12:50:30.070Z"
   },
   {
    "duration": 82,
    "start_time": "2022-12-27T12:50:30.109Z"
   },
   {
    "duration": 60,
    "start_time": "2022-12-27T12:50:30.192Z"
   },
   {
    "duration": 44,
    "start_time": "2022-12-27T12:50:30.254Z"
   },
   {
    "duration": 106,
    "start_time": "2022-12-27T12:50:30.300Z"
   },
   {
    "duration": 86,
    "start_time": "2022-12-27T12:50:30.408Z"
   },
   {
    "duration": 62,
    "start_time": "2022-12-27T12:50:30.498Z"
   },
   {
    "duration": 47,
    "start_time": "2022-12-27T12:50:30.562Z"
   },
   {
    "duration": 18,
    "start_time": "2022-12-27T12:50:30.610Z"
   },
   {
    "duration": 51,
    "start_time": "2022-12-27T12:50:30.630Z"
   },
   {
    "duration": 79,
    "start_time": "2022-12-27T12:50:30.682Z"
   },
   {
    "duration": 44,
    "start_time": "2022-12-27T12:50:30.762Z"
   },
   {
    "duration": 22,
    "start_time": "2022-12-27T12:50:30.808Z"
   },
   {
    "duration": 72,
    "start_time": "2022-12-27T12:50:30.832Z"
   },
   {
    "duration": 86,
    "start_time": "2022-12-27T12:50:30.906Z"
   },
   {
    "duration": 36,
    "start_time": "2022-12-27T12:50:30.994Z"
   },
   {
    "duration": 27,
    "start_time": "2022-12-27T12:50:31.032Z"
   },
   {
    "duration": 27,
    "start_time": "2022-12-27T12:50:31.061Z"
   },
   {
    "duration": 44,
    "start_time": "2022-12-27T12:50:31.089Z"
   },
   {
    "duration": 87,
    "start_time": "2022-12-27T12:50:31.135Z"
   },
   {
    "duration": 20,
    "start_time": "2022-12-27T12:50:31.224Z"
   },
   {
    "duration": 17,
    "start_time": "2022-12-27T12:50:31.246Z"
   },
   {
    "duration": 6,
    "start_time": "2022-12-27T12:50:31.265Z"
   },
   {
    "duration": 43,
    "start_time": "2022-12-27T12:50:31.272Z"
   },
   {
    "duration": 21,
    "start_time": "2022-12-27T12:50:31.317Z"
   },
   {
    "duration": 46,
    "start_time": "2022-12-27T12:50:31.340Z"
   },
   {
    "duration": 68,
    "start_time": "2022-12-27T12:50:31.388Z"
   },
   {
    "duration": 82,
    "start_time": "2022-12-27T12:50:31.458Z"
   },
   {
    "duration": 60,
    "start_time": "2022-12-27T12:50:31.542Z"
   },
   {
    "duration": 47,
    "start_time": "2022-12-27T12:50:31.604Z"
   },
   {
    "duration": 55,
    "start_time": "2022-12-27T12:50:31.653Z"
   },
   {
    "duration": 37,
    "start_time": "2022-12-27T12:52:08.638Z"
   },
   {
    "duration": 8,
    "start_time": "2022-12-27T12:53:16.000Z"
   },
   {
    "duration": 368,
    "start_time": "2022-12-27T12:54:04.060Z"
   },
   {
    "duration": 162,
    "start_time": "2022-12-27T12:54:04.430Z"
   },
   {
    "duration": 17,
    "start_time": "2022-12-27T12:54:04.594Z"
   },
   {
    "duration": 37,
    "start_time": "2022-12-27T12:54:04.614Z"
   },
   {
    "duration": 3,
    "start_time": "2022-12-27T12:54:04.653Z"
   },
   {
    "duration": 11,
    "start_time": "2022-12-27T12:54:04.658Z"
   },
   {
    "duration": 25,
    "start_time": "2022-12-27T12:54:04.671Z"
   },
   {
    "duration": 8,
    "start_time": "2022-12-27T12:54:04.698Z"
   },
   {
    "duration": 49,
    "start_time": "2022-12-27T12:54:04.708Z"
   },
   {
    "duration": 31,
    "start_time": "2022-12-27T12:54:04.759Z"
   },
   {
    "duration": 26,
    "start_time": "2022-12-27T12:54:04.791Z"
   },
   {
    "duration": 69,
    "start_time": "2022-12-27T12:54:04.818Z"
   },
   {
    "duration": 88,
    "start_time": "2022-12-27T12:54:04.889Z"
   },
   {
    "duration": 60,
    "start_time": "2022-12-27T12:54:04.978Z"
   },
   {
    "duration": 43,
    "start_time": "2022-12-27T12:54:05.039Z"
   },
   {
    "duration": 9,
    "start_time": "2022-12-27T12:54:05.084Z"
   },
   {
    "duration": 55,
    "start_time": "2022-12-27T12:54:05.094Z"
   },
   {
    "duration": 45,
    "start_time": "2022-12-27T12:54:05.151Z"
   },
   {
    "duration": 62,
    "start_time": "2022-12-27T12:54:05.198Z"
   },
   {
    "duration": 3,
    "start_time": "2022-12-27T12:54:05.262Z"
   },
   {
    "duration": 30,
    "start_time": "2022-12-27T12:54:05.267Z"
   },
   {
    "duration": 19,
    "start_time": "2022-12-27T12:54:05.299Z"
   },
   {
    "duration": 13,
    "start_time": "2022-12-27T12:54:05.320Z"
   },
   {
    "duration": 11,
    "start_time": "2022-12-27T12:54:05.335Z"
   },
   {
    "duration": 14,
    "start_time": "2022-12-27T12:54:05.348Z"
   },
   {
    "duration": 27,
    "start_time": "2022-12-27T12:54:05.364Z"
   },
   {
    "duration": 78,
    "start_time": "2022-12-27T12:54:05.393Z"
   },
   {
    "duration": 19,
    "start_time": "2022-12-27T12:54:05.473Z"
   },
   {
    "duration": 17,
    "start_time": "2022-12-27T12:54:05.493Z"
   },
   {
    "duration": 19,
    "start_time": "2022-12-27T12:54:05.511Z"
   },
   {
    "duration": 30,
    "start_time": "2022-12-27T12:54:05.531Z"
   },
   {
    "duration": 12,
    "start_time": "2022-12-27T12:54:05.562Z"
   },
   {
    "duration": 22,
    "start_time": "2022-12-27T12:54:05.575Z"
   },
   {
    "duration": 11,
    "start_time": "2022-12-27T12:54:05.598Z"
   },
   {
    "duration": 34,
    "start_time": "2022-12-27T12:54:05.611Z"
   },
   {
    "duration": 11,
    "start_time": "2022-12-27T12:54:05.647Z"
   },
   {
    "duration": 16,
    "start_time": "2022-12-27T12:54:05.661Z"
   },
   {
    "duration": 10,
    "start_time": "2022-12-27T12:54:05.679Z"
   },
   {
    "duration": 61,
    "start_time": "2022-12-27T13:02:53.462Z"
   },
   {
    "duration": 89,
    "start_time": "2022-12-27T13:05:16.662Z"
   },
   {
    "duration": 35,
    "start_time": "2022-12-27T13:05:20.870Z"
   },
   {
    "duration": 35,
    "start_time": "2022-12-27T13:05:46.621Z"
   },
   {
    "duration": 11,
    "start_time": "2022-12-27T13:07:02.647Z"
   },
   {
    "duration": 36,
    "start_time": "2022-12-27T13:07:06.949Z"
   },
   {
    "duration": 380,
    "start_time": "2022-12-27T13:07:25.439Z"
   },
   {
    "duration": 167,
    "start_time": "2022-12-27T13:07:25.828Z"
   },
   {
    "duration": 29,
    "start_time": "2022-12-27T13:07:25.997Z"
   },
   {
    "duration": 35,
    "start_time": "2022-12-27T13:07:26.028Z"
   },
   {
    "duration": 3,
    "start_time": "2022-12-27T13:07:26.065Z"
   },
   {
    "duration": 7,
    "start_time": "2022-12-27T13:07:26.070Z"
   },
   {
    "duration": 15,
    "start_time": "2022-12-27T13:07:26.078Z"
   },
   {
    "duration": 12,
    "start_time": "2022-12-27T13:07:26.095Z"
   },
   {
    "duration": 35,
    "start_time": "2022-12-27T13:07:26.108Z"
   },
   {
    "duration": 33,
    "start_time": "2022-12-27T13:07:26.145Z"
   },
   {
    "duration": 23,
    "start_time": "2022-12-27T13:07:26.180Z"
   },
   {
    "duration": 75,
    "start_time": "2022-12-27T13:07:26.205Z"
   },
   {
    "duration": 87,
    "start_time": "2022-12-27T13:07:26.281Z"
   },
   {
    "duration": 57,
    "start_time": "2022-12-27T13:07:26.370Z"
   },
   {
    "duration": 42,
    "start_time": "2022-12-27T13:07:26.429Z"
   },
   {
    "duration": 11,
    "start_time": "2022-12-27T13:07:26.473Z"
   },
   {
    "duration": 55,
    "start_time": "2022-12-27T13:07:26.486Z"
   },
   {
    "duration": 39,
    "start_time": "2022-12-27T13:07:26.543Z"
   },
   {
    "duration": 63,
    "start_time": "2022-12-27T13:07:26.584Z"
   },
   {
    "duration": 4,
    "start_time": "2022-12-27T13:07:26.649Z"
   },
   {
    "duration": 26,
    "start_time": "2022-12-27T13:07:26.654Z"
   },
   {
    "duration": 12,
    "start_time": "2022-12-27T13:07:26.681Z"
   },
   {
    "duration": 13,
    "start_time": "2022-12-27T13:07:26.694Z"
   },
   {
    "duration": 42,
    "start_time": "2022-12-27T13:07:26.708Z"
   },
   {
    "duration": 15,
    "start_time": "2022-12-27T13:07:26.751Z"
   },
   {
    "duration": 19,
    "start_time": "2022-12-27T13:07:26.768Z"
   },
   {
    "duration": 105,
    "start_time": "2022-12-27T13:07:26.789Z"
   },
   {
    "duration": 18,
    "start_time": "2022-12-27T13:07:26.897Z"
   },
   {
    "duration": 25,
    "start_time": "2022-12-27T13:07:26.917Z"
   },
   {
    "duration": 5,
    "start_time": "2022-12-27T13:07:26.944Z"
   },
   {
    "duration": 24,
    "start_time": "2022-12-27T13:07:26.951Z"
   },
   {
    "duration": 10,
    "start_time": "2022-12-27T13:07:26.976Z"
   },
   {
    "duration": 42,
    "start_time": "2022-12-27T13:07:26.987Z"
   },
   {
    "duration": 11,
    "start_time": "2022-12-27T13:07:27.031Z"
   },
   {
    "duration": 8,
    "start_time": "2022-12-27T13:07:27.043Z"
   },
   {
    "duration": 10,
    "start_time": "2022-12-27T13:07:27.052Z"
   },
   {
    "duration": 11,
    "start_time": "2022-12-27T13:07:27.064Z"
   },
   {
    "duration": 8,
    "start_time": "2022-12-27T13:07:27.076Z"
   },
   {
    "duration": 34,
    "start_time": "2022-12-27T13:08:24.688Z"
   },
   {
    "duration": 8,
    "start_time": "2022-12-27T13:08:49.672Z"
   },
   {
    "duration": 27,
    "start_time": "2022-12-27T13:08:52.480Z"
   },
   {
    "duration": 364,
    "start_time": "2022-12-27T13:09:11.462Z"
   },
   {
    "duration": 166,
    "start_time": "2022-12-27T13:09:11.829Z"
   },
   {
    "duration": 20,
    "start_time": "2022-12-27T13:09:11.997Z"
   },
   {
    "duration": 66,
    "start_time": "2022-12-27T13:09:12.019Z"
   },
   {
    "duration": 12,
    "start_time": "2022-12-27T13:09:12.088Z"
   },
   {
    "duration": 26,
    "start_time": "2022-12-27T13:09:12.102Z"
   },
   {
    "duration": 27,
    "start_time": "2022-12-27T13:09:12.130Z"
   },
   {
    "duration": 22,
    "start_time": "2022-12-27T13:09:12.159Z"
   },
   {
    "duration": 29,
    "start_time": "2022-12-27T13:09:12.182Z"
   },
   {
    "duration": 52,
    "start_time": "2022-12-27T13:09:12.212Z"
   },
   {
    "duration": 37,
    "start_time": "2022-12-27T13:09:12.266Z"
   },
   {
    "duration": 80,
    "start_time": "2022-12-27T13:09:12.305Z"
   },
   {
    "duration": 84,
    "start_time": "2022-12-27T13:09:12.386Z"
   },
   {
    "duration": 61,
    "start_time": "2022-12-27T13:09:12.474Z"
   },
   {
    "duration": 47,
    "start_time": "2022-12-27T13:09:12.537Z"
   },
   {
    "duration": 11,
    "start_time": "2022-12-27T13:09:12.586Z"
   },
   {
    "duration": 45,
    "start_time": "2022-12-27T13:09:12.598Z"
   },
   {
    "duration": 45,
    "start_time": "2022-12-27T13:09:12.645Z"
   },
   {
    "duration": 56,
    "start_time": "2022-12-27T13:09:12.692Z"
   },
   {
    "duration": 3,
    "start_time": "2022-12-27T13:09:12.750Z"
   },
   {
    "duration": 35,
    "start_time": "2022-12-27T13:09:12.755Z"
   },
   {
    "duration": 29,
    "start_time": "2022-12-27T13:09:12.791Z"
   },
   {
    "duration": 30,
    "start_time": "2022-12-27T13:09:12.822Z"
   },
   {
    "duration": 19,
    "start_time": "2022-12-27T13:09:12.853Z"
   },
   {
    "duration": 16,
    "start_time": "2022-12-27T13:09:12.873Z"
   },
   {
    "duration": 23,
    "start_time": "2022-12-27T13:09:12.890Z"
   },
   {
    "duration": 86,
    "start_time": "2022-12-27T13:09:12.914Z"
   },
   {
    "duration": 20,
    "start_time": "2022-12-27T13:09:13.001Z"
   },
   {
    "duration": 176,
    "start_time": "2022-12-27T13:09:13.026Z"
   },
   {
    "duration": 5,
    "start_time": "2022-12-27T13:09:13.204Z"
   },
   {
    "duration": 41,
    "start_time": "2022-12-27T13:09:13.211Z"
   },
   {
    "duration": 13,
    "start_time": "2022-12-27T13:09:13.254Z"
   },
   {
    "duration": 42,
    "start_time": "2022-12-27T13:09:13.268Z"
   },
   {
    "duration": 12,
    "start_time": "2022-12-27T13:09:13.312Z"
   },
   {
    "duration": 41,
    "start_time": "2022-12-27T13:09:13.325Z"
   },
   {
    "duration": 15,
    "start_time": "2022-12-27T13:09:13.368Z"
   },
   {
    "duration": 50,
    "start_time": "2022-12-27T13:09:13.384Z"
   },
   {
    "duration": 31,
    "start_time": "2022-12-27T13:09:13.436Z"
   },
   {
    "duration": 391,
    "start_time": "2022-12-27T13:09:50.017Z"
   },
   {
    "duration": 150,
    "start_time": "2022-12-27T13:09:50.410Z"
   },
   {
    "duration": 16,
    "start_time": "2022-12-27T13:09:50.561Z"
   },
   {
    "duration": 45,
    "start_time": "2022-12-27T13:09:50.579Z"
   },
   {
    "duration": 12,
    "start_time": "2022-12-27T13:09:50.626Z"
   },
   {
    "duration": 27,
    "start_time": "2022-12-27T13:09:50.639Z"
   },
   {
    "duration": 24,
    "start_time": "2022-12-27T13:09:50.668Z"
   },
   {
    "duration": 17,
    "start_time": "2022-12-27T13:09:50.694Z"
   },
   {
    "duration": 22,
    "start_time": "2022-12-27T13:09:50.712Z"
   },
   {
    "duration": 26,
    "start_time": "2022-12-27T13:09:50.737Z"
   },
   {
    "duration": 22,
    "start_time": "2022-12-27T13:09:50.765Z"
   },
   {
    "duration": 72,
    "start_time": "2022-12-27T13:09:50.788Z"
   },
   {
    "duration": 76,
    "start_time": "2022-12-27T13:09:50.862Z"
   },
   {
    "duration": 51,
    "start_time": "2022-12-27T13:09:50.940Z"
   },
   {
    "duration": 57,
    "start_time": "2022-12-27T13:09:50.992Z"
   },
   {
    "duration": 12,
    "start_time": "2022-12-27T13:09:51.050Z"
   },
   {
    "duration": 28,
    "start_time": "2022-12-27T13:09:51.063Z"
   },
   {
    "duration": 60,
    "start_time": "2022-12-27T13:09:51.093Z"
   },
   {
    "duration": 36,
    "start_time": "2022-12-27T13:09:51.154Z"
   },
   {
    "duration": 3,
    "start_time": "2022-12-27T13:09:51.192Z"
   },
   {
    "duration": 31,
    "start_time": "2022-12-27T13:09:51.196Z"
   },
   {
    "duration": 15,
    "start_time": "2022-12-27T13:09:51.228Z"
   },
   {
    "duration": 13,
    "start_time": "2022-12-27T13:09:51.244Z"
   },
   {
    "duration": 13,
    "start_time": "2022-12-27T13:09:51.258Z"
   },
   {
    "duration": 14,
    "start_time": "2022-12-27T13:09:51.273Z"
   },
   {
    "duration": 11,
    "start_time": "2022-12-27T13:09:51.288Z"
   },
   {
    "duration": 83,
    "start_time": "2022-12-27T13:09:51.301Z"
   },
   {
    "duration": 20,
    "start_time": "2022-12-27T13:09:51.387Z"
   },
   {
    "duration": 39,
    "start_time": "2022-12-27T13:09:51.408Z"
   },
   {
    "duration": 4,
    "start_time": "2022-12-27T13:09:51.449Z"
   },
   {
    "duration": 59,
    "start_time": "2022-12-27T13:09:51.454Z"
   },
   {
    "duration": 14,
    "start_time": "2022-12-27T13:09:51.514Z"
   },
   {
    "duration": 25,
    "start_time": "2022-12-27T13:09:51.530Z"
   },
   {
    "duration": 14,
    "start_time": "2022-12-27T13:09:51.556Z"
   },
   {
    "duration": 22,
    "start_time": "2022-12-27T13:09:51.572Z"
   },
   {
    "duration": 21,
    "start_time": "2022-12-27T13:09:51.597Z"
   },
   {
    "duration": 15,
    "start_time": "2022-12-27T13:09:51.620Z"
   },
   {
    "duration": 12,
    "start_time": "2022-12-27T13:09:51.637Z"
   },
   {
    "duration": 29,
    "start_time": "2022-12-27T13:11:26.650Z"
   },
   {
    "duration": 404,
    "start_time": "2022-12-27T13:11:34.099Z"
   },
   {
    "duration": 161,
    "start_time": "2022-12-27T13:11:34.505Z"
   },
   {
    "duration": 24,
    "start_time": "2022-12-27T13:11:34.668Z"
   },
   {
    "duration": 58,
    "start_time": "2022-12-27T13:11:34.694Z"
   },
   {
    "duration": 27,
    "start_time": "2022-12-27T13:11:34.755Z"
   },
   {
    "duration": 76,
    "start_time": "2022-12-27T13:11:34.784Z"
   },
   {
    "duration": 56,
    "start_time": "2022-12-27T13:11:34.862Z"
   },
   {
    "duration": 38,
    "start_time": "2022-12-27T13:11:34.920Z"
   },
   {
    "duration": 63,
    "start_time": "2022-12-27T13:11:34.960Z"
   },
   {
    "duration": 51,
    "start_time": "2022-12-27T13:11:35.025Z"
   },
   {
    "duration": 74,
    "start_time": "2022-12-27T13:11:35.077Z"
   },
   {
    "duration": 86,
    "start_time": "2022-12-27T13:11:35.152Z"
   },
   {
    "duration": 86,
    "start_time": "2022-12-27T13:11:35.240Z"
   },
   {
    "duration": 59,
    "start_time": "2022-12-27T13:11:35.330Z"
   },
   {
    "duration": 48,
    "start_time": "2022-12-27T13:11:35.391Z"
   },
   {
    "duration": 50,
    "start_time": "2022-12-27T13:11:35.441Z"
   },
   {
    "duration": 114,
    "start_time": "2022-12-27T13:11:35.493Z"
   },
   {
    "duration": 76,
    "start_time": "2022-12-27T13:11:35.609Z"
   },
   {
    "duration": 72,
    "start_time": "2022-12-27T13:11:35.688Z"
   },
   {
    "duration": 4,
    "start_time": "2022-12-27T13:11:35.763Z"
   },
   {
    "duration": 82,
    "start_time": "2022-12-27T13:11:35.769Z"
   },
   {
    "duration": 49,
    "start_time": "2022-12-27T13:11:35.852Z"
   },
   {
    "duration": 71,
    "start_time": "2022-12-27T13:11:35.903Z"
   },
   {
    "duration": 38,
    "start_time": "2022-12-27T13:11:35.976Z"
   },
   {
    "duration": 45,
    "start_time": "2022-12-27T13:11:36.016Z"
   },
   {
    "duration": 26,
    "start_time": "2022-12-27T13:11:36.063Z"
   },
   {
    "duration": 100,
    "start_time": "2022-12-27T13:11:36.091Z"
   },
   {
    "duration": 21,
    "start_time": "2022-12-27T13:11:36.193Z"
   },
   {
    "duration": 43,
    "start_time": "2022-12-27T13:11:36.215Z"
   },
   {
    "duration": 45,
    "start_time": "2022-12-27T13:11:36.260Z"
   },
   {
    "duration": 99,
    "start_time": "2022-12-27T13:11:36.306Z"
   },
   {
    "duration": 59,
    "start_time": "2022-12-27T13:11:36.406Z"
   },
   {
    "duration": 68,
    "start_time": "2022-12-27T13:11:36.467Z"
   },
   {
    "duration": 85,
    "start_time": "2022-12-27T13:11:36.537Z"
   },
   {
    "duration": 91,
    "start_time": "2022-12-27T13:11:36.624Z"
   },
   {
    "duration": 40,
    "start_time": "2022-12-27T13:11:36.717Z"
   },
   {
    "duration": 67,
    "start_time": "2022-12-27T13:11:36.759Z"
   },
   {
    "duration": 43,
    "start_time": "2022-12-27T13:11:36.828Z"
   },
   {
    "duration": 9,
    "start_time": "2022-12-27T13:12:06.042Z"
   },
   {
    "duration": 41,
    "start_time": "2022-12-27T13:15:49.659Z"
   },
   {
    "duration": 1324,
    "start_time": "2022-12-27T13:17:36.921Z"
   },
   {
    "duration": 32,
    "start_time": "2022-12-27T13:18:36.146Z"
   },
   {
    "duration": 1373,
    "start_time": "2022-12-27T13:19:44.567Z"
   },
   {
    "duration": 10,
    "start_time": "2022-12-27T13:19:49.576Z"
   },
   {
    "duration": 15,
    "start_time": "2022-12-27T13:19:59.746Z"
   },
   {
    "duration": 12,
    "start_time": "2022-12-27T13:20:42.481Z"
   }
  ],
  "colab": {
   "collapsed_sections": [
    "E0vqbgi9ay0H",
    "VUC88oWjTJw2"
   ],
   "name": "automatization_template_upd4.ipynb",
   "provenance": []
  },
  "kernelspec": {
   "display_name": "Python 3 (ipykernel)",
   "language": "python",
   "name": "python3"
  },
  "language_info": {
   "codemirror_mode": {
    "name": "ipython",
    "version": 3
   },
   "file_extension": ".py",
   "mimetype": "text/x-python",
   "name": "python",
   "nbconvert_exporter": "python",
   "pygments_lexer": "ipython3",
   "version": "3.9.5"
  },
  "toc": {
   "base_numbering": 1,
   "nav_menu": {
    "height": "215px",
    "width": "403px"
   },
   "number_sections": true,
   "sideBar": true,
   "skip_h1_title": true,
   "title_cell": "Table of Contents",
   "title_sidebar": "Contents",
   "toc_cell": false,
   "toc_position": {
    "height": "calc(100% - 180px)",
    "left": "10px",
    "top": "150px",
    "width": "285.825px"
   },
   "toc_section_display": true,
   "toc_window_display": false
  }
 },
 "nbformat": 4,
 "nbformat_minor": 1
}
