{
 "cells": [
  {
   "cell_type": "markdown",
   "id": "0349959c",
   "metadata": {
    "toc": true
   },
   "source": [
    "<h1>Table of Contents<span class=\"tocSkip\"></span></h1>\n",
    "<div class=\"toc\"><ul class=\"toc-item\"><li><span><a href=\"#Задача\" data-toc-modified-id=\"Задача-1\"><span class=\"toc-item-num\">1&nbsp;&nbsp;</span>Задача</a></span><ul class=\"toc-item\"><li><span><a href=\"#Общий-план-работы.\" data-toc-modified-id=\"Общий-план-работы.-1.1\"><span class=\"toc-item-num\">1.1&nbsp;&nbsp;</span>Общий план работы.</a></span></li></ul></li><li><span><a href=\"#Загрузка-библиотек,-датасета,-знакомство-с-датасетом,-первичная-обработка-и-проверки.\" data-toc-modified-id=\"Загрузка-библиотек,-датасета,-знакомство-с-датасетом,-первичная-обработка-и-проверки.-2\"><span class=\"toc-item-num\">2&nbsp;&nbsp;</span>Загрузка библиотек, датасета, знакомство с датасетом, первичная обработка и проверки.</a></span></li><li><span><a href=\"#Выгрузка-в-CSV\" data-toc-modified-id=\"Выгрузка-в-CSV-3\"><span class=\"toc-item-num\">3&nbsp;&nbsp;</span>Выгрузка в CSV</a></span></li></ul></div>"
   ]
  },
  {
   "cell_type": "markdown",
   "id": "c396addd",
   "metadata": {},
   "source": [
    "# Задача\n",
    "\n",
    "Мы работаем аналитиком в Яндекс.Дзене. Почти всё время занимает анализ пользовательского взаимодействия с карточками статей.\n",
    "\n",
    "Каждую карточку определяют её тема и источник (у него тоже есть тема). Примеры тем: «Красота и здоровье», «Россия», «Путешествия».\n",
    "\n",
    "Пользователей системы характеризует возрастная категория. Скажем, «26-30» или «45+».\n",
    "\n",
    "Есть три способа взаимодействия пользователей с системой:\n",
    "    \n",
    "    - Карточка отображена для пользователя (show);\n",
    "    - Пользователь кликнул на карточку (click);\n",
    "    - Пользователь просмотрел статью карточки (view).\n",
    "\n",
    "Каждую неделю начинающие менеджеры Денис и Валерия задают вам одни и те же вопросы:\n",
    "    \n",
    "    - Сколько взаимодействий пользователей с карточками происходит в системе с разбивкой по темам карточек?\n",
    "    - Как много карточек генерируют источники с разными темами?\n",
    "    - Как соотносятся темы карточек и темы источников?\n",
    "\n",
    "    На шестую неделю работы вы решаете, что процесс пора автоматизировать. Для Дениса и Валерии нужно сделать дашборд.\n",
    "Дашборд будет основываться на пайплайне, который будет брать данные из таблицы, в которых хранятся сырые данные, трансформировать данные и укладывать их в агрегирующую таблицу. Пайплайн будет разработан для вас дата-инженерами.\n",
    "\n",
    "    Пообщавшись с менеджерами и администраторами баз данных, вы написали краткое ТЗ:\n",
    "\n",
    "    - Бизнес-задача: анализ взаимодействия пользователей с карточками Яндекс.Дзен;\n",
    "    - Насколько часто предполагается пользоваться дашбордом: не реже, чем раз в неделю;\n",
    "    - Кто будет основным пользователем дашборда: менеджеры по анализу контента;\n",
    "\n",
    "    Состав данных для дашборда:\n",
    "    - История событий по темам карточек (два графика - абсолютные числа и процентное соотношение);\n",
    "    - Разбивка событий по темам источников;\n",
    "    - Таблица соответствия тем источников темам карточек;\n",
    "\n",
    "    По каким параметрам данные должны группироваться:\n",
    "    - Дата и время;\n",
    "    - Тема карточки;\n",
    "    - Тема источника;\n",
    "    - Возрастная группа;\n",
    "\n",
    "    Характер данных:\n",
    "    - История событий по темам карточек — абсолютные величины с разбивкой по минутам;\n",
    "    - Разбивка событий по темам источников — относительные величины (% событий);\n",
    "    - Соответствия тем источников темам карточек - абсолютные величины;\n",
    "    - Важность: все графики имеют равную важность;\n",
    "\n",
    "    Источники данных для дашборда: дата-инженеры обещали подготовить для вас агрегирующую таблицу dash_visits. Вот её структура:\n",
    "    - record_id — первичный ключ,\n",
    "    - item_topic — тема карточки,\n",
    "    - source_topic — тема источника,\n",
    "    - age_segment — возрастной сегмент,\n",
    "    - dt — дата и время,\n",
    "    - visits — количество событий.\n",
    "    - Таблица хранится в специально подготовленной для вас базе данных zen;\n",
    "    - Частота обновления данных: один раз в сутки, в полночь по UTC;\n",
    "\n",
    "Какие графики должны отображаться и в каком порядке, какие элементы управления должны быть на дашборде отраженно в согласованном проекте дашборда."
   ]
  },
  {
   "cell_type": "markdown",
   "id": "76e12448",
   "metadata": {},
   "source": [
    "## Общий план работы.\n",
    "    \n",
    "    - Мы конечно доверяем коллегам, но базовые проверки ДС никто не отменял.\n",
    "    - загрузим ДС, изучим его, посмотрим на данные, добавим столбцы (которых нам будет нехватать) и/или скорректируем типы данным\n",
    "    - сохраним датасет в формате csv и загрузим в Tableau\n",
    "    - построим графики (в Tableau), которые будут отвечать на вопросы коллег, которые потом используем в презентации.\n",
    "        - Сколько взаимодействий пользователей с карточками происходит в системе с разбивкой по темам карточек?\n",
    "        - Как много карточек генерируют источники с разными темами?\n",
    "        - Как соотносятся темы карточек и темы источников?\n",
    "    - после подготовки и перепроверки ДС, приступим к отрисовке дашборда для колллег, с учетом его согласованных параметров "
   ]
  },
  {
   "cell_type": "markdown",
   "id": "8b3f9ec0",
   "metadata": {},
   "source": [
    "# Загрузка библиотек, датасета, знакомство с датасетом, первичная обработка и проверки."
   ]
  },
  {
   "cell_type": "code",
   "execution_count": 1,
   "id": "9f00e1fc",
   "metadata": {},
   "outputs": [],
   "source": [
    "import pandas as pd\n",
    "import numpy as np\n",
    "from datetime import datetime, timedelta\n",
    "from sqlalchemy import create_engine"
   ]
  },
  {
   "cell_type": "code",
   "execution_count": 2,
   "id": "ccf3b41e",
   "metadata": {},
   "outputs": [],
   "source": [
    "db_config = {'user': 'praktikum_student', # имя пользователя\n",
    "            'pwd': 'Sdf4$2;d-d30pp', # пароль\n",
    "            'host': 'rc1b-wcoijxj3yxfsf3fs.mdb.yandexcloud.net',\n",
    "            'port': 6432, # порт подключения\n",
    "            'db': 'data-analyst-zen-project-db'} # название базы данных\n",
    "\n",
    "connection_string = 'postgresql://{}:{}@{}:{}/{}'.format(db_config['user'],\n",
    "                                                db_config['pwd'],\n",
    "                                                db_config['host'],\n",
    "                                                db_config['port'],\n",
    "                                                db_config['db'])\n",
    "\n",
    "engine = create_engine(connection_string)"
   ]
  },
  {
   "cell_type": "code",
   "execution_count": 3,
   "id": "b7d5996c",
   "metadata": {},
   "outputs": [],
   "source": [
    "query = '''\n",
    "            SELECT * FROM dash_visits\n",
    "        '''"
   ]
  },
  {
   "cell_type": "code",
   "execution_count": 4,
   "id": "400cb5fe",
   "metadata": {},
   "outputs": [],
   "source": [
    "dash_visits = pd.io.sql.read_sql(query, con = engine)"
   ]
  },
  {
   "cell_type": "code",
   "execution_count": 5,
   "id": "a4d18af0",
   "metadata": {},
   "outputs": [
    {
     "data": {
      "text/html": [
       "<div>\n",
       "<style scoped>\n",
       "    .dataframe tbody tr th:only-of-type {\n",
       "        vertical-align: middle;\n",
       "    }\n",
       "\n",
       "    .dataframe tbody tr th {\n",
       "        vertical-align: top;\n",
       "    }\n",
       "\n",
       "    .dataframe thead th {\n",
       "        text-align: right;\n",
       "    }\n",
       "</style>\n",
       "<table border=\"1\" class=\"dataframe\">\n",
       "  <thead>\n",
       "    <tr style=\"text-align: right;\">\n",
       "      <th></th>\n",
       "      <th>record_id</th>\n",
       "      <th>item_topic</th>\n",
       "      <th>source_topic</th>\n",
       "      <th>age_segment</th>\n",
       "      <th>dt</th>\n",
       "      <th>visits</th>\n",
       "    </tr>\n",
       "  </thead>\n",
       "  <tbody>\n",
       "    <tr>\n",
       "      <th>0</th>\n",
       "      <td>1040597</td>\n",
       "      <td>Деньги</td>\n",
       "      <td>Авто</td>\n",
       "      <td>18-25</td>\n",
       "      <td>2019-09-24 18:32:00</td>\n",
       "      <td>3</td>\n",
       "    </tr>\n",
       "    <tr>\n",
       "      <th>1</th>\n",
       "      <td>1040598</td>\n",
       "      <td>Деньги</td>\n",
       "      <td>Авто</td>\n",
       "      <td>18-25</td>\n",
       "      <td>2019-09-24 18:35:00</td>\n",
       "      <td>1</td>\n",
       "    </tr>\n",
       "    <tr>\n",
       "      <th>2</th>\n",
       "      <td>1040599</td>\n",
       "      <td>Деньги</td>\n",
       "      <td>Авто</td>\n",
       "      <td>18-25</td>\n",
       "      <td>2019-09-24 18:54:00</td>\n",
       "      <td>4</td>\n",
       "    </tr>\n",
       "    <tr>\n",
       "      <th>3</th>\n",
       "      <td>1040600</td>\n",
       "      <td>Деньги</td>\n",
       "      <td>Авто</td>\n",
       "      <td>18-25</td>\n",
       "      <td>2019-09-24 18:55:00</td>\n",
       "      <td>17</td>\n",
       "    </tr>\n",
       "    <tr>\n",
       "      <th>4</th>\n",
       "      <td>1040601</td>\n",
       "      <td>Деньги</td>\n",
       "      <td>Авто</td>\n",
       "      <td>18-25</td>\n",
       "      <td>2019-09-24 18:56:00</td>\n",
       "      <td>27</td>\n",
       "    </tr>\n",
       "    <tr>\n",
       "      <th>...</th>\n",
       "      <td>...</td>\n",
       "      <td>...</td>\n",
       "      <td>...</td>\n",
       "      <td>...</td>\n",
       "      <td>...</td>\n",
       "      <td>...</td>\n",
       "    </tr>\n",
       "    <tr>\n",
       "      <th>30740</th>\n",
       "      <td>1071337</td>\n",
       "      <td>Юмор</td>\n",
       "      <td>Финансы</td>\n",
       "      <td>36-40</td>\n",
       "      <td>2019-09-24 18:57:00</td>\n",
       "      <td>2</td>\n",
       "    </tr>\n",
       "    <tr>\n",
       "      <th>30741</th>\n",
       "      <td>1071338</td>\n",
       "      <td>Юмор</td>\n",
       "      <td>Финансы</td>\n",
       "      <td>36-40</td>\n",
       "      <td>2019-09-24 19:00:00</td>\n",
       "      <td>1</td>\n",
       "    </tr>\n",
       "    <tr>\n",
       "      <th>30742</th>\n",
       "      <td>1071339</td>\n",
       "      <td>Юмор</td>\n",
       "      <td>Финансы</td>\n",
       "      <td>41-45</td>\n",
       "      <td>2019-09-24 18:54:00</td>\n",
       "      <td>1</td>\n",
       "    </tr>\n",
       "    <tr>\n",
       "      <th>30743</th>\n",
       "      <td>1071340</td>\n",
       "      <td>Юмор</td>\n",
       "      <td>Финансы</td>\n",
       "      <td>41-45</td>\n",
       "      <td>2019-09-24 18:56:00</td>\n",
       "      <td>1</td>\n",
       "    </tr>\n",
       "    <tr>\n",
       "      <th>30744</th>\n",
       "      <td>1071341</td>\n",
       "      <td>Юмор</td>\n",
       "      <td>Финансы</td>\n",
       "      <td>41-45</td>\n",
       "      <td>2019-09-24 19:00:00</td>\n",
       "      <td>1</td>\n",
       "    </tr>\n",
       "  </tbody>\n",
       "</table>\n",
       "<p>30745 rows × 6 columns</p>\n",
       "</div>"
      ],
      "text/plain": [
       "       record_id item_topic source_topic age_segment                  dt  \\\n",
       "0        1040597     Деньги         Авто       18-25 2019-09-24 18:32:00   \n",
       "1        1040598     Деньги         Авто       18-25 2019-09-24 18:35:00   \n",
       "2        1040599     Деньги         Авто       18-25 2019-09-24 18:54:00   \n",
       "3        1040600     Деньги         Авто       18-25 2019-09-24 18:55:00   \n",
       "4        1040601     Деньги         Авто       18-25 2019-09-24 18:56:00   \n",
       "...          ...        ...          ...         ...                 ...   \n",
       "30740    1071337       Юмор      Финансы       36-40 2019-09-24 18:57:00   \n",
       "30741    1071338       Юмор      Финансы       36-40 2019-09-24 19:00:00   \n",
       "30742    1071339       Юмор      Финансы       41-45 2019-09-24 18:54:00   \n",
       "30743    1071340       Юмор      Финансы       41-45 2019-09-24 18:56:00   \n",
       "30744    1071341       Юмор      Финансы       41-45 2019-09-24 19:00:00   \n",
       "\n",
       "       visits  \n",
       "0           3  \n",
       "1           1  \n",
       "2           4  \n",
       "3          17  \n",
       "4          27  \n",
       "...       ...  \n",
       "30740       2  \n",
       "30741       1  \n",
       "30742       1  \n",
       "30743       1  \n",
       "30744       1  \n",
       "\n",
       "[30745 rows x 6 columns]"
      ]
     },
     "execution_count": 5,
     "metadata": {},
     "output_type": "execute_result"
    }
   ],
   "source": [
    "dash_visits"
   ]
  },
  {
   "cell_type": "code",
   "execution_count": 6,
   "id": "5b648735",
   "metadata": {},
   "outputs": [
    {
     "name": "stdout",
     "output_type": "stream",
     "text": [
      "<class 'pandas.core.frame.DataFrame'>\n",
      "RangeIndex: 30745 entries, 0 to 30744\n",
      "Data columns (total 6 columns):\n",
      " #   Column        Non-Null Count  Dtype         \n",
      "---  ------        --------------  -----         \n",
      " 0   record_id     30745 non-null  int64         \n",
      " 1   item_topic    30745 non-null  object        \n",
      " 2   source_topic  30745 non-null  object        \n",
      " 3   age_segment   30745 non-null  object        \n",
      " 4   dt            30745 non-null  datetime64[ns]\n",
      " 5   visits        30745 non-null  int64         \n",
      "dtypes: datetime64[ns](1), int64(2), object(3)\n",
      "memory usage: 1.4+ MB\n"
     ]
    }
   ],
   "source": [
    "dash_visits.info ()"
   ]
  },
  {
   "cell_type": "code",
   "execution_count": 7,
   "id": "778f089f",
   "metadata": {},
   "outputs": [],
   "source": [
    "def check(data):  # функция поиска дубликатов\n",
    "    try:\n",
    "        \n",
    "        display('Проверка на дубликаты:')\n",
    "        duplicates = data.duplicated()\n",
    "        duplicate_rows = data.loc[duplicates]\n",
    "        display(duplicate_rows.info())\n",
    "        display(duplicate_rows)\n",
    "        display('----------------------')\n",
    "        display('Пропуски:')\n",
    "        display(data.isna().sum())\n",
    "        display('Пропуски в процентном отношении к всему датасету:')\n",
    "        display(data.isna().sum() / len(data) * 100)\n",
    "\n",
    "        num_rows_before = len(data)\n",
    "        data.drop_duplicates(inplace=True)\n",
    "        num_rows_after = len(data)\n",
    "        num_rows_deleted = num_rows_before - num_rows_after\n",
    "        percent_deleted = round(num_rows_deleted / num_rows_before * 100, 2)\n",
    "        display(f'Удалено дубликатов: {num_rows_deleted} строк ({percent_deleted}% от всего датасета)')\n",
    "        \n",
    "    except Exception as e:\n",
    "        print(f'ERROR: {e}')"
   ]
  },
  {
   "cell_type": "code",
   "execution_count": 8,
   "id": "17e30fa1",
   "metadata": {},
   "outputs": [
    {
     "data": {
      "text/plain": [
       "'Проверка на дубликаты:'"
      ]
     },
     "metadata": {},
     "output_type": "display_data"
    },
    {
     "name": "stdout",
     "output_type": "stream",
     "text": [
      "<class 'pandas.core.frame.DataFrame'>\n",
      "Int64Index: 0 entries\n",
      "Data columns (total 6 columns):\n",
      " #   Column        Non-Null Count  Dtype         \n",
      "---  ------        --------------  -----         \n",
      " 0   record_id     0 non-null      int64         \n",
      " 1   item_topic    0 non-null      object        \n",
      " 2   source_topic  0 non-null      object        \n",
      " 3   age_segment   0 non-null      object        \n",
      " 4   dt            0 non-null      datetime64[ns]\n",
      " 5   visits        0 non-null      int64         \n",
      "dtypes: datetime64[ns](1), int64(2), object(3)\n",
      "memory usage: 0.0+ bytes\n"
     ]
    },
    {
     "data": {
      "text/plain": [
       "None"
      ]
     },
     "metadata": {},
     "output_type": "display_data"
    },
    {
     "data": {
      "text/html": [
       "<div>\n",
       "<style scoped>\n",
       "    .dataframe tbody tr th:only-of-type {\n",
       "        vertical-align: middle;\n",
       "    }\n",
       "\n",
       "    .dataframe tbody tr th {\n",
       "        vertical-align: top;\n",
       "    }\n",
       "\n",
       "    .dataframe thead th {\n",
       "        text-align: right;\n",
       "    }\n",
       "</style>\n",
       "<table border=\"1\" class=\"dataframe\">\n",
       "  <thead>\n",
       "    <tr style=\"text-align: right;\">\n",
       "      <th></th>\n",
       "      <th>record_id</th>\n",
       "      <th>item_topic</th>\n",
       "      <th>source_topic</th>\n",
       "      <th>age_segment</th>\n",
       "      <th>dt</th>\n",
       "      <th>visits</th>\n",
       "    </tr>\n",
       "  </thead>\n",
       "  <tbody>\n",
       "  </tbody>\n",
       "</table>\n",
       "</div>"
      ],
      "text/plain": [
       "Empty DataFrame\n",
       "Columns: [record_id, item_topic, source_topic, age_segment, dt, visits]\n",
       "Index: []"
      ]
     },
     "metadata": {},
     "output_type": "display_data"
    },
    {
     "data": {
      "text/plain": [
       "'----------------------'"
      ]
     },
     "metadata": {},
     "output_type": "display_data"
    },
    {
     "data": {
      "text/plain": [
       "'Пропуски:'"
      ]
     },
     "metadata": {},
     "output_type": "display_data"
    },
    {
     "data": {
      "text/plain": [
       "record_id       0\n",
       "item_topic      0\n",
       "source_topic    0\n",
       "age_segment     0\n",
       "dt              0\n",
       "visits          0\n",
       "dtype: int64"
      ]
     },
     "metadata": {},
     "output_type": "display_data"
    },
    {
     "data": {
      "text/plain": [
       "'Пропуски в процентном отношении к всему датасету:'"
      ]
     },
     "metadata": {},
     "output_type": "display_data"
    },
    {
     "data": {
      "text/plain": [
       "record_id       0.0\n",
       "item_topic      0.0\n",
       "source_topic    0.0\n",
       "age_segment     0.0\n",
       "dt              0.0\n",
       "visits          0.0\n",
       "dtype: float64"
      ]
     },
     "metadata": {},
     "output_type": "display_data"
    },
    {
     "data": {
      "text/plain": [
       "'Удалено дубликатов: 0 строк (0.0% от всего датасета)'"
      ]
     },
     "metadata": {},
     "output_type": "display_data"
    }
   ],
   "source": [
    "check (dash_visits)\n",
    "# очевидных дубликатов нет "
   ]
  },
  {
   "cell_type": "code",
   "execution_count": 9,
   "id": "90fd9efc",
   "metadata": {},
   "outputs": [],
   "source": [
    "def check_unique(data):  # проверка на уникальность и оценка данных в датасете\n",
    "    for col in data.select_dtypes(include=['object']):\n",
    "        print(f\"Уникальные значения в столбце {col}:\")\n",
    "        print(data[col].unique())\n",
    "        print('---------------------')\n",
    "\n",
    "    for col in data.select_dtypes(include=['datetime64']):\n",
    "        print(f\"Диапазон значений в столбце {col}:\")\n",
    "        print(f\"Минимальное значение: {data[col].min()}\")\n",
    "        print(f\"Максимальное значение: {data[col].max()}\")\n",
    "        print('---------------------')\n",
    "\n",
    "    for col in data.select_dtypes(include=['int64', 'float64']):\n",
    "        if len(data[col].unique()) > 10:\n",
    "            print(f\"В столбце {col} более 10 уникальных значений\")\n",
    "        else:\n",
    "            print(f\"Уникальные значения в столбце {col}:\")\n",
    "            print(data[col].unique())\n",
    "        print('---------------------')"
   ]
  },
  {
   "cell_type": "code",
   "execution_count": 10,
   "id": "5d80d1d6",
   "metadata": {},
   "outputs": [
    {
     "name": "stdout",
     "output_type": "stream",
     "text": [
      "Уникальные значения в столбце item_topic:\n",
      "['Деньги' 'Дети' 'Женская психология' 'Женщины' 'Здоровье' 'Знаменитости'\n",
      " 'Интересные факты' 'Искусство' 'История' 'Красота' 'Культура' 'Наука'\n",
      " 'Общество' 'Отношения' 'Подборки' 'Полезные советы' 'Психология'\n",
      " 'Путешествия' 'Рассказы' 'Россия' 'Семья' 'Скандалы' 'Туризм' 'Шоу'\n",
      " 'Юмор']\n",
      "---------------------\n",
      "Уникальные значения в столбце source_topic:\n",
      "['Авто' 'Деньги' 'Дети' 'Еда' 'Здоровье' 'Знаменитости' 'Интерьеры'\n",
      " 'Искусство' 'История' 'Кино' 'Музыка' 'Одежда' 'Полезные советы'\n",
      " 'Политика' 'Психология' 'Путешествия' 'Ремонт' 'Россия' 'Сад и дача'\n",
      " 'Сделай сам' 'Семейные отношения' 'Семья' 'Спорт' 'Строительство'\n",
      " 'Технологии' 'Финансы']\n",
      "---------------------\n",
      "Уникальные значения в столбце age_segment:\n",
      "['18-25' '26-30' '31-35' '36-40' '41-45' '45+']\n",
      "---------------------\n",
      "Диапазон значений в столбце dt:\n",
      "Минимальное значение: 2019-09-24 18:28:00\n",
      "Максимальное значение: 2019-09-24 19:00:00\n",
      "---------------------\n",
      "В столбце record_id более 10 уникальных значений\n",
      "---------------------\n",
      "В столбце visits более 10 уникальных значений\n",
      "---------------------\n"
     ]
    }
   ],
   "source": [
    "check_unique (dash_visits)"
   ]
  },
  {
   "cell_type": "code",
   "execution_count": 11,
   "id": "8f9c51f0",
   "metadata": {},
   "outputs": [
    {
     "data": {
      "text/plain": [
       "25"
      ]
     },
     "execution_count": 11,
     "metadata": {},
     "output_type": "execute_result"
    }
   ],
   "source": [
    "dash_visits ['item_topic'].nunique()"
   ]
  },
  {
   "cell_type": "code",
   "execution_count": 13,
   "id": "414ca964",
   "metadata": {},
   "outputs": [
    {
     "data": {
      "text/plain": [
       "26"
      ]
     },
     "execution_count": 13,
     "metadata": {},
     "output_type": "execute_result"
    }
   ],
   "source": [
    "dash_visits ['source_topic'].nunique()"
   ]
  },
  {
   "cell_type": "markdown",
   "id": "40fa9c29",
   "metadata": {},
   "source": [
    "# Выгрузка в CSV\n",
    "Выгрузим файл в csv для использования в Tableau"
   ]
  },
  {
   "cell_type": "code",
   "execution_count": 12,
   "id": "8a30a78d",
   "metadata": {},
   "outputs": [],
   "source": [
    "dash_visits.to_csv('visits_data.csv', index=False)"
   ]
  }
 ],
 "metadata": {
  "kernelspec": {
   "display_name": "Python 3 (ipykernel)",
   "language": "python",
   "name": "python3"
  },
  "language_info": {
   "codemirror_mode": {
    "name": "ipython",
    "version": 3
   },
   "file_extension": ".py",
   "mimetype": "text/x-python",
   "name": "python",
   "nbconvert_exporter": "python",
   "pygments_lexer": "ipython3",
   "version": "3.9.13"
  },
  "toc": {
   "base_numbering": 1,
   "nav_menu": {},
   "number_sections": true,
   "sideBar": true,
   "skip_h1_title": false,
   "title_cell": "Table of Contents",
   "title_sidebar": "Contents",
   "toc_cell": true,
   "toc_position": {},
   "toc_section_display": true,
   "toc_window_display": true
  }
 },
 "nbformat": 4,
 "nbformat_minor": 5
}
