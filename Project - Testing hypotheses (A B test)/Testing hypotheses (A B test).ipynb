{
 "cells": [
  {
   "cell_type": "markdown",
   "id": "8dc975f1",
   "metadata": {},
   "source": [
    "# Описание проекта (вводная часть)\n",
    "Контекст\n",
    "Вы — аналитик крупного интернет-магазина. Вместе с отделом маркетинга вы подготовили список гипотез для увеличения выручки.\n",
    "Приоритизируйте гипотезы, запустите A/B-тест и проанализируйте результаты. "
   ]
  },
  {
   "cell_type": "markdown",
   "id": "99baf164",
   "metadata": {},
   "source": [
    "## Этап 1. Приоритизация гипотез.\n",
    "\n",
    "\n",
    "В файле /datasets/hypothesis.csv 9 гипотез по увеличению выручки интернет-магазина с указанными параметрами Reach, Impact, Confidence, Effort.\n",
    "\n",
    "### Задачи на 1 Этап\n",
    "    Применить фреймворк ICE для приоритизации гипотез. Отсортировать их по убыванию приоритета.\n",
    "    Применить фреймворк RICE для приоритизации гипотез. Отсортировать их по убыванию приоритета.\n",
    "    Указать, как изменилась приоритизация гипотез при применении RICE вместо ICE. Объяснить, почему так произошло.\n"
   ]
  },
  {
   "cell_type": "markdown",
   "id": "2f9a0abf",
   "metadata": {},
   "source": [
    "## Этап 2. Анализ A/B-теста\n",
    "Вы провели A/B-тест и получили результаты, которые описаны в файлах /datasets/orders.csv и /datasets/visitors.csv.\n"
   ]
  },
  {
   "cell_type": "markdown",
   "id": "8871a73a",
   "metadata": {},
   "source": [
    "### Задачи на 2 Этап\n",
    "\n",
    "\n",
    "Проанализировать A/B-тест:\n",
    "\n",
    "    - Построить график кумулятивной выручки по группам. Сделать выводы и предположения.\n",
    "    - Построить график кумулятивного среднего чека по группам. Сделать выводы и предположения.\n",
    "    - Построить график относительного изменения кумулятивного среднего чека группы B к группе A. Сделать выводы и предположения.\n",
    "    - Построить график кумулятивного среднего количества заказов на посетителя по группам. Сделать выводы и предположения.\n",
    "    - Построить график относительного изменения кумулятивного среднего количества заказов на посетителя группы B к группе A. Сделать выводы и предположения.\n",
    "    - Построить точечный график количества заказов по пользователям. Сделать выводы и предположения.\n",
    "    - Посчитать 95-й и 99-й перцентили количества заказов на пользователя. Выбрать границу для определения аномальных пользователей.\n",
    "    - Построить точечный график стоимостей заказов. Сделать выводы и предположения.\n",
    "    - Посчитать 95-й и 99-й перцентили стоимости заказов. Выберать границу для определения аномальных заказов. \n",
    "    - Посчитать статистическую значимость различий в среднем количестве заказов на посетителя между группами по «сырым» данным. Сделать выводы и предположения.\n",
    "    - Посчитать статистическую значимость различий в среднем чеке заказа между группами по «сырым» данным. Сделать выводы и предположения.\n",
    "    - Посчитать статистическую значимость различий в среднем количестве заказов на посетителя между группами по «очищенным» данным. Сделать выводы и предположения.\n",
    "    - Посчитать статистическую значимость различий в среднем чеке заказа между группами по «очищенным» данным. Сделать выводы и предположения.\n",
    "    \n",
    "    \n",
    "По итогам анализа принять решение по результатам теста и объяснить его. Варианты решений:\n",
    "\n",
    "1. Остановить тест, зафиксировать победу одной из групп.\n",
    "2. Остановить тест, зафиксировать отсутствие различий между группами.\n",
    "3. Продолжить тест."
   ]
  },
  {
   "cell_type": "markdown",
   "id": "12caca13",
   "metadata": {},
   "source": [
    "**Общий план**"
   ]
  },
  {
   "cell_type": "markdown",
   "id": "75e60cf6",
   "metadata": {},
   "source": [
    "Перед выполнением любой из задач, в первую очередь необходимо подготовить набор библиотек, познакомится с данными.\n",
    "\n",
    "Сам процесс исследования будет проведен в следующем порядке (основные этапы):\n",
    "\n",
    "    - загрузка библиотек и знакомство с данными\n",
    "    - предобработка данных\n",
    "    - формирование временных таблиц, включая новые сводные (если потребуется)\n",
    "    - проведение 1 Этапа - приоретизация гипотез ( с использованием фреймворков ICE и RICE)\n",
    "    - проведение 2 Этапа (Анализ А/В тестов)\n",
    "    - Общие выводы по результатам\n",
    "\n",
    "*Итоговая цель анализа* - оценка результатов текущего этапа тестирования, отработка гипотез, сформированных с отделом маркетинга, определение целесообразности проведения дальнейшего тестирования."
   ]
  },
  {
   "cell_type": "markdown",
   "id": "ea60a717",
   "metadata": {},
   "source": [
    "# Подготовка, знакомство и предобработка "
   ]
  },
  {
   "cell_type": "code",
   "execution_count": 1,
   "id": "1b9e570c",
   "metadata": {},
   "outputs": [
    {
     "name": "stdout",
     "output_type": "stream",
     "text": [
      "Collecting tabulate\n",
      "  Downloading tabulate-0.9.0-py3-none-any.whl (35 kB)\n",
      "Installing collected packages: tabulate\n",
      "Successfully installed tabulate-0.9.0\n"
     ]
    }
   ],
   "source": [
    "import pandas as pd\n",
    "import numpy as np\n",
    "from datetime import datetime, timedelta\n",
    "import matplotlib.pyplot as plt\n",
    "plt.rcParams[\"font.family\"] = \"Arial\"\n",
    "from matplotlib.dates import DateFormatter\n",
    "from matplotlib import colors\n",
    "import seaborn as sns\n",
    "!pip install tabulate\n",
    "from tabulate import tabulate\n",
    "from scipy import stats as st"
   ]
  },
  {
   "cell_type": "code",
   "execution_count": 2,
   "id": "8d471668",
   "metadata": {},
   "outputs": [],
   "source": [
    "try:\n",
    "    hypothesis = pd.read_csv (r'C:\\Users\\PC_Maks\\Desktop\\study\\S 13 (11) business solutions\\Project\\hypothesis.csv')\n",
    "    orders = pd.read_csv (r'C:\\Users\\PC_Maks\\Desktop\\study\\S 13 (11) business solutions\\Project\\orders.csv',\\\n",
    "                         parse_dates=[\"date\"])\n",
    "    visitors = pd.read_csv (r'C:\\Users\\PC_Maks\\Desktop\\study\\S 13 (11) business solutions\\Project\\visitors.csv',\\\n",
    "                           parse_dates=[\"date\"])\n",
    "except:\n",
    "    hypothesis = pd.read_csv ('/datasets/hypothesis.csv')\n",
    "    orders = pd.read_csv ('/datasets/orders.csv', parse_dates=[\"date\"])\n",
    "    visitors = pd.read_csv ('/datasets/visitors.csv', parse_dates=[\"date\"])\n",
    "    \n",
    "pd.set_option('display.max_columns', 100)\n",
    "pd.set_option('display.max_rows', 100)\n",
    "pd.set_option('display.max_colwidth', 1000)"
   ]
  },
  {
   "cell_type": "markdown",
   "id": "c82ac113",
   "metadata": {},
   "source": [
    "## Знакомство с данными"
   ]
  },
  {
   "cell_type": "code",
   "execution_count": 3,
   "id": "610a68a5",
   "metadata": {
    "scrolled": true
   },
   "outputs": [
    {
     "data": {
      "text/plain": [
       "(9, 5)"
      ]
     },
     "metadata": {},
     "output_type": "display_data"
    },
    {
     "data": {
      "text/html": [
       "<div>\n",
       "<style scoped>\n",
       "    .dataframe tbody tr th:only-of-type {\n",
       "        vertical-align: middle;\n",
       "    }\n",
       "\n",
       "    .dataframe tbody tr th {\n",
       "        vertical-align: top;\n",
       "    }\n",
       "\n",
       "    .dataframe thead th {\n",
       "        text-align: right;\n",
       "    }\n",
       "</style>\n",
       "<table border=\"1\" class=\"dataframe\">\n",
       "  <thead>\n",
       "    <tr style=\"text-align: right;\">\n",
       "      <th></th>\n",
       "      <th>Hypothesis</th>\n",
       "      <th>Reach</th>\n",
       "      <th>Impact</th>\n",
       "      <th>Confidence</th>\n",
       "      <th>Efforts</th>\n",
       "    </tr>\n",
       "  </thead>\n",
       "  <tbody>\n",
       "    <tr>\n",
       "      <th>0</th>\n",
       "      <td>Добавить два новых канала привлечения трафика, что позволит привлекать на 30% больше пользователей</td>\n",
       "      <td>3</td>\n",
       "      <td>10</td>\n",
       "      <td>8</td>\n",
       "      <td>6</td>\n",
       "    </tr>\n",
       "    <tr>\n",
       "      <th>1</th>\n",
       "      <td>Запустить собственную службу доставки, что сократит срок доставки заказов</td>\n",
       "      <td>2</td>\n",
       "      <td>5</td>\n",
       "      <td>4</td>\n",
       "      <td>10</td>\n",
       "    </tr>\n",
       "    <tr>\n",
       "      <th>2</th>\n",
       "      <td>Добавить блоки рекомендаций товаров на сайт интернет магазина, чтобы повысить конверсию и средний чек заказа</td>\n",
       "      <td>8</td>\n",
       "      <td>3</td>\n",
       "      <td>7</td>\n",
       "      <td>3</td>\n",
       "    </tr>\n",
       "    <tr>\n",
       "      <th>3</th>\n",
       "      <td>Изменить структура категорий, что увеличит конверсию, т.к. пользователи быстрее найдут нужный товар</td>\n",
       "      <td>8</td>\n",
       "      <td>3</td>\n",
       "      <td>3</td>\n",
       "      <td>8</td>\n",
       "    </tr>\n",
       "    <tr>\n",
       "      <th>4</th>\n",
       "      <td>Изменить цвет фона главной страницы, чтобы увеличить вовлеченность пользователей</td>\n",
       "      <td>3</td>\n",
       "      <td>1</td>\n",
       "      <td>1</td>\n",
       "      <td>1</td>\n",
       "    </tr>\n",
       "  </tbody>\n",
       "</table>\n",
       "</div>"
      ],
      "text/plain": [
       "                                                                                                     Hypothesis  \\\n",
       "0            Добавить два новых канала привлечения трафика, что позволит привлекать на 30% больше пользователей   \n",
       "1                                     Запустить собственную службу доставки, что сократит срок доставки заказов   \n",
       "2  Добавить блоки рекомендаций товаров на сайт интернет магазина, чтобы повысить конверсию и средний чек заказа   \n",
       "3           Изменить структура категорий, что увеличит конверсию, т.к. пользователи быстрее найдут нужный товар   \n",
       "4                              Изменить цвет фона главной страницы, чтобы увеличить вовлеченность пользователей   \n",
       "\n",
       "   Reach  Impact  Confidence  Efforts  \n",
       "0      3      10           8        6  \n",
       "1      2       5           4       10  \n",
       "2      8       3           7        3  \n",
       "3      8       3           3        8  \n",
       "4      3       1           1        1  "
      ]
     },
     "metadata": {},
     "output_type": "display_data"
    },
    {
     "name": "stdout",
     "output_type": "stream",
     "text": [
      "<class 'pandas.core.frame.DataFrame'>\n",
      "RangeIndex: 9 entries, 0 to 8\n",
      "Data columns (total 5 columns):\n",
      " #   Column      Non-Null Count  Dtype \n",
      "---  ------      --------------  ----- \n",
      " 0   Hypothesis  9 non-null      object\n",
      " 1   Reach       9 non-null      int64 \n",
      " 2   Impact      9 non-null      int64 \n",
      " 3   Confidence  9 non-null      int64 \n",
      " 4   Efforts     9 non-null      int64 \n",
      "dtypes: int64(4), object(1)\n",
      "memory usage: 488.0+ bytes\n"
     ]
    },
    {
     "data": {
      "text/plain": [
       "None"
      ]
     },
     "metadata": {},
     "output_type": "display_data"
    }
   ],
   "source": [
    "display (hypothesis.shape)\n",
    "display (hypothesis.head ())\n",
    "display (hypothesis.info ())\n"
   ]
  },
  {
   "cell_type": "code",
   "execution_count": 4,
   "id": "f8150fc8",
   "metadata": {},
   "outputs": [
    {
     "name": "stdout",
     "output_type": "stream",
     "text": [
      "Максимальное значение в столбце 'Reach': 10\n",
      "Минимальное значение в столбце 'Reach': 1\n",
      "\n",
      "Максимальное значение в столбце 'Impact': 10\n",
      "Минимальное значение в столбце 'Impact': 1\n",
      "\n",
      "Максимальное значение в столбце 'Confidence': 9\n",
      "Минимальное значение в столбце 'Confidence': 1\n",
      "\n",
      "Максимальное значение в столбце 'Efforts': 10\n",
      "Минимальное значение в столбце 'Efforts': 1\n",
      "\n"
     ]
    }
   ],
   "source": [
    "num_columns = len(hypothesis.columns)\n",
    "for i in range(1, num_columns):\n",
    "    col_name = hypothesis.columns[i]\n",
    "    print(f\"Максимальное значение в столбце '{col_name}': {hypothesis[col_name].max()}\")\n",
    "    print(f\"Минимальное значение в столбце '{col_name}': {hypothesis[col_name].min()}\")\n",
    "    print ()\n"
   ]
  },
  {
   "cell_type": "code",
   "execution_count": 5,
   "id": "d3dbd4d7",
   "metadata": {},
   "outputs": [
    {
     "data": {
      "text/plain": [
       "(1197, 5)"
      ]
     },
     "metadata": {},
     "output_type": "display_data"
    },
    {
     "data": {
      "text/html": [
       "<div>\n",
       "<style scoped>\n",
       "    .dataframe tbody tr th:only-of-type {\n",
       "        vertical-align: middle;\n",
       "    }\n",
       "\n",
       "    .dataframe tbody tr th {\n",
       "        vertical-align: top;\n",
       "    }\n",
       "\n",
       "    .dataframe thead th {\n",
       "        text-align: right;\n",
       "    }\n",
       "</style>\n",
       "<table border=\"1\" class=\"dataframe\">\n",
       "  <thead>\n",
       "    <tr style=\"text-align: right;\">\n",
       "      <th></th>\n",
       "      <th>transactionId</th>\n",
       "      <th>visitorId</th>\n",
       "      <th>date</th>\n",
       "      <th>revenue</th>\n",
       "      <th>group</th>\n",
       "    </tr>\n",
       "  </thead>\n",
       "  <tbody>\n",
       "    <tr>\n",
       "      <th>0</th>\n",
       "      <td>3667963787</td>\n",
       "      <td>3312258926</td>\n",
       "      <td>2019-08-15</td>\n",
       "      <td>1650</td>\n",
       "      <td>B</td>\n",
       "    </tr>\n",
       "    <tr>\n",
       "      <th>1</th>\n",
       "      <td>2804400009</td>\n",
       "      <td>3642806036</td>\n",
       "      <td>2019-08-15</td>\n",
       "      <td>730</td>\n",
       "      <td>B</td>\n",
       "    </tr>\n",
       "    <tr>\n",
       "      <th>2</th>\n",
       "      <td>2961555356</td>\n",
       "      <td>4069496402</td>\n",
       "      <td>2019-08-15</td>\n",
       "      <td>400</td>\n",
       "      <td>A</td>\n",
       "    </tr>\n",
       "    <tr>\n",
       "      <th>3</th>\n",
       "      <td>3797467345</td>\n",
       "      <td>1196621759</td>\n",
       "      <td>2019-08-15</td>\n",
       "      <td>9759</td>\n",
       "      <td>B</td>\n",
       "    </tr>\n",
       "    <tr>\n",
       "      <th>4</th>\n",
       "      <td>2282983706</td>\n",
       "      <td>2322279887</td>\n",
       "      <td>2019-08-15</td>\n",
       "      <td>2308</td>\n",
       "      <td>B</td>\n",
       "    </tr>\n",
       "  </tbody>\n",
       "</table>\n",
       "</div>"
      ],
      "text/plain": [
       "   transactionId   visitorId       date  revenue group\n",
       "0     3667963787  3312258926 2019-08-15     1650     B\n",
       "1     2804400009  3642806036 2019-08-15      730     B\n",
       "2     2961555356  4069496402 2019-08-15      400     A\n",
       "3     3797467345  1196621759 2019-08-15     9759     B\n",
       "4     2282983706  2322279887 2019-08-15     2308     B"
      ]
     },
     "metadata": {},
     "output_type": "display_data"
    },
    {
     "name": "stdout",
     "output_type": "stream",
     "text": [
      "<class 'pandas.core.frame.DataFrame'>\n",
      "RangeIndex: 1197 entries, 0 to 1196\n",
      "Data columns (total 5 columns):\n",
      " #   Column         Non-Null Count  Dtype         \n",
      "---  ------         --------------  -----         \n",
      " 0   transactionId  1197 non-null   int64         \n",
      " 1   visitorId      1197 non-null   int64         \n",
      " 2   date           1197 non-null   datetime64[ns]\n",
      " 3   revenue        1197 non-null   int64         \n",
      " 4   group          1197 non-null   object        \n",
      "dtypes: datetime64[ns](1), int64(3), object(1)\n",
      "memory usage: 46.9+ KB\n"
     ]
    },
    {
     "data": {
      "text/plain": [
       "None"
      ]
     },
     "metadata": {},
     "output_type": "display_data"
    }
   ],
   "source": [
    "display (orders.shape)\n",
    "display (orders.head ())\n",
    "display (orders.info ())"
   ]
  },
  {
   "cell_type": "code",
   "execution_count": 6,
   "id": "3e04e19c",
   "metadata": {},
   "outputs": [
    {
     "data": {
      "text/plain": [
       "Timestamp('2019-08-31 00:00:00')"
      ]
     },
     "metadata": {},
     "output_type": "display_data"
    },
    {
     "data": {
      "text/plain": [
       "Timestamp('2019-08-01 00:00:00')"
      ]
     },
     "metadata": {},
     "output_type": "display_data"
    }
   ],
   "source": [
    "display (orders['date'].max ())\n",
    "display (orders['date'].min ())"
   ]
  },
  {
   "cell_type": "code",
   "execution_count": 7,
   "id": "3dc48b7c",
   "metadata": {
    "scrolled": false
   },
   "outputs": [
    {
     "data": {
      "text/plain": [
       "(62, 3)"
      ]
     },
     "metadata": {},
     "output_type": "display_data"
    },
    {
     "data": {
      "text/html": [
       "<div>\n",
       "<style scoped>\n",
       "    .dataframe tbody tr th:only-of-type {\n",
       "        vertical-align: middle;\n",
       "    }\n",
       "\n",
       "    .dataframe tbody tr th {\n",
       "        vertical-align: top;\n",
       "    }\n",
       "\n",
       "    .dataframe thead th {\n",
       "        text-align: right;\n",
       "    }\n",
       "</style>\n",
       "<table border=\"1\" class=\"dataframe\">\n",
       "  <thead>\n",
       "    <tr style=\"text-align: right;\">\n",
       "      <th></th>\n",
       "      <th>date</th>\n",
       "      <th>group</th>\n",
       "      <th>visitors</th>\n",
       "    </tr>\n",
       "  </thead>\n",
       "  <tbody>\n",
       "    <tr>\n",
       "      <th>0</th>\n",
       "      <td>2019-08-01</td>\n",
       "      <td>A</td>\n",
       "      <td>719</td>\n",
       "    </tr>\n",
       "    <tr>\n",
       "      <th>1</th>\n",
       "      <td>2019-08-02</td>\n",
       "      <td>A</td>\n",
       "      <td>619</td>\n",
       "    </tr>\n",
       "    <tr>\n",
       "      <th>2</th>\n",
       "      <td>2019-08-03</td>\n",
       "      <td>A</td>\n",
       "      <td>507</td>\n",
       "    </tr>\n",
       "    <tr>\n",
       "      <th>3</th>\n",
       "      <td>2019-08-04</td>\n",
       "      <td>A</td>\n",
       "      <td>717</td>\n",
       "    </tr>\n",
       "    <tr>\n",
       "      <th>4</th>\n",
       "      <td>2019-08-05</td>\n",
       "      <td>A</td>\n",
       "      <td>756</td>\n",
       "    </tr>\n",
       "  </tbody>\n",
       "</table>\n",
       "</div>"
      ],
      "text/plain": [
       "        date group  visitors\n",
       "0 2019-08-01     A       719\n",
       "1 2019-08-02     A       619\n",
       "2 2019-08-03     A       507\n",
       "3 2019-08-04     A       717\n",
       "4 2019-08-05     A       756"
      ]
     },
     "metadata": {},
     "output_type": "display_data"
    },
    {
     "name": "stdout",
     "output_type": "stream",
     "text": [
      "<class 'pandas.core.frame.DataFrame'>\n",
      "RangeIndex: 62 entries, 0 to 61\n",
      "Data columns (total 3 columns):\n",
      " #   Column    Non-Null Count  Dtype         \n",
      "---  ------    --------------  -----         \n",
      " 0   date      62 non-null     datetime64[ns]\n",
      " 1   group     62 non-null     object        \n",
      " 2   visitors  62 non-null     int64         \n",
      "dtypes: datetime64[ns](1), int64(1), object(1)\n",
      "memory usage: 1.6+ KB\n"
     ]
    },
    {
     "data": {
      "text/plain": [
       "None"
      ]
     },
     "metadata": {},
     "output_type": "display_data"
    }
   ],
   "source": [
    "display (visitors.shape)\n",
    "display (visitors.head ())\n",
    "display (visitors.info ())"
   ]
  },
  {
   "cell_type": "code",
   "execution_count": 8,
   "id": "20c2ac8f",
   "metadata": {
    "scrolled": false
   },
   "outputs": [
    {
     "data": {
      "text/plain": [
       "Timestamp('2019-08-31 00:00:00')"
      ]
     },
     "metadata": {},
     "output_type": "display_data"
    },
    {
     "data": {
      "text/plain": [
       "Timestamp('2019-08-01 00:00:00')"
      ]
     },
     "metadata": {},
     "output_type": "display_data"
    }
   ],
   "source": [
    "display (visitors['date'].max ())\n",
    "display (visitors['date'].min ())"
   ]
  },
  {
   "cell_type": "code",
   "execution_count": 9,
   "id": "a9a97389",
   "metadata": {},
   "outputs": [
    {
     "data": {
      "text/plain": [
       "array(['B', 'A'], dtype=object)"
      ]
     },
     "metadata": {},
     "output_type": "display_data"
    },
    {
     "data": {
      "text/plain": [
       "array(['A', 'B'], dtype=object)"
      ]
     },
     "metadata": {},
     "output_type": "display_data"
    }
   ],
   "source": [
    "display (orders ['group'].unique ())\n",
    "display (visitors ['group'].unique ())"
   ]
  },
  {
   "cell_type": "markdown",
   "id": "63bdc040",
   "metadata": {},
   "source": [
    "По результатам первичного знакомства с данными, предварительно, данные без пропусков, безотлагательных корректировок не требуют. формат даты мы заменили на этапе загрузки таблиц, дополнительная корректировка пока не требуется.\n",
    "\n",
    "Даты корректны, период с 1 по 31 августа 2019 года.\n",
    "В группах только 2 значения.\n"
   ]
  },
  {
   "cell_type": "markdown",
   "id": "8a892fb8",
   "metadata": {},
   "source": [
    "## Отработка пропусков, дубликатов"
   ]
  },
  {
   "cell_type": "markdown",
   "id": "919791d8",
   "metadata": {},
   "source": [
    "стоит проверить на явные дубликаты и итог на пропуски"
   ]
  },
  {
   "cell_type": "code",
   "execution_count": 10,
   "id": "1b0b80a2",
   "metadata": {},
   "outputs": [
    {
     "name": "stdout",
     "output_type": "stream",
     "text": [
      " Явные дублика во всех строках и столбцах 0\n",
      "\n",
      "<class 'pandas.core.frame.DataFrame'>\n",
      "Int64Index: 0 entries\n",
      "Data columns (total 5 columns):\n",
      " #   Column         Non-Null Count  Dtype         \n",
      "---  ------         --------------  -----         \n",
      " 0   transactionId  0 non-null      int64         \n",
      " 1   visitorId      0 non-null      int64         \n",
      " 2   date           0 non-null      datetime64[ns]\n",
      " 3   revenue        0 non-null      int64         \n",
      " 4   group          0 non-null      object        \n",
      "dtypes: datetime64[ns](1), int64(3), object(1)\n",
      "memory usage: 0.0+ bytes\n",
      "None\n",
      "Empty DataFrame\n",
      "Columns: [transactionId, visitorId, date, revenue, group]\n",
      "Index: []\n"
     ]
    }
   ],
   "source": [
    "print (f' Явные дублика во всех строках и столбцах {orders.duplicated ().sum ()}')\n",
    "print ()\n",
    "duplicates = orders.duplicated()\n",
    "duplicate_rows = orders.loc[duplicates]\n",
    "print(duplicate_rows.info())\n",
    "print(duplicate_rows)"
   ]
  },
  {
   "cell_type": "code",
   "execution_count": 11,
   "id": "f887b670",
   "metadata": {},
   "outputs": [
    {
     "name": "stdout",
     "output_type": "stream",
     "text": [
      " Явные дублика во всех строках и столбцах 0\n",
      "\n",
      "<class 'pandas.core.frame.DataFrame'>\n",
      "Int64Index: 0 entries\n",
      "Data columns (total 3 columns):\n",
      " #   Column    Non-Null Count  Dtype         \n",
      "---  ------    --------------  -----         \n",
      " 0   date      0 non-null      datetime64[ns]\n",
      " 1   group     0 non-null      object        \n",
      " 2   visitors  0 non-null      int64         \n",
      "dtypes: datetime64[ns](1), int64(1), object(1)\n",
      "memory usage: 0.0+ bytes\n",
      "None\n",
      "Empty DataFrame\n",
      "Columns: [date, group, visitors]\n",
      "Index: []\n"
     ]
    }
   ],
   "source": [
    "print (f' Явные дублика во всех строках и столбцах {visitors.duplicated ().sum ()}')\n",
    "print ()\n",
    "duplicates = visitors.duplicated()\n",
    "duplicate_rows = visitors.loc[duplicates]\n",
    "print(duplicate_rows.info())\n",
    "print(duplicate_rows)"
   ]
  },
  {
   "cell_type": "code",
   "execution_count": 12,
   "id": "c11969be",
   "metadata": {},
   "outputs": [
    {
     "data": {
      "text/plain": [
       "Hypothesis    0\n",
       "Reach         0\n",
       "Impact        0\n",
       "Confidence    0\n",
       "Efforts       0\n",
       "dtype: int64"
      ]
     },
     "metadata": {},
     "output_type": "display_data"
    },
    {
     "data": {
      "text/plain": [
       "transactionId    0\n",
       "visitorId        0\n",
       "date             0\n",
       "revenue          0\n",
       "group            0\n",
       "dtype: int64"
      ]
     },
     "metadata": {},
     "output_type": "display_data"
    },
    {
     "data": {
      "text/plain": [
       "date        0\n",
       "group       0\n",
       "visitors    0\n",
       "dtype: int64"
      ]
     },
     "metadata": {},
     "output_type": "display_data"
    }
   ],
   "source": [
    "display (hypothesis.isna ().sum ())\n",
    "display (orders.isna ().sum ())\n",
    "display (visitors.isna ().sum ())"
   ]
  },
  {
   "cell_type": "code",
   "execution_count": 15,
   "id": "282888a3",
   "metadata": {},
   "outputs": [
    {
     "data": {
      "text/plain": [
       "58"
      ]
     },
     "execution_count": 15,
     "metadata": {},
     "output_type": "execute_result"
    }
   ],
   "source": [
    "orders_a = orders.query ('group==\"A\"')\n",
    "orders_b = orders.query ('group==\"B\"')\n",
    "duples = orders_a.merge (orders_b, on='visitorId')\n",
    "duples ['visitorId'].value_counts ().count ()"
   ]
  },
  {
   "cell_type": "code",
   "execution_count": 16,
   "id": "d6d4de65",
   "metadata": {},
   "outputs": [
    {
     "data": {
      "text/html": [
       "<div>\n",
       "<style scoped>\n",
       "    .dataframe tbody tr th:only-of-type {\n",
       "        vertical-align: middle;\n",
       "    }\n",
       "\n",
       "    .dataframe tbody tr th {\n",
       "        vertical-align: top;\n",
       "    }\n",
       "\n",
       "    .dataframe thead th {\n",
       "        text-align: right;\n",
       "    }\n",
       "</style>\n",
       "<table border=\"1\" class=\"dataframe\">\n",
       "  <thead>\n",
       "    <tr style=\"text-align: right;\">\n",
       "      <th></th>\n",
       "      <th>transactionId</th>\n",
       "      <th>visitorId</th>\n",
       "      <th>date</th>\n",
       "      <th>revenue</th>\n",
       "      <th>group</th>\n",
       "    </tr>\n",
       "  </thead>\n",
       "  <tbody>\n",
       "    <tr>\n",
       "      <th>33</th>\n",
       "      <td>486237576</td>\n",
       "      <td>2378935119</td>\n",
       "      <td>2019-08-15</td>\n",
       "      <td>1650</td>\n",
       "      <td>A</td>\n",
       "    </tr>\n",
       "    <tr>\n",
       "      <th>118</th>\n",
       "      <td>4233533907</td>\n",
       "      <td>2378935119</td>\n",
       "      <td>2019-08-22</td>\n",
       "      <td>3390</td>\n",
       "      <td>A</td>\n",
       "    </tr>\n",
       "    <tr>\n",
       "      <th>179</th>\n",
       "      <td>1784270968</td>\n",
       "      <td>2378935119</td>\n",
       "      <td>2019-08-17</td>\n",
       "      <td>310</td>\n",
       "      <td>A</td>\n",
       "    </tr>\n",
       "    <tr>\n",
       "      <th>391</th>\n",
       "      <td>2213813903</td>\n",
       "      <td>2378935119</td>\n",
       "      <td>2019-08-25</td>\n",
       "      <td>21220</td>\n",
       "      <td>B</td>\n",
       "    </tr>\n",
       "    <tr>\n",
       "      <th>435</th>\n",
       "      <td>2430683444</td>\n",
       "      <td>2378935119</td>\n",
       "      <td>2019-08-28</td>\n",
       "      <td>20450</td>\n",
       "      <td>B</td>\n",
       "    </tr>\n",
       "    <tr>\n",
       "      <th>473</th>\n",
       "      <td>3224706027</td>\n",
       "      <td>2378935119</td>\n",
       "      <td>2019-08-28</td>\n",
       "      <td>4410</td>\n",
       "      <td>B</td>\n",
       "    </tr>\n",
       "    <tr>\n",
       "      <th>697</th>\n",
       "      <td>1612868255</td>\n",
       "      <td>2378935119</td>\n",
       "      <td>2019-08-09</td>\n",
       "      <td>30649</td>\n",
       "      <td>B</td>\n",
       "    </tr>\n",
       "    <tr>\n",
       "      <th>1029</th>\n",
       "      <td>469609643</td>\n",
       "      <td>2378935119</td>\n",
       "      <td>2019-08-10</td>\n",
       "      <td>58220</td>\n",
       "      <td>A</td>\n",
       "    </tr>\n",
       "    <tr>\n",
       "      <th>1031</th>\n",
       "      <td>1661772358</td>\n",
       "      <td>2378935119</td>\n",
       "      <td>2019-08-10</td>\n",
       "      <td>2640</td>\n",
       "      <td>B</td>\n",
       "    </tr>\n",
       "  </tbody>\n",
       "</table>\n",
       "</div>"
      ],
      "text/plain": [
       "      transactionId   visitorId       date  revenue group\n",
       "33        486237576  2378935119 2019-08-15     1650     A\n",
       "118      4233533907  2378935119 2019-08-22     3390     A\n",
       "179      1784270968  2378935119 2019-08-17      310     A\n",
       "391      2213813903  2378935119 2019-08-25    21220     B\n",
       "435      2430683444  2378935119 2019-08-28    20450     B\n",
       "473      3224706027  2378935119 2019-08-28     4410     B\n",
       "697      1612868255  2378935119 2019-08-09    30649     B\n",
       "1029      469609643  2378935119 2019-08-10    58220     A\n",
       "1031     1661772358  2378935119 2019-08-10     2640     B"
      ]
     },
     "execution_count": 16,
     "metadata": {},
     "output_type": "execute_result"
    }
   ],
   "source": [
    "orders [orders['visitorId']==2378935119]"
   ]
  },
  {
   "cell_type": "markdown",
   "id": "3b8fcacc",
   "metadata": {},
   "source": [
    "## Предварительно посмотрим на выбросы\n",
    "\n",
    "В группе В есть аномально высокие значения в категории revenue, но детальный анализ и решение о дальнейших действиях будем принимать в ходе проведения основного анализа. Прим. Данная оценка для внутреннего использования, не для презентации"
   ]
  },
  {
   "cell_type": "code",
   "execution_count": 17,
   "id": "1fe7678e",
   "metadata": {},
   "outputs": [
    {
     "name": "stdout",
     "output_type": "stream",
     "text": [
      "       revenue  percentage\n",
      "group                     \n",
      "A      4084803   40.878431\n",
      "B      5907760   59.121569\n",
      "Группа B на 18.24% больше группы A\n"
     ]
    }
   ],
   "source": [
    "orders_group = orders.groupby('group', as_index=False)['revenue'].agg({'revenue': 'sum'})\n",
    "\n",
    "orders_group\n",
    "\n",
    "group_counts = orders_group.groupby('group').sum()\n",
    "\n",
    "\n",
    "total_count = group_counts['revenue'].sum()\n",
    "\n",
    "\n",
    "group_counts['percentage'] = group_counts['revenue'] / total_count * 100\n",
    "\n",
    "\n",
    "difference = group_counts.loc['B', 'percentage'] - group_counts.loc['A', 'percentage']\n",
    "\n",
    "print(group_counts)\n",
    "print(f'Группа B на {difference:.2f}% больше группы A')"
   ]
  },
  {
   "cell_type": "code",
   "execution_count": 18,
   "id": "52488dff",
   "metadata": {
    "scrolled": true
   },
   "outputs": [
    {
     "data": {
      "text/plain": [
       "count    1.197000e+03\n",
       "mean     8.348006e+03\n",
       "std      3.919113e+04\n",
       "min      5.000000e+01\n",
       "25%      1.220000e+03\n",
       "50%      2.978000e+03\n",
       "75%      8.290000e+03\n",
       "max      1.294500e+06\n",
       "Name: revenue, dtype: float64"
      ]
     },
     "metadata": {},
     "output_type": "display_data"
    },
    {
     "name": "stderr",
     "output_type": "stream",
     "text": [
      "findfont: Font family ['Arial'] not found. Falling back to DejaVu Sans.\n",
      "findfont: Font family ['Arial'] not found. Falling back to DejaVu Sans.\n",
      "findfont: Font family ['Arial'] not found. Falling back to DejaVu Sans.\n"
     ]
    },
    {
     "data": {
      "image/png": "[encoded data removed]",
      "text/plain": [
       "<Figure size 1440x720 with 1 Axes>"
      ]
     },
     "metadata": {
      "needs_background": "light"
     },
     "output_type": "display_data"
    }
   ],
   "source": [
    "display(orders['revenue'].describe())\n",
    "plt.figure(figsize=(20,10))\n",
    "\n",
    "plt.grid(axis='y', alpha=1)\n",
    "\n",
    "sns.boxplot(x='group', y='revenue', data=orders, palette='Spectral')\n",
    "plt.title('Диаграмма размаха. Доходы по группам', fontsize=16)\n",
    "plt.xlabel('группы', fontsize=14)\n",
    "plt.ylabel('доходы', fontsize=14)\n",
    "plt.show()"
   ]
  },
  {
   "cell_type": "markdown",
   "id": "ccfe83c0",
   "metadata": {},
   "source": [
    "Проведем аналогичную процедуру в части оценки на выбросы в файле visitors, в части количество посетителей.\n",
    "Предварительно, аномальных выбросов нет, группы в общем и целом близки по размерам, но стоит помнить, что они совсем равные"
   ]
  },
  {
   "cell_type": "code",
   "execution_count": 19,
   "id": "db36cc01",
   "metadata": {},
   "outputs": [
    {
     "name": "stdout",
     "output_type": "stream",
     "text": [
      "       visitors  percentage\n",
      "group                      \n",
      "A         18736   49.760969\n",
      "B         18916   50.239031\n",
      "Группа B на 0.48% больше группы A\n"
     ]
    }
   ],
   "source": [
    "visitors_group = visitors.groupby('group', as_index=False)['visitors'].agg({'visitors': 'sum'})\n",
    "\n",
    "visitors_group\n",
    "\n",
    "group_counts = visitors_group.groupby('group').sum()\n",
    "\n",
    "\n",
    "total_count = group_counts['visitors'].sum()\n",
    "\n",
    "\n",
    "group_counts['percentage'] = group_counts['visitors'] / total_count * 100\n",
    "\n",
    "\n",
    "difference = group_counts.loc['B', 'percentage'] - group_counts.loc['A', 'percentage']\n",
    "\n",
    "print(group_counts)\n",
    "print(f'Группа B на {difference:.2f}% больше группы A')"
   ]
  },
  {
   "cell_type": "code",
   "execution_count": 20,
   "id": "f5307d14",
   "metadata": {},
   "outputs": [
    {
     "data": {
      "text/plain": [
       "count     62.000000\n",
       "mean     607.290323\n",
       "std      114.400560\n",
       "min      361.000000\n",
       "25%      534.000000\n",
       "50%      624.500000\n",
       "75%      710.500000\n",
       "max      770.000000\n",
       "Name: visitors, dtype: float64"
      ]
     },
     "metadata": {},
     "output_type": "display_data"
    },
    {
     "data": {
      "image/png": "[encoded data removed]",
      "text/plain": [
       "<Figure size 1440x720 with 1 Axes>"
      ]
     },
     "metadata": {
      "needs_background": "light"
     },
     "output_type": "display_data"
    }
   ],
   "source": [
    "\n",
    "display(visitors['visitors'].describe())\n",
    "plt.figure(figsize=(20,10))\n",
    "\n",
    "plt.grid(axis='y', alpha=1)\n",
    "\n",
    "sns.boxplot(x='group', y='visitors', data=visitors, palette='Spectral')\n",
    "plt.title('Диаграмма размаха. Доходы по группам', fontsize=16)\n",
    "plt.xlabel('группы', fontsize=14)\n",
    "plt.ylabel('доходы', fontsize=14)\n",
    "plt.show()"
   ]
  },
  {
   "cell_type": "markdown",
   "id": "f95d89bf",
   "metadata": {},
   "source": [
    "Обобщение по результатам знакомства:\n",
    "\n",
    "    - аномалий не выявлено\n",
    "    - пропусков не выявлено\n",
    "    - значения в части определения параметров таблиц корректны (2 группы)\n",
    "    - в таблице с гипотезами используется диапазон значений от 1 до 10, ошибок (меньше 0 или больше 10) нет\n",
    "    - временной интервал идентичный - с 1 по 31 августа 2019 года\n",
    "    - есть выбросы в суммах заказа в группе В, а в процентном соотношении в группе В на 18.24% общая сумма покупок больше, чем в группе А\n",
    "    - размер выборок групп по количестве покупателей/посетителей примерно равны, но не идентичны, разница 0.48% - принимаем за некритичную разницу.\n",
    "    - 58 клиентов попали сразу в обе группы, некоторые клиенты были очень активными и совершили более 10 заказов за месяц, но для анализа данные попадания в обе группы не критичны."
   ]
  },
  {
   "cell_type": "markdown",
   "id": "6befec29",
   "metadata": {},
   "source": [
    "# Этап 1."
   ]
  },
  {
   "cell_type": "markdown",
   "id": "c35f9061",
   "metadata": {},
   "source": [
    "## Приоритизация гипотез\n",
    "\n",
    "### Используем фреймворк ICE для приоритизации гипотез. Отсортируем их по убыванию приоритета."
   ]
  },
  {
   "cell_type": "code",
   "execution_count": 21,
   "id": "db1f63b9",
   "metadata": {
    "scrolled": false
   },
   "outputs": [
    {
     "data": {
      "text/html": [
       "<div>\n",
       "<style scoped>\n",
       "    .dataframe tbody tr th:only-of-type {\n",
       "        vertical-align: middle;\n",
       "    }\n",
       "\n",
       "    .dataframe tbody tr th {\n",
       "        vertical-align: top;\n",
       "    }\n",
       "\n",
       "    .dataframe thead th {\n",
       "        text-align: right;\n",
       "    }\n",
       "</style>\n",
       "<table border=\"1\" class=\"dataframe\">\n",
       "  <thead>\n",
       "    <tr style=\"text-align: right;\">\n",
       "      <th></th>\n",
       "      <th>Hypothesis</th>\n",
       "      <th>Reach</th>\n",
       "      <th>Impact</th>\n",
       "      <th>Confidence</th>\n",
       "      <th>Efforts</th>\n",
       "    </tr>\n",
       "  </thead>\n",
       "  <tbody>\n",
       "    <tr>\n",
       "      <th>0</th>\n",
       "      <td>Добавить два новых канала привлечения трафика, что позволит привлекать на 30% больше пользователей</td>\n",
       "      <td>3</td>\n",
       "      <td>10</td>\n",
       "      <td>8</td>\n",
       "      <td>6</td>\n",
       "    </tr>\n",
       "    <tr>\n",
       "      <th>1</th>\n",
       "      <td>Запустить собственную службу доставки, что сократит срок доставки заказов</td>\n",
       "      <td>2</td>\n",
       "      <td>5</td>\n",
       "      <td>4</td>\n",
       "      <td>10</td>\n",
       "    </tr>\n",
       "    <tr>\n",
       "      <th>2</th>\n",
       "      <td>Добавить блоки рекомендаций товаров на сайт интернет магазина, чтобы повысить конверсию и средний чек заказа</td>\n",
       "      <td>8</td>\n",
       "      <td>3</td>\n",
       "      <td>7</td>\n",
       "      <td>3</td>\n",
       "    </tr>\n",
       "    <tr>\n",
       "      <th>3</th>\n",
       "      <td>Изменить структура категорий, что увеличит конверсию, т.к. пользователи быстрее найдут нужный товар</td>\n",
       "      <td>8</td>\n",
       "      <td>3</td>\n",
       "      <td>3</td>\n",
       "      <td>8</td>\n",
       "    </tr>\n",
       "    <tr>\n",
       "      <th>4</th>\n",
       "      <td>Изменить цвет фона главной страницы, чтобы увеличить вовлеченность пользователей</td>\n",
       "      <td>3</td>\n",
       "      <td>1</td>\n",
       "      <td>1</td>\n",
       "      <td>1</td>\n",
       "    </tr>\n",
       "    <tr>\n",
       "      <th>5</th>\n",
       "      <td>Добавить страницу отзывов клиентов о магазине, что позволит увеличить количество заказов</td>\n",
       "      <td>3</td>\n",
       "      <td>2</td>\n",
       "      <td>2</td>\n",
       "      <td>3</td>\n",
       "    </tr>\n",
       "    <tr>\n",
       "      <th>6</th>\n",
       "      <td>Показать на главной странице баннеры с актуальными акциями и распродажами, чтобы увеличить конверсию</td>\n",
       "      <td>5</td>\n",
       "      <td>3</td>\n",
       "      <td>8</td>\n",
       "      <td>3</td>\n",
       "    </tr>\n",
       "    <tr>\n",
       "      <th>7</th>\n",
       "      <td>Добавить форму подписки на все основные страницы, чтобы собрать базу клиентов для email-рассылок</td>\n",
       "      <td>10</td>\n",
       "      <td>7</td>\n",
       "      <td>8</td>\n",
       "      <td>5</td>\n",
       "    </tr>\n",
       "    <tr>\n",
       "      <th>8</th>\n",
       "      <td>Запустить акцию, дающую скидку на товар в день рождения</td>\n",
       "      <td>1</td>\n",
       "      <td>9</td>\n",
       "      <td>9</td>\n",
       "      <td>5</td>\n",
       "    </tr>\n",
       "  </tbody>\n",
       "</table>\n",
       "</div>"
      ],
      "text/plain": [
       "                                                                                                     Hypothesis  \\\n",
       "0            Добавить два новых канала привлечения трафика, что позволит привлекать на 30% больше пользователей   \n",
       "1                                     Запустить собственную службу доставки, что сократит срок доставки заказов   \n",
       "2  Добавить блоки рекомендаций товаров на сайт интернет магазина, чтобы повысить конверсию и средний чек заказа   \n",
       "3           Изменить структура категорий, что увеличит конверсию, т.к. пользователи быстрее найдут нужный товар   \n",
       "4                              Изменить цвет фона главной страницы, чтобы увеличить вовлеченность пользователей   \n",
       "5                      Добавить страницу отзывов клиентов о магазине, что позволит увеличить количество заказов   \n",
       "6          Показать на главной странице баннеры с актуальными акциями и распродажами, чтобы увеличить конверсию   \n",
       "7              Добавить форму подписки на все основные страницы, чтобы собрать базу клиентов для email-рассылок   \n",
       "8                                                       Запустить акцию, дающую скидку на товар в день рождения   \n",
       "\n",
       "   Reach  Impact  Confidence  Efforts  \n",
       "0      3      10           8        6  \n",
       "1      2       5           4       10  \n",
       "2      8       3           7        3  \n",
       "3      8       3           3        8  \n",
       "4      3       1           1        1  \n",
       "5      3       2           2        3  \n",
       "6      5       3           8        3  \n",
       "7     10       7           8        5  \n",
       "8      1       9           9        5  "
      ]
     },
     "execution_count": 21,
     "metadata": {},
     "output_type": "execute_result"
    }
   ],
   "source": [
    "hypothesis"
   ]
  },
  {
   "cell_type": "markdown",
   "id": "5011c205",
   "metadata": {},
   "source": [
    "ice score = (Impact*Confidence)/Efforts"
   ]
  },
  {
   "cell_type": "code",
   "execution_count": 22,
   "id": "47080304",
   "metadata": {},
   "outputs": [
    {
     "data": {
      "text/html": [
       "<div>\n",
       "<style scoped>\n",
       "    .dataframe tbody tr th:only-of-type {\n",
       "        vertical-align: middle;\n",
       "    }\n",
       "\n",
       "    .dataframe tbody tr th {\n",
       "        vertical-align: top;\n",
       "    }\n",
       "\n",
       "    .dataframe thead th {\n",
       "        text-align: right;\n",
       "    }\n",
       "</style>\n",
       "<table border=\"1\" class=\"dataframe\">\n",
       "  <thead>\n",
       "    <tr style=\"text-align: right;\">\n",
       "      <th></th>\n",
       "      <th>Hypothesis</th>\n",
       "      <th>ICE</th>\n",
       "    </tr>\n",
       "  </thead>\n",
       "  <tbody>\n",
       "    <tr>\n",
       "      <th>8</th>\n",
       "      <td>Запустить акцию, дающую скидку на товар в день рождения</td>\n",
       "      <td>16.20</td>\n",
       "    </tr>\n",
       "    <tr>\n",
       "      <th>0</th>\n",
       "      <td>Добавить два новых канала привлечения трафика, что позволит привлекать на 30% больше пользователей</td>\n",
       "      <td>13.33</td>\n",
       "    </tr>\n",
       "    <tr>\n",
       "      <th>7</th>\n",
       "      <td>Добавить форму подписки на все основные страницы, чтобы собрать базу клиентов для email-рассылок</td>\n",
       "      <td>11.20</td>\n",
       "    </tr>\n",
       "    <tr>\n",
       "      <th>6</th>\n",
       "      <td>Показать на главной странице баннеры с актуальными акциями и распродажами, чтобы увеличить конверсию</td>\n",
       "      <td>8.00</td>\n",
       "    </tr>\n",
       "    <tr>\n",
       "      <th>2</th>\n",
       "      <td>Добавить блоки рекомендаций товаров на сайт интернет магазина, чтобы повысить конверсию и средний чек заказа</td>\n",
       "      <td>7.00</td>\n",
       "    </tr>\n",
       "    <tr>\n",
       "      <th>1</th>\n",
       "      <td>Запустить собственную службу доставки, что сократит срок доставки заказов</td>\n",
       "      <td>2.00</td>\n",
       "    </tr>\n",
       "    <tr>\n",
       "      <th>5</th>\n",
       "      <td>Добавить страницу отзывов клиентов о магазине, что позволит увеличить количество заказов</td>\n",
       "      <td>1.33</td>\n",
       "    </tr>\n",
       "    <tr>\n",
       "      <th>3</th>\n",
       "      <td>Изменить структура категорий, что увеличит конверсию, т.к. пользователи быстрее найдут нужный товар</td>\n",
       "      <td>1.12</td>\n",
       "    </tr>\n",
       "    <tr>\n",
       "      <th>4</th>\n",
       "      <td>Изменить цвет фона главной страницы, чтобы увеличить вовлеченность пользователей</td>\n",
       "      <td>1.00</td>\n",
       "    </tr>\n",
       "  </tbody>\n",
       "</table>\n",
       "</div>"
      ],
      "text/plain": [
       "                                                                                                     Hypothesis  \\\n",
       "8                                                       Запустить акцию, дающую скидку на товар в день рождения   \n",
       "0            Добавить два новых канала привлечения трафика, что позволит привлекать на 30% больше пользователей   \n",
       "7              Добавить форму подписки на все основные страницы, чтобы собрать базу клиентов для email-рассылок   \n",
       "6          Показать на главной странице баннеры с актуальными акциями и распродажами, чтобы увеличить конверсию   \n",
       "2  Добавить блоки рекомендаций товаров на сайт интернет магазина, чтобы повысить конверсию и средний чек заказа   \n",
       "1                                     Запустить собственную службу доставки, что сократит срок доставки заказов   \n",
       "5                      Добавить страницу отзывов клиентов о магазине, что позволит увеличить количество заказов   \n",
       "3           Изменить структура категорий, что увеличит конверсию, т.к. пользователи быстрее найдут нужный товар   \n",
       "4                              Изменить цвет фона главной страницы, чтобы увеличить вовлеченность пользователей   \n",
       "\n",
       "     ICE  \n",
       "8  16.20  \n",
       "0  13.33  \n",
       "7  11.20  \n",
       "6   8.00  \n",
       "2   7.00  \n",
       "1   2.00  \n",
       "5   1.33  \n",
       "3   1.12  \n",
       "4   1.00  "
      ]
     },
     "metadata": {},
     "output_type": "display_data"
    }
   ],
   "source": [
    "hypothesis ['ICE'] = (hypothesis['Impact']*hypothesis ['Confidence'])/hypothesis ['Efforts']\n",
    "hypothesis['ICE'] = hypothesis['ICE'].round(2) \n",
    "display (hypothesis [['Hypothesis', 'ICE']].sort_values (by='ICE', ascending = False).head (10))"
   ]
  },
  {
   "cell_type": "markdown",
   "id": "f0f559b8",
   "metadata": {},
   "source": [
    "По результатам расчетам скоринга веса гипотез, выделяются три лидера - гипотезы под номерами:\n",
    "\n",
    "    - №8 - Запустить акцию, дающую скидку на товар в день рождения\n",
    "    - №0 - Добавить два новых канала привлечения трафика, что позволит привлекать на 30% больше пользователей\n",
    "    - №7 - Добавить форму подписки на все основные страницы, чтобы собрать базу клиентов для email-рассылок"
   ]
  },
  {
   "cell_type": "markdown",
   "id": "896a8ae0",
   "metadata": {},
   "source": [
    "### Используем фреймворк RICE для приоритизации гипотез. Отсортируем их по убыванию приоритета."
   ]
  },
  {
   "cell_type": "code",
   "execution_count": 23,
   "id": "9e6e8439",
   "metadata": {},
   "outputs": [
    {
     "data": {
      "text/html": [
       "<div>\n",
       "<style scoped>\n",
       "    .dataframe tbody tr th:only-of-type {\n",
       "        vertical-align: middle;\n",
       "    }\n",
       "\n",
       "    .dataframe tbody tr th {\n",
       "        vertical-align: top;\n",
       "    }\n",
       "\n",
       "    .dataframe thead th {\n",
       "        text-align: right;\n",
       "    }\n",
       "</style>\n",
       "<table border=\"1\" class=\"dataframe\">\n",
       "  <thead>\n",
       "    <tr style=\"text-align: right;\">\n",
       "      <th></th>\n",
       "      <th>Hypothesis</th>\n",
       "      <th>RICE</th>\n",
       "    </tr>\n",
       "  </thead>\n",
       "  <tbody>\n",
       "    <tr>\n",
       "      <th>7</th>\n",
       "      <td>Добавить форму подписки на все основные страницы, чтобы собрать базу клиентов для email-рассылок</td>\n",
       "      <td>112.0</td>\n",
       "    </tr>\n",
       "    <tr>\n",
       "      <th>2</th>\n",
       "      <td>Добавить блоки рекомендаций товаров на сайт интернет магазина, чтобы повысить конверсию и средний чек заказа</td>\n",
       "      <td>56.0</td>\n",
       "    </tr>\n",
       "    <tr>\n",
       "      <th>0</th>\n",
       "      <td>Добавить два новых канала привлечения трафика, что позволит привлекать на 30% больше пользователей</td>\n",
       "      <td>40.0</td>\n",
       "    </tr>\n",
       "    <tr>\n",
       "      <th>6</th>\n",
       "      <td>Показать на главной странице баннеры с актуальными акциями и распродажами, чтобы увеличить конверсию</td>\n",
       "      <td>40.0</td>\n",
       "    </tr>\n",
       "    <tr>\n",
       "      <th>8</th>\n",
       "      <td>Запустить акцию, дающую скидку на товар в день рождения</td>\n",
       "      <td>16.2</td>\n",
       "    </tr>\n",
       "    <tr>\n",
       "      <th>3</th>\n",
       "      <td>Изменить структура категорий, что увеличит конверсию, т.к. пользователи быстрее найдут нужный товар</td>\n",
       "      <td>9.0</td>\n",
       "    </tr>\n",
       "    <tr>\n",
       "      <th>1</th>\n",
       "      <td>Запустить собственную службу доставки, что сократит срок доставки заказов</td>\n",
       "      <td>4.0</td>\n",
       "    </tr>\n",
       "    <tr>\n",
       "      <th>5</th>\n",
       "      <td>Добавить страницу отзывов клиентов о магазине, что позволит увеличить количество заказов</td>\n",
       "      <td>4.0</td>\n",
       "    </tr>\n",
       "    <tr>\n",
       "      <th>4</th>\n",
       "      <td>Изменить цвет фона главной страницы, чтобы увеличить вовлеченность пользователей</td>\n",
       "      <td>3.0</td>\n",
       "    </tr>\n",
       "  </tbody>\n",
       "</table>\n",
       "</div>"
      ],
      "text/plain": [
       "                                                                                                     Hypothesis  \\\n",
       "7              Добавить форму подписки на все основные страницы, чтобы собрать базу клиентов для email-рассылок   \n",
       "2  Добавить блоки рекомендаций товаров на сайт интернет магазина, чтобы повысить конверсию и средний чек заказа   \n",
       "0            Добавить два новых канала привлечения трафика, что позволит привлекать на 30% больше пользователей   \n",
       "6          Показать на главной странице баннеры с актуальными акциями и распродажами, чтобы увеличить конверсию   \n",
       "8                                                       Запустить акцию, дающую скидку на товар в день рождения   \n",
       "3           Изменить структура категорий, что увеличит конверсию, т.к. пользователи быстрее найдут нужный товар   \n",
       "1                                     Запустить собственную службу доставки, что сократит срок доставки заказов   \n",
       "5                      Добавить страницу отзывов клиентов о магазине, что позволит увеличить количество заказов   \n",
       "4                              Изменить цвет фона главной страницы, чтобы увеличить вовлеченность пользователей   \n",
       "\n",
       "    RICE  \n",
       "7  112.0  \n",
       "2   56.0  \n",
       "0   40.0  \n",
       "6   40.0  \n",
       "8   16.2  \n",
       "3    9.0  \n",
       "1    4.0  \n",
       "5    4.0  \n",
       "4    3.0  "
      ]
     },
     "metadata": {},
     "output_type": "display_data"
    }
   ],
   "source": [
    "hypothesis ['RICE'] = (hypothesis['Reach']*hypothesis['Impact']*hypothesis ['Confidence'])/hypothesis ['Efforts']\n",
    "hypothesis['RICE'] = hypothesis['RICE'].round(2) \n",
    "display (hypothesis [['Hypothesis', 'RICE']].sort_values (by='RICE', ascending = False).head (10))"
   ]
  },
  {
   "cell_type": "markdown",
   "id": "4a4afa4c",
   "metadata": {},
   "source": [
    "**Вывод** \n",
    "\n",
    "По результатам расчета скорингового балла RICE лидеры немного скорректированы, теперь это:\n",
    "    \n",
    "    - № 7 - Добавить форму подписки на все основные страницы, чтобы собрать базу клиентов для email-рассылок\n",
    "    - № 2 - Добавить блоки рекомендаций товаров на сайт интернет магазина, чтобы повысить конверсию и средний чек заказа\t\n",
    "    - № 0 - Добавить два новых канала привлечения трафика, что позволит привлекать на 30% больше пользователей \n",
    "    \n",
    "    \n",
    "Гипотеза № 8 (Запустить акцию, дающую скидку на товар в день рождения) потеряла позиции, так как имеет небольшой охват, и касается только именинников среди клиентов, а новообретенные \"лидеры\" коснутся всех клиентов, что соответствует значению Reach  в гипотезе № 8=1, а гипотеза № 2, несмотря на низкое значение влияния (всего 3), имеет высокий охват и низкий уровень сложности реализации, что с высокой долей вероятности позволит ее проверить значительно быстрее.  \n",
    "Учитывая результаты расчета скорингового балла, рекомендации по тестированию будут отражать необходимость отработки 7 гипотезы, и возможно 2-ой\n"
   ]
  },
  {
   "cell_type": "markdown",
   "id": "d5ac2838",
   "metadata": {},
   "source": [
    "# Этап 2"
   ]
  },
  {
   "cell_type": "markdown",
   "id": "c625ed68",
   "metadata": {},
   "source": [
    "## График кумулятивной выручки по группам. "
   ]
  },
  {
   "cell_type": "markdown",
   "id": "5655f406",
   "metadata": {},
   "source": [
    "Создадим массив уникальных пар значений дат и групп теста методом drop_duplicates(): "
   ]
  },
  {
   "cell_type": "code",
   "execution_count": 24,
   "id": "d568027e",
   "metadata": {},
   "outputs": [],
   "source": [
    "datesGroups = orders[['date','group']].drop_duplicates() \n"
   ]
  },
  {
   "cell_type": "code",
   "execution_count": 25,
   "id": "522ba3fe",
   "metadata": {},
   "outputs": [],
   "source": [
    "ordersAggregated = datesGroups.apply(lambda x: orders[np.logical_and(orders['date'] <= x['date'],\\\n",
    "                                                                     orders['group'] == x['group'])].\\\n",
    "                                     agg({'date' : 'max',\n",
    "                                          'group' : 'max',\n",
    "                                          'transactionId' : 'nunique',\n",
    "                                          'visitorId' : 'nunique',\n",
    "                                          'revenue' : 'sum'}),\n",
    "                                     axis=1).sort_values(by=['date','group'])\n"
   ]
  },
  {
   "cell_type": "code",
   "execution_count": 26,
   "id": "72cd107f",
   "metadata": {},
   "outputs": [],
   "source": [
    "# получаем агрегированные кумулятивные по дням данные о посетителях интернет-магазина \n",
    "visitorsAggregated = datesGroups.apply(\n",
    "    lambda x: visitors[np.logical_and(visitors['date'] <= x['date'],\\\n",
    "                                      visitors['group'] == x['group'])].\\\n",
    "    agg({'date' : 'max', 'group' : 'max', 'visitors' : 'sum'}),\\\n",
    "    axis=1).sort_values(by=['date','group']\n",
    ")\n"
   ]
  },
  {
   "cell_type": "code",
   "execution_count": 27,
   "id": "2b6bfe82",
   "metadata": {},
   "outputs": [],
   "source": [
    "# объеденим кумулятивные данные в одной таблице и присвоим ее столбцам новые названия\n",
    "cumulativeData = ordersAggregated.merge(visitorsAggregated, left_on=['date', 'group'], right_on=['date', 'group'])\n",
    "cumulativeData.columns = ['date', 'group', 'orders', 'buyers', 'revenue', 'visitors']"
   ]
  },
  {
   "cell_type": "markdown",
   "id": "bf76cbab",
   "metadata": {},
   "source": [
    "### датафрейм с кумулятивным количеством заказов и кумулятивной выручкой по дням в группе А"
   ]
  },
  {
   "cell_type": "code",
   "execution_count": 28,
   "id": "48903a79",
   "metadata": {},
   "outputs": [],
   "source": [
    "cumulativeRevenueA = cumulativeData[cumulativeData['group']=='A'][['date','revenue', 'orders']]"
   ]
  },
  {
   "cell_type": "markdown",
   "id": "09f39774",
   "metadata": {},
   "source": [
    "### датафрейм с кумулятивным количеством заказов и кумулятивной выручкой по дням в группе B"
   ]
  },
  {
   "cell_type": "code",
   "execution_count": 29,
   "id": "01d84c0d",
   "metadata": {},
   "outputs": [
    {
     "data": {
      "text/html": [
       "<div>\n",
       "<style scoped>\n",
       "    .dataframe tbody tr th:only-of-type {\n",
       "        vertical-align: middle;\n",
       "    }\n",
       "\n",
       "    .dataframe tbody tr th {\n",
       "        vertical-align: top;\n",
       "    }\n",
       "\n",
       "    .dataframe thead th {\n",
       "        text-align: right;\n",
       "    }\n",
       "</style>\n",
       "<table border=\"1\" class=\"dataframe\">\n",
       "  <thead>\n",
       "    <tr style=\"text-align: right;\">\n",
       "      <th></th>\n",
       "      <th>date</th>\n",
       "      <th>revenue</th>\n",
       "      <th>orders</th>\n",
       "    </tr>\n",
       "  </thead>\n",
       "  <tbody>\n",
       "    <tr>\n",
       "      <th>1</th>\n",
       "      <td>2019-08-01</td>\n",
       "      <td>101217</td>\n",
       "      <td>21</td>\n",
       "    </tr>\n",
       "    <tr>\n",
       "      <th>3</th>\n",
       "      <td>2019-08-02</td>\n",
       "      <td>266748</td>\n",
       "      <td>45</td>\n",
       "    </tr>\n",
       "    <tr>\n",
       "      <th>5</th>\n",
       "      <td>2019-08-03</td>\n",
       "      <td>380996</td>\n",
       "      <td>61</td>\n",
       "    </tr>\n",
       "    <tr>\n",
       "      <th>7</th>\n",
       "      <td>2019-08-04</td>\n",
       "      <td>489567</td>\n",
       "      <td>78</td>\n",
       "    </tr>\n",
       "    <tr>\n",
       "      <th>9</th>\n",
       "      <td>2019-08-05</td>\n",
       "      <td>581995</td>\n",
       "      <td>101</td>\n",
       "    </tr>\n",
       "    <tr>\n",
       "      <th>11</th>\n",
       "      <td>2019-08-06</td>\n",
       "      <td>824337</td>\n",
       "      <td>129</td>\n",
       "    </tr>\n",
       "    <tr>\n",
       "      <th>13</th>\n",
       "      <td>2019-08-07</td>\n",
       "      <td>1049671</td>\n",
       "      <td>153</td>\n",
       "    </tr>\n",
       "    <tr>\n",
       "      <th>15</th>\n",
       "      <td>2019-08-08</td>\n",
       "      <td>1270589</td>\n",
       "      <td>180</td>\n",
       "    </tr>\n",
       "    <tr>\n",
       "      <th>17</th>\n",
       "      <td>2019-08-09</td>\n",
       "      <td>1431401</td>\n",
       "      <td>205</td>\n",
       "    </tr>\n",
       "    <tr>\n",
       "      <th>19</th>\n",
       "      <td>2019-08-10</td>\n",
       "      <td>1539203</td>\n",
       "      <td>228</td>\n",
       "    </tr>\n",
       "    <tr>\n",
       "      <th>21</th>\n",
       "      <td>2019-08-11</td>\n",
       "      <td>1592513</td>\n",
       "      <td>241</td>\n",
       "    </tr>\n",
       "    <tr>\n",
       "      <th>23</th>\n",
       "      <td>2019-08-12</td>\n",
       "      <td>1734067</td>\n",
       "      <td>264</td>\n",
       "    </tr>\n",
       "    <tr>\n",
       "      <th>25</th>\n",
       "      <td>2019-08-13</td>\n",
       "      <td>1853738</td>\n",
       "      <td>285</td>\n",
       "    </tr>\n",
       "    <tr>\n",
       "      <th>27</th>\n",
       "      <td>2019-08-14</td>\n",
       "      <td>2025446</td>\n",
       "      <td>308</td>\n",
       "    </tr>\n",
       "    <tr>\n",
       "      <th>29</th>\n",
       "      <td>2019-08-15</td>\n",
       "      <td>2367945</td>\n",
       "      <td>339</td>\n",
       "    </tr>\n",
       "    <tr>\n",
       "      <th>31</th>\n",
       "      <td>2019-08-16</td>\n",
       "      <td>2539635</td>\n",
       "      <td>359</td>\n",
       "    </tr>\n",
       "    <tr>\n",
       "      <th>33</th>\n",
       "      <td>2019-08-17</td>\n",
       "      <td>2620790</td>\n",
       "      <td>373</td>\n",
       "    </tr>\n",
       "    <tr>\n",
       "      <th>35</th>\n",
       "      <td>2019-08-18</td>\n",
       "      <td>2686621</td>\n",
       "      <td>382</td>\n",
       "    </tr>\n",
       "    <tr>\n",
       "      <th>37</th>\n",
       "      <td>2019-08-19</td>\n",
       "      <td>4116541</td>\n",
       "      <td>403</td>\n",
       "    </tr>\n",
       "    <tr>\n",
       "      <th>39</th>\n",
       "      <td>2019-08-20</td>\n",
       "      <td>4263815</td>\n",
       "      <td>423</td>\n",
       "    </tr>\n",
       "    <tr>\n",
       "      <th>41</th>\n",
       "      <td>2019-08-21</td>\n",
       "      <td>4426892</td>\n",
       "      <td>437</td>\n",
       "    </tr>\n",
       "    <tr>\n",
       "      <th>43</th>\n",
       "      <td>2019-08-22</td>\n",
       "      <td>4589247</td>\n",
       "      <td>462</td>\n",
       "    </tr>\n",
       "    <tr>\n",
       "      <th>45</th>\n",
       "      <td>2019-08-23</td>\n",
       "      <td>4703216</td>\n",
       "      <td>477</td>\n",
       "    </tr>\n",
       "    <tr>\n",
       "      <th>47</th>\n",
       "      <td>2019-08-24</td>\n",
       "      <td>4798722</td>\n",
       "      <td>493</td>\n",
       "    </tr>\n",
       "    <tr>\n",
       "      <th>49</th>\n",
       "      <td>2019-08-25</td>\n",
       "      <td>4901584</td>\n",
       "      <td>507</td>\n",
       "    </tr>\n",
       "    <tr>\n",
       "      <th>51</th>\n",
       "      <td>2019-08-26</td>\n",
       "      <td>5084583</td>\n",
       "      <td>532</td>\n",
       "    </tr>\n",
       "    <tr>\n",
       "      <th>53</th>\n",
       "      <td>2019-08-27</td>\n",
       "      <td>5232260</td>\n",
       "      <td>548</td>\n",
       "    </tr>\n",
       "    <tr>\n",
       "      <th>55</th>\n",
       "      <td>2019-08-28</td>\n",
       "      <td>5328268</td>\n",
       "      <td>576</td>\n",
       "    </tr>\n",
       "    <tr>\n",
       "      <th>57</th>\n",
       "      <td>2019-08-29</td>\n",
       "      <td>5559398</td>\n",
       "      <td>596</td>\n",
       "    </tr>\n",
       "    <tr>\n",
       "      <th>59</th>\n",
       "      <td>2019-08-30</td>\n",
       "      <td>5774631</td>\n",
       "      <td>620</td>\n",
       "    </tr>\n",
       "    <tr>\n",
       "      <th>61</th>\n",
       "      <td>2019-08-31</td>\n",
       "      <td>5907760</td>\n",
       "      <td>640</td>\n",
       "    </tr>\n",
       "  </tbody>\n",
       "</table>\n",
       "</div>"
      ],
      "text/plain": [
       "         date  revenue  orders\n",
       "1  2019-08-01   101217      21\n",
       "3  2019-08-02   266748      45\n",
       "5  2019-08-03   380996      61\n",
       "7  2019-08-04   489567      78\n",
       "9  2019-08-05   581995     101\n",
       "11 2019-08-06   824337     129\n",
       "13 2019-08-07  1049671     153\n",
       "15 2019-08-08  1270589     180\n",
       "17 2019-08-09  1431401     205\n",
       "19 2019-08-10  1539203     228\n",
       "21 2019-08-11  1592513     241\n",
       "23 2019-08-12  1734067     264\n",
       "25 2019-08-13  1853738     285\n",
       "27 2019-08-14  2025446     308\n",
       "29 2019-08-15  2367945     339\n",
       "31 2019-08-16  2539635     359\n",
       "33 2019-08-17  2620790     373\n",
       "35 2019-08-18  2686621     382\n",
       "37 2019-08-19  4116541     403\n",
       "39 2019-08-20  4263815     423\n",
       "41 2019-08-21  4426892     437\n",
       "43 2019-08-22  4589247     462\n",
       "45 2019-08-23  4703216     477\n",
       "47 2019-08-24  4798722     493\n",
       "49 2019-08-25  4901584     507\n",
       "51 2019-08-26  5084583     532\n",
       "53 2019-08-27  5232260     548\n",
       "55 2019-08-28  5328268     576\n",
       "57 2019-08-29  5559398     596\n",
       "59 2019-08-30  5774631     620\n",
       "61 2019-08-31  5907760     640"
      ]
     },
     "execution_count": 29,
     "metadata": {},
     "output_type": "execute_result"
    }
   ],
   "source": [
    "cumulativeRevenueB = cumulativeData[cumulativeData['group']=='B'][['date','revenue', 'orders']]\n",
    "cumulativeRevenueB"
   ]
  },
  {
   "cell_type": "markdown",
   "id": "153c5c40",
   "metadata": {},
   "source": [
    "### Строим графики 2-х выборок "
   ]
  },
  {
   "cell_type": "code",
   "execution_count": 30,
   "id": "4c1eb16d",
   "metadata": {},
   "outputs": [
    {
     "name": "stderr",
     "output_type": "stream",
     "text": [
      "findfont: Font family ['Arial'] not found. Falling back to DejaVu Sans.\n"
     ]
    },
    {
     "data": {
      "image/png": "[encoded data removed]",
      "text/plain": [
       "<Figure size 720x432 with 1 Axes>"
      ]
     },
     "metadata": {
      "needs_background": "light"
     },
     "output_type": "display_data"
    }
   ],
   "source": [
    "plt.figure(figsize=(10, 6))\n",
    "plt.plot(cumulativeRevenueA['date'], cumulativeRevenueA['revenue'], label='A', color='blue', alpha=0.8)\n",
    "plt.plot(cumulativeRevenueB['date'], cumulativeRevenueB['revenue'], label='B', color='orange', alpha=0.8)\n",
    "plt.grid(True)\n",
    "plt.title(\"Кумулятивная выручка по группам\")\n",
    "plt.xlabel(\"Дата\")\n",
    "plt.ylabel(\"Выручка\")\n",
    "date_form = DateFormatter(\"%m-%d\")\n",
    "plt.gca().xaxis.set_major_formatter(date_form)\n",
    "plt.legend(loc='upper left')\n",
    "plt.show()"
   ]
  },
  {
   "cell_type": "markdown",
   "id": "30edd5f9",
   "metadata": {},
   "source": [
    "**Вывод**\n",
    "\n",
    "Как видно из графика, примерно до 5-го августа кумулятивная выручка примерно одинаково растет, как в группе А, так и в группе В. Однако, начиная с 13 августа, группа В показывает куда более существенный рост. В районе 18-19 авугста наблюдается резкий скачок в группе В, с последующим равномерным ростом. Группа А, также увеличивается со временнем (все таки расчет идет кумулятивной выручки), но заметно меньшими темпами, чем группа В.\n",
    "\n",
    "Стоит сразу разобраться, что произошло в группе В в период 18-19 августа"
   ]
  },
  {
   "cell_type": "code",
   "execution_count": 31,
   "id": "b12807c9",
   "metadata": {},
   "outputs": [
    {
     "data": {
      "text/html": [
       "<div>\n",
       "<style scoped>\n",
       "    .dataframe tbody tr th:only-of-type {\n",
       "        vertical-align: middle;\n",
       "    }\n",
       "\n",
       "    .dataframe tbody tr th {\n",
       "        vertical-align: top;\n",
       "    }\n",
       "\n",
       "    .dataframe thead th {\n",
       "        text-align: right;\n",
       "    }\n",
       "</style>\n",
       "<table border=\"1\" class=\"dataframe\">\n",
       "  <thead>\n",
       "    <tr style=\"text-align: right;\">\n",
       "      <th></th>\n",
       "      <th>date</th>\n",
       "      <th>revenue</th>\n",
       "      <th>orders</th>\n",
       "    </tr>\n",
       "  </thead>\n",
       "  <tbody>\n",
       "    <tr>\n",
       "      <th>35</th>\n",
       "      <td>2019-08-18</td>\n",
       "      <td>2686621</td>\n",
       "      <td>382</td>\n",
       "    </tr>\n",
       "    <tr>\n",
       "      <th>37</th>\n",
       "      <td>2019-08-19</td>\n",
       "      <td>4116541</td>\n",
       "      <td>403</td>\n",
       "    </tr>\n",
       "  </tbody>\n",
       "</table>\n",
       "</div>"
      ],
      "text/plain": [
       "         date  revenue  orders\n",
       "35 2019-08-18  2686621     382\n",
       "37 2019-08-19  4116541     403"
      ]
     },
     "metadata": {},
     "output_type": "display_data"
    },
    {
     "data": {
      "text/plain": [
       "53.22373345551903"
      ]
     },
     "metadata": {},
     "output_type": "display_data"
    }
   ],
   "source": [
    "# сделаем срез данных нашей сгруппированной таблицы по периоду 18-19 августа\n",
    "cumulativeRevenueB_18_19 = cumulativeRevenueB.query('date >= \"2019-08-18\" and date <= \"2019-08-19\"')\n",
    "diff = (cumulativeRevenueB_18_19.loc[37, 'revenue'] - cumulativeRevenueB_18_19.loc[35, 'revenue']) / \\\n",
    "cumulativeRevenueB_18_19.loc[35, 'revenue'] * 100\n",
    "\n",
    "display (cumulativeRevenueB_18_19)\n",
    "display (diff)"
   ]
  },
  {
   "cell_type": "markdown",
   "id": "ac51eddd",
   "metadata": {},
   "source": [
    "в кумулятивной выруче скачок на 53%, выброс, аномально крупный заказ/заказы? посмотрим внимательнее на 19 августа"
   ]
  },
  {
   "cell_type": "code",
   "execution_count": 32,
   "id": "ac09fc28",
   "metadata": {},
   "outputs": [
    {
     "data": {
      "text/html": [
       "<div>\n",
       "<style scoped>\n",
       "    .dataframe tbody tr th:only-of-type {\n",
       "        vertical-align: middle;\n",
       "    }\n",
       "\n",
       "    .dataframe tbody tr th {\n",
       "        vertical-align: top;\n",
       "    }\n",
       "\n",
       "    .dataframe thead th {\n",
       "        text-align: right;\n",
       "    }\n",
       "</style>\n",
       "<table border=\"1\" class=\"dataframe\">\n",
       "  <thead>\n",
       "    <tr style=\"text-align: right;\">\n",
       "      <th></th>\n",
       "      <th>transactionId</th>\n",
       "      <th>visitorId</th>\n",
       "      <th>date</th>\n",
       "      <th>revenue</th>\n",
       "      <th>group</th>\n",
       "    </tr>\n",
       "  </thead>\n",
       "  <tbody>\n",
       "    <tr>\n",
       "      <th>425</th>\n",
       "      <td>590470918</td>\n",
       "      <td>1920142716</td>\n",
       "      <td>2019-08-19</td>\n",
       "      <td>1294500</td>\n",
       "      <td>B</td>\n",
       "    </tr>\n",
       "    <tr>\n",
       "      <th>527</th>\n",
       "      <td>1570513684</td>\n",
       "      <td>2837914161</td>\n",
       "      <td>2019-08-19</td>\n",
       "      <td>33405</td>\n",
       "      <td>B</td>\n",
       "    </tr>\n",
       "    <tr>\n",
       "      <th>461</th>\n",
       "      <td>2683113224</td>\n",
       "      <td>154576532</td>\n",
       "      <td>2019-08-19</td>\n",
       "      <td>26550</td>\n",
       "      <td>B</td>\n",
       "    </tr>\n",
       "    <tr>\n",
       "      <th>368</th>\n",
       "      <td>3268879337</td>\n",
       "      <td>2536252163</td>\n",
       "      <td>2019-08-19</td>\n",
       "      <td>20026</td>\n",
       "      <td>B</td>\n",
       "    </tr>\n",
       "    <tr>\n",
       "      <th>463</th>\n",
       "      <td>4170537404</td>\n",
       "      <td>290022471</td>\n",
       "      <td>2019-08-19</td>\n",
       "      <td>16480</td>\n",
       "      <td>B</td>\n",
       "    </tr>\n",
       "    <tr>\n",
       "      <th>423</th>\n",
       "      <td>4161654914</td>\n",
       "      <td>990904712</td>\n",
       "      <td>2019-08-19</td>\n",
       "      <td>11249</td>\n",
       "      <td>B</td>\n",
       "    </tr>\n",
       "    <tr>\n",
       "      <th>523</th>\n",
       "      <td>1739748874</td>\n",
       "      <td>522292794</td>\n",
       "      <td>2019-08-19</td>\n",
       "      <td>4880</td>\n",
       "      <td>B</td>\n",
       "    </tr>\n",
       "    <tr>\n",
       "      <th>367</th>\n",
       "      <td>1033377712</td>\n",
       "      <td>3860669668</td>\n",
       "      <td>2019-08-19</td>\n",
       "      <td>3990</td>\n",
       "      <td>B</td>\n",
       "    </tr>\n",
       "    <tr>\n",
       "      <th>529</th>\n",
       "      <td>90109939</td>\n",
       "      <td>2075769885</td>\n",
       "      <td>2019-08-19</td>\n",
       "      <td>3525</td>\n",
       "      <td>B</td>\n",
       "    </tr>\n",
       "    <tr>\n",
       "      <th>426</th>\n",
       "      <td>19467429</td>\n",
       "      <td>2397843657</td>\n",
       "      <td>2019-08-19</td>\n",
       "      <td>2630</td>\n",
       "      <td>B</td>\n",
       "    </tr>\n",
       "    <tr>\n",
       "      <th>363</th>\n",
       "      <td>2096847394</td>\n",
       "      <td>4251115836</td>\n",
       "      <td>2019-08-19</td>\n",
       "      <td>2500</td>\n",
       "      <td>B</td>\n",
       "    </tr>\n",
       "    <tr>\n",
       "      <th>315</th>\n",
       "      <td>1939633950</td>\n",
       "      <td>157579733</td>\n",
       "      <td>2019-08-19</td>\n",
       "      <td>2330</td>\n",
       "      <td>B</td>\n",
       "    </tr>\n",
       "    <tr>\n",
       "      <th>427</th>\n",
       "      <td>3019510679</td>\n",
       "      <td>2397843657</td>\n",
       "      <td>2019-08-19</td>\n",
       "      <td>1460</td>\n",
       "      <td>B</td>\n",
       "    </tr>\n",
       "    <tr>\n",
       "      <th>320</th>\n",
       "      <td>1652782757</td>\n",
       "      <td>2763027084</td>\n",
       "      <td>2019-08-19</td>\n",
       "      <td>1460</td>\n",
       "      <td>B</td>\n",
       "    </tr>\n",
       "    <tr>\n",
       "      <th>319</th>\n",
       "      <td>2414788465</td>\n",
       "      <td>2247745159</td>\n",
       "      <td>2019-08-19</td>\n",
       "      <td>1435</td>\n",
       "      <td>B</td>\n",
       "    </tr>\n",
       "    <tr>\n",
       "      <th>486</th>\n",
       "      <td>752294429</td>\n",
       "      <td>2758621772</td>\n",
       "      <td>2019-08-19</td>\n",
       "      <td>1130</td>\n",
       "      <td>B</td>\n",
       "    </tr>\n",
       "    <tr>\n",
       "      <th>429</th>\n",
       "      <td>2436528253</td>\n",
       "      <td>1060341621</td>\n",
       "      <td>2019-08-19</td>\n",
       "      <td>1100</td>\n",
       "      <td>B</td>\n",
       "    </tr>\n",
       "    <tr>\n",
       "      <th>526</th>\n",
       "      <td>1654949825</td>\n",
       "      <td>1335154194</td>\n",
       "      <td>2019-08-19</td>\n",
       "      <td>500</td>\n",
       "      <td>B</td>\n",
       "    </tr>\n",
       "    <tr>\n",
       "      <th>424</th>\n",
       "      <td>2609443403</td>\n",
       "      <td>2406916810</td>\n",
       "      <td>2019-08-19</td>\n",
       "      <td>470</td>\n",
       "      <td>B</td>\n",
       "    </tr>\n",
       "    <tr>\n",
       "      <th>322</th>\n",
       "      <td>3154167297</td>\n",
       "      <td>2091902649</td>\n",
       "      <td>2019-08-19</td>\n",
       "      <td>250</td>\n",
       "      <td>B</td>\n",
       "    </tr>\n",
       "    <tr>\n",
       "      <th>459</th>\n",
       "      <td>863448794</td>\n",
       "      <td>2738601405</td>\n",
       "      <td>2019-08-19</td>\n",
       "      <td>50</td>\n",
       "      <td>B</td>\n",
       "    </tr>\n",
       "  </tbody>\n",
       "</table>\n",
       "</div>"
      ],
      "text/plain": [
       "     transactionId   visitorId       date  revenue group\n",
       "425      590470918  1920142716 2019-08-19  1294500     B\n",
       "527     1570513684  2837914161 2019-08-19    33405     B\n",
       "461     2683113224   154576532 2019-08-19    26550     B\n",
       "368     3268879337  2536252163 2019-08-19    20026     B\n",
       "463     4170537404   290022471 2019-08-19    16480     B\n",
       "423     4161654914   990904712 2019-08-19    11249     B\n",
       "523     1739748874   522292794 2019-08-19     4880     B\n",
       "367     1033377712  3860669668 2019-08-19     3990     B\n",
       "529       90109939  2075769885 2019-08-19     3525     B\n",
       "426       19467429  2397843657 2019-08-19     2630     B\n",
       "363     2096847394  4251115836 2019-08-19     2500     B\n",
       "315     1939633950   157579733 2019-08-19     2330     B\n",
       "427     3019510679  2397843657 2019-08-19     1460     B\n",
       "320     1652782757  2763027084 2019-08-19     1460     B\n",
       "319     2414788465  2247745159 2019-08-19     1435     B\n",
       "486      752294429  2758621772 2019-08-19     1130     B\n",
       "429     2436528253  1060341621 2019-08-19     1100     B\n",
       "526     1654949825  1335154194 2019-08-19      500     B\n",
       "424     2609443403  2406916810 2019-08-19      470     B\n",
       "322     3154167297  2091902649 2019-08-19      250     B\n",
       "459      863448794  2738601405 2019-08-19       50     B"
      ]
     },
     "metadata": {},
     "output_type": "display_data"
    },
    {
     "data": {
      "text/plain": [
       "6771.0"
      ]
     },
     "metadata": {},
     "output_type": "display_data"
    }
   ],
   "source": [
    "orders_19_В = orders.query ('date==\"2019-08-19\" and group==\"B\"')\n",
    "display (orders_19_В.sort_values (by = 'revenue', ascending=False))\n",
    "display (orders_19_В[orders_19_В['revenue'] != 1294500]['revenue'].mean())"
   ]
  },
  {
   "cell_type": "markdown",
   "id": "53799b8e",
   "metadata": {},
   "source": [
    "Вы видим очень большой заказ на сумму 1 294 500, хотя за весь период среднее значение составило 8348,  за 19 августа меньше - 6771. Пока расчеты и корректировки делать не будем, так как у нас впереди будет обособленный анализ \"очищенных\" данных, но мы уже понимаем, что в группе В есть аномально крупные заказы."
   ]
  },
  {
   "cell_type": "markdown",
   "id": "70a60785",
   "metadata": {},
   "source": [
    "## График кумулятивного среднего чека по группам. "
   ]
  },
  {
   "cell_type": "code",
   "execution_count": 33,
   "id": "acb2242e",
   "metadata": {},
   "outputs": [
    {
     "data": {
      "image/png": "[encoded data removed]",
      "text/plain": [
       "<Figure size 720x432 with 1 Axes>"
      ]
     },
     "metadata": {
      "needs_background": "light"
     },
     "output_type": "display_data"
    }
   ],
   "source": [
    "plt.figure(figsize=(10, 6))\n",
    "plt.plot(cumulativeRevenueA['date'], cumulativeRevenueA['revenue']/cumulativeRevenueA['orders'], label='A')\n",
    "plt.plot(cumulativeRevenueB['date'], cumulativeRevenueB['revenue']/cumulativeRevenueB['orders'], label='B')\n",
    "plt.grid(True)\n",
    "plt.title(\"Средний чек по группам\")\n",
    "plt.xlabel(\"Дата\")\n",
    "plt.ylabel(\"Средний чек\")\n",
    "date_form = DateFormatter(\"%m-%d\")\n",
    "plt.gca().xaxis.set_major_formatter(date_form)\n",
    "plt.legend(loc='upper left')\n",
    "plt.show()"
   ]
  },
  {
   "cell_type": "markdown",
   "id": "9418037e",
   "metadata": {},
   "source": [
    "На графике мы опять наблюдаем за скачком среднего чека в отмеченный ранее день - 19 августа, но даже без \"аномалии\", группа В показывает больший рост начиная с 15 августа. Стоит отметить, что ранее на общей сумме выручки мы отмечали, что после 13-го августа группа В показывала стабильно более высокий рост выручки, но на среднем чеке мы видим, что 13-го августа контрольная группа вырывалась вперед, данные всплески мы оценим в следующих этапах анализа.\n",
    "\n",
    "В части скачка группы В, однозначного выхода на плато мы не наблюдаем, наоборот есть некоторое падение среднего чека после скачка, что логично, если принять за допущение, что скачок произошел по причине аномально крупного заказа, и \"истинный\" средний чек может себя показать, или после чистки данных, или после большего периода наблюдений.  \n"
   ]
  },
  {
   "cell_type": "markdown",
   "id": "98f19b3e",
   "metadata": {},
   "source": [
    "## График относительного изменения кумулятивного среднего чека группы B к группе A"
   ]
  },
  {
   "cell_type": "code",
   "execution_count": 34,
   "id": "d000b685",
   "metadata": {},
   "outputs": [
    {
     "data": {
      "image/png": "[encoded data removed]",
      "text/plain": [
       "<Figure size 720x432 with 1 Axes>"
      ]
     },
     "metadata": {
      "needs_background": "light"
     },
     "output_type": "display_data"
    }
   ],
   "source": [
    "mergedCumulativeRevenue = cumulativeRevenueA.merge(cumulativeRevenueB, left_on='date',\n",
    "                                                   right_on='date',\n",
    "                                                   how='left',\n",
    "                                                   suffixes=['A', 'B'])\n",
    "plt.figure(figsize=(10, 6))\n",
    "plt.plot(mergedCumulativeRevenue['date'],\n",
    "         (mergedCumulativeRevenue['revenueB']/mergedCumulativeRevenue['ordersB'])/\\\n",
    "         (mergedCumulativeRevenue['revenueA']/mergedCumulativeRevenue['ordersA'])-1)\n",
    "plt.axhline(y=0, color='red', linestyle='--') \n",
    "plt.grid(True)\n",
    "plt.title(\"График относительного изменения кумулятивного среднего чека\")\n",
    "plt.xlabel(\"Дата\")\n",
    "plt.ylabel(\"отношение\")\n",
    "date_form = DateFormatter(\"%m-%d\")\n",
    "plt.gca().xaxis.set_major_formatter(date_form)\n",
    "\n",
    "plt.show()"
   ]
  },
  {
   "cell_type": "markdown",
   "id": "e73edb27",
   "metadata": {},
   "source": [
    "Группа В, после 15 августа показывает стабильно большее значение, всплеск 19 августа виден и тут конечно, но пока общая тенденция просматривается- показатели группы В значительно лучше."
   ]
  },
  {
   "cell_type": "markdown",
   "id": "54859de0",
   "metadata": {},
   "source": [
    "## График кумулятивного среднего количества заказов на посетителя по группам. "
   ]
  },
  {
   "cell_type": "code",
   "execution_count": 35,
   "id": "9d24e225",
   "metadata": {},
   "outputs": [],
   "source": [
    "cumulativeData['convers'] = ((cumulativeData['orders']/cumulativeData['visitors'])*100).round (4)"
   ]
  },
  {
   "cell_type": "code",
   "execution_count": 36,
   "id": "b5cc98e3",
   "metadata": {},
   "outputs": [
    {
     "data": {
      "image/png": "[encoded data removed]",
      "text/plain": [
       "<Figure size 720x432 with 1 Axes>"
      ]
     },
     "metadata": {
      "needs_background": "light"
     },
     "output_type": "display_data"
    }
   ],
   "source": [
    "plt.figure(figsize=(10, 6))\n",
    "cumulativeDataA = cumulativeData [cumulativeData['group']=='A']\n",
    "cumulativeDataB = cumulativeData [cumulativeData['group']=='B']\n",
    "plt.plot (cumulativeDataA ['date'], cumulativeDataA ['convers'], label='A')\n",
    "plt.plot (cumulativeDataB ['date'], cumulativeDataB ['convers'], label='B')\n",
    "plt.grid(True)\n",
    "plt.title(\"Кум.среднее количество заказов по группам\")\n",
    "plt.xlabel(\"Дата\")\n",
    "plt.ylabel(\"Среднее количество заказов\")\n",
    "date_form = DateFormatter(\"%m-%d\")\n",
    "plt.gca().xaxis.set_major_formatter(date_form)\n",
    "plt.legend(loc='upper right')\n",
    "plt.show()\n"
   ]
  },
  {
   "cell_type": "markdown",
   "id": "e35727fe",
   "metadata": {},
   "source": [
    "Если в общем и целом, обе группы показывают сопостовимые показатели среднего количества заказов на посетителя, в диапазоне от 3,0 до 3,7, да, значение и в группе А и в группе В, меньше 4, но если опираться на конкретные цифры, показатель среднего количества заказов в группе В лучше, в период с 1 по 5 августа обе группы показывают всплеск, причем группа А показывает всплеск почти до 3.7, но уже после 6 августа группы меняются местами, и группа В имеет стабильный рост количества заказов на посетителя с выходом на потенциальное плато в районе 3,3-3,4, а группа А наоборот проседает и закрепляется около 3,0"
   ]
  },
  {
   "cell_type": "markdown",
   "id": "19ef889c",
   "metadata": {},
   "source": [
    "## График относительного изменения кумулятивного среднего количества заказов на посетителя группы B к группе A."
   ]
  },
  {
   "cell_type": "code",
   "execution_count": 37,
   "id": "34a748da",
   "metadata": {},
   "outputs": [
    {
     "data": {
      "image/png": "[encoded data removed]",
      "text/plain": [
       "<Figure size 720x432 with 1 Axes>"
      ]
     },
     "metadata": {
      "needs_background": "light"
     },
     "output_type": "display_data"
    }
   ],
   "source": [
    "mergedCumulativeconvers = cumulativeDataA.merge(cumulativeDataB, left_on='date',\n",
    "                                                   right_on='date',\n",
    "                                                   how='left',\n",
    "                                                   suffixes=['A', 'B'])\n",
    "plt.figure(figsize=(10, 6))\n",
    "plt.plot(mergedCumulativeconvers['date'],\n",
    "         (mergedCumulativeconvers['ordersB']/mergedCumulativeconvers['visitorsB'])/\\\n",
    "         (mergedCumulativeconvers['ordersA']/mergedCumulativeconvers['visitorsA'])-1)\n",
    "plt.axhline(y=0, color='red', linestyle='--')\n",
    "plt.axhline(y=0.1, color='black', linestyle='--')\n",
    "plt.grid(True)\n",
    "plt.title(\"График относительного изменения кум. среднего количества заказов\")\n",
    "plt.xlabel(\"Дата\")\n",
    "plt.ylabel(\"отношение\")\n",
    "date_form = DateFormatter(\"%m-%d\")\n",
    "plt.gca().xaxis.set_major_formatter(date_form)\n",
    "\n",
    "plt.show()"
   ]
  },
  {
   "cell_type": "markdown",
   "id": "f43c8521",
   "metadata": {},
   "source": [
    "Как и отмечалось на прошлом этапе, начиная с 6 августа кум.сред.количество заказов группы В значительно лучше контрольной, после указанной даты, отношение переходит границу 0, и далее к концу наблюдаемого периода закрепляется в диапазоне 0,10-0,15, без тенденции на снижение. "
   ]
  },
  {
   "cell_type": "markdown",
   "id": "bd5367b8",
   "metadata": {},
   "source": [
    "## Точечный график количества заказов по пользователям"
   ]
  },
  {
   "cell_type": "code",
   "execution_count": 38,
   "id": "42d3ad6b",
   "metadata": {},
   "outputs": [
    {
     "data": {
      "text/html": [
       "<div>\n",
       "<style scoped>\n",
       "    .dataframe tbody tr th:only-of-type {\n",
       "        vertical-align: middle;\n",
       "    }\n",
       "\n",
       "    .dataframe tbody tr th {\n",
       "        vertical-align: top;\n",
       "    }\n",
       "\n",
       "    .dataframe thead th {\n",
       "        text-align: right;\n",
       "    }\n",
       "</style>\n",
       "<table border=\"1\" class=\"dataframe\">\n",
       "  <thead>\n",
       "    <tr style=\"text-align: right;\">\n",
       "      <th></th>\n",
       "      <th>userId</th>\n",
       "      <th>orders</th>\n",
       "    </tr>\n",
       "  </thead>\n",
       "  <tbody>\n",
       "    <tr>\n",
       "      <th>1023</th>\n",
       "      <td>4256040402</td>\n",
       "      <td>11</td>\n",
       "    </tr>\n",
       "    <tr>\n",
       "      <th>591</th>\n",
       "      <td>2458001652</td>\n",
       "      <td>11</td>\n",
       "    </tr>\n",
       "    <tr>\n",
       "      <th>569</th>\n",
       "      <td>2378935119</td>\n",
       "      <td>9</td>\n",
       "    </tr>\n",
       "    <tr>\n",
       "      <th>487</th>\n",
       "      <td>2038680547</td>\n",
       "      <td>8</td>\n",
       "    </tr>\n",
       "    <tr>\n",
       "      <th>44</th>\n",
       "      <td>199603092</td>\n",
       "      <td>5</td>\n",
       "    </tr>\n",
       "    <tr>\n",
       "      <th>744</th>\n",
       "      <td>3062433592</td>\n",
       "      <td>5</td>\n",
       "    </tr>\n",
       "    <tr>\n",
       "      <th>55</th>\n",
       "      <td>237748145</td>\n",
       "      <td>5</td>\n",
       "    </tr>\n",
       "    <tr>\n",
       "      <th>917</th>\n",
       "      <td>3803269165</td>\n",
       "      <td>5</td>\n",
       "    </tr>\n",
       "    <tr>\n",
       "      <th>299</th>\n",
       "      <td>1230306981</td>\n",
       "      <td>5</td>\n",
       "    </tr>\n",
       "    <tr>\n",
       "      <th>897</th>\n",
       "      <td>3717692402</td>\n",
       "      <td>5</td>\n",
       "    </tr>\n",
       "  </tbody>\n",
       "</table>\n",
       "</div>"
      ],
      "text/plain": [
       "          userId  orders\n",
       "1023  4256040402      11\n",
       "591   2458001652      11\n",
       "569   2378935119       9\n",
       "487   2038680547       8\n",
       "44     199603092       5\n",
       "744   3062433592       5\n",
       "55     237748145       5\n",
       "917   3803269165       5\n",
       "299   1230306981       5\n",
       "897   3717692402       5"
      ]
     },
     "metadata": {},
     "output_type": "display_data"
    }
   ],
   "source": [
    "ordersByUsers = orders.groupby ('visitorId', as_index=False).agg ({'transactionId':'nunique'})\n",
    "ordersByUsers.columns = ['userId', 'orders']\n",
    "display (ordersByUsers.sort_values (by ='orders', ascending=False).head(10))"
   ]
  },
  {
   "cell_type": "code",
   "execution_count": 39,
   "id": "3c234b89",
   "metadata": {},
   "outputs": [
    {
     "data": {
      "image/png": "[encoded data removed]",
      "text/plain": [
       "<Figure size 720x432 with 1 Axes>"
      ]
     },
     "metadata": {
      "needs_background": "light"
     },
     "output_type": "display_data"
    }
   ],
   "source": [
    "x_values = pd.Series(range(0, len(ordersByUsers)))\n",
    "plt.figure(figsize=(10, 6))\n",
    "plt.scatter(x_values, ordersByUsers['orders'], marker='o', s=25, color='blue')\n",
    "plt.grid(True)\n",
    "plt.title(\"Точечный график количества заказов\", fontsize=16)\n",
    "\n",
    "plt.ylabel(\"Количество заказов\", fontsize=14)\n",
    "\n",
    "z = np.polyfit(x_values, ordersByUsers['orders'], 1)\n",
    "p = np.poly1d(z)\n",
    "plt.plot(x_values,p(x_values),\"r--\", linewidth=2)\n",
    "\n",
    "\n",
    "\n",
    "plt.rcParams.update({'font.size': 14})\n",
    "plt.show()"
   ]
  },
  {
   "cell_type": "markdown",
   "id": "8b83f348",
   "metadata": {},
   "source": [
    "Подавляющее большинство клиентов делает только 1 заказ(линия тренда на графике), стоит отметить, что имеется слабый тренд на смещение среднего количества заказов в сторону 2-х (очень малый). Часть клиентов делает более 1-го заказа, но после значения 2 - такие заказы единичны. Имеются и аномально активные клиенты с 8 и более заказов на клиента"
   ]
  },
  {
   "cell_type": "markdown",
   "id": "85a6a379",
   "metadata": {},
   "source": [
    "## 95-й и 99-й перцентили количества заказов на пользователя."
   ]
  },
  {
   "cell_type": "code",
   "execution_count": 40,
   "id": "605a36a8",
   "metadata": {},
   "outputs": [
    {
     "data": {
      "text/plain": [
       "'Процентили количества заказов на одного кользователя 95,96,97,98,99:'"
      ]
     },
     "metadata": {},
     "output_type": "display_data"
    },
    {
     "data": {
      "text/plain": [
       "array([2., 2., 2., 3., 4.])"
      ]
     },
     "metadata": {},
     "output_type": "display_data"
    },
    {
     "data": {
      "text/plain": [
       "'Процентили количества заказов на одного кользователя - 98%:'"
      ]
     },
     "metadata": {},
     "output_type": "display_data"
    },
    {
     "data": {
      "text/plain": [
       "array([3.])"
      ]
     },
     "metadata": {},
     "output_type": "display_data"
    }
   ],
   "source": [
    "percentiles = np.percentile(ordersByUsers['orders'], [95,96,97,98,99])\n",
    "display('Процентили количества заказов на одного кользователя 95,96,97,98,99:', percentiles)\n",
    "\n",
    "percentiles_98 = np.percentile(ordersByUsers['orders'], [98])\n",
    "display('Процентили количества заказов на одного кользователя - 98%:', percentiles_98)"
   ]
  },
  {
   "cell_type": "markdown",
   "id": "b37caf33",
   "metadata": {},
   "source": [
    "95% пользователей вошли в 2 заказа, 99% включают пользователей с заказами до 4-х, но мы видим, что для 98% граница в районе 3-х заказов на пользователя. Оставляет для расчетов 98%"
   ]
  },
  {
   "cell_type": "markdown",
   "id": "c5af463f",
   "metadata": {},
   "source": [
    "## Точечный график стоимостей заказов."
   ]
  },
  {
   "cell_type": "code",
   "execution_count": 41,
   "id": "63e5fd80",
   "metadata": {},
   "outputs": [
    {
     "data": {
      "image/png": "[encoded data removed]",
      "text/plain": [
       "<Figure size 720x432 with 1 Axes>"
      ]
     },
     "metadata": {
      "needs_background": "light"
     },
     "output_type": "display_data"
    }
   ],
   "source": [
    "x_values = pd.Series(range(0, len(orders)))\n",
    "plt.figure(figsize=(10, 6))\n",
    "plt.scatter(x_values, orders['revenue'], marker='o', s=25, color='blue')\n",
    "plt.grid(True)\n",
    "plt.title(\"Точечный график стоимости заказов\", fontsize=16)\n",
    "\n",
    "plt.ylabel(\"Стоиомсть заказов\", fontsize=14)\n",
    "\n",
    "z = np.polyfit(x_values, orders['revenue'], 1)\n",
    "p = np.poly1d(z)\n",
    "plt.plot(x_values,p(x_values),\"r--\", linewidth=2)\n",
    "\n",
    "\n",
    "\n",
    "plt.rcParams.update({'font.size': 14})\n",
    "plt.show()"
   ]
  },
  {
   "cell_type": "markdown",
   "id": "7ccabfb0",
   "metadata": {},
   "source": [
    "Как уже отмечалось ранее подавляющее большинство заказов находится в пределах 0,1 (читать 100 000), а общая тенденция в стоимости заказов еще ниже - около 0,01 (читать 10 000), имеются аномально большие заказы, которые ранее мы уже отмечали на прошлых этапах анализа, в частности был отмечен заказ на сумму около 1 250 000.  Посмотрим на этот же параметр без отмеченных на графике аномалий"
   ]
  },
  {
   "cell_type": "code",
   "execution_count": 42,
   "id": "bf486196",
   "metadata": {},
   "outputs": [],
   "source": [
    "orders_drop_anomaly = orders.query ('revenue <= 150000')"
   ]
  },
  {
   "cell_type": "code",
   "execution_count": 43,
   "id": "9ad26ce4",
   "metadata": {},
   "outputs": [
    {
     "data": {
      "image/png": "[encoded data removed]",
      "text/plain": [
       "<Figure size 720x432 with 1 Axes>"
      ]
     },
     "metadata": {
      "needs_background": "light"
     },
     "output_type": "display_data"
    }
   ],
   "source": [
    "x_values = pd.Series(range(0, len(orders_drop_anomaly)))\n",
    "plt.figure(figsize=(10, 6))\n",
    "plt.scatter(x_values, orders_drop_anomaly['revenue'], marker='o', s=25, color='blue')\n",
    "plt.grid(True)\n",
    "plt.title(\"Точечный график стоимости заказов\", fontsize=16)\n",
    "\n",
    "plt.ylabel(\"Стоиомсть заказов\", fontsize=14)\n",
    "\n",
    "z = np.polyfit(x_values, orders_drop_anomaly['revenue'], 1)\n",
    "p = np.poly1d(z)\n",
    "plt.plot(x_values,p(x_values),\"r--\", linewidth=2)\n",
    "\n",
    "\n",
    "\n",
    "plt.rcParams.update({'font.size': 14})\n",
    "plt.show()"
   ]
  },
  {
   "cell_type": "markdown",
   "id": "47ff7a01",
   "metadata": {},
   "source": [
    "Теперь график стал более наглядный, мы видим, что ранее осуществленные расчеты, согласно которым средняя стоимость заказов около 8 000 рублей, нашел свое подтверждение в графике (линия тенденции)"
   ]
  },
  {
   "cell_type": "markdown",
   "id": "5b90ca3d",
   "metadata": {},
   "source": [
    "## 95-й и 99-й перцентили стоимости заказов"
   ]
  },
  {
   "cell_type": "code",
   "execution_count": 44,
   "id": "76dac6ed",
   "metadata": {},
   "outputs": [
    {
     "data": {
      "text/plain": [
       "'Процентили количества заказов на одного кользователя 95,96,97,98,99:'"
      ]
     },
     "metadata": {},
     "output_type": "display_data"
    },
    {
     "data": {
      "text/plain": [
       "array([28000. , 31382. , 35485. , 44133.2, 58233.2])"
      ]
     },
     "metadata": {},
     "output_type": "display_data"
    },
    {
     "data": {
      "text/plain": [
       "'Процентили количества заказов на одного кользователя 95,96,97,98,99:'"
      ]
     },
     "metadata": {},
     "output_type": "display_data"
    },
    {
     "data": {
      "text/plain": [
       "array([58233.2])"
      ]
     },
     "metadata": {},
     "output_type": "display_data"
    }
   ],
   "source": [
    "percentiles = np.percentile(orders['revenue'], [95,96,97,98,99])\n",
    "display('Процентили количества заказов на одного кользователя 95,96,97,98,99:', percentiles)\n",
    "percentiles_99 = np.percentile(orders['revenue'], [99])\n",
    "display('Процентили количества заказов на одного кользователя 95,96,97,98,99:', percentiles_99)"
   ]
  },
  {
   "cell_type": "markdown",
   "id": "2d40536f",
   "metadata": {},
   "source": [
    "В диапазон до 95% вошли заказы с стоимостью до 28000, 98 процентов заказов в диапазоне до 58322. Учитывая результаты анализа графика и определения процентелей, останавливаемся на 99%"
   ]
  },
  {
   "cell_type": "markdown",
   "id": "62f87532",
   "metadata": {},
   "source": [
    "## Статистическая значимость различий в среднем количестве заказов на посетителя между группами по «сырым» данным."
   ]
  },
  {
   "cell_type": "markdown",
   "id": "61e219f2",
   "metadata": {},
   "source": [
    "**Вводные**\n",
    "\n",
    "В расчетах используется непараметрический тест Уилкоксона-Манна-Уитни, с оценкой при уровне значимости 0,05"
   ]
  },
  {
   "cell_type": "markdown",
   "id": "8dddb379",
   "metadata": {},
   "source": [
    "Мы уже отмечали на прошлых этапах, что наблюдаем выбросы, но для определений их значимости необходимо провести дополнительное исследование.\n",
    "\n",
    "Для начала, сформулируем гипотезы. **Нулевая: различий в среднем количестве заказов между группами нет. Альтернативная: различия в среднем между группами есть.**\n",
    "\n"
   ]
  },
  {
   "cell_type": "code",
   "execution_count": 45,
   "id": "10ee1946",
   "metadata": {},
   "outputs": [],
   "source": [
    "visitorsADaily = visitors[visitors['group'] == 'A'][['date', 'visitors']]\n",
    "visitorsADaily.columns = ['date', 'visitorsPerDateA']\n"
   ]
  },
  {
   "cell_type": "code",
   "execution_count": 46,
   "id": "ffeb4fb7",
   "metadata": {},
   "outputs": [],
   "source": [
    "visitorsBDaily = visitors[visitors['group'] == 'B'][['date', 'visitors']]\n",
    "visitorsBDaily.columns = ['date', 'visitorsPerDateB']\n"
   ]
  },
  {
   "cell_type": "code",
   "execution_count": 47,
   "id": "ee2492d2",
   "metadata": {},
   "outputs": [],
   "source": [
    "ordersByUsersA = (\n",
    "    orders[orders['group'] == 'A']\n",
    "    .groupby('visitorId', as_index=False)\n",
    "    .agg({'transactionId': pd.Series.nunique})\n",
    ")\n",
    "ordersByUsersA.columns = ['userId', 'orders'] \n",
    "\n",
    "ordersByUsersB = (\n",
    "    orders[orders['group'] == 'B']\n",
    "    .groupby('visitorId', as_index=False)\n",
    "    .agg({'transactionId': pd.Series.nunique})\n",
    ")\n",
    "ordersByUsersB.columns = ['userId', 'orders'] "
   ]
  },
  {
   "cell_type": "markdown",
   "id": "86ee6083",
   "metadata": {},
   "source": [
    "Объявим переменные sampleA и sampleB"
   ]
  },
  {
   "cell_type": "code",
   "execution_count": 48,
   "id": "9e7e3fca",
   "metadata": {},
   "outputs": [],
   "source": [
    "sampleA = pd.concat([ordersByUsersA['orders'],pd.Series(0, index=np.arange(visitorsADaily['visitorsPerDateA'].sum() - len(ordersByUsersA['orders'])), name='orders')],axis=0)\n",
    "\n",
    "sampleB = pd.concat([ordersByUsersB['orders'],pd.Series(0, index=np.arange(visitorsBDaily['visitorsPerDateB'].sum() - len(ordersByUsersB['orders'])), name='orders')],axis=0) "
   ]
  },
  {
   "cell_type": "code",
   "execution_count": 49,
   "id": "4d0d28ad",
   "metadata": {},
   "outputs": [
    {
     "name": "stdout",
     "output_type": "stream",
     "text": [
      "alpha = 0.05\n"
     ]
    },
    {
     "data": {
      "text/plain": [
       "'0.017'"
      ]
     },
     "metadata": {},
     "output_type": "display_data"
    },
    {
     "data": {
      "text/plain": [
       "'0.138'"
      ]
     },
     "metadata": {},
     "output_type": "display_data"
    }
   ],
   "source": [
    "print  ('alpha =',0.05)\n",
    "display (\"{0:.3f}\".format(st.mannwhitneyu(sampleA, sampleB)[1]))\n",
    "\n",
    "display (\"{0:.3f}\".format(sampleB.mean() / sampleA.mean() - 1))"
   ]
  },
  {
   "cell_type": "markdown",
   "id": "e5b9cc15",
   "metadata": {},
   "source": [
    "**Вывод**\n",
    "\n",
    "По \"сырым\" данным наблюдается статистическая значимая разница, так как p-value меньше 0,05. Относительный выигрыш группы В к группе А около 13,8%.\n",
    "\n",
    "нулевую гипотезу отвергаем, статистическая значимость различий по \"сырым\" данным есть.\n"
   ]
  },
  {
   "cell_type": "markdown",
   "id": "dd68fac7",
   "metadata": {},
   "source": [
    "## Статистическую значимость различий в среднем чеке заказа между группами по «сырым» данным"
   ]
  },
  {
   "cell_type": "markdown",
   "id": "25cce261",
   "metadata": {},
   "source": [
    "**Нулевая: различий в среднем чеке заказа между группами нет. Альтернативная: различия в среднем чеке между группами есть.**"
   ]
  },
  {
   "cell_type": "code",
   "execution_count": 50,
   "id": "d9eb2bf3",
   "metadata": {},
   "outputs": [
    {
     "name": "stdout",
     "output_type": "stream",
     "text": [
      "alpha = 0.05\n"
     ]
    },
    {
     "data": {
      "text/plain": [
       "'0.729'"
      ]
     },
     "metadata": {},
     "output_type": "display_data"
    },
    {
     "data": {
      "text/plain": [
       "'0.259'"
      ]
     },
     "metadata": {},
     "output_type": "display_data"
    }
   ],
   "source": [
    "print  ('alpha =',0.05)\n",
    "display ('{0:.3f}'.format(st.mannwhitneyu(orders[orders['group']=='A']['revenue'],\\\n",
    "                                             orders[orders['group']=='B']['revenue'])[1]))\n",
    "display ('{0:.3f}'.format(orders[orders['group']=='B']['revenue'].mean()/orders[orders['group']=='A']['revenue'].mean()-1)) \n"
   ]
  },
  {
   "cell_type": "markdown",
   "id": "34aaf461",
   "metadata": {},
   "source": [
    "Результат теста - p-value больше 0,05 - нулевую гипотезу не отвергаем. "
   ]
  },
  {
   "cell_type": "markdown",
   "id": "581e9a54",
   "metadata": {},
   "source": [
    "## Статистическая значимость различий в среднем количестве заказов на посетителя между группами по «очищенным» данным"
   ]
  },
  {
   "cell_type": "markdown",
   "id": "f113e7d9",
   "metadata": {},
   "source": [
    "**Нулевая гипотеза: различий в конверсии между группами нет. Альтернативная гипотеза: различия в конверсии между группами есть.**"
   ]
  },
  {
   "cell_type": "markdown",
   "id": "2e1ac662",
   "metadata": {},
   "source": [
    "Ранее мы отпределили границы аномалий в части количества и суммы заказов в 3 и 58234 соответсвенно"
   ]
  },
  {
   "cell_type": "code",
   "execution_count": 51,
   "id": "1a85164e",
   "metadata": {},
   "outputs": [
    {
     "data": {
      "text/plain": [
       "1099    148427295\n",
       "18      199603092\n",
       "23      237748145\n",
       "37      249864742\n",
       "68      457167155\n",
       "dtype: int64"
      ]
     },
     "metadata": {},
     "output_type": "display_data"
    },
    {
     "data": {
      "text/plain": [
       "31"
      ]
     },
     "metadata": {},
     "output_type": "display_data"
    }
   ],
   "source": [
    "usersWithManyOrders = pd.concat(\n",
    "    [\n",
    "        ordersByUsersA[ordersByUsersA['orders'] >= percentiles_98[0]]['userId'],\n",
    "        ordersByUsersB[ordersByUsersB['orders'] >= percentiles_98[0]]['userId'],\n",
    "    ],\n",
    "    axis=0,\n",
    ")\n",
    "usersWithExpensiveOrders = orders[orders['revenue'] > percentiles_99[0]]['visitorId']\n",
    "abnormalUsers = (\n",
    "    pd.concat([usersWithManyOrders, usersWithExpensiveOrders], axis=0)\n",
    "    .drop_duplicates()\n",
    "    .sort_values()\n",
    ")\n",
    "display (abnormalUsers.head(5))\n",
    "display (abnormalUsers.shape[0]) "
   ]
  },
  {
   "cell_type": "markdown",
   "id": "0860d6cc",
   "metadata": {},
   "source": [
    "всего 31 аномальный пользователь\n",
    "\n",
    "Оценим различия по \"очищенным данным\""
   ]
  },
  {
   "cell_type": "code",
   "execution_count": 52,
   "id": "d3e707fc",
   "metadata": {},
   "outputs": [
    {
     "name": "stdout",
     "output_type": "stream",
     "text": [
      "alpha = 0.05\n"
     ]
    },
    {
     "data": {
      "text/plain": [
       "'0.010'"
      ]
     },
     "metadata": {},
     "output_type": "display_data"
    },
    {
     "data": {
      "text/plain": [
       "'0.174'"
      ]
     },
     "metadata": {},
     "output_type": "display_data"
    }
   ],
   "source": [
    "sampleAFiltered = pd.concat(\n",
    "    [\n",
    "        ordersByUsersA[\n",
    "            np.logical_not(ordersByUsersA['userId'].isin(abnormalUsers))\n",
    "        ]['orders'],\n",
    "        pd.Series(\n",
    "            0,\n",
    "            index=np.arange(\n",
    "                visitorsADaily['visitorsPerDateA'].sum() - len(ordersByUsersA['orders'])\n",
    "            ),\n",
    "            name='orders',\n",
    "        ),\n",
    "    ],\n",
    "    axis=0,\n",
    ")\n",
    "\n",
    "sampleBFiltered = pd.concat(\n",
    "    [\n",
    "        ordersByUsersB[\n",
    "            np.logical_not(ordersByUsersB['userId'].isin(abnormalUsers))\n",
    "        ]['orders'],\n",
    "        pd.Series(\n",
    "            0,\n",
    "            index=np.arange(\n",
    "                visitorsBDaily['visitorsPerDateB'].sum() - len(ordersByUsersB['orders'])\n",
    "            ),\n",
    "            name='orders',\n",
    "        ),\n",
    "    ],\n",
    "    axis=0,\n",
    ") \n",
    "print  ('alpha =',0.05)\n",
    "display ('{0:.3f}'.format(st.mannwhitneyu(sampleAFiltered, sampleBFiltered)[1]))\n",
    "display ('{0:.3f}'.format(sampleBFiltered.mean()/sampleAFiltered.mean()-1)) "
   ]
  },
  {
   "cell_type": "markdown",
   "id": "4b162c3e",
   "metadata": {},
   "source": [
    "Результаты по среднему количеству заказов изменились. Нулевую гипотезу отвергаем, выгрыш группы В после очистки данных, по сравнению с группой А около 17,4%"
   ]
  },
  {
   "cell_type": "markdown",
   "id": "e132799c",
   "metadata": {},
   "source": [
    "## Статистическая значимость различий в среднем чеке заказа между группами по «очищенным» данным."
   ]
  },
  {
   "cell_type": "code",
   "execution_count": 53,
   "id": "f2013ac0",
   "metadata": {},
   "outputs": [
    {
     "name": "stdout",
     "output_type": "stream",
     "text": [
      "alpha = 0.05\n"
     ]
    },
    {
     "data": {
      "text/plain": [
       "'0.798'"
      ]
     },
     "metadata": {},
     "output_type": "display_data"
    },
    {
     "data": {
      "text/plain": [
       "'-0.020'"
      ]
     },
     "metadata": {},
     "output_type": "display_data"
    }
   ],
   "source": [
    "print  ('alpha =',0.05)\n",
    "display (\n",
    "    '{0:.3f}'.format(\n",
    "        st.mannwhitneyu(\n",
    "            orders[\n",
    "                np.logical_and(\n",
    "                    orders['group'] == 'A',\n",
    "                    np.logical_not(orders['visitorId'].isin(abnormalUsers)),\n",
    "                )\n",
    "            ]['revenue'],\n",
    "            orders[\n",
    "                np.logical_and(\n",
    "                    orders['group'] == 'B',\n",
    "                    np.logical_not(orders['visitorId'].isin(abnormalUsers)),\n",
    "                )\n",
    "            ]['revenue'],\n",
    "        )[1]\n",
    "    )\n",
    ")\n",
    "\n",
    "display (\n",
    "    \"{0:.3f}\".format(\n",
    "        orders[\n",
    "            np.logical_and(\n",
    "                orders['group'] == 'B',\n",
    "                np.logical_not(orders['visitorId'].isin(abnormalUsers)),\n",
    "            )\n",
    "        ]['revenue'].mean()\n",
    "        / orders[\n",
    "            np.logical_and(\n",
    "                orders['group'] == 'A',\n",
    "                np.logical_not(orders['visitorId'].isin(abnormalUsers)),\n",
    "            )\n",
    "        ]['revenue'].mean()\n",
    "        - 1\n",
    "    )\n",
    ") \n"
   ]
  },
  {
   "cell_type": "markdown",
   "id": "a24a9649",
   "metadata": {},
   "source": [
    "Результат: Нулевую гипотезу не отвергаем, значение p-value больше 0,05, проигрыш группы В, после очистки данных, в среднем чеке составляет около 2%"
   ]
  },
  {
   "cell_type": "markdown",
   "id": "90cb9fb9",
   "metadata": {},
   "source": [
    "# Выводы и рекомендации"
   ]
  },
  {
   "cell_type": "markdown",
   "id": "29c9c137",
   "metadata": {},
   "source": [
    "По итогам изучения результатов теста, получены следующие данные:\n",
    "\n",
    "1.\tНа «сырых» данных:\n",
    "\n",
    "    a.\tОтказ от основной гипотезы в пользу альтернативной гипотезы – имеются статистически значимые различия в среднем количестве заказов между группами, выигрыш группы В составляет 13,8% \n",
    "    b.\tОсновную гипотезу не отвергаем – статистически значимых различий в среднем чеке нет, хоть выигрыш группы В по среднему чеку составляет 25,9%, но в ходе исследования пришли к пониманию, что данные значения получены благодаря случайному выбросу в виде аномально большого заказа.\n",
    "    \n",
    "2.\tНа «очищенных» данных:\n",
    "\n",
    "    a.\tОтказ от основной гипотезы в пользу альтернативной гипотезы – имеются статистически значимые различия в среднем количестве заказов между группами, выигрыш группы В составляет 17,4% \n",
    "    \n",
    "    b.\tОсновную гипотезу не отвергаем – статистически значимых различий в среднем чеке нет.\n",
    "\n",
    "    Как можем увидеть, после очистки от аномальных значений, оценка гипотез не изменилась, а вот результаты отношений претерпели существенные изменения.\n",
    "    \n",
    "    Так, после очистки уровень конверсии в группе В стал 17,4% против 13,8% до.\n",
    "    \n",
    "    Средний чек, после очистки сильно стал меньше в группе В, до очистки разница была 25,9%, а после очистки -2%. Данный момент предполагался на всем этапе работы с данными, так как были выявлены аномально большие заказы, в частности заказ на сумму более 1,294 млн., против среднего чека около 8 348. \n",
    "\n",
    "**Итог:** Проведение теста рекомендуется остановить, по результатам тестирования - группа В показала себя значительно более эффективной, с выигрышем в 17,4% в части среднего количества заказов на посетителя. Таким образом, на каждого посетителя из группы В приходится на 17.4% больше заказов чем на каждого посетителя из группы А, что в свою очередь может увеличить общую выручку относительно посетителей из группы В."
   ]
  }
 ],
 "metadata": {
  "ExecuteTimeLog": [
   {
    "duration": 5513,
    "start_time": "2023-04-25T12:22:07.439Z"
   },
   {
    "duration": 493,
    "start_time": "2023-04-25T12:22:12.954Z"
   },
   {
    "duration": 26,
    "start_time": "2023-04-25T12:22:13.449Z"
   },
   {
    "duration": 7,
    "start_time": "2023-04-25T12:22:13.477Z"
   },
   {
    "duration": 25,
    "start_time": "2023-04-25T12:22:13.485Z"
   },
   {
    "duration": 30,
    "start_time": "2023-04-25T12:22:13.512Z"
   },
   {
    "duration": 36,
    "start_time": "2023-04-25T12:22:13.545Z"
   },
   {
    "duration": 6,
    "start_time": "2023-04-25T12:22:13.583Z"
   },
   {
    "duration": 22,
    "start_time": "2023-04-25T12:22:13.590Z"
   },
   {
    "duration": 22,
    "start_time": "2023-04-25T12:22:13.615Z"
   },
   {
    "duration": 17,
    "start_time": "2023-04-25T12:22:13.640Z"
   },
   {
    "duration": 25,
    "start_time": "2023-04-25T12:22:13.658Z"
   },
   {
    "duration": 16,
    "start_time": "2023-04-25T12:22:13.684Z"
   },
   {
    "duration": 286,
    "start_time": "2023-04-25T12:22:13.702Z"
   },
   {
    "duration": 14,
    "start_time": "2023-04-25T12:22:13.991Z"
   },
   {
    "duration": 285,
    "start_time": "2023-04-25T12:22:14.007Z"
   },
   {
    "duration": 13,
    "start_time": "2023-04-25T12:22:14.295Z"
   },
   {
    "duration": 35,
    "start_time": "2023-04-25T12:22:14.310Z"
   },
   {
    "duration": 29,
    "start_time": "2023-04-25T12:22:14.348Z"
   },
   {
    "duration": 12,
    "start_time": "2023-04-25T12:22:14.380Z"
   },
   {
    "duration": 204,
    "start_time": "2023-04-25T12:22:14.393Z"
   },
   {
    "duration": 153,
    "start_time": "2023-04-25T12:22:14.599Z"
   },
   {
    "duration": 8,
    "start_time": "2023-04-25T12:22:14.754Z"
   },
   {
    "duration": 12,
    "start_time": "2023-04-25T12:22:14.764Z"
   },
   {
    "duration": 16,
    "start_time": "2023-04-25T12:22:14.778Z"
   },
   {
    "duration": 346,
    "start_time": "2023-04-25T12:22:14.796Z"
   },
   {
    "duration": 16,
    "start_time": "2023-04-25T12:22:15.145Z"
   },
   {
    "duration": 29,
    "start_time": "2023-04-25T12:22:15.165Z"
   },
   {
    "duration": 262,
    "start_time": "2023-04-25T12:22:15.196Z"
   },
   {
    "duration": 353,
    "start_time": "2023-04-25T12:22:15.460Z"
   },
   {
    "duration": 5,
    "start_time": "2023-04-25T12:22:15.814Z"
   },
   {
    "duration": 283,
    "start_time": "2023-04-25T12:22:15.821Z"
   },
   {
    "duration": 367,
    "start_time": "2023-04-25T12:22:16.105Z"
   },
   {
    "duration": 12,
    "start_time": "2023-04-25T12:22:16.473Z"
   },
   {
    "duration": 291,
    "start_time": "2023-04-25T12:22:16.487Z"
   },
   {
    "duration": 7,
    "start_time": "2023-04-25T12:22:16.779Z"
   },
   {
    "duration": 219,
    "start_time": "2023-04-25T12:22:16.788Z"
   },
   {
    "duration": 5,
    "start_time": "2023-04-25T12:22:17.009Z"
   },
   {
    "duration": 226,
    "start_time": "2023-04-25T12:22:17.015Z"
   },
   {
    "duration": 10,
    "start_time": "2023-04-25T12:22:17.244Z"
   },
   {
    "duration": 88,
    "start_time": "2023-04-25T12:22:17.257Z"
   },
   {
    "duration": 71,
    "start_time": "2023-04-25T12:22:17.348Z"
   },
   {
    "duration": 100,
    "start_time": "2023-04-25T12:22:17.421Z"
   },
   {
    "duration": 99,
    "start_time": "2023-04-25T12:22:17.523Z"
   },
   {
    "duration": 40,
    "start_time": "2023-04-25T12:22:17.624Z"
   },
   {
    "duration": 185,
    "start_time": "2023-04-25T12:22:17.666Z"
   },
   {
    "duration": 8,
    "start_time": "2023-04-25T12:22:17.854Z"
   },
   {
    "duration": 51,
    "start_time": "2023-04-25T12:22:17.864Z"
   },
   {
    "duration": 29,
    "start_time": "2023-04-25T12:22:17.933Z"
   },
   {
    "duration": 24,
    "start_time": "2023-04-25T12:22:17.964Z"
   },
   {
    "duration": 75,
    "start_time": "2023-04-25T12:22:17.990Z"
   },
   {
    "duration": 25,
    "start_time": "2023-04-25T12:22:18.068Z"
   },
   {
    "duration": 3895,
    "start_time": "2023-04-25T16:36:18.602Z"
   },
   {
    "duration": 249,
    "start_time": "2023-04-25T16:36:22.499Z"
   },
   {
    "duration": 23,
    "start_time": "2023-04-25T16:36:22.750Z"
   },
   {
    "duration": 6,
    "start_time": "2023-04-25T16:36:22.775Z"
   },
   {
    "duration": 24,
    "start_time": "2023-04-25T16:36:22.783Z"
   },
   {
    "duration": 5,
    "start_time": "2023-04-25T16:36:22.809Z"
   },
   {
    "duration": 18,
    "start_time": "2023-04-25T16:36:22.816Z"
   },
   {
    "duration": 36,
    "start_time": "2023-04-25T16:36:22.836Z"
   },
   {
    "duration": 5,
    "start_time": "2023-04-25T16:36:22.874Z"
   },
   {
    "duration": 25,
    "start_time": "2023-04-25T16:36:22.881Z"
   },
   {
    "duration": 31,
    "start_time": "2023-04-25T16:36:22.907Z"
   },
   {
    "duration": 14,
    "start_time": "2023-04-25T16:36:22.940Z"
   },
   {
    "duration": 16,
    "start_time": "2023-04-25T16:36:22.956Z"
   },
   {
    "duration": 33,
    "start_time": "2023-04-25T16:36:22.974Z"
   },
   {
    "duration": 12,
    "start_time": "2023-04-25T16:36:23.009Z"
   },
   {
    "duration": 15,
    "start_time": "2023-04-25T16:36:23.023Z"
   },
   {
    "duration": 34,
    "start_time": "2023-04-25T16:36:23.039Z"
   },
   {
    "duration": 231,
    "start_time": "2023-04-25T16:36:23.075Z"
   },
   {
    "duration": 12,
    "start_time": "2023-04-25T16:36:23.308Z"
   },
   {
    "duration": 205,
    "start_time": "2023-04-25T16:36:23.321Z"
   },
   {
    "duration": 8,
    "start_time": "2023-04-25T16:36:23.527Z"
   },
   {
    "duration": 19,
    "start_time": "2023-04-25T16:36:23.537Z"
   },
   {
    "duration": 22,
    "start_time": "2023-04-25T16:36:23.558Z"
   },
   {
    "duration": 13,
    "start_time": "2023-04-25T16:36:23.582Z"
   },
   {
    "duration": 168,
    "start_time": "2023-04-25T16:36:23.597Z"
   },
   {
    "duration": 125,
    "start_time": "2023-04-25T16:36:23.767Z"
   },
   {
    "duration": 7,
    "start_time": "2023-04-25T16:36:23.893Z"
   },
   {
    "duration": 10,
    "start_time": "2023-04-25T16:36:23.905Z"
   },
   {
    "duration": 20,
    "start_time": "2023-04-25T16:36:23.917Z"
   },
   {
    "duration": 268,
    "start_time": "2023-04-25T16:36:23.938Z"
   },
   {
    "duration": 12,
    "start_time": "2023-04-25T16:36:24.207Z"
   },
   {
    "duration": 20,
    "start_time": "2023-04-25T16:36:24.220Z"
   },
   {
    "duration": 194,
    "start_time": "2023-04-25T16:36:24.242Z"
   },
   {
    "duration": 371,
    "start_time": "2023-04-25T16:36:24.438Z"
   },
   {
    "duration": 5,
    "start_time": "2023-04-25T16:36:24.811Z"
   },
   {
    "duration": 214,
    "start_time": "2023-04-25T16:36:24.819Z"
   },
   {
    "duration": 296,
    "start_time": "2023-04-25T16:36:25.035Z"
   },
   {
    "duration": 12,
    "start_time": "2023-04-25T16:36:25.332Z"
   },
   {
    "duration": 206,
    "start_time": "2023-04-25T16:36:25.345Z"
   },
   {
    "duration": 21,
    "start_time": "2023-04-25T16:36:25.553Z"
   },
   {
    "duration": 169,
    "start_time": "2023-04-25T16:36:25.576Z"
   },
   {
    "duration": 5,
    "start_time": "2023-04-25T16:36:25.747Z"
   },
   {
    "duration": 159,
    "start_time": "2023-04-25T16:36:25.754Z"
   },
   {
    "duration": 9,
    "start_time": "2023-04-25T16:36:25.914Z"
   },
   {
    "duration": 12,
    "start_time": "2023-04-25T16:36:25.925Z"
   },
   {
    "duration": 16,
    "start_time": "2023-04-25T16:36:25.938Z"
   },
   {
    "duration": 147,
    "start_time": "2023-04-25T16:36:25.955Z"
   },
   {
    "duration": 5,
    "start_time": "2023-04-25T16:36:26.104Z"
   },
   {
    "duration": 35,
    "start_time": "2023-04-25T16:36:26.110Z"
   },
   {
    "duration": 31,
    "start_time": "2023-04-25T16:36:26.147Z"
   },
   {
    "duration": 13,
    "start_time": "2023-04-25T16:36:26.180Z"
   },
   {
    "duration": 62,
    "start_time": "2023-04-25T16:36:26.195Z"
   },
   {
    "duration": 20,
    "start_time": "2023-04-25T16:36:26.259Z"
   }
  ],
  "kernelspec": {
   "display_name": "Python 3 (ipykernel)",
   "language": "python",
   "name": "python3"
  },
  "language_info": {
   "codemirror_mode": {
    "name": "ipython",
    "version": 3
   },
   "file_extension": ".py",
   "mimetype": "text/x-python",
   "name": "python",
   "nbconvert_exporter": "python",
   "pygments_lexer": "ipython3",
   "version": "3.9.5"
  },
  "toc": {
   "base_numbering": 1,
   "nav_menu": {
    "height": "248px",
    "width": "341px"
   },
   "number_sections": false,
   "sideBar": true,
   "skip_h1_title": false,
   "title_cell": "Содержание",
   "title_sidebar": "Содержание",
   "toc_cell": false,
   "toc_position": {
    "height": "calc(100% - 180px)",
    "left": "10px",
    "top": "150px",
    "width": "245.312px"
   },
   "toc_section_display": false,
   "toc_window_display": true
  }
 },
 "nbformat": 4,
 "nbformat_minor": 5
}
