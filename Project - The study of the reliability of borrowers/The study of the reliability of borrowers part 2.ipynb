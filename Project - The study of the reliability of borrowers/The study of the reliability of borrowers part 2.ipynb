{
 "cells": [
  {
   "cell_type": "markdown",
   "id": "386f2ae7",
   "metadata": {
    "deletable": false,
    "editable": false,
    "id": "386f2ae7"
   },
   "source": [
    "# Исследование надежности заемщиков\n"
   ]
  },
  {
   "cell_type": "markdown",
   "id": "ffe86f65",
   "metadata": {
    "deletable": false,
    "editable": false,
    "id": "ffe86f65"
   },
   "source": [
    "Во второй части проекта вы выполните шаги 3 и 4. Их вручную проверит ревьюер.\n",
    "Чтобы вам не пришлось писать код заново для шагов 1 и 2, мы добавили авторские решения в ячейки с кодом. \n",
    "\n"
   ]
  },
  {
   "cell_type": "markdown",
   "id": "26613308",
   "metadata": {
    "deletable": false,
    "editable": false,
    "id": "26613308"
   },
   "source": [
    "## Откройте таблицу и изучите общую информацию о данных"
   ]
  },
  {
   "cell_type": "markdown",
   "id": "3c9f838e",
   "metadata": {
    "deletable": false,
    "editable": false,
    "id": "3c9f838e"
   },
   "source": [
    "**Задание 1. Импортируйте библиотеку pandas. Считайте данные из csv-файла в датафрейм и сохраните в переменную `data`. Путь к файлу:**\n",
    "\n",
    "`/datasets/data.csv`"
   ]
  },
  {
   "cell_type": "code",
   "execution_count": 1,
   "id": "77a68a90",
   "metadata": {
    "deletable": false,
    "id": "77a68a90"
   },
   "outputs": [],
   "source": [
    "import pandas as pd\n",
    "\n",
    "try:\n",
    "    data = pd.read_csv('/datasets/data.csv')\n",
    "except:\n",
    "    data = pd.read_csv('https://code.s3.yandex.net/datasets/data.csv')"
   ]
  },
  {
   "cell_type": "markdown",
   "id": "45365635",
   "metadata": {
    "deletable": false,
    "editable": false,
    "id": "45365635"
   },
   "source": [
    "**Задание 2. Выведите первые 20 строчек датафрейма `data` на экран.**"
   ]
  },
  {
   "cell_type": "code",
   "execution_count": 2,
   "id": "b0451a9a",
   "metadata": {
    "deletable": false,
    "id": "b0451a9a",
    "outputId": "1a8f3ef2-d323-4ec2-ddf7-89670b5944c4"
   },
   "outputs": [
    {
     "data": {
      "text/html": [
       "<div>\n",
       "<style scoped>\n",
       "    .dataframe tbody tr th:only-of-type {\n",
       "        vertical-align: middle;\n",
       "    }\n",
       "\n",
       "    .dataframe tbody tr th {\n",
       "        vertical-align: top;\n",
       "    }\n",
       "\n",
       "    .dataframe thead th {\n",
       "        text-align: right;\n",
       "    }\n",
       "</style>\n",
       "<table border=\"1\" class=\"dataframe\">\n",
       "  <thead>\n",
       "    <tr style=\"text-align: right;\">\n",
       "      <th></th>\n",
       "      <th>children</th>\n",
       "      <th>days_employed</th>\n",
       "      <th>dob_years</th>\n",
       "      <th>education</th>\n",
       "      <th>education_id</th>\n",
       "      <th>family_status</th>\n",
       "      <th>family_status_id</th>\n",
       "      <th>gender</th>\n",
       "      <th>income_type</th>\n",
       "      <th>debt</th>\n",
       "      <th>total_income</th>\n",
       "      <th>purpose</th>\n",
       "    </tr>\n",
       "  </thead>\n",
       "  <tbody>\n",
       "    <tr>\n",
       "      <th>0</th>\n",
       "      <td>1</td>\n",
       "      <td>-8437.673028</td>\n",
       "      <td>42</td>\n",
       "      <td>высшее</td>\n",
       "      <td>0</td>\n",
       "      <td>женат / замужем</td>\n",
       "      <td>0</td>\n",
       "      <td>F</td>\n",
       "      <td>сотрудник</td>\n",
       "      <td>0</td>\n",
       "      <td>253875.639453</td>\n",
       "      <td>покупка жилья</td>\n",
       "    </tr>\n",
       "    <tr>\n",
       "      <th>1</th>\n",
       "      <td>1</td>\n",
       "      <td>-4024.803754</td>\n",
       "      <td>36</td>\n",
       "      <td>среднее</td>\n",
       "      <td>1</td>\n",
       "      <td>женат / замужем</td>\n",
       "      <td>0</td>\n",
       "      <td>F</td>\n",
       "      <td>сотрудник</td>\n",
       "      <td>0</td>\n",
       "      <td>112080.014102</td>\n",
       "      <td>приобретение автомобиля</td>\n",
       "    </tr>\n",
       "    <tr>\n",
       "      <th>2</th>\n",
       "      <td>0</td>\n",
       "      <td>-5623.422610</td>\n",
       "      <td>33</td>\n",
       "      <td>Среднее</td>\n",
       "      <td>1</td>\n",
       "      <td>женат / замужем</td>\n",
       "      <td>0</td>\n",
       "      <td>M</td>\n",
       "      <td>сотрудник</td>\n",
       "      <td>0</td>\n",
       "      <td>145885.952297</td>\n",
       "      <td>покупка жилья</td>\n",
       "    </tr>\n",
       "    <tr>\n",
       "      <th>3</th>\n",
       "      <td>3</td>\n",
       "      <td>-4124.747207</td>\n",
       "      <td>32</td>\n",
       "      <td>среднее</td>\n",
       "      <td>1</td>\n",
       "      <td>женат / замужем</td>\n",
       "      <td>0</td>\n",
       "      <td>M</td>\n",
       "      <td>сотрудник</td>\n",
       "      <td>0</td>\n",
       "      <td>267628.550329</td>\n",
       "      <td>дополнительное образование</td>\n",
       "    </tr>\n",
       "    <tr>\n",
       "      <th>4</th>\n",
       "      <td>0</td>\n",
       "      <td>340266.072047</td>\n",
       "      <td>53</td>\n",
       "      <td>среднее</td>\n",
       "      <td>1</td>\n",
       "      <td>гражданский брак</td>\n",
       "      <td>1</td>\n",
       "      <td>F</td>\n",
       "      <td>пенсионер</td>\n",
       "      <td>0</td>\n",
       "      <td>158616.077870</td>\n",
       "      <td>сыграть свадьбу</td>\n",
       "    </tr>\n",
       "    <tr>\n",
       "      <th>5</th>\n",
       "      <td>0</td>\n",
       "      <td>-926.185831</td>\n",
       "      <td>27</td>\n",
       "      <td>высшее</td>\n",
       "      <td>0</td>\n",
       "      <td>гражданский брак</td>\n",
       "      <td>1</td>\n",
       "      <td>M</td>\n",
       "      <td>компаньон</td>\n",
       "      <td>0</td>\n",
       "      <td>255763.565419</td>\n",
       "      <td>покупка жилья</td>\n",
       "    </tr>\n",
       "    <tr>\n",
       "      <th>6</th>\n",
       "      <td>0</td>\n",
       "      <td>-2879.202052</td>\n",
       "      <td>43</td>\n",
       "      <td>высшее</td>\n",
       "      <td>0</td>\n",
       "      <td>женат / замужем</td>\n",
       "      <td>0</td>\n",
       "      <td>F</td>\n",
       "      <td>компаньон</td>\n",
       "      <td>0</td>\n",
       "      <td>240525.971920</td>\n",
       "      <td>операции с жильем</td>\n",
       "    </tr>\n",
       "    <tr>\n",
       "      <th>7</th>\n",
       "      <td>0</td>\n",
       "      <td>-152.779569</td>\n",
       "      <td>50</td>\n",
       "      <td>СРЕДНЕЕ</td>\n",
       "      <td>1</td>\n",
       "      <td>женат / замужем</td>\n",
       "      <td>0</td>\n",
       "      <td>M</td>\n",
       "      <td>сотрудник</td>\n",
       "      <td>0</td>\n",
       "      <td>135823.934197</td>\n",
       "      <td>образование</td>\n",
       "    </tr>\n",
       "    <tr>\n",
       "      <th>8</th>\n",
       "      <td>2</td>\n",
       "      <td>-6929.865299</td>\n",
       "      <td>35</td>\n",
       "      <td>ВЫСШЕЕ</td>\n",
       "      <td>0</td>\n",
       "      <td>гражданский брак</td>\n",
       "      <td>1</td>\n",
       "      <td>F</td>\n",
       "      <td>сотрудник</td>\n",
       "      <td>0</td>\n",
       "      <td>95856.832424</td>\n",
       "      <td>на проведение свадьбы</td>\n",
       "    </tr>\n",
       "    <tr>\n",
       "      <th>9</th>\n",
       "      <td>0</td>\n",
       "      <td>-2188.756445</td>\n",
       "      <td>41</td>\n",
       "      <td>среднее</td>\n",
       "      <td>1</td>\n",
       "      <td>женат / замужем</td>\n",
       "      <td>0</td>\n",
       "      <td>M</td>\n",
       "      <td>сотрудник</td>\n",
       "      <td>0</td>\n",
       "      <td>144425.938277</td>\n",
       "      <td>покупка жилья для семьи</td>\n",
       "    </tr>\n",
       "    <tr>\n",
       "      <th>10</th>\n",
       "      <td>2</td>\n",
       "      <td>-4171.483647</td>\n",
       "      <td>36</td>\n",
       "      <td>высшее</td>\n",
       "      <td>0</td>\n",
       "      <td>женат / замужем</td>\n",
       "      <td>0</td>\n",
       "      <td>M</td>\n",
       "      <td>компаньон</td>\n",
       "      <td>0</td>\n",
       "      <td>113943.491460</td>\n",
       "      <td>покупка недвижимости</td>\n",
       "    </tr>\n",
       "    <tr>\n",
       "      <th>11</th>\n",
       "      <td>0</td>\n",
       "      <td>-792.701887</td>\n",
       "      <td>40</td>\n",
       "      <td>среднее</td>\n",
       "      <td>1</td>\n",
       "      <td>женат / замужем</td>\n",
       "      <td>0</td>\n",
       "      <td>F</td>\n",
       "      <td>сотрудник</td>\n",
       "      <td>0</td>\n",
       "      <td>77069.234271</td>\n",
       "      <td>покупка коммерческой недвижимости</td>\n",
       "    </tr>\n",
       "    <tr>\n",
       "      <th>12</th>\n",
       "      <td>0</td>\n",
       "      <td>NaN</td>\n",
       "      <td>65</td>\n",
       "      <td>среднее</td>\n",
       "      <td>1</td>\n",
       "      <td>гражданский брак</td>\n",
       "      <td>1</td>\n",
       "      <td>M</td>\n",
       "      <td>пенсионер</td>\n",
       "      <td>0</td>\n",
       "      <td>NaN</td>\n",
       "      <td>сыграть свадьбу</td>\n",
       "    </tr>\n",
       "    <tr>\n",
       "      <th>13</th>\n",
       "      <td>0</td>\n",
       "      <td>-1846.641941</td>\n",
       "      <td>54</td>\n",
       "      <td>неоконченное высшее</td>\n",
       "      <td>2</td>\n",
       "      <td>женат / замужем</td>\n",
       "      <td>0</td>\n",
       "      <td>F</td>\n",
       "      <td>сотрудник</td>\n",
       "      <td>0</td>\n",
       "      <td>130458.228857</td>\n",
       "      <td>приобретение автомобиля</td>\n",
       "    </tr>\n",
       "    <tr>\n",
       "      <th>14</th>\n",
       "      <td>0</td>\n",
       "      <td>-1844.956182</td>\n",
       "      <td>56</td>\n",
       "      <td>высшее</td>\n",
       "      <td>0</td>\n",
       "      <td>гражданский брак</td>\n",
       "      <td>1</td>\n",
       "      <td>F</td>\n",
       "      <td>компаньон</td>\n",
       "      <td>1</td>\n",
       "      <td>165127.911772</td>\n",
       "      <td>покупка жилой недвижимости</td>\n",
       "    </tr>\n",
       "    <tr>\n",
       "      <th>15</th>\n",
       "      <td>1</td>\n",
       "      <td>-972.364419</td>\n",
       "      <td>26</td>\n",
       "      <td>среднее</td>\n",
       "      <td>1</td>\n",
       "      <td>женат / замужем</td>\n",
       "      <td>0</td>\n",
       "      <td>F</td>\n",
       "      <td>сотрудник</td>\n",
       "      <td>0</td>\n",
       "      <td>116820.904450</td>\n",
       "      <td>строительство собственной недвижимости</td>\n",
       "    </tr>\n",
       "    <tr>\n",
       "      <th>16</th>\n",
       "      <td>0</td>\n",
       "      <td>-1719.934226</td>\n",
       "      <td>35</td>\n",
       "      <td>среднее</td>\n",
       "      <td>1</td>\n",
       "      <td>женат / замужем</td>\n",
       "      <td>0</td>\n",
       "      <td>F</td>\n",
       "      <td>сотрудник</td>\n",
       "      <td>0</td>\n",
       "      <td>289202.704229</td>\n",
       "      <td>недвижимость</td>\n",
       "    </tr>\n",
       "    <tr>\n",
       "      <th>17</th>\n",
       "      <td>0</td>\n",
       "      <td>-2369.999720</td>\n",
       "      <td>33</td>\n",
       "      <td>высшее</td>\n",
       "      <td>0</td>\n",
       "      <td>гражданский брак</td>\n",
       "      <td>1</td>\n",
       "      <td>M</td>\n",
       "      <td>сотрудник</td>\n",
       "      <td>0</td>\n",
       "      <td>90410.586745</td>\n",
       "      <td>строительство недвижимости</td>\n",
       "    </tr>\n",
       "    <tr>\n",
       "      <th>18</th>\n",
       "      <td>0</td>\n",
       "      <td>400281.136913</td>\n",
       "      <td>53</td>\n",
       "      <td>среднее</td>\n",
       "      <td>1</td>\n",
       "      <td>вдовец / вдова</td>\n",
       "      <td>2</td>\n",
       "      <td>F</td>\n",
       "      <td>пенсионер</td>\n",
       "      <td>0</td>\n",
       "      <td>56823.777243</td>\n",
       "      <td>на покупку подержанного автомобиля</td>\n",
       "    </tr>\n",
       "    <tr>\n",
       "      <th>19</th>\n",
       "      <td>0</td>\n",
       "      <td>-10038.818549</td>\n",
       "      <td>48</td>\n",
       "      <td>СРЕДНЕЕ</td>\n",
       "      <td>1</td>\n",
       "      <td>в разводе</td>\n",
       "      <td>3</td>\n",
       "      <td>F</td>\n",
       "      <td>сотрудник</td>\n",
       "      <td>0</td>\n",
       "      <td>242831.107982</td>\n",
       "      <td>на покупку своего автомобиля</td>\n",
       "    </tr>\n",
       "  </tbody>\n",
       "</table>\n",
       "</div>"
      ],
      "text/plain": [
       "    children  days_employed  dob_years            education  education_id  \\\n",
       "0          1   -8437.673028         42               высшее             0   \n",
       "1          1   -4024.803754         36              среднее             1   \n",
       "2          0   -5623.422610         33              Среднее             1   \n",
       "3          3   -4124.747207         32              среднее             1   \n",
       "4          0  340266.072047         53              среднее             1   \n",
       "5          0    -926.185831         27               высшее             0   \n",
       "6          0   -2879.202052         43               высшее             0   \n",
       "7          0    -152.779569         50              СРЕДНЕЕ             1   \n",
       "8          2   -6929.865299         35               ВЫСШЕЕ             0   \n",
       "9          0   -2188.756445         41              среднее             1   \n",
       "10         2   -4171.483647         36               высшее             0   \n",
       "11         0    -792.701887         40              среднее             1   \n",
       "12         0            NaN         65              среднее             1   \n",
       "13         0   -1846.641941         54  неоконченное высшее             2   \n",
       "14         0   -1844.956182         56               высшее             0   \n",
       "15         1    -972.364419         26              среднее             1   \n",
       "16         0   -1719.934226         35              среднее             1   \n",
       "17         0   -2369.999720         33               высшее             0   \n",
       "18         0  400281.136913         53              среднее             1   \n",
       "19         0  -10038.818549         48              СРЕДНЕЕ             1   \n",
       "\n",
       "       family_status  family_status_id gender income_type  debt  \\\n",
       "0    женат / замужем                 0      F   сотрудник     0   \n",
       "1    женат / замужем                 0      F   сотрудник     0   \n",
       "2    женат / замужем                 0      M   сотрудник     0   \n",
       "3    женат / замужем                 0      M   сотрудник     0   \n",
       "4   гражданский брак                 1      F   пенсионер     0   \n",
       "5   гражданский брак                 1      M   компаньон     0   \n",
       "6    женат / замужем                 0      F   компаньон     0   \n",
       "7    женат / замужем                 0      M   сотрудник     0   \n",
       "8   гражданский брак                 1      F   сотрудник     0   \n",
       "9    женат / замужем                 0      M   сотрудник     0   \n",
       "10   женат / замужем                 0      M   компаньон     0   \n",
       "11   женат / замужем                 0      F   сотрудник     0   \n",
       "12  гражданский брак                 1      M   пенсионер     0   \n",
       "13   женат / замужем                 0      F   сотрудник     0   \n",
       "14  гражданский брак                 1      F   компаньон     1   \n",
       "15   женат / замужем                 0      F   сотрудник     0   \n",
       "16   женат / замужем                 0      F   сотрудник     0   \n",
       "17  гражданский брак                 1      M   сотрудник     0   \n",
       "18    вдовец / вдова                 2      F   пенсионер     0   \n",
       "19         в разводе                 3      F   сотрудник     0   \n",
       "\n",
       "     total_income                                 purpose  \n",
       "0   253875.639453                           покупка жилья  \n",
       "1   112080.014102                 приобретение автомобиля  \n",
       "2   145885.952297                           покупка жилья  \n",
       "3   267628.550329              дополнительное образование  \n",
       "4   158616.077870                         сыграть свадьбу  \n",
       "5   255763.565419                           покупка жилья  \n",
       "6   240525.971920                       операции с жильем  \n",
       "7   135823.934197                             образование  \n",
       "8    95856.832424                   на проведение свадьбы  \n",
       "9   144425.938277                 покупка жилья для семьи  \n",
       "10  113943.491460                    покупка недвижимости  \n",
       "11   77069.234271       покупка коммерческой недвижимости  \n",
       "12            NaN                         сыграть свадьбу  \n",
       "13  130458.228857                 приобретение автомобиля  \n",
       "14  165127.911772              покупка жилой недвижимости  \n",
       "15  116820.904450  строительство собственной недвижимости  \n",
       "16  289202.704229                            недвижимость  \n",
       "17   90410.586745              строительство недвижимости  \n",
       "18   56823.777243      на покупку подержанного автомобиля  \n",
       "19  242831.107982            на покупку своего автомобиля  "
      ]
     },
     "execution_count": 2,
     "metadata": {},
     "output_type": "execute_result"
    }
   ],
   "source": [
    "data.head(20)"
   ]
  },
  {
   "cell_type": "markdown",
   "id": "0ed8f27f",
   "metadata": {
    "deletable": false,
    "editable": false,
    "id": "0ed8f27f"
   },
   "source": [
    "**Задание 3. Выведите основную информацию о датафрейме с помощью метода `info()`.**"
   ]
  },
  {
   "cell_type": "code",
   "execution_count": 3,
   "id": "ab3f863b",
   "metadata": {
    "deletable": false,
    "id": "ab3f863b",
    "outputId": "15376089-8dad-46c9-b520-c05248d43158"
   },
   "outputs": [
    {
     "name": "stdout",
     "output_type": "stream",
     "text": [
      "<class 'pandas.core.frame.DataFrame'>\n",
      "RangeIndex: 21525 entries, 0 to 21524\n",
      "Data columns (total 12 columns):\n",
      " #   Column            Non-Null Count  Dtype  \n",
      "---  ------            --------------  -----  \n",
      " 0   children          21525 non-null  int64  \n",
      " 1   days_employed     19351 non-null  float64\n",
      " 2   dob_years         21525 non-null  int64  \n",
      " 3   education         21525 non-null  object \n",
      " 4   education_id      21525 non-null  int64  \n",
      " 5   family_status     21525 non-null  object \n",
      " 6   family_status_id  21525 non-null  int64  \n",
      " 7   gender            21525 non-null  object \n",
      " 8   income_type       21525 non-null  object \n",
      " 9   debt              21525 non-null  int64  \n",
      " 10  total_income      19351 non-null  float64\n",
      " 11  purpose           21525 non-null  object \n",
      "dtypes: float64(2), int64(5), object(5)\n",
      "memory usage: 2.0+ MB\n"
     ]
    }
   ],
   "source": [
    "data.info()"
   ]
  },
  {
   "cell_type": "markdown",
   "id": "60e3e22d",
   "metadata": {
    "deletable": false,
    "editable": false,
    "id": "60e3e22d"
   },
   "source": [
    "## Предобработка данных"
   ]
  },
  {
   "cell_type": "markdown",
   "id": "03dc170c",
   "metadata": {
    "deletable": false,
    "editable": false,
    "id": "03dc170c"
   },
   "source": [
    "### Удаление пропусков"
   ]
  },
  {
   "cell_type": "markdown",
   "id": "a4f54eef",
   "metadata": {
    "deletable": false,
    "editable": false,
    "id": "a4f54eef"
   },
   "source": [
    "**Задание 4. Выведите количество пропущенных значений для каждого столбца. Используйте комбинацию двух методов.**"
   ]
  },
  {
   "cell_type": "code",
   "execution_count": 4,
   "id": "2dc372b2",
   "metadata": {
    "deletable": false,
    "id": "2dc372b2",
    "outputId": "81f4d817-781c-465c-ed15-91ce4446810d"
   },
   "outputs": [
    {
     "data": {
      "text/plain": [
       "children               0\n",
       "days_employed       2174\n",
       "dob_years              0\n",
       "education              0\n",
       "education_id           0\n",
       "family_status          0\n",
       "family_status_id       0\n",
       "gender                 0\n",
       "income_type            0\n",
       "debt                   0\n",
       "total_income        2174\n",
       "purpose                0\n",
       "dtype: int64"
      ]
     },
     "execution_count": 4,
     "metadata": {},
     "output_type": "execute_result"
    }
   ],
   "source": [
    "data.isna().sum ()"
   ]
  },
  {
   "cell_type": "markdown",
   "id": "14f011b1",
   "metadata": {
    "deletable": false,
    "editable": false,
    "id": "14f011b1"
   },
   "source": [
    "**Задание 5. В двух столбцах есть пропущенные значения. Один из них — `days_employed`. Пропуски в этом столбце вы обработаете на следующем этапе. Другой столбец с пропущенными значениями — `total_income` — хранит данные о доходах. На сумму дохода сильнее всего влияет тип занятости, поэтому заполнить пропуски в этом столбце нужно медианным значением по каждому типу из столбца `income_type`. Например, у человека с типом занятости `сотрудник` пропуск в столбце `total_income` должен быть заполнен медианным доходом среди всех записей с тем же типом.**"
   ]
  },
  {
   "cell_type": "code",
   "execution_count": 5,
   "id": "bdabfb6e",
   "metadata": {
    "deletable": false,
    "id": "bdabfb6e"
   },
   "outputs": [],
   "source": [
    "for t in data['income_type'].unique():\n",
    "    data.loc[(data['income_type'] == t) & (data['total_income'].isna()), 'total_income'] = \\\n",
    "    data.loc[(data['income_type'] == t), 'total_income'].median()"
   ]
  },
  {
   "cell_type": "markdown",
   "id": "5be34059",
   "metadata": {
    "deletable": false,
    "editable": false,
    "id": "5be34059"
   },
   "source": [
    "### Обработка аномальных значений"
   ]
  },
  {
   "cell_type": "markdown",
   "id": "a87606cb",
   "metadata": {
    "deletable": false,
    "editable": false,
    "id": "a87606cb"
   },
   "source": [
    "**Задание 6. В данных могут встречаться артефакты (аномалии) — значения, которые не отражают действительность и появились по какой-то ошибке. таким артефактом будет отрицательное количество дней трудового стажа в столбце `days_employed`. Для реальных данных это нормально. Обработайте значения в этом столбце: замените все отрицательные значения положительными с помощью метода `abs()`.**"
   ]
  },
  {
   "cell_type": "code",
   "execution_count": 6,
   "id": "020c46cc",
   "metadata": {
    "deletable": false,
    "id": "020c46cc"
   },
   "outputs": [],
   "source": [
    "data['days_employed'] = data['days_employed'].abs()"
   ]
  },
  {
   "cell_type": "markdown",
   "id": "45538a3a",
   "metadata": {
    "deletable": false,
    "editable": false,
    "id": "45538a3a"
   },
   "source": [
    "**Задание 7. Для каждого типа занятости выведите медианное значение трудового стажа `days_employed` в днях.**"
   ]
  },
  {
   "cell_type": "code",
   "execution_count": 7,
   "id": "cd3e6328",
   "metadata": {
    "deletable": false,
    "id": "cd3e6328",
    "outputId": "801ef80e-522b-4668-f34e-565af7432bcf"
   },
   "outputs": [
    {
     "data": {
      "text/plain": [
       "income_type\n",
       "безработный        366413.652744\n",
       "в декрете            3296.759962\n",
       "госслужащий          2689.368353\n",
       "компаньон            1547.382223\n",
       "пенсионер          365213.306266\n",
       "предприниматель       520.848083\n",
       "сотрудник            1574.202821\n",
       "студент               578.751554\n",
       "Name: days_employed, dtype: float64"
      ]
     },
     "execution_count": 7,
     "metadata": {},
     "output_type": "execute_result"
    }
   ],
   "source": [
    "data.groupby('income_type')['days_employed'].agg('median')"
   ]
  },
  {
   "cell_type": "markdown",
   "id": "90c5f058",
   "metadata": {
    "deletable": false,
    "editable": false,
    "id": "90c5f058"
   },
   "source": [
    "У двух типов (безработные и пенсионеры) получатся аномально большие значения. Исправить такие значения сложно, поэтому оставьте их как есть."
   ]
  },
  {
   "cell_type": "markdown",
   "id": "9652e50d",
   "metadata": {
    "deletable": false,
    "editable": false,
    "id": "9652e50d"
   },
   "source": [
    "**Задание 8. Выведите перечень уникальных значений столбца `children`.**"
   ]
  },
  {
   "cell_type": "code",
   "execution_count": 8,
   "id": "dbb37b8e",
   "metadata": {
    "deletable": false,
    "id": "dbb37b8e",
    "outputId": "6975b15c-7f95-4697-d16d-a0c79b657b03"
   },
   "outputs": [
    {
     "data": {
      "text/plain": [
       "array([ 1,  0,  3,  2, -1,  4, 20,  5])"
      ]
     },
     "execution_count": 8,
     "metadata": {},
     "output_type": "execute_result"
    }
   ],
   "source": [
    "data['children'].unique()"
   ]
  },
  {
   "cell_type": "markdown",
   "id": "2b8b0715",
   "metadata": {
    "deletable": false,
    "editable": false,
    "id": "2b8b0715"
   },
   "source": [
    "**Задание 9. В столбце `children` есть два аномальных значения. Удалите строки, в которых встречаются такие аномальные значения из датафрейма `data`.**"
   ]
  },
  {
   "cell_type": "code",
   "execution_count": 9,
   "id": "20009df8",
   "metadata": {
    "deletable": false,
    "id": "20009df8"
   },
   "outputs": [],
   "source": [
    "data = data[(data['children'] != -1) & (data['children'] != 20)]"
   ]
  },
  {
   "cell_type": "markdown",
   "id": "8c6ac9f1",
   "metadata": {
    "deletable": false,
    "editable": false,
    "id": "8c6ac9f1"
   },
   "source": [
    "**Задание 10. Ещё раз выведите перечень уникальных значений столбца `children`, чтобы убедиться, что артефакты удалены.**"
   ]
  },
  {
   "cell_type": "code",
   "execution_count": 10,
   "id": "07337b81",
   "metadata": {
    "deletable": false,
    "id": "07337b81",
    "outputId": "b2097101-d49d-44d9-901b-32a65c9463d1"
   },
   "outputs": [
    {
     "data": {
      "text/plain": [
       "array([1, 0, 3, 2, 4, 5])"
      ]
     },
     "execution_count": 10,
     "metadata": {},
     "output_type": "execute_result"
    }
   ],
   "source": [
    "data['children'].unique()"
   ]
  },
  {
   "cell_type": "markdown",
   "id": "ee3f52d4",
   "metadata": {
    "deletable": false,
    "editable": false,
    "id": "ee3f52d4"
   },
   "source": [
    "### Удаление пропусков (продолжение)"
   ]
  },
  {
   "cell_type": "markdown",
   "id": "a700b0e4",
   "metadata": {
    "deletable": false,
    "editable": false,
    "id": "a700b0e4"
   },
   "source": [
    "**Задание 11. Заполните пропуски в столбце `days_employed` медианными значениями по каждого типа занятости `income_type`.**"
   ]
  },
  {
   "cell_type": "code",
   "execution_count": 11,
   "id": "61946b83",
   "metadata": {
    "deletable": false,
    "id": "61946b83"
   },
   "outputs": [],
   "source": [
    "for t in data['income_type'].unique():\n",
    "    data.loc[(data['income_type'] == t) & (data['days_employed'].isna()), 'days_employed'] = \\\n",
    "    data.loc[(data['income_type'] == t), 'days_employed'].median()"
   ]
  },
  {
   "cell_type": "markdown",
   "id": "550dcd9b",
   "metadata": {
    "deletable": false,
    "editable": false,
    "id": "550dcd9b"
   },
   "source": [
    "**Задание 12. Убедитесь, что все пропуски заполнены. Проверьте себя и ещё раз выведите количество пропущенных значений для каждого столбца с помощью двух методов.**"
   ]
  },
  {
   "cell_type": "code",
   "execution_count": 12,
   "id": "937c7014",
   "metadata": {
    "deletable": false,
    "id": "937c7014",
    "outputId": "8da1e4e1-358e-4e87-98c9-f261bce0a7b2"
   },
   "outputs": [
    {
     "data": {
      "text/plain": [
       "children            0\n",
       "days_employed       0\n",
       "dob_years           0\n",
       "education           0\n",
       "education_id        0\n",
       "family_status       0\n",
       "family_status_id    0\n",
       "gender              0\n",
       "income_type         0\n",
       "debt                0\n",
       "total_income        0\n",
       "purpose             0\n",
       "dtype: int64"
      ]
     },
     "execution_count": 12,
     "metadata": {},
     "output_type": "execute_result"
    }
   ],
   "source": [
    "data.isna().sum()"
   ]
  },
  {
   "cell_type": "markdown",
   "id": "d522e295",
   "metadata": {
    "deletable": false,
    "editable": false,
    "id": "d522e295"
   },
   "source": [
    "### Изменение типов данных"
   ]
  },
  {
   "cell_type": "markdown",
   "id": "c229c581",
   "metadata": {
    "deletable": false,
    "editable": false,
    "id": "c229c581"
   },
   "source": [
    "**Задание 13. Замените вещественный тип данных в столбце `total_income` на целочисленный с помощью метода `astype()`.**"
   ]
  },
  {
   "cell_type": "code",
   "execution_count": 13,
   "id": "31036462",
   "metadata": {
    "deletable": false,
    "id": "31036462"
   },
   "outputs": [],
   "source": [
    "data['total_income'] = data['total_income'].astype(int)"
   ]
  },
  {
   "cell_type": "markdown",
   "id": "b8e3d1d9",
   "metadata": {
    "deletable": false,
    "editable": false,
    "id": "b8e3d1d9"
   },
   "source": [
    "### Обработка дубликатов"
   ]
  },
  {
   "cell_type": "markdown",
   "id": "9be53c49",
   "metadata": {
    "deletable": false,
    "editable": false,
    "id": "9be53c49"
   },
   "source": [
    "**Задание 14. Обработайте неявные дубликаты в столбце `education`. В этом столбце есть одни и те же значения, но записанные по-разному: с использованием заглавных и строчных букв. Приведите их к нижнему регистру.**"
   ]
  },
  {
   "cell_type": "code",
   "execution_count": 14,
   "id": "d89e73e1",
   "metadata": {
    "deletable": false,
    "id": "d89e73e1"
   },
   "outputs": [],
   "source": [
    "data['education'] = data['education'].str.lower()"
   ]
  },
  {
   "cell_type": "markdown",
   "id": "01d4500e",
   "metadata": {
    "deletable": false,
    "editable": false,
    "id": "01d4500e"
   },
   "source": [
    "**Задание 15. Выведите на экран количество строк-дубликатов в данных. Если такие строки присутствуют, удалите их.**"
   ]
  },
  {
   "cell_type": "code",
   "execution_count": 15,
   "id": "e10efb23",
   "metadata": {
    "deletable": false,
    "id": "e10efb23",
    "outputId": "9684deba-1934-42d1-99e1-cda61740f822"
   },
   "outputs": [
    {
     "data": {
      "text/plain": [
       "71"
      ]
     },
     "execution_count": 15,
     "metadata": {},
     "output_type": "execute_result"
    }
   ],
   "source": [
    "data.duplicated().sum()"
   ]
  },
  {
   "cell_type": "code",
   "execution_count": 16,
   "id": "df853f20",
   "metadata": {
    "deletable": false,
    "id": "df853f20"
   },
   "outputs": [],
   "source": [
    "data = data.drop_duplicates()"
   ]
  },
  {
   "cell_type": "markdown",
   "id": "627be38f",
   "metadata": {
    "deletable": false,
    "editable": false,
    "id": "627be38f"
   },
   "source": [
    "### Категоризация данных"
   ]
  },
  {
   "cell_type": "markdown",
   "id": "4684c3e0",
   "metadata": {
    "deletable": false,
    "editable": false,
    "id": "4684c3e0"
   },
   "source": [
    "**Задание 16. На основании диапазонов, указанных ниже, создайте в датафрейме `data` столбец `total_income_category` с категориями:**\n",
    "\n",
    "- 0–30000 — `'E'`;\n",
    "- 30001–50000 — `'D'`;\n",
    "- 50001–200000 — `'C'`;\n",
    "- 200001–1000000 — `'B'`;\n",
    "- 1000001 и выше — `'A'`.\n",
    "\n",
    "\n",
    "**Например, кредитополучателю с доходом 25000 нужно назначить категорию `'E'`, а клиенту, получающему 235000, — `'B'`. Используйте собственную функцию с именем `categorize_income()` и метод `apply()`.**"
   ]
  },
  {
   "cell_type": "code",
   "execution_count": 17,
   "id": "78965238",
   "metadata": {
    "deletable": false,
    "id": "78965238"
   },
   "outputs": [],
   "source": [
    "def categorize_income(income):\n",
    "    try:\n",
    "        if 0 <= income <= 30000:\n",
    "            return 'E'\n",
    "        elif 30001 <= income <= 50000:\n",
    "            return 'D'\n",
    "        elif 50001 <= income <= 200000:\n",
    "            return 'C'\n",
    "        elif 200001 <= income <= 1000000:\n",
    "            return 'B'\n",
    "        elif income >= 1000001:\n",
    "            return 'A'\n",
    "    except:\n",
    "        pass"
   ]
  },
  {
   "cell_type": "code",
   "execution_count": 18,
   "id": "0980ada1",
   "metadata": {
    "deletable": false,
    "id": "0980ada1"
   },
   "outputs": [],
   "source": [
    "data['total_income_category'] = data['total_income'].apply(categorize_income)"
   ]
  },
  {
   "cell_type": "markdown",
   "id": "9917bba0",
   "metadata": {
    "deletable": false,
    "editable": false,
    "id": "9917bba0"
   },
   "source": [
    "**Задание 17. Выведите на экран перечень уникальных целей взятия кредита из столбца `purpose`.**"
   ]
  },
  {
   "cell_type": "code",
   "execution_count": 19,
   "id": "ee07b65e",
   "metadata": {
    "deletable": false,
    "id": "ee07b65e",
    "outputId": "673c12d9-7d7e-4ae0-9812-c622c89dd244"
   },
   "outputs": [
    {
     "data": {
      "text/plain": [
       "array(['покупка жилья', 'приобретение автомобиля',\n",
       "       'дополнительное образование', 'сыграть свадьбу',\n",
       "       'операции с жильем', 'образование', 'на проведение свадьбы',\n",
       "       'покупка жилья для семьи', 'покупка недвижимости',\n",
       "       'покупка коммерческой недвижимости', 'покупка жилой недвижимости',\n",
       "       'строительство собственной недвижимости', 'недвижимость',\n",
       "       'строительство недвижимости', 'на покупку подержанного автомобиля',\n",
       "       'на покупку своего автомобиля',\n",
       "       'операции с коммерческой недвижимостью',\n",
       "       'строительство жилой недвижимости', 'жилье',\n",
       "       'операции со своей недвижимостью', 'автомобили',\n",
       "       'заняться образованием', 'сделка с подержанным автомобилем',\n",
       "       'получение образования', 'автомобиль', 'свадьба',\n",
       "       'получение дополнительного образования', 'покупка своего жилья',\n",
       "       'операции с недвижимостью', 'получение высшего образования',\n",
       "       'свой автомобиль', 'сделка с автомобилем',\n",
       "       'профильное образование', 'высшее образование',\n",
       "       'покупка жилья для сдачи', 'на покупку автомобиля', 'ремонт жилью',\n",
       "       'заняться высшим образованием'], dtype=object)"
      ]
     },
     "execution_count": 19,
     "metadata": {},
     "output_type": "execute_result"
    }
   ],
   "source": [
    "data['purpose'].unique()"
   ]
  },
  {
   "cell_type": "markdown",
   "id": "52b79d56",
   "metadata": {
    "deletable": false,
    "editable": false,
    "id": "52b79d56"
   },
   "source": [
    "**Задание 18. Создайте функцию, которая на основании данных из столбца `purpose` сформирует новый столбец `purpose_category`, в который войдут следующие категории:**\n",
    "\n",
    "- `'операции с автомобилем'`,\n",
    "- `'операции с недвижимостью'`,\n",
    "- `'проведение свадьбы'`,\n",
    "- `'получение образования'`.\n",
    "\n",
    "**Например, если в столбце `purpose` находится подстрока `'на покупку автомобиля'`, то в столбце `purpose_category` должна появиться строка `'операции с автомобилем'`.**\n",
    "\n",
    "**Используйте собственную функцию с именем `categorize_purpose()` и метод `apply()`. Изучите данные в столбце `purpose` и определите, какие подстроки помогут вам правильно определить категорию.**"
   ]
  },
  {
   "cell_type": "code",
   "execution_count": 20,
   "id": "be41da5d",
   "metadata": {
    "deletable": false,
    "id": "be41da5d"
   },
   "outputs": [],
   "source": [
    "def categorize_purpose(row):\n",
    "    try:\n",
    "        if 'автом' in row:\n",
    "            return 'операции с автомобилем'\n",
    "        elif 'жил' in row or 'недвиж' in row:\n",
    "            return 'операции с недвижимостью'\n",
    "        elif 'свад' in row:\n",
    "            return 'проведение свадьбы'\n",
    "        elif 'образов' in row:\n",
    "            return 'получение образования'\n",
    "    except:\n",
    "        return 'нет категории'"
   ]
  },
  {
   "cell_type": "code",
   "execution_count": 21,
   "id": "94c4a19a",
   "metadata": {
    "deletable": false,
    "id": "94c4a19a"
   },
   "outputs": [],
   "source": [
    "data['purpose_category'] = data['purpose'].apply(categorize_purpose)\n"
   ]
  },
  {
   "cell_type": "markdown",
   "id": "3d596c34",
   "metadata": {
    "deletable": false,
    "editable": false,
    "id": "3d596c34"
   },
   "source": [
    "### Шаг 3. Исследуйте данные и ответьте на вопросы"
   ]
  },
  {
   "cell_type": "markdown",
   "id": "648db036",
   "metadata": {
    "deletable": false,
    "editable": false,
    "id": "648db036"
   },
   "source": [
    "#### 3.1 Есть ли зависимость между количеством детей и возвратом кредита в срок?"
   ]
  },
  {
   "cell_type": "code",
   "execution_count": 22,
   "id": "7fcff25e",
   "metadata": {
    "deletable": false,
    "id": "7fcff25e"
   },
   "outputs": [
    {
     "data": {
      "text/html": [
       "<style  type=\"text/css\" >\n",
       "</style><table id=\"T_937bc_\" ><thead>    <tr>        <th class=\"blank level0\" ></th>        <th class=\"col_heading level0 col0\" >sum</th>        <th class=\"col_heading level0 col1\" >count</th>        <th class=\"col_heading level0 col2\" >mean</th>    </tr>    <tr>        <th class=\"index_name level0\" >children</th>        <th class=\"blank\" ></th>        <th class=\"blank\" ></th>        <th class=\"blank\" ></th>    </tr></thead><tbody>\n",
       "                <tr>\n",
       "                        <th id=\"T_937bc_level0_row0\" class=\"row_heading level0 row0\" >0</th>\n",
       "                        <td id=\"T_937bc_row0_col0\" class=\"data row0 col0\" >1063</td>\n",
       "                        <td id=\"T_937bc_row0_col1\" class=\"data row0 col1\" >14091</td>\n",
       "                        <td id=\"T_937bc_row0_col2\" class=\"data row0 col2\" >7.54%</td>\n",
       "            </tr>\n",
       "            <tr>\n",
       "                        <th id=\"T_937bc_level0_row1\" class=\"row_heading level0 row1\" >1</th>\n",
       "                        <td id=\"T_937bc_row1_col0\" class=\"data row1 col0\" >444</td>\n",
       "                        <td id=\"T_937bc_row1_col1\" class=\"data row1 col1\" >4808</td>\n",
       "                        <td id=\"T_937bc_row1_col2\" class=\"data row1 col2\" >9.23%</td>\n",
       "            </tr>\n",
       "            <tr>\n",
       "                        <th id=\"T_937bc_level0_row2\" class=\"row_heading level0 row2\" >2</th>\n",
       "                        <td id=\"T_937bc_row2_col0\" class=\"data row2 col0\" >194</td>\n",
       "                        <td id=\"T_937bc_row2_col1\" class=\"data row2 col1\" >2052</td>\n",
       "                        <td id=\"T_937bc_row2_col2\" class=\"data row2 col2\" >9.45%</td>\n",
       "            </tr>\n",
       "            <tr>\n",
       "                        <th id=\"T_937bc_level0_row3\" class=\"row_heading level0 row3\" >3</th>\n",
       "                        <td id=\"T_937bc_row3_col0\" class=\"data row3 col0\" >27</td>\n",
       "                        <td id=\"T_937bc_row3_col1\" class=\"data row3 col1\" >330</td>\n",
       "                        <td id=\"T_937bc_row3_col2\" class=\"data row3 col2\" >8.18%</td>\n",
       "            </tr>\n",
       "            <tr>\n",
       "                        <th id=\"T_937bc_level0_row4\" class=\"row_heading level0 row4\" >4</th>\n",
       "                        <td id=\"T_937bc_row4_col0\" class=\"data row4 col0\" >4</td>\n",
       "                        <td id=\"T_937bc_row4_col1\" class=\"data row4 col1\" >41</td>\n",
       "                        <td id=\"T_937bc_row4_col2\" class=\"data row4 col2\" >9.76%</td>\n",
       "            </tr>\n",
       "            <tr>\n",
       "                        <th id=\"T_937bc_level0_row5\" class=\"row_heading level0 row5\" >5</th>\n",
       "                        <td id=\"T_937bc_row5_col0\" class=\"data row5 col0\" >0</td>\n",
       "                        <td id=\"T_937bc_row5_col1\" class=\"data row5 col1\" >9</td>\n",
       "                        <td id=\"T_937bc_row5_col2\" class=\"data row5 col2\" >0.00%</td>\n",
       "            </tr>\n",
       "    </tbody></table>"
      ],
      "text/plain": [
       "<pandas.io.formats.style.Styler at 0x7f08cf33a280>"
      ]
     },
     "execution_count": 22,
     "metadata": {},
     "output_type": "execute_result"
    }
   ],
   "source": [
    "#data ['debt'].unique ()\n",
    "def analysis (row, argument): #функия категорирования клиентов, аргумент определет какой участок нужно выполнять и для кого категорирования\n",
    "    child = row ['children']\n",
    "    debt = row ['debt']\n",
    "    income = row ['total_income_category']\n",
    "    status = row ['family_status']\n",
    "    purpose = row ['purpose_category']\n",
    "#    status_id = row ['category_debt_family']\n",
    "    \n",
    "    if argument == 0:  # аргумент 0 - запускается участок для расчета с детьми\n",
    "        try:\n",
    "            if debt == 1:\n",
    "                return 'просрочка есть, детей', child \n",
    "            elif debt == 0:\n",
    "                return 'без просрочки, детей', child\n",
    "            else:\n",
    "                return 'проверь данные'\n",
    "        \n",
    "        except:\n",
    "            return 'ошибка. Блок (дети) '\n",
    "    \n",
    "    \n",
    "    if argument == 1:  # аргумент 1 - запускается участок для расчета по семейному положению\n",
    "        try:\n",
    "            if 'не' in status or 'вдов' in status or 'развод' in status:\n",
    "                # укрупняем категории\n",
    "                return 'холост (ая)'\n",
    "                \n",
    "            else:\n",
    "                return 'семейный (ая)'\n",
    "                \n",
    "        except:\n",
    "            return 'ошибка. Блок (семья)'\n",
    "        \n",
    "    \n",
    "    if argument == 2:  # аргумент 2 - запускается участок для расчета по уровню дохода\n",
    "        try:\n",
    "            if income == 'A':\n",
    "                if debt == 1:\n",
    "                    return 'доход от 1000001, есть просрочка (A1)'\n",
    "                else:\n",
    "                    return 'доход от 1000001, нет просрочки (A0)'\n",
    "            elif income == 'B':\n",
    "                if debt == 1:\n",
    "                    return 'доход от 200001, есть просрочка (B1)'\n",
    "                else:\n",
    "                    return 'доход от 200001, нет просрочки (B0)'\n",
    "            elif income == 'C':\n",
    "                if debt == 1:\n",
    "                    return 'доход от 50001, есть просрочка (C1)'\n",
    "                else:\n",
    "                    return 'доход от 50001, нет просрочки (C0)'\n",
    "            elif income == 'D':\n",
    "                if debt == 1:\n",
    "                    return 'доход от 30001, есть просрочка (D1)'\n",
    "                else:\n",
    "                    return 'доход от 30001, нет просрочки (D0)'   \n",
    "            elif income == 'E':\n",
    "                if debt == 1:\n",
    "                    return 'доход до 30000, есть просрочка (E1)'\n",
    "                else:\n",
    "                    return 'доход до 30000, нет просрочки (E0)'      \n",
    "            \n",
    "            else:\n",
    "                return 'проверь данные'\n",
    "        \n",
    "        except:\n",
    "            return 'ошибка. Блок (доход)'\n",
    "        \n",
    "        \n",
    "    if argument == 3:  # аргумент 3 - запускается участок для расчета по целям кредитования\n",
    "        try:\n",
    "            if 'авто' in purpose:\n",
    "                if debt == 1:\n",
    "                    return 'Авто, есть просрочка (avto1)'\n",
    "                else:\n",
    "                    return 'Авто, нет просрочки (avto0)'\n",
    "            elif 'недвиж' in purpose:\n",
    "                if debt == 1:\n",
    "                    return 'Жилье, есть просрочка (house1)'\n",
    "                else:\n",
    "                    return 'Жилье, нет просрочки (house0)'\n",
    "            elif 'свад' in purpose:\n",
    "                if debt == 1:\n",
    "                    return 'Свадьба, есть просрочка (wedding1)'\n",
    "                else:\n",
    "                    return 'Свадьба, нет просрочки (wedding0)'\n",
    "                \n",
    "            elif 'образ' in purpose:\n",
    "                if debt == 1:\n",
    "                    return 'Учеба, есть просрочка (study1)'\n",
    "                else:\n",
    "                    return 'Учеба, нет просрочки (study0)'\n",
    "                \n",
    "            else:\n",
    "                return 'проверь данные'\n",
    "        except:\n",
    "            return 'ошибка. Блок (семья)'\n",
    "\n",
    "    \n",
    "data ['category_debt_child'] = data.apply (analysis, argument=0, axis=1) # дополняем таблицу клиенов по количеству детей и просрочке\n",
    "\n",
    "data.groupby('children')['debt'].agg(['sum', 'count', 'mean']).style.format({('mean'): '{:,.2%}'.format})\n",
    "\n",
    "\n",
    "# Ваш код будет здесь. Вы можете создавать новые ячейки."
   ]
  },
  {
   "cell_type": "markdown",
   "id": "2eb9088e",
   "metadata": {
    "deletable": false,
    "id": "2eb9088e"
   },
   "source": [
    "**Вывод:** из однозначного - чем больше детей у клиентов, тем реже они берут/получают кредиты. Стоит отметить, что клиенты без детей немного лучше платят кредиты (разница от 0.64% до 2.22%), учитывая абсолютные показатели, что, в общем и целом, можно отнести к допустимой погрешности. Но если брать в расчет не 20000 клиентов, а кратно большее количество, то разница в 2.22% станет значительной, так как цена вопроса может исчисляться миллионами. Прим. отсутствие просрочки среди клиентов с 5-тью детьми не показательна, очень маленькое количество выданных кредитов. \n",
    "\n",
    "OT. Не смог придумать функцию для упрощения подсчета соотношений, так как с 5-ью детьми нет в таблицы просрочников, а принудительно дописывать не хотел, хотел, чтобы это было автоматически. если есть возможность прошу подсказать как это можно сделать, чтобы процесс прошел с просто с 2 функциями\n"
   ]
  },
  {
   "cell_type": "markdown",
   "id": "74c9b3a7",
   "metadata": {
    "deletable": false,
    "editable": false,
    "id": "74c9b3a7"
   },
   "source": [
    "#### 3.2 Есть ли зависимость между семейным положением и возвратом кредита в срок?"
   ]
  },
  {
   "cell_type": "code",
   "execution_count": 24,
   "id": "8098ab3b",
   "metadata": {
    "deletable": false,
    "id": "8098ab3b"
   },
   "outputs": [
    {
     "data": {
      "text/html": [
       "<style  type=\"text/css\" >\n",
       "</style><table id=\"T_2d3a4_\" ><thead>    <tr>        <th class=\"blank level0\" ></th>        <th class=\"col_heading level0 col0\" >sum</th>        <th class=\"col_heading level0 col1\" >count</th>        <th class=\"col_heading level0 col2\" >mean</th>    </tr>    <tr>        <th class=\"index_name level0\" >category_debt_family_id</th>        <th class=\"blank\" ></th>        <th class=\"blank\" ></th>        <th class=\"blank\" ></th>    </tr></thead><tbody>\n",
       "                <tr>\n",
       "                        <th id=\"T_2d3a4_level0_row0\" class=\"row_heading level0 row0\" >семейный (ая)</th>\n",
       "                        <td id=\"T_2d3a4_row0_col0\" class=\"data row0 col0\" >1312</td>\n",
       "                        <td id=\"T_2d3a4_row0_col1\" class=\"data row0 col1\" >16395</td>\n",
       "                        <td id=\"T_2d3a4_row0_col2\" class=\"data row0 col2\" >8.00%</td>\n",
       "            </tr>\n",
       "            <tr>\n",
       "                        <th id=\"T_2d3a4_level0_row1\" class=\"row_heading level0 row1\" >холост (ая)</th>\n",
       "                        <td id=\"T_2d3a4_row1_col0\" class=\"data row1 col0\" >420</td>\n",
       "                        <td id=\"T_2d3a4_row1_col1\" class=\"data row1 col1\" >4936</td>\n",
       "                        <td id=\"T_2d3a4_row1_col2\" class=\"data row1 col2\" >8.51%</td>\n",
       "            </tr>\n",
       "    </tbody></table>"
      ],
      "text/plain": [
       "<pandas.io.formats.style.Styler at 0x7f08cf351c70>"
      ]
     },
     "execution_count": 24,
     "metadata": {},
     "output_type": "execute_result"
    }
   ],
   "source": [
    "#data ['family_status'].unique () # 'женат / замужем', 'гражданский брак', 'вдовец / вдова','в разводе', 'Не женат / не замужем'\n",
    "\n",
    "# дополняем таблицу категориями клиентов по семейному. делаем смысловое укрупнение статуса\n",
    "\n",
    "data ['category_debt_family_id'] = data.apply (analysis, argument=1, axis=1)  \n",
    "\n",
    "\n",
    "#Группируем клиентов по категориям и расчитываем соотношение просрочки\n",
    "data.groupby('category_debt_family_id') ['debt'].agg(['sum', 'count', 'mean']).style.format({('mean'): '{:,.2%}'.format})\n",
    "\n",
    "\n",
    "\n",
    "# Ваш код будет здесь. Вы можете создавать новые ячейки."
   ]
  },
  {
   "cell_type": "markdown",
   "id": "c389ca63",
   "metadata": {
    "deletable": false,
    "id": "c389ca63"
   },
   "source": [
    "**Вывод:** как видно из результатов, доля просрочки среди холостых на 0.51% больше чем доля просрочки среди семейных. "
   ]
  },
  {
   "cell_type": "markdown",
   "id": "9529de68",
   "metadata": {
    "deletable": false,
    "editable": false,
    "id": "9529de68"
   },
   "source": [
    "#### 3.3 Есть ли зависимость между уровнем дохода и возвратом кредита в срок?"
   ]
  },
  {
   "cell_type": "code",
   "execution_count": 27,
   "id": "8787f44a",
   "metadata": {
    "deletable": false,
    "id": "8787f44a"
   },
   "outputs": [
    {
     "name": "stdout",
     "output_type": "stream",
     "text": [
      "                                   index  category_debt_income\n",
      "0     доход от 50001, нет просрочки (C0)                 14568\n",
      "1    доход от 50001, есть просрочка (C1)                  1353\n",
      "2     доход от 30001, нет просрочки (D0)                   328\n",
      "3    доход от 30001, есть просрочка (D1)                    21\n",
      "4    доход от 200001, нет просрочки (B0)                  4660\n",
      "5   доход от 200001, есть просрочка (B1)                   354\n",
      "6   доход от 1000001, нет просрочки (A0)                    23\n",
      "7  доход от 1000001, есть просрочка (A1)                     2\n",
      "8     доход до 30000, нет просрочки (E0)                    20\n",
      "9    доход до 30000, есть просрочка (E1)                     2 \n",
      "\n",
      " Доля просрочки среди состоятельных клиентов (категория A): 8.00%\n",
      "\n",
      " Доля просрочки среди состоятельных клиентов (категория B): 7.06%\n",
      "\n",
      " Доля просрочки среди состоятельных клиентов (категория C): 8.50%\n",
      "\n",
      " Доля просрочки среди состоятельных клиентов (категория D): 6.02%\n",
      "\n",
      " Доля просрочки среди состоятельных клиентов (категория E): 9.09%\n",
      "\n"
     ]
    }
   ],
   "source": [
    "  \n",
    "data ['category_debt_income'] = data.apply (analysis, argument=2, axis=1) # дополняем таблицу категориями клиентов по уровню дохода и просрочке\n",
    "\n",
    "calculation_df = data ['category_debt_income']. value_counts ().sort_index(ascending=False).to_frame().reset_index ()\n",
    "print (calculation_df, '\\n')\n",
    "\n",
    "\n",
    "ratio_income_A = calculation_df.loc [7, 'category_debt_income'] / (calculation_df.loc [6, 'category_debt_income'] +\\\n",
    "                                                              calculation_df.loc [7, 'category_debt_income'])\n",
    "print (f' Доля просрочки среди состоятельных клиентов (категория A): {ratio_income_A:.2%}' '\\n')\n",
    "\n",
    "ratio_income_B = calculation_df.loc [5, 'category_debt_income'] / (calculation_df.loc [5, 'category_debt_income'] +\\\n",
    "                                                              calculation_df.loc [4, 'category_debt_income'])\n",
    "print (f' Доля просрочки среди состоятельных клиентов (категория B): {ratio_income_B:.2%}' '\\n')\n",
    "\n",
    "ratio_income_C = calculation_df.loc [1, 'category_debt_income'] / (calculation_df.loc [1, 'category_debt_income'] +\\\n",
    "                                                              calculation_df.loc [0, 'category_debt_income'])\n",
    "print (f' Доля просрочки среди состоятельных клиентов (категория C): {ratio_income_C:.2%}' '\\n')\n",
    "\n",
    "ratio_income_D = calculation_df.loc [3, 'category_debt_income'] / (calculation_df.loc [2, 'category_debt_income'] +\\\n",
    "                                                              calculation_df.loc [3, 'category_debt_income'])\n",
    "print (f' Доля просрочки среди состоятельных клиентов (категория D): {ratio_income_D:.2%}' '\\n')\n",
    "\n",
    "\n",
    "ratio_income_E = calculation_df.loc [9, 'category_debt_income'] / (calculation_df.loc [9, 'category_debt_income'] +\\\n",
    "                                                              calculation_df.loc [8, 'category_debt_income'])\n",
    "print (f' Доля просрочки среди состоятельных клиентов (категория E): {ratio_income_E:.2%}' '\\n')\n",
    "# Ваш код будет здесь. Вы можете создавать новые ячейки."
   ]
  },
  {
   "cell_type": "markdown",
   "id": "6dd14b57",
   "metadata": {
    "deletable": false,
    "id": "6dd14b57"
   },
   "source": [
    "**Вывод:** В процентном соотношении хуже всех платят клиенты с доходами до 30000. но их небольшое количество в общей массе клиентов. Самые исполнительные клиенты с доходами от 30000 до 50000"
   ]
  },
  {
   "cell_type": "markdown",
   "id": "1dcc9b12",
   "metadata": {
    "deletable": false,
    "editable": false,
    "id": "1dcc9b12"
   },
   "source": [
    "#### 3.4 Как разные цели кредита влияют на его возврат в срок?"
   ]
  },
  {
   "cell_type": "code",
   "execution_count": 26,
   "id": "c602bc8b",
   "metadata": {
    "deletable": false,
    "id": "c602bc8b"
   },
   "outputs": [
    {
     "name": "stdout",
     "output_type": "stream",
     "text": [
      "                                index  category_debt_purpose\n",
      "0       Учеба, нет просрочки (study0)                   3619\n",
      "1      Учеба, есть просрочка (study1)                    369\n",
      "2   Свадьба, нет просрочки (wedding0)                   2130\n",
      "3  Свадьба, есть просрочка (wedding1)                    183\n",
      "4       Жилье, нет просрочки (house0)                   9971\n",
      "5      Жилье, есть просрочка (house1)                    780\n",
      "6         Авто, нет просрочки (avto0)                   3879\n",
      "7        Авто, есть просрочка (avto1)                    400 \n",
      "\n",
      " Доля просрочки с целью \"обучение\": 9.25%\n",
      "\n",
      " Доля просрочки с целью \"свадьба\": 7.91%\n",
      "\n",
      " Доля просрочки с целью \"недвижимость\": 7.26%\n",
      "\n",
      " Доля просрочки с целью \"автомобиль\": 9.35%\n",
      "\n"
     ]
    }
   ],
   "source": [
    "data ['category_debt_purpose'] = data.apply (analysis, argument=3, axis=1) # дополняем таблицу категориями клиентов по целям и просрочке\n",
    "\n",
    "#переобъявляем ранее использованную таблицу, используется как буферная зона при анализе, чтобы не генерировать переменные\n",
    "calculation_df = data ['category_debt_purpose']. value_counts ().sort_index(ascending=False).to_frame().reset_index ()\n",
    "print (calculation_df, '\\n')\n",
    "\n",
    "\n",
    "# расчитываем соотношение просрочки по категориям целей, выводим на экран\n",
    "\n",
    "ratio_purpose_A = calculation_df.loc [1, 'category_debt_purpose'] / (calculation_df.loc [1, 'category_debt_purpose'] +\\\n",
    "                                                              calculation_df.loc [0, 'category_debt_purpose'])\n",
    "print (f' Доля просрочки с целью \"обучение\": {ratio_purpose_A:.2%}' '\\n')\n",
    "\n",
    "ratio_purpose_B = calculation_df.loc [3, 'category_debt_purpose'] / (calculation_df.loc [3, 'category_debt_purpose'] +\\\n",
    "                                                              calculation_df.loc [2, 'category_debt_purpose'])\n",
    "print (f' Доля просрочки с целью \"свадьба\": {ratio_purpose_B:.2%}' '\\n')\n",
    "\n",
    "ratio_purpose_C = calculation_df.loc [5, 'category_debt_purpose'] / (calculation_df.loc [5, 'category_debt_purpose'] +\\\n",
    "                                                              calculation_df.loc [4, 'category_debt_purpose'])\n",
    "print (f' Доля просрочки с целью \"недвижимость\": {ratio_purpose_C:.2%}' '\\n')\n",
    "\n",
    "ratio_purpose_D = calculation_df.loc [7, 'category_debt_purpose'] / (calculation_df.loc [7, 'category_debt_purpose'] +\\\n",
    "                                                              calculation_df.loc [6, 'category_debt_purpose'])\n",
    "print (f' Доля просрочки с целью \"автомобиль\": {ratio_purpose_D:.2%}' '\\n')\n",
    "\n",
    "\n",
    "# Ваш код будет здесь. Вы можете создавать новые ячейки."
   ]
  },
  {
   "cell_type": "markdown",
   "id": "cf05ed63",
   "metadata": {
    "deletable": false,
    "id": "cf05ed63"
   },
   "source": [
    "**Вывод:** Наибольший уровень просрочки в категориях \"автомобиль\" и \"обучение\". Вероятные причины: \"обучение\" - отложенная инвестиция в себя, пока студент учится, получить постоянный стабильный доход бывает сложно, \"автомобиль\" - каждый день теряет в цене, требует определенное обслуживание, расходники, зачастую клиенты при приобретении автомобиля, смотря на размер ежемесячного платежа (вводит в заблуждение сумма платежа к стоимости автомобиля), некорректно оценивают свои финансовые возможности, и берут автомобиль значительно дороже изначальных планов, не беря указанное выше в части дополнительных расходов, во внимание. Причина более низкой просрочки в категории \"недвижимость\" - наличие высоколиквидного залога в виде объекта недвижимости, потеря жилья более сильный мотиватор соблюдения графика платежей. \"Свадьба\" - обычный потребительский кредит, и, могу предположить, часть его закрывается заемщикам с подарков, плюс, после свадьбы появляется совместный доход, а как показал анализ ранее, семейные люди чуть более лучше платят кредиты. Прим. колчественный показатель среди целевого назначения распределен более равномерно. Только покупка жилья имеет большее количество среди целей, так как стоиомсть жилья значительная, и мало кто может себе позволить купить жилье сразу, а если брать в расчет коммерческую недвижимость, то ее стоиомость значительно выше жилой, и учитывая цель - скорее всего кредит на развитие бизнеса, а из оборота взять крупные сумму сложно. "
   ]
  },
  {
   "cell_type": "markdown",
   "id": "46c1f10b",
   "metadata": {
    "deletable": false,
    "editable": false,
    "id": "46c1f10b"
   },
   "source": [
    "#### 3.5 Приведите возможные причины появления пропусков в исходных данных."
   ]
  },
  {
   "cell_type": "markdown",
   "id": "3697d2a9",
   "metadata": {
    "deletable": false,
    "id": "3697d2a9"
   },
   "source": [
    "Данные отсутствуют только в 2-х разделах: стаж и доход, причем одновременно. А учитывая, что пропуски не имеют однозначного \"лидера\" по типу занятости (лидер - позиция \"сотрудник\" на которого приходится около 50% пропусков), можно сделать следующий вывод: В разделе трудовой стаж минимальные значения после модулирования, начинается от 24 дней, и взяв во внимание, что в доходе минимальные значения начинаются от 20667, прихожу к выводу, что с высокой долей вероятности пропущены значения у заемщиков, которые только устроились на работу/работают непродолжительное время и не успели получить ЗП. На это косвенно также указывает распределение пропусков по должностям (прим.\"лидер\" - сотрудник, возможно люди еще не знают точное название своей должности, знакомо в личном опыте). Прим. можно, конечно, дать волю фантазии и предположить, что при оформлении кредитов данные получаются из систем ФНС или ФСС/ПФ, то там может сразу отображаться информация о текущей официальной занятости, но еще без уровня ЗП\n",
    "\n"
   ]
  },
  {
   "cell_type": "markdown",
   "id": "3137d257",
   "metadata": {
    "deletable": false,
    "editable": false,
    "id": "3137d257"
   },
   "source": [
    "#### 3.6 Объясните, почему заполнить пропуски медианным значением — лучшее решение для количественных переменных."
   ]
  },
  {
   "cell_type": "markdown",
   "id": "cf40012a",
   "metadata": {
    "deletable": false,
    "id": "cf40012a"
   },
   "source": [
    "*Ответ:* так как значения количественные, есть конкретный цифры, расчет сам по себе не вызовет сложностей. Но брать среднее некорректно, так как может получится как с уровнем средней з/п по стране, у 1 млн. человек зп около 20000, а у 10000 человек больше 5000000, в итоге средняя будет некорректно завышена. При потенциально большом разбросе в значениях и достаточно большой выгрузке, медиативное значение будет максимально близко к объективной цифре."
   ]
  },
  {
   "cell_type": "markdown",
   "id": "57bc304e",
   "metadata": {
    "deletable": false,
    "editable": false,
    "id": "57bc304e"
   },
   "source": [
    "### Шаг 4: общий вывод."
   ]
  },
  {
   "cell_type": "markdown",
   "id": "1ab75d1c",
   "metadata": {
    "deletable": false,
    "id": "1ab75d1c"
   },
   "source": [
    "<div class=\"alert alert-info\">\n",
    "   <font color='4682B4'><u><b>Скорректированный вывод</b></u></font>\n",
    "    <br />\n",
    "Проведя анализ представленного датафрейма, с целью определения кредитоспособности и платёжеспособности клиентов, с изучением целей, семейного положения, состава семьи и уровня дохода, могу сделать следующие выводы в рамках поставленных вопросов/гипотез: \n",
    "    <br />\n",
    "<font color='4682B4'><u><b> 1.\tЕсть ли зависимость между количеством детей и возвратом кредита в срок? (зависимость установлена. Требуется учитывать прогноз в перспективе)</b></u></font>\n",
    "    <br />\n",
    "В срезе текущего состава семьи на момент оформления кредита, меньше всего просрочка клиентов без детей (7,54%) и таких клиентов подавляющее большинство в выгрузке. Однако, взяв во внимание, что часть клиентов в средне-срочной перспективе по среднему сроку жизни кредита – 5 лет, с высокой долей вероятности, перейдет в группу с детьми, и будет проходить этапы с 1\\2 детьми, то клиенты из группы «без детей» и просрочкой в 7,54% перейдут в группы «с 1 ребенком» и «2 ребенка», в которых самая высокая просрочка по результатам анализа – 9,23% и 9,45% соответственно. \n",
    "Прим. Брать в детальный разбор группы с 3-мя, 4-мя и 5-тью детьми нецелесообразно, так как их суммарное количество значительно ниже любой из рассмотренных групп. Для проведения комплексного анализа в срезе «дети» от 3 и более, необходимо больший объем выгрузки.  \n",
    "\n",
    "Результат анализа просрочки по количеству детей (в процентах соотношение общего количества заемщиков к просрочке внутри группы):\n",
    "•\tЗаемщик без детей – 7,54% (всего 14091 заемщик)\n",
    "•\tЗаемщик с 1 ребенком – 9,23% (4808 заемщик)\n",
    "•\tЗаемщик с 2 детьми – 9,45% (2052 заемщик)\n",
    "•\tЗаемщик с 3 детьми – 8,18% (330 заемщиков)\n",
    "•\tЗаемщик с 4 детьми – 9,76% (41 заемщик)\n",
    "•\tЗаемщик с 5 детьми – 0% (9 заемщиков)\n",
    "    <br />\n",
    "\n",
    "<font color='4682B4'><u><b>2.\tЕсть ли зависимость между семейным положением и возвратом кредита в срок? (зависимость установлена частично)</b></u></font>\n",
    "    <br />\n",
    "В результате анализа, после группирования категорий клиентов по семейному статусу в логические группы (заемщик одинокий или нет) получены следующие показатели:\n",
    "•\tСемейные заемщики. Доля просрочки составляет 8,00%. Общее количество заемщиков составило – 16395 человек. В группу вошли: женатые/замужние и проживающие в гражданском браке. \n",
    "•\tНе семейные заемщики. Доля просрочки составила 8,51%. Общее количество заемщиков составило – 4936 человек. В группу вошли: не женатые/ не замужние, разведенные, вдовцы/вдовы. \n",
    "\n",
    "Учитывая результаты анализа, прихожу выводу, что семейные заемщики платят лучше на 0,51% процента, на первый взгляд разница несущественная, но беря во внимание общий портфель выдаваемых кредитов, сумма может быть значительной. Рекомендуется брать данный показатель в расчет в качестве приоритета не первой очереди, а как сопутствующий к основной модели.\n",
    "    <br />\n",
    "\n",
    "<font color='4682B4'><u><b> 3.\tЕсть ли зависимость между уровнем дохода и возвратом кредита в срок? (требуется больше данных)</b></u></font>\n",
    "    <br />\n",
    "Опираясь только на проценты в результате анализа, можно сделать вывод, что люди с доходом до 30000 рублей допускают чаще всего просрочку – 9,09%. Однако, их количество во общем срезе крайне мало (всего 22 заемщика), аналогичная ситуация с заемщиками, доход которых находятся более 1000000 – 8,00%. Максимальный уровень просрочки у заемщиков с доходом 50000-100000 –  8,50 %.. Минимальный уровень просрочки у заемщиков с доходом 30000-50000 –  6,02 %.. \n",
    "\n",
    "Проводя анализ, несмотря на рост вместе с доходом платежеспособности заемщика, кредитоспособность не повышается, что может указывать на снижение общей тенденции в части финансовой исполнительности клиентов при повышении доходов. \n",
    "Для более корректного анализа требуется более репрезентативная выгрузка, для формирования объективного вывода в отношении всех групп заемщиков.\n",
    "•\tДоля просрочки среди клиентов (категория A): 8.00% (общее количество – 25 заемщиков)\n",
    "\n",
    "•\tДоля просрочки среди клиентов (категория B): 7.06% (общее количество – 5014 заемщиков)\n",
    "\n",
    "•\tДоля просрочки среди клиентов (категория C): 8.50% (общее количество – 15921 заемщик)\n",
    "\n",
    "•\tДоля просрочки среди клиентов (категория D): 6.02% (общее количество – 349 заемщиков)\n",
    "\n",
    "•\tДоля просрочки среди клиентов (категория E): 9.09% (общее количество – 22 заемщика)\n",
    "    <br />\n",
    "\n",
    "<font color='4682B4'><u><b> 4.\tКак разные цели кредита влияют на его возврат в срок? (зависимость установлена) </b></u></font>\n",
    "    <br />\n",
    "Наибольший уровень просрочки в категориях \"автомобиль\" и \"обучение\" – 9,35% и 9,25% соответственно. \n",
    "Самый низкий уровень просрочки в категории \"недвижимость\" – 7,26%.\n",
    "\n",
    "Вероятные причины: \"обучение\" - отложенная инвестиция в себя, пока студент учится, получить постоянный стабильный доход бывает сложно, \"автомобиль\" - каждый день теряет в цене, требует определенное обслуживание, расходники, зачастую клиенты при приобретении автомобиля, смотря на размер ежемесячного платежа (вводит в заблуждение сумма платежа к стоимости автомобиля), некорректно оценивают свои финансовые возможности, и берут автомобиль значительно дороже изначальных планов, не беря указанное выше в части дополнительных расходов, во внимание. Причина более низкой просрочки в категории \"недвижимость\" - наличие высоколиквидного залога в виде объекта недвижимости, потеря жилья более сильный мотиватор соблюдения графика платежей. \"Свадьба\" - обычный потребительский кредит, помимо одномоментного дополнительного дохода от самой свадьбы, меняется статус заемщика, с холостого на семейный, а как показал ранее проведенный анализ семейные люди платят лучше, и данные показатели косвенно подтверждаю ранее сделанные выводы.\n",
    "\n",
    " Доля просрочки с целью \"обучение\": 9.25%\n",
    "\n",
    " Доля просрочки с целью \"свадьба\": 7.91%\n",
    "\n",
    " Доля просрочки с целью \"недвижимость\": 7.26%\n",
    "\n",
    " Доля просрочки с целью \"автомобиль\": 9.35%\n",
    " \n",
    "</div>"
   ]
  }
 ],
 "metadata": {
  "ExecuteTimeLog": [
   {
    "duration": 48,
    "start_time": "2023-01-16T10:53:07.109Z"
   },
   {
    "duration": 480,
    "start_time": "2023-01-16T10:53:16.681Z"
   },
   {
    "duration": 22,
    "start_time": "2023-01-16T10:53:17.163Z"
   },
   {
    "duration": 14,
    "start_time": "2023-01-16T10:53:17.187Z"
   },
   {
    "duration": 9,
    "start_time": "2023-01-16T10:53:17.213Z"
   },
   {
    "duration": 42,
    "start_time": "2023-01-16T10:53:17.224Z"
   },
   {
    "duration": 3,
    "start_time": "2023-01-16T10:53:17.268Z"
   },
   {
    "duration": 15,
    "start_time": "2023-01-16T10:53:17.272Z"
   },
   {
    "duration": 5,
    "start_time": "2023-01-16T10:53:17.288Z"
   },
   {
    "duration": 25,
    "start_time": "2023-01-16T10:53:17.295Z"
   },
   {
    "duration": 14,
    "start_time": "2023-01-16T10:53:17.322Z"
   },
   {
    "duration": 38,
    "start_time": "2023-01-16T10:53:17.337Z"
   },
   {
    "duration": 9,
    "start_time": "2023-01-16T10:53:17.377Z"
   },
   {
    "duration": 7,
    "start_time": "2023-01-16T10:53:17.388Z"
   },
   {
    "duration": 25,
    "start_time": "2023-01-16T10:53:17.397Z"
   },
   {
    "duration": 39,
    "start_time": "2023-01-16T10:53:17.424Z"
   },
   {
    "duration": 17,
    "start_time": "2023-01-16T10:53:17.465Z"
   },
   {
    "duration": 4,
    "start_time": "2023-01-16T10:53:17.484Z"
   },
   {
    "duration": 23,
    "start_time": "2023-01-16T10:53:17.490Z"
   },
   {
    "duration": 32,
    "start_time": "2023-01-16T10:53:17.515Z"
   },
   {
    "duration": 6,
    "start_time": "2023-01-16T10:53:17.548Z"
   },
   {
    "duration": 19,
    "start_time": "2023-01-16T10:53:17.556Z"
   },
   {
    "duration": 36,
    "start_time": "2023-01-16T10:53:17.577Z"
   },
   {
    "duration": 7,
    "start_time": "2023-01-16T10:53:17.615Z"
   },
   {
    "duration": 13,
    "start_time": "2023-01-16T10:53:17.624Z"
   },
   {
    "duration": 9,
    "start_time": "2023-01-16T10:53:17.639Z"
   },
   {
    "duration": 15,
    "start_time": "2023-01-16T10:53:50.093Z"
   },
   {
    "duration": 8,
    "start_time": "2023-01-16T11:04:49.047Z"
   },
   {
    "duration": 15,
    "start_time": "2023-01-16T11:04:58.887Z"
   },
   {
    "duration": 94,
    "start_time": "2023-01-16T11:19:55.699Z"
   },
   {
    "duration": 72,
    "start_time": "2023-01-16T11:20:13.660Z"
   },
   {
    "duration": 92,
    "start_time": "2023-01-16T11:22:43.159Z"
   },
   {
    "duration": 358,
    "start_time": "2023-01-16T11:23:33.290Z"
   },
   {
    "duration": 392,
    "start_time": "2023-01-16T11:23:53.278Z"
   },
   {
    "duration": 137,
    "start_time": "2023-01-16T11:24:52.913Z"
   },
   {
    "duration": 396,
    "start_time": "2023-01-16T11:25:04.479Z"
   },
   {
    "duration": 355,
    "start_time": "2023-01-16T11:25:40.790Z"
   },
   {
    "duration": 412,
    "start_time": "2023-01-16T11:26:26.726Z"
   },
   {
    "duration": 224,
    "start_time": "2023-01-16T11:28:35.120Z"
   },
   {
    "duration": 220,
    "start_time": "2023-01-16T11:29:02.569Z"
   },
   {
    "duration": 290,
    "start_time": "2023-01-16T11:29:53.894Z"
   },
   {
    "duration": 217,
    "start_time": "2023-01-16T11:30:43.545Z"
   },
   {
    "duration": 233,
    "start_time": "2023-01-16T11:31:14.561Z"
   },
   {
    "duration": 211,
    "start_time": "2023-01-16T11:31:20.494Z"
   },
   {
    "duration": 227,
    "start_time": "2023-01-16T11:31:37.639Z"
   },
   {
    "duration": 211,
    "start_time": "2023-01-16T11:32:01.834Z"
   },
   {
    "duration": 222,
    "start_time": "2023-01-16T11:32:11.190Z"
   },
   {
    "duration": 229,
    "start_time": "2023-01-16T11:32:19.902Z"
   },
   {
    "duration": 237,
    "start_time": "2023-01-16T11:32:26.351Z"
   },
   {
    "duration": 242,
    "start_time": "2023-01-16T11:32:54.407Z"
   },
   {
    "duration": 215,
    "start_time": "2023-01-16T11:32:59.561Z"
   },
   {
    "duration": 217,
    "start_time": "2023-01-16T11:33:29.994Z"
   },
   {
    "duration": 248,
    "start_time": "2023-01-16T11:34:14.019Z"
   },
   {
    "duration": 215,
    "start_time": "2023-01-16T11:34:19.634Z"
   },
   {
    "duration": 207,
    "start_time": "2023-01-16T11:45:47.504Z"
   },
   {
    "duration": 222,
    "start_time": "2023-01-16T11:49:48.026Z"
   },
   {
    "duration": 266,
    "start_time": "2023-01-16T11:55:22.594Z"
   },
   {
    "duration": 220,
    "start_time": "2023-01-16T11:55:51.434Z"
   },
   {
    "duration": 220,
    "start_time": "2023-01-16T11:56:01.647Z"
   },
   {
    "duration": 224,
    "start_time": "2023-01-16T11:56:17.542Z"
   },
   {
    "duration": 227,
    "start_time": "2023-01-16T11:57:00.694Z"
   },
   {
    "duration": 221,
    "start_time": "2023-01-16T12:00:05.130Z"
   },
   {
    "duration": 243,
    "start_time": "2023-01-16T12:06:14.993Z"
   },
   {
    "duration": 1410,
    "start_time": "2023-01-16T12:08:53.760Z"
   },
   {
    "duration": 1390,
    "start_time": "2023-01-16T12:10:49.691Z"
   },
   {
    "duration": 221,
    "start_time": "2023-01-16T12:11:34.463Z"
   },
   {
    "duration": 222,
    "start_time": "2023-01-16T12:11:44.046Z"
   },
   {
    "duration": 212,
    "start_time": "2023-01-16T12:12:09.129Z"
   },
   {
    "duration": 77,
    "start_time": "2023-01-16T12:16:44.077Z"
   },
   {
    "duration": 6,
    "start_time": "2023-01-16T12:16:49.864Z"
   },
   {
    "duration": 215,
    "start_time": "2023-01-16T12:16:53.400Z"
   },
   {
    "duration": 202,
    "start_time": "2023-01-16T12:17:07.093Z"
   },
   {
    "duration": 236,
    "start_time": "2023-01-16T12:18:20.193Z"
   },
   {
    "duration": 190,
    "start_time": "2023-01-16T12:18:44.130Z"
   },
   {
    "duration": 197,
    "start_time": "2023-01-16T12:19:12.391Z"
   },
   {
    "duration": 196,
    "start_time": "2023-01-16T12:20:56.535Z"
   },
   {
    "duration": 200,
    "start_time": "2023-01-16T12:21:04.794Z"
   },
   {
    "duration": 198,
    "start_time": "2023-01-16T12:21:23.951Z"
   },
   {
    "duration": 216,
    "start_time": "2023-01-16T12:27:00.626Z"
   },
   {
    "duration": 226,
    "start_time": "2023-01-16T12:31:20.734Z"
   },
   {
    "duration": 234,
    "start_time": "2023-01-16T12:31:37.292Z"
   },
   {
    "duration": 83,
    "start_time": "2023-01-16T12:42:46.294Z"
   },
   {
    "duration": 242,
    "start_time": "2023-01-16T12:43:20.247Z"
   },
   {
    "duration": 208,
    "start_time": "2023-01-16T12:43:47.458Z"
   },
   {
    "duration": 204,
    "start_time": "2023-01-16T12:45:39.306Z"
   },
   {
    "duration": 221,
    "start_time": "2023-01-16T12:46:24.756Z"
   },
   {
    "duration": 223,
    "start_time": "2023-01-16T12:47:28.500Z"
   },
   {
    "duration": 213,
    "start_time": "2023-01-16T12:48:09.231Z"
   },
   {
    "duration": 73,
    "start_time": "2023-01-16T12:48:48.126Z"
   },
   {
    "duration": 80,
    "start_time": "2023-01-16T12:49:03.648Z"
   },
   {
    "duration": 208,
    "start_time": "2023-01-16T12:49:09.543Z"
   },
   {
    "duration": 249,
    "start_time": "2023-01-16T12:49:23.399Z"
   },
   {
    "duration": 197,
    "start_time": "2023-01-16T12:49:42.499Z"
   },
   {
    "duration": 4,
    "start_time": "2023-01-16T12:49:54.105Z"
   },
   {
    "duration": 205,
    "start_time": "2023-01-16T12:50:36.047Z"
   },
   {
    "duration": 69,
    "start_time": "2023-01-16T12:53:34.019Z"
   },
   {
    "duration": 75,
    "start_time": "2023-01-16T12:53:54.452Z"
   },
   {
    "duration": 219,
    "start_time": "2023-01-16T12:54:02.242Z"
   },
   {
    "duration": 212,
    "start_time": "2023-01-16T12:55:00.849Z"
   },
   {
    "duration": 72,
    "start_time": "2023-01-16T12:55:15.196Z"
   },
   {
    "duration": 204,
    "start_time": "2023-01-16T12:55:31.381Z"
   },
   {
    "duration": 198,
    "start_time": "2023-01-16T12:56:16.574Z"
   },
   {
    "duration": 194,
    "start_time": "2023-01-16T12:56:20.796Z"
   },
   {
    "duration": 199,
    "start_time": "2023-01-16T12:56:32.134Z"
   },
   {
    "duration": 206,
    "start_time": "2023-01-16T12:57:33.769Z"
   },
   {
    "duration": 107,
    "start_time": "2023-01-16T13:02:27.154Z"
   },
   {
    "duration": 69,
    "start_time": "2023-01-16T13:02:46.414Z"
   },
   {
    "duration": 207,
    "start_time": "2023-01-16T13:03:09.159Z"
   },
   {
    "duration": 205,
    "start_time": "2023-01-16T13:03:42.991Z"
   },
   {
    "duration": 321,
    "start_time": "2023-01-16T13:17:50.194Z"
   },
   {
    "duration": 91,
    "start_time": "2023-01-16T13:18:08.056Z"
   },
   {
    "duration": 72,
    "start_time": "2023-01-16T13:18:15.613Z"
   },
   {
    "duration": 223,
    "start_time": "2023-01-16T13:18:20.101Z"
   },
   {
    "duration": 84,
    "start_time": "2023-01-16T13:25:39.028Z"
   },
   {
    "duration": 236,
    "start_time": "2023-01-16T13:27:10.928Z"
   },
   {
    "duration": 224,
    "start_time": "2023-01-16T13:27:44.926Z"
   },
   {
    "duration": 228,
    "start_time": "2023-01-16T13:28:16.964Z"
   },
   {
    "duration": 86,
    "start_time": "2023-01-16T13:28:37.419Z"
   },
   {
    "duration": 206,
    "start_time": "2023-01-16T13:28:45.827Z"
   },
   {
    "duration": 220,
    "start_time": "2023-01-16T13:29:03.859Z"
   },
   {
    "duration": 207,
    "start_time": "2023-01-16T13:31:25.329Z"
   },
   {
    "duration": 263,
    "start_time": "2023-01-16T13:42:25.796Z"
   },
   {
    "duration": 213,
    "start_time": "2023-01-16T13:43:49.658Z"
   },
   {
    "duration": 213,
    "start_time": "2023-01-16T13:49:30.708Z"
   },
   {
    "duration": 51,
    "start_time": "2023-01-17T08:39:18.167Z"
   },
   {
    "duration": 719,
    "start_time": "2023-01-17T08:39:33.644Z"
   },
   {
    "duration": 23,
    "start_time": "2023-01-17T08:39:34.364Z"
   },
   {
    "duration": 17,
    "start_time": "2023-01-17T08:39:34.388Z"
   },
   {
    "duration": 10,
    "start_time": "2023-01-17T08:39:34.408Z"
   },
   {
    "duration": 59,
    "start_time": "2023-01-17T08:39:34.419Z"
   },
   {
    "duration": 4,
    "start_time": "2023-01-17T08:39:34.480Z"
   },
   {
    "duration": 14,
    "start_time": "2023-01-17T08:39:34.486Z"
   },
   {
    "duration": 4,
    "start_time": "2023-01-17T08:39:34.501Z"
   },
   {
    "duration": 16,
    "start_time": "2023-01-17T08:39:34.507Z"
   },
   {
    "duration": 11,
    "start_time": "2023-01-17T08:39:34.525Z"
   },
   {
    "duration": 46,
    "start_time": "2023-01-17T08:39:34.538Z"
   },
   {
    "duration": 9,
    "start_time": "2023-01-17T08:39:34.586Z"
   },
   {
    "duration": 3,
    "start_time": "2023-01-17T08:39:34.596Z"
   },
   {
    "duration": 13,
    "start_time": "2023-01-17T08:39:34.601Z"
   },
   {
    "duration": 21,
    "start_time": "2023-01-17T08:39:34.615Z"
   },
   {
    "duration": 35,
    "start_time": "2023-01-17T08:39:34.637Z"
   },
   {
    "duration": 3,
    "start_time": "2023-01-17T08:39:34.674Z"
   },
   {
    "duration": 11,
    "start_time": "2023-01-17T08:39:34.679Z"
   },
   {
    "duration": 5,
    "start_time": "2023-01-17T08:39:34.691Z"
   },
   {
    "duration": 3,
    "start_time": "2023-01-17T08:39:34.697Z"
   },
   {
    "duration": 10,
    "start_time": "2023-01-17T08:39:34.701Z"
   },
   {
    "duration": 273,
    "start_time": "2023-01-17T08:39:34.712Z"
   },
   {
    "duration": 3,
    "start_time": "2023-01-17T08:39:34.987Z"
   },
   {
    "duration": 7,
    "start_time": "2023-01-17T08:39:34.992Z"
   },
   {
    "duration": 21,
    "start_time": "2023-01-17T08:39:35.002Z"
   },
   {
    "duration": 17,
    "start_time": "2023-01-17T08:42:16.322Z"
   },
   {
    "duration": 13,
    "start_time": "2023-01-17T08:42:26.938Z"
   },
   {
    "duration": 65,
    "start_time": "2023-01-17T08:44:23.563Z"
   },
   {
    "duration": 7,
    "start_time": "2023-01-17T08:44:33.687Z"
   },
   {
    "duration": 197,
    "start_time": "2023-01-17T09:12:08.199Z"
   },
   {
    "duration": 44,
    "start_time": "2023-01-17T09:13:22.612Z"
   },
   {
    "duration": 25,
    "start_time": "2023-01-17T09:13:42.425Z"
   },
   {
    "duration": 220,
    "start_time": "2023-01-17T09:14:02.752Z"
   },
   {
    "duration": 237,
    "start_time": "2023-01-17T09:14:25.384Z"
   },
   {
    "duration": 194,
    "start_time": "2023-01-17T09:22:55.511Z"
   },
   {
    "duration": 51,
    "start_time": "2023-01-17T09:27:53.641Z"
   },
   {
    "duration": 60,
    "start_time": "2023-01-17T09:28:52.057Z"
   },
   {
    "duration": 201,
    "start_time": "2023-01-17T09:29:31.695Z"
   },
   {
    "duration": 5,
    "start_time": "2023-01-17T09:38:33.547Z"
   },
   {
    "duration": 5,
    "start_time": "2023-01-17T09:38:53.648Z"
   },
   {
    "duration": 64,
    "start_time": "2023-01-17T09:51:51.690Z"
   },
   {
    "duration": 182,
    "start_time": "2023-01-17T09:52:09.192Z"
   },
   {
    "duration": 189,
    "start_time": "2023-01-17T09:52:39.862Z"
   },
   {
    "duration": 484,
    "start_time": "2023-01-17T09:52:59.358Z"
   },
   {
    "duration": 24,
    "start_time": "2023-01-17T09:52:59.844Z"
   },
   {
    "duration": 16,
    "start_time": "2023-01-17T09:52:59.869Z"
   },
   {
    "duration": 11,
    "start_time": "2023-01-17T09:52:59.887Z"
   },
   {
    "duration": 35,
    "start_time": "2023-01-17T09:52:59.900Z"
   },
   {
    "duration": 3,
    "start_time": "2023-01-17T09:52:59.937Z"
   },
   {
    "duration": 10,
    "start_time": "2023-01-17T09:52:59.968Z"
   },
   {
    "duration": 5,
    "start_time": "2023-01-17T09:52:59.979Z"
   },
   {
    "duration": 8,
    "start_time": "2023-01-17T09:52:59.986Z"
   },
   {
    "duration": 4,
    "start_time": "2023-01-17T09:52:59.996Z"
   },
   {
    "duration": 66,
    "start_time": "2023-01-17T09:53:00.001Z"
   },
   {
    "duration": 11,
    "start_time": "2023-01-17T09:53:00.069Z"
   },
   {
    "duration": 16,
    "start_time": "2023-01-17T09:53:00.081Z"
   },
   {
    "duration": 30,
    "start_time": "2023-01-17T09:53:00.099Z"
   },
   {
    "duration": 43,
    "start_time": "2023-01-17T09:53:00.131Z"
   },
   {
    "duration": 29,
    "start_time": "2023-01-17T09:53:00.177Z"
   },
   {
    "duration": 5,
    "start_time": "2023-01-17T09:53:00.208Z"
   },
   {
    "duration": 32,
    "start_time": "2023-01-17T09:53:00.215Z"
   },
   {
    "duration": 18,
    "start_time": "2023-01-17T09:53:00.249Z"
   },
   {
    "duration": 35,
    "start_time": "2023-01-17T09:53:00.269Z"
   },
   {
    "duration": 24,
    "start_time": "2023-01-17T09:53:00.306Z"
   },
   {
    "duration": 261,
    "start_time": "2023-01-17T09:53:00.332Z"
   },
   {
    "duration": 221,
    "start_time": "2023-01-17T09:53:00.595Z"
   },
   {
    "duration": 249,
    "start_time": "2023-01-17T09:53:00.818Z"
   },
   {
    "duration": 4,
    "start_time": "2023-01-17T09:53:01.069Z"
   },
   {
    "duration": 214,
    "start_time": "2023-01-17T10:02:47.974Z"
   },
   {
    "duration": 247,
    "start_time": "2023-01-17T10:02:53.181Z"
   },
   {
    "duration": 208,
    "start_time": "2023-01-17T10:02:58.990Z"
   },
   {
    "duration": 259,
    "start_time": "2023-01-17T10:12:03.535Z"
   },
   {
    "duration": 202,
    "start_time": "2023-01-17T10:22:01.312Z"
   },
   {
    "duration": 55,
    "start_time": "2023-01-17T10:23:09.695Z"
   },
   {
    "duration": 201,
    "start_time": "2023-01-17T10:24:04.492Z"
   },
   {
    "duration": 50,
    "start_time": "2023-01-17T11:05:58.607Z"
   },
   {
    "duration": 63,
    "start_time": "2023-01-17T11:06:14.131Z"
   },
   {
    "duration": 45,
    "start_time": "2023-01-17T11:06:37.481Z"
   },
   {
    "duration": 288,
    "start_time": "2023-01-17T11:07:04.108Z"
   },
   {
    "duration": 55,
    "start_time": "2023-01-17T11:07:20.731Z"
   },
   {
    "duration": 58,
    "start_time": "2023-01-17T11:07:44.439Z"
   },
   {
    "duration": 53,
    "start_time": "2023-01-17T11:08:31.281Z"
   },
   {
    "duration": 283,
    "start_time": "2023-01-17T11:08:45.273Z"
   },
   {
    "duration": 228,
    "start_time": "2023-01-17T11:09:04.501Z"
   },
   {
    "duration": 208,
    "start_time": "2023-01-17T11:09:34.108Z"
   },
   {
    "duration": 216,
    "start_time": "2023-01-17T11:10:11.628Z"
   },
   {
    "duration": 187,
    "start_time": "2023-01-17T11:11:26.035Z"
   },
   {
    "duration": 195,
    "start_time": "2023-01-17T11:13:32.410Z"
   },
   {
    "duration": 196,
    "start_time": "2023-01-17T11:13:46.483Z"
   },
   {
    "duration": 1095,
    "start_time": "2023-01-17T11:17:00.532Z"
   },
   {
    "duration": 230,
    "start_time": "2023-01-17T11:19:00.882Z"
   },
   {
    "duration": 212,
    "start_time": "2023-01-17T11:19:53.341Z"
   },
   {
    "duration": 206,
    "start_time": "2023-01-17T11:20:11.283Z"
   },
   {
    "duration": 202,
    "start_time": "2023-01-17T11:21:41.625Z"
   },
   {
    "duration": 211,
    "start_time": "2023-01-17T11:22:04.620Z"
   },
   {
    "duration": 58,
    "start_time": "2023-01-17T12:18:11.761Z"
   },
   {
    "duration": 435,
    "start_time": "2023-01-17T12:18:32.318Z"
   },
   {
    "duration": 22,
    "start_time": "2023-01-17T12:18:32.754Z"
   },
   {
    "duration": 15,
    "start_time": "2023-01-17T12:18:32.777Z"
   },
   {
    "duration": 9,
    "start_time": "2023-01-17T12:18:32.794Z"
   },
   {
    "duration": 35,
    "start_time": "2023-01-17T12:18:32.805Z"
   },
   {
    "duration": 3,
    "start_time": "2023-01-17T12:18:32.841Z"
   },
   {
    "duration": 28,
    "start_time": "2023-01-17T12:18:32.846Z"
   },
   {
    "duration": 4,
    "start_time": "2023-01-17T12:18:32.876Z"
   },
   {
    "duration": 12,
    "start_time": "2023-01-17T12:18:32.882Z"
   },
   {
    "duration": 4,
    "start_time": "2023-01-17T12:18:32.897Z"
   },
   {
    "duration": 36,
    "start_time": "2023-01-17T12:18:32.902Z"
   },
   {
    "duration": 31,
    "start_time": "2023-01-17T12:18:32.940Z"
   },
   {
    "duration": 3,
    "start_time": "2023-01-17T12:18:32.973Z"
   },
   {
    "duration": 14,
    "start_time": "2023-01-17T12:18:32.978Z"
   },
   {
    "duration": 22,
    "start_time": "2023-01-17T12:18:32.994Z"
   },
   {
    "duration": 19,
    "start_time": "2023-01-17T12:18:33.018Z"
   },
   {
    "duration": 29,
    "start_time": "2023-01-17T12:18:33.039Z"
   },
   {
    "duration": 13,
    "start_time": "2023-01-17T12:18:33.070Z"
   },
   {
    "duration": 9,
    "start_time": "2023-01-17T12:18:33.084Z"
   },
   {
    "duration": 4,
    "start_time": "2023-01-17T12:18:33.094Z"
   },
   {
    "duration": 12,
    "start_time": "2023-01-17T12:18:33.099Z"
   },
   {
    "duration": 54,
    "start_time": "2023-01-17T12:18:33.113Z"
   },
   {
    "duration": 0,
    "start_time": "2023-01-17T12:18:33.169Z"
   },
   {
    "duration": 0,
    "start_time": "2023-01-17T12:18:33.170Z"
   },
   {
    "duration": 0,
    "start_time": "2023-01-17T12:18:33.171Z"
   },
   {
    "duration": 399,
    "start_time": "2023-01-17T12:19:43.570Z"
   },
   {
    "duration": 372,
    "start_time": "2023-01-17T12:20:14.782Z"
   },
   {
    "duration": 301,
    "start_time": "2023-01-17T12:20:26.127Z"
   },
   {
    "duration": 291,
    "start_time": "2023-01-17T12:20:38.931Z"
   },
   {
    "duration": 320,
    "start_time": "2023-01-17T12:21:24.072Z"
   },
   {
    "duration": 522,
    "start_time": "2023-01-18T08:24:46.367Z"
   },
   {
    "duration": 22,
    "start_time": "2023-01-18T08:24:46.891Z"
   },
   {
    "duration": 20,
    "start_time": "2023-01-18T08:24:46.914Z"
   },
   {
    "duration": 10,
    "start_time": "2023-01-18T08:24:46.936Z"
   },
   {
    "duration": 37,
    "start_time": "2023-01-18T08:24:46.949Z"
   },
   {
    "duration": 4,
    "start_time": "2023-01-18T08:24:46.989Z"
   },
   {
    "duration": 24,
    "start_time": "2023-01-18T08:24:46.995Z"
   },
   {
    "duration": 22,
    "start_time": "2023-01-18T08:24:47.020Z"
   },
   {
    "duration": 8,
    "start_time": "2023-01-18T08:24:47.044Z"
   },
   {
    "duration": 6,
    "start_time": "2023-01-18T08:24:47.054Z"
   },
   {
    "duration": 38,
    "start_time": "2023-01-18T08:24:47.061Z"
   },
   {
    "duration": 11,
    "start_time": "2023-01-18T08:24:47.101Z"
   },
   {
    "duration": 27,
    "start_time": "2023-01-18T08:24:47.113Z"
   },
   {
    "duration": 18,
    "start_time": "2023-01-18T08:24:47.143Z"
   },
   {
    "duration": 21,
    "start_time": "2023-01-18T08:24:47.163Z"
   },
   {
    "duration": 18,
    "start_time": "2023-01-18T08:24:47.186Z"
   },
   {
    "duration": 3,
    "start_time": "2023-01-18T08:24:47.206Z"
   },
   {
    "duration": 33,
    "start_time": "2023-01-18T08:24:47.212Z"
   },
   {
    "duration": 6,
    "start_time": "2023-01-18T08:24:47.247Z"
   },
   {
    "duration": 5,
    "start_time": "2023-01-18T08:24:47.255Z"
   },
   {
    "duration": 20,
    "start_time": "2023-01-18T08:24:47.262Z"
   },
   {
    "duration": 384,
    "start_time": "2023-01-18T08:24:47.285Z"
   },
   {
    "duration": 332,
    "start_time": "2023-01-18T08:24:47.671Z"
   },
   {
    "duration": 334,
    "start_time": "2023-01-18T08:24:48.005Z"
   },
   {
    "duration": 2,
    "start_time": "2023-01-18T08:24:48.341Z"
   },
   {
    "duration": 337,
    "start_time": "2023-01-18T08:36:06.411Z"
   },
   {
    "duration": 510,
    "start_time": "2023-01-18T08:36:21.111Z"
   },
   {
    "duration": 22,
    "start_time": "2023-01-18T08:36:21.623Z"
   },
   {
    "duration": 15,
    "start_time": "2023-01-18T08:36:21.647Z"
   },
   {
    "duration": 10,
    "start_time": "2023-01-18T08:36:21.664Z"
   },
   {
    "duration": 35,
    "start_time": "2023-01-18T08:36:21.676Z"
   },
   {
    "duration": 26,
    "start_time": "2023-01-18T08:36:21.713Z"
   },
   {
    "duration": 19,
    "start_time": "2023-01-18T08:36:21.741Z"
   },
   {
    "duration": 5,
    "start_time": "2023-01-18T08:36:21.762Z"
   },
   {
    "duration": 11,
    "start_time": "2023-01-18T08:36:21.768Z"
   },
   {
    "duration": 4,
    "start_time": "2023-01-18T08:36:21.781Z"
   },
   {
    "duration": 56,
    "start_time": "2023-01-18T08:36:21.787Z"
   },
   {
    "duration": 12,
    "start_time": "2023-01-18T08:36:21.845Z"
   },
   {
    "duration": 4,
    "start_time": "2023-01-18T08:36:21.858Z"
   },
   {
    "duration": 14,
    "start_time": "2023-01-18T08:36:21.864Z"
   },
   {
    "duration": 25,
    "start_time": "2023-01-18T08:36:21.880Z"
   },
   {
    "duration": 37,
    "start_time": "2023-01-18T08:36:21.907Z"
   },
   {
    "duration": 4,
    "start_time": "2023-01-18T08:36:21.946Z"
   },
   {
    "duration": 15,
    "start_time": "2023-01-18T08:36:21.952Z"
   },
   {
    "duration": 10,
    "start_time": "2023-01-18T08:36:21.968Z"
   },
   {
    "duration": 3,
    "start_time": "2023-01-18T08:36:21.980Z"
   },
   {
    "duration": 10,
    "start_time": "2023-01-18T08:36:21.985Z"
   },
   {
    "duration": 449,
    "start_time": "2023-01-18T08:36:21.997Z"
   },
   {
    "duration": 387,
    "start_time": "2023-01-18T08:36:22.448Z"
   },
   {
    "duration": 389,
    "start_time": "2023-01-18T08:36:22.837Z"
   },
   {
    "duration": 386,
    "start_time": "2023-01-18T08:36:23.227Z"
   },
   {
    "duration": 414,
    "start_time": "2023-01-18T08:37:13.417Z"
   },
   {
    "duration": 388,
    "start_time": "2023-01-18T08:37:19.597Z"
   },
   {
    "duration": 12,
    "start_time": "2023-01-18T08:38:12.079Z"
   },
   {
    "duration": 9,
    "start_time": "2023-01-18T08:38:26.825Z"
   },
   {
    "duration": 404,
    "start_time": "2023-01-18T08:38:43.122Z"
   },
   {
    "duration": 365,
    "start_time": "2023-01-18T08:38:48.223Z"
   },
   {
    "duration": 391,
    "start_time": "2023-01-18T08:44:34.611Z"
   },
   {
    "duration": 409,
    "start_time": "2023-01-18T08:45:04.135Z"
   },
   {
    "duration": 420,
    "start_time": "2023-01-18T08:52:29.735Z"
   },
   {
    "duration": 490,
    "start_time": "2023-01-18T10:40:50.566Z"
   },
   {
    "duration": 35,
    "start_time": "2023-01-18T10:40:51.058Z"
   },
   {
    "duration": 15,
    "start_time": "2023-01-18T10:40:51.095Z"
   },
   {
    "duration": 20,
    "start_time": "2023-01-18T10:40:51.112Z"
   },
   {
    "duration": 39,
    "start_time": "2023-01-18T10:40:51.134Z"
   },
   {
    "duration": 3,
    "start_time": "2023-01-18T10:40:51.175Z"
   },
   {
    "duration": 26,
    "start_time": "2023-01-18T10:40:51.180Z"
   },
   {
    "duration": 5,
    "start_time": "2023-01-18T10:40:51.208Z"
   },
   {
    "duration": 19,
    "start_time": "2023-01-18T10:40:51.215Z"
   },
   {
    "duration": 12,
    "start_time": "2023-01-18T10:40:51.236Z"
   },
   {
    "duration": 40,
    "start_time": "2023-01-18T10:40:51.250Z"
   },
   {
    "duration": 9,
    "start_time": "2023-01-18T10:40:51.292Z"
   },
   {
    "duration": 10,
    "start_time": "2023-01-18T10:40:51.302Z"
   },
   {
    "duration": 23,
    "start_time": "2023-01-18T10:40:51.315Z"
   },
   {
    "duration": 56,
    "start_time": "2023-01-18T10:40:51.340Z"
   },
   {
    "duration": 22,
    "start_time": "2023-01-18T10:40:51.398Z"
   },
   {
    "duration": 5,
    "start_time": "2023-01-18T10:40:51.421Z"
   },
   {
    "duration": 22,
    "start_time": "2023-01-18T10:40:51.428Z"
   },
   {
    "duration": 7,
    "start_time": "2023-01-18T10:40:51.451Z"
   },
   {
    "duration": 30,
    "start_time": "2023-01-18T10:40:51.460Z"
   },
   {
    "duration": 26,
    "start_time": "2023-01-18T10:40:51.492Z"
   },
   {
    "duration": 441,
    "start_time": "2023-01-18T10:40:51.520Z"
   },
   {
    "duration": 403,
    "start_time": "2023-01-18T10:40:51.963Z"
   },
   {
    "duration": 359,
    "start_time": "2023-01-18T10:40:52.368Z"
   },
   {
    "duration": 374,
    "start_time": "2023-01-18T10:40:52.729Z"
   },
   {
    "duration": 64,
    "start_time": "2023-01-18T10:47:40.819Z"
   },
   {
    "duration": 15,
    "start_time": "2023-01-18T10:47:40.885Z"
   },
   {
    "duration": 38,
    "start_time": "2023-01-18T10:47:40.901Z"
   },
   {
    "duration": 33,
    "start_time": "2023-01-18T10:47:40.941Z"
   },
   {
    "duration": 50,
    "start_time": "2023-01-18T10:47:40.976Z"
   },
   {
    "duration": 6,
    "start_time": "2023-01-18T10:47:41.029Z"
   },
   {
    "duration": 41,
    "start_time": "2023-01-18T10:47:41.047Z"
   },
   {
    "duration": 21,
    "start_time": "2023-01-18T10:47:41.089Z"
   },
   {
    "duration": 59,
    "start_time": "2023-01-18T10:47:41.112Z"
   },
   {
    "duration": 96,
    "start_time": "2023-01-18T10:47:41.173Z"
   },
   {
    "duration": 60,
    "start_time": "2023-01-18T10:47:41.271Z"
   },
   {
    "duration": 33,
    "start_time": "2023-01-18T10:47:41.333Z"
   },
   {
    "duration": 23,
    "start_time": "2023-01-18T10:47:41.367Z"
   },
   {
    "duration": 43,
    "start_time": "2023-01-18T10:47:41.391Z"
   },
   {
    "duration": 70,
    "start_time": "2023-01-18T10:47:41.436Z"
   },
   {
    "duration": 22,
    "start_time": "2023-01-18T10:47:41.507Z"
   },
   {
    "duration": 7,
    "start_time": "2023-01-18T10:47:41.531Z"
   },
   {
    "duration": 48,
    "start_time": "2023-01-18T10:47:41.539Z"
   },
   {
    "duration": 57,
    "start_time": "2023-01-18T10:47:41.589Z"
   },
   {
    "duration": 41,
    "start_time": "2023-01-18T10:47:41.648Z"
   },
   {
    "duration": 41,
    "start_time": "2023-01-18T10:47:41.691Z"
   },
   {
    "duration": 371,
    "start_time": "2023-01-18T10:47:41.734Z"
   },
   {
    "duration": 1131,
    "start_time": "2023-01-18T10:47:42.107Z"
   },
   {
    "duration": 12,
    "start_time": "2023-01-18T10:47:57.571Z"
   },
   {
    "duration": 76,
    "start_time": "2023-01-18T10:50:01.170Z"
   },
   {
    "duration": 413,
    "start_time": "2023-01-18T10:50:33.092Z"
   },
   {
    "duration": 10,
    "start_time": "2023-01-18T10:50:54.298Z"
   },
   {
    "duration": 71,
    "start_time": "2023-01-18T11:17:14.271Z"
   },
   {
    "duration": 555,
    "start_time": "2023-01-18T11:17:25.145Z"
   },
   {
    "duration": 41,
    "start_time": "2023-01-18T11:17:25.702Z"
   },
   {
    "duration": 18,
    "start_time": "2023-01-18T11:17:25.747Z"
   },
   {
    "duration": 10,
    "start_time": "2023-01-18T11:17:25.767Z"
   },
   {
    "duration": 63,
    "start_time": "2023-01-18T11:17:25.779Z"
   },
   {
    "duration": 10,
    "start_time": "2023-01-18T11:17:25.844Z"
   },
   {
    "duration": 40,
    "start_time": "2023-01-18T11:17:25.856Z"
   },
   {
    "duration": 51,
    "start_time": "2023-01-18T11:17:25.898Z"
   },
   {
    "duration": 19,
    "start_time": "2023-01-18T11:17:25.951Z"
   },
   {
    "duration": 54,
    "start_time": "2023-01-18T11:17:25.971Z"
   },
   {
    "duration": 62,
    "start_time": "2023-01-18T11:17:26.027Z"
   },
   {
    "duration": 19,
    "start_time": "2023-01-18T11:17:26.091Z"
   },
   {
    "duration": 89,
    "start_time": "2023-01-18T11:17:26.119Z"
   },
   {
    "duration": 65,
    "start_time": "2023-01-18T11:17:26.211Z"
   },
   {
    "duration": 32,
    "start_time": "2023-01-18T11:17:26.278Z"
   },
   {
    "duration": 31,
    "start_time": "2023-01-18T11:17:26.316Z"
   },
   {
    "duration": 16,
    "start_time": "2023-01-18T11:17:26.349Z"
   },
   {
    "duration": 35,
    "start_time": "2023-01-18T11:17:26.367Z"
   },
   {
    "duration": 67,
    "start_time": "2023-01-18T11:17:26.403Z"
   },
   {
    "duration": 68,
    "start_time": "2023-01-18T11:17:26.472Z"
   },
   {
    "duration": 39,
    "start_time": "2023-01-18T11:17:26.542Z"
   },
   {
    "duration": 972,
    "start_time": "2023-01-18T11:17:26.582Z"
   },
   {
    "duration": 10,
    "start_time": "2023-01-18T11:17:27.555Z"
   },
   {
    "duration": 509,
    "start_time": "2023-01-18T11:17:27.567Z"
   },
   {
    "duration": 501,
    "start_time": "2023-01-18T11:17:28.079Z"
   },
   {
    "duration": 462,
    "start_time": "2023-01-18T11:17:28.581Z"
   },
   {
    "duration": 507,
    "start_time": "2023-01-18T11:21:45.378Z"
   },
   {
    "duration": 478,
    "start_time": "2023-01-18T11:22:23.789Z"
   },
   {
    "duration": 454,
    "start_time": "2023-01-18T11:23:32.905Z"
   },
   {
    "duration": 468,
    "start_time": "2023-01-18T11:26:24.020Z"
   },
   {
    "duration": 471,
    "start_time": "2023-01-18T11:26:42.730Z"
   },
   {
    "duration": 481,
    "start_time": "2023-01-18T11:27:16.188Z"
   },
   {
    "duration": 479,
    "start_time": "2023-01-18T11:27:27.164Z"
   },
   {
    "duration": 520,
    "start_time": "2023-01-18T11:30:31.947Z"
   },
   {
    "duration": 29,
    "start_time": "2023-01-18T11:30:32.470Z"
   },
   {
    "duration": 83,
    "start_time": "2023-01-18T11:30:32.511Z"
   },
   {
    "duration": 52,
    "start_time": "2023-01-18T11:30:32.596Z"
   },
   {
    "duration": 69,
    "start_time": "2023-01-18T11:30:32.651Z"
   },
   {
    "duration": 43,
    "start_time": "2023-01-18T11:30:32.722Z"
   },
   {
    "duration": 49,
    "start_time": "2023-01-18T11:30:32.767Z"
   },
   {
    "duration": 76,
    "start_time": "2023-01-18T11:30:32.817Z"
   },
   {
    "duration": 61,
    "start_time": "2023-01-18T11:30:32.894Z"
   },
   {
    "duration": 16,
    "start_time": "2023-01-18T11:30:32.957Z"
   },
   {
    "duration": 115,
    "start_time": "2023-01-18T11:30:32.975Z"
   },
   {
    "duration": 10,
    "start_time": "2023-01-18T11:30:33.092Z"
   },
   {
    "duration": 27,
    "start_time": "2023-01-18T11:30:33.109Z"
   },
   {
    "duration": 37,
    "start_time": "2023-01-18T11:30:33.142Z"
   },
   {
    "duration": 39,
    "start_time": "2023-01-18T11:30:33.181Z"
   },
   {
    "duration": 30,
    "start_time": "2023-01-18T11:30:33.225Z"
   },
   {
    "duration": 11,
    "start_time": "2023-01-18T11:30:33.256Z"
   },
   {
    "duration": 14,
    "start_time": "2023-01-18T11:30:33.269Z"
   },
   {
    "duration": 6,
    "start_time": "2023-01-18T11:30:33.285Z"
   },
   {
    "duration": 4,
    "start_time": "2023-01-18T11:30:33.293Z"
   },
   {
    "duration": 62,
    "start_time": "2023-01-18T11:30:33.298Z"
   },
   {
    "duration": 860,
    "start_time": "2023-01-18T11:30:33.363Z"
   },
   {
    "duration": 22,
    "start_time": "2023-01-18T11:30:34.238Z"
   },
   {
    "duration": 509,
    "start_time": "2023-01-18T11:30:34.262Z"
   },
   {
    "duration": 490,
    "start_time": "2023-01-18T11:30:34.774Z"
   },
   {
    "duration": 484,
    "start_time": "2023-01-18T11:30:35.266Z"
   },
   {
    "duration": 2900,
    "start_time": "2023-01-18T11:31:37.573Z"
   },
   {
    "duration": 519,
    "start_time": "2023-01-18T11:32:02.347Z"
   },
   {
    "duration": 620,
    "start_time": "2023-01-18T11:32:48.035Z"
   },
   {
    "duration": 586,
    "start_time": "2023-01-18T11:32:52.464Z"
   },
   {
    "duration": 490,
    "start_time": "2023-01-18T11:33:24.870Z"
   },
   {
    "duration": 495,
    "start_time": "2023-01-18T11:33:57.002Z"
   },
   {
    "duration": 452,
    "start_time": "2023-01-18T11:35:56.237Z"
   },
   {
    "duration": 522,
    "start_time": "2023-01-18T11:37:20.831Z"
   },
   {
    "duration": 23,
    "start_time": "2023-01-18T11:37:21.355Z"
   },
   {
    "duration": 69,
    "start_time": "2023-01-18T11:37:21.380Z"
   },
   {
    "duration": 34,
    "start_time": "2023-01-18T11:37:21.450Z"
   },
   {
    "duration": 83,
    "start_time": "2023-01-18T11:37:21.486Z"
   },
   {
    "duration": 7,
    "start_time": "2023-01-18T11:37:21.571Z"
   },
   {
    "duration": 60,
    "start_time": "2023-01-18T11:37:21.581Z"
   },
   {
    "duration": 33,
    "start_time": "2023-01-18T11:37:21.643Z"
   },
   {
    "duration": 62,
    "start_time": "2023-01-18T11:37:21.678Z"
   },
   {
    "duration": 41,
    "start_time": "2023-01-18T11:37:21.741Z"
   },
   {
    "duration": 118,
    "start_time": "2023-01-18T11:37:21.784Z"
   },
   {
    "duration": 29,
    "start_time": "2023-01-18T11:37:21.904Z"
   },
   {
    "duration": 97,
    "start_time": "2023-01-18T11:37:21.934Z"
   },
   {
    "duration": 52,
    "start_time": "2023-01-18T11:37:22.034Z"
   },
   {
    "duration": 84,
    "start_time": "2023-01-18T11:37:22.088Z"
   },
   {
    "duration": 23,
    "start_time": "2023-01-18T11:37:22.174Z"
   },
   {
    "duration": 58,
    "start_time": "2023-01-18T11:37:22.199Z"
   },
   {
    "duration": 86,
    "start_time": "2023-01-18T11:37:22.259Z"
   },
   {
    "duration": 34,
    "start_time": "2023-01-18T11:37:22.349Z"
   },
   {
    "duration": 58,
    "start_time": "2023-01-18T11:37:22.385Z"
   },
   {
    "duration": 36,
    "start_time": "2023-01-18T11:37:22.446Z"
   },
   {
    "duration": 887,
    "start_time": "2023-01-18T11:37:22.484Z"
   },
   {
    "duration": 10,
    "start_time": "2023-01-18T11:37:23.372Z"
   },
   {
    "duration": 500,
    "start_time": "2023-01-18T11:37:23.383Z"
   },
   {
    "duration": 465,
    "start_time": "2023-01-18T11:37:23.885Z"
   },
   {
    "duration": 440,
    "start_time": "2023-01-18T11:37:24.351Z"
   },
   {
    "duration": 516,
    "start_time": "2023-01-18T11:37:49.437Z"
   },
   {
    "duration": 441,
    "start_time": "2023-01-18T11:38:19.698Z"
   },
   {
    "duration": 498,
    "start_time": "2023-01-18T11:38:39.182Z"
   },
   {
    "duration": 440,
    "start_time": "2023-01-18T11:38:45.354Z"
   },
   {
    "duration": 421,
    "start_time": "2023-01-18T11:40:28.658Z"
   },
   {
    "duration": 14,
    "start_time": "2023-01-18T11:43:26.831Z"
   },
   {
    "duration": 494,
    "start_time": "2023-01-18T11:44:18.642Z"
   },
   {
    "duration": 443,
    "start_time": "2023-01-18T11:44:49.037Z"
   },
   {
    "duration": 541,
    "start_time": "2023-01-18T11:53:37.929Z"
   },
   {
    "duration": 1095,
    "start_time": "2023-01-18T11:53:51.125Z"
   },
   {
    "duration": 4,
    "start_time": "2023-01-18T11:54:33.755Z"
   },
   {
    "duration": 1056,
    "start_time": "2023-01-18T11:54:40.290Z"
   },
   {
    "duration": 104,
    "start_time": "2023-01-18T11:58:06.558Z"
   },
   {
    "duration": 1039,
    "start_time": "2023-01-18T11:58:17.026Z"
   },
   {
    "duration": 981,
    "start_time": "2023-01-18T11:58:54.677Z"
   },
   {
    "duration": 647,
    "start_time": "2023-01-18T11:59:37.294Z"
   },
   {
    "duration": 516,
    "start_time": "2023-01-18T11:59:43.083Z"
   },
   {
    "duration": 574,
    "start_time": "2023-01-18T11:59:51.430Z"
   },
   {
    "duration": 40,
    "start_time": "2023-01-18T11:59:52.006Z"
   },
   {
    "duration": 27,
    "start_time": "2023-01-18T11:59:52.049Z"
   },
   {
    "duration": 25,
    "start_time": "2023-01-18T11:59:52.078Z"
   },
   {
    "duration": 77,
    "start_time": "2023-01-18T11:59:52.108Z"
   },
   {
    "duration": 4,
    "start_time": "2023-01-18T11:59:52.186Z"
   },
   {
    "duration": 59,
    "start_time": "2023-01-18T11:59:52.193Z"
   },
   {
    "duration": 9,
    "start_time": "2023-01-18T11:59:52.254Z"
   },
   {
    "duration": 21,
    "start_time": "2023-01-18T11:59:52.265Z"
   },
   {
    "duration": 56,
    "start_time": "2023-01-18T11:59:52.289Z"
   },
   {
    "duration": 44,
    "start_time": "2023-01-18T11:59:52.346Z"
   },
   {
    "duration": 18,
    "start_time": "2023-01-18T11:59:52.392Z"
   },
   {
    "duration": 33,
    "start_time": "2023-01-18T11:59:52.417Z"
   },
   {
    "duration": 47,
    "start_time": "2023-01-18T11:59:52.452Z"
   },
   {
    "duration": 57,
    "start_time": "2023-01-18T11:59:52.502Z"
   },
   {
    "duration": 40,
    "start_time": "2023-01-18T11:59:52.562Z"
   },
   {
    "duration": 12,
    "start_time": "2023-01-18T11:59:52.604Z"
   },
   {
    "duration": 64,
    "start_time": "2023-01-18T11:59:52.617Z"
   },
   {
    "duration": 25,
    "start_time": "2023-01-18T11:59:52.683Z"
   },
   {
    "duration": 40,
    "start_time": "2023-01-18T11:59:52.711Z"
   },
   {
    "duration": 80,
    "start_time": "2023-01-18T11:59:52.753Z"
   },
   {
    "duration": 1743,
    "start_time": "2023-01-18T11:59:52.840Z"
   },
   {
    "duration": 0,
    "start_time": "2023-01-18T11:59:54.585Z"
   },
   {
    "duration": 0,
    "start_time": "2023-01-18T11:59:54.586Z"
   },
   {
    "duration": 0,
    "start_time": "2023-01-18T11:59:54.588Z"
   },
   {
    "duration": 0,
    "start_time": "2023-01-18T11:59:54.589Z"
   },
   {
    "duration": 1514,
    "start_time": "2023-01-18T11:59:55.841Z"
   },
   {
    "duration": 788,
    "start_time": "2023-01-18T12:00:24.356Z"
   },
   {
    "duration": 465,
    "start_time": "2023-01-18T12:00:28.903Z"
   },
   {
    "duration": 501,
    "start_time": "2023-01-18T12:04:31.397Z"
   },
   {
    "duration": 478,
    "start_time": "2023-01-18T12:04:49.895Z"
   },
   {
    "duration": 109,
    "start_time": "2023-01-18T12:10:14.772Z"
   },
   {
    "duration": 549,
    "start_time": "2023-01-18T12:10:23.568Z"
   },
   {
    "duration": 522,
    "start_time": "2023-01-18T12:10:31.179Z"
   },
   {
    "duration": 580,
    "start_time": "2023-01-18T12:10:38.640Z"
   },
   {
    "duration": 45,
    "start_time": "2023-01-18T12:10:39.224Z"
   },
   {
    "duration": 26,
    "start_time": "2023-01-18T12:10:39.271Z"
   },
   {
    "duration": 18,
    "start_time": "2023-01-18T12:10:39.305Z"
   },
   {
    "duration": 97,
    "start_time": "2023-01-18T12:10:39.326Z"
   },
   {
    "duration": 5,
    "start_time": "2023-01-18T12:10:39.427Z"
   },
   {
    "duration": 34,
    "start_time": "2023-01-18T12:10:39.434Z"
   },
   {
    "duration": 12,
    "start_time": "2023-01-18T12:10:39.469Z"
   },
   {
    "duration": 11,
    "start_time": "2023-01-18T12:10:39.482Z"
   },
   {
    "duration": 7,
    "start_time": "2023-01-18T12:10:39.494Z"
   },
   {
    "duration": 93,
    "start_time": "2023-01-18T12:10:39.503Z"
   },
   {
    "duration": 17,
    "start_time": "2023-01-18T12:10:39.598Z"
   },
   {
    "duration": 42,
    "start_time": "2023-01-18T12:10:39.617Z"
   },
   {
    "duration": 19,
    "start_time": "2023-01-18T12:10:39.662Z"
   },
   {
    "duration": 41,
    "start_time": "2023-01-18T12:10:39.682Z"
   },
   {
    "duration": 44,
    "start_time": "2023-01-18T12:10:39.725Z"
   },
   {
    "duration": 4,
    "start_time": "2023-01-18T12:10:39.771Z"
   },
   {
    "duration": 20,
    "start_time": "2023-01-18T12:10:39.776Z"
   },
   {
    "duration": 21,
    "start_time": "2023-01-18T12:10:39.798Z"
   },
   {
    "duration": 35,
    "start_time": "2023-01-18T12:10:39.821Z"
   },
   {
    "duration": 28,
    "start_time": "2023-01-18T12:10:39.858Z"
   },
   {
    "duration": 108,
    "start_time": "2023-01-18T12:10:39.888Z"
   },
   {
    "duration": 0,
    "start_time": "2023-01-18T12:10:39.998Z"
   },
   {
    "duration": 0,
    "start_time": "2023-01-18T12:10:39.999Z"
   },
   {
    "duration": 0,
    "start_time": "2023-01-18T12:10:40.000Z"
   },
   {
    "duration": 0,
    "start_time": "2023-01-18T12:10:40.001Z"
   },
   {
    "duration": 102,
    "start_time": "2023-01-18T12:10:44.984Z"
   },
   {
    "duration": 112,
    "start_time": "2023-01-18T12:11:02.550Z"
   },
   {
    "duration": 100,
    "start_time": "2023-01-18T12:11:38.546Z"
   },
   {
    "duration": 132,
    "start_time": "2023-01-18T12:11:44.004Z"
   },
   {
    "duration": 885,
    "start_time": "2023-01-18T12:12:31.289Z"
   },
   {
    "duration": 480,
    "start_time": "2023-01-18T12:12:37.433Z"
   },
   {
    "duration": 508,
    "start_time": "2023-01-18T12:18:23.936Z"
   },
   {
    "duration": 35,
    "start_time": "2023-01-18T12:48:38.382Z"
   },
   {
    "duration": 34,
    "start_time": "2023-01-18T12:48:54.199Z"
   },
   {
    "duration": 34,
    "start_time": "2023-01-18T12:50:39.342Z"
   },
   {
    "duration": 112,
    "start_time": "2023-01-18T12:50:51.054Z"
   },
   {
    "duration": 37,
    "start_time": "2023-01-18T12:50:53.420Z"
   },
   {
    "duration": 25,
    "start_time": "2023-01-18T12:51:06.145Z"
   },
   {
    "duration": 27,
    "start_time": "2023-01-18T12:51:53.966Z"
   },
   {
    "duration": 22,
    "start_time": "2023-01-18T12:52:06.735Z"
   },
   {
    "duration": 481,
    "start_time": "2023-01-18T12:52:22.861Z"
   },
   {
    "duration": 23,
    "start_time": "2023-01-18T12:52:23.347Z"
   },
   {
    "duration": 16,
    "start_time": "2023-01-18T12:52:23.371Z"
   },
   {
    "duration": 42,
    "start_time": "2023-01-18T12:52:23.389Z"
   },
   {
    "duration": 45,
    "start_time": "2023-01-18T12:52:23.437Z"
   },
   {
    "duration": 4,
    "start_time": "2023-01-18T12:52:23.483Z"
   },
   {
    "duration": 11,
    "start_time": "2023-01-18T12:52:23.488Z"
   },
   {
    "duration": 4,
    "start_time": "2023-01-18T12:52:23.501Z"
   },
   {
    "duration": 48,
    "start_time": "2023-01-18T12:52:23.506Z"
   },
   {
    "duration": 4,
    "start_time": "2023-01-18T12:52:23.558Z"
   },
   {
    "duration": 38,
    "start_time": "2023-01-18T12:52:23.564Z"
   },
   {
    "duration": 29,
    "start_time": "2023-01-18T12:52:23.604Z"
   },
   {
    "duration": 16,
    "start_time": "2023-01-18T12:52:23.639Z"
   },
   {
    "duration": 16,
    "start_time": "2023-01-18T12:52:23.656Z"
   },
   {
    "duration": 23,
    "start_time": "2023-01-18T12:52:23.673Z"
   },
   {
    "duration": 24,
    "start_time": "2023-01-18T12:52:23.698Z"
   },
   {
    "duration": 21,
    "start_time": "2023-01-18T12:52:23.728Z"
   },
   {
    "duration": 13,
    "start_time": "2023-01-18T12:52:23.751Z"
   },
   {
    "duration": 6,
    "start_time": "2023-01-18T12:52:23.766Z"
   },
   {
    "duration": 4,
    "start_time": "2023-01-18T12:52:23.774Z"
   },
   {
    "duration": 10,
    "start_time": "2023-01-18T12:52:23.779Z"
   },
   {
    "duration": 781,
    "start_time": "2023-01-18T12:52:23.791Z"
   },
   {
    "duration": 11,
    "start_time": "2023-01-18T12:52:24.573Z"
   },
   {
    "duration": 478,
    "start_time": "2023-01-18T12:52:24.586Z"
   },
   {
    "duration": 456,
    "start_time": "2023-01-18T12:52:25.066Z"
   },
   {
    "duration": 450,
    "start_time": "2023-01-18T12:52:25.524Z"
   },
   {
    "duration": 38,
    "start_time": "2023-01-18T12:52:42.427Z"
   },
   {
    "duration": 482,
    "start_time": "2023-01-18T12:52:51.434Z"
   },
   {
    "duration": 36,
    "start_time": "2023-01-18T12:52:51.918Z"
   },
   {
    "duration": 19,
    "start_time": "2023-01-18T12:52:51.955Z"
   },
   {
    "duration": 19,
    "start_time": "2023-01-18T12:52:51.976Z"
   },
   {
    "duration": 48,
    "start_time": "2023-01-18T12:52:51.997Z"
   },
   {
    "duration": 3,
    "start_time": "2023-01-18T12:52:52.047Z"
   },
   {
    "duration": 17,
    "start_time": "2023-01-18T12:52:52.051Z"
   },
   {
    "duration": 4,
    "start_time": "2023-01-18T12:52:52.069Z"
   },
   {
    "duration": 15,
    "start_time": "2023-01-18T12:52:52.075Z"
   },
   {
    "duration": 23,
    "start_time": "2023-01-18T12:52:52.092Z"
   },
   {
    "duration": 76,
    "start_time": "2023-01-18T12:52:52.117Z"
   },
   {
    "duration": 15,
    "start_time": "2023-01-18T12:52:52.195Z"
   },
   {
    "duration": 33,
    "start_time": "2023-01-18T12:52:52.220Z"
   },
   {
    "duration": 31,
    "start_time": "2023-01-18T12:52:52.256Z"
   },
   {
    "duration": 44,
    "start_time": "2023-01-18T12:52:52.289Z"
   },
   {
    "duration": 25,
    "start_time": "2023-01-18T12:52:52.339Z"
   },
   {
    "duration": 3,
    "start_time": "2023-01-18T12:52:52.366Z"
   },
   {
    "duration": 14,
    "start_time": "2023-01-18T12:52:52.371Z"
   },
   {
    "duration": 7,
    "start_time": "2023-01-18T12:52:52.387Z"
   },
   {
    "duration": 5,
    "start_time": "2023-01-18T12:52:52.395Z"
   },
   {
    "duration": 52,
    "start_time": "2023-01-18T12:52:52.401Z"
   },
   {
    "duration": 1462,
    "start_time": "2023-01-18T12:52:52.456Z"
   },
   {
    "duration": 20,
    "start_time": "2023-01-18T12:52:53.920Z"
   },
   {
    "duration": 1072,
    "start_time": "2023-01-18T12:52:53.942Z"
   },
   {
    "duration": 455,
    "start_time": "2023-01-18T12:52:55.018Z"
   },
   {
    "duration": 469,
    "start_time": "2023-01-18T12:52:55.475Z"
   },
   {
    "duration": 16,
    "start_time": "2023-01-18T12:54:05.844Z"
   },
   {
    "duration": 101,
    "start_time": "2023-01-18T12:54:59.487Z"
   },
   {
    "duration": 168,
    "start_time": "2023-01-18T12:55:23.495Z"
   },
   {
    "duration": 157,
    "start_time": "2023-01-18T12:55:32.400Z"
   },
   {
    "duration": 97,
    "start_time": "2023-01-18T12:56:22.971Z"
   },
   {
    "duration": 3,
    "start_time": "2023-01-18T12:56:39.262Z"
   },
   {
    "duration": 1521,
    "start_time": "2023-01-18T12:57:17.518Z"
   },
   {
    "duration": 11,
    "start_time": "2023-01-18T12:58:03.795Z"
   },
   {
    "duration": 16,
    "start_time": "2023-01-18T12:58:33.076Z"
   },
   {
    "duration": 13,
    "start_time": "2023-01-18T12:58:53.182Z"
   },
   {
    "duration": 18,
    "start_time": "2023-01-18T12:59:11.097Z"
   },
   {
    "duration": 35,
    "start_time": "2023-01-18T12:59:42.779Z"
   },
   {
    "duration": 39,
    "start_time": "2023-01-18T12:59:53.252Z"
   },
   {
    "duration": 25,
    "start_time": "2023-01-18T13:00:38.977Z"
   },
   {
    "duration": 496,
    "start_time": "2023-01-18T13:01:18.590Z"
   },
   {
    "duration": 24,
    "start_time": "2023-01-18T13:01:19.092Z"
   },
   {
    "duration": 17,
    "start_time": "2023-01-18T13:01:19.118Z"
   },
   {
    "duration": 96,
    "start_time": "2023-01-18T13:01:19.137Z"
   },
   {
    "duration": 0,
    "start_time": "2023-01-18T13:01:19.235Z"
   },
   {
    "duration": 0,
    "start_time": "2023-01-18T13:01:19.236Z"
   },
   {
    "duration": 0,
    "start_time": "2023-01-18T13:01:19.237Z"
   },
   {
    "duration": 0,
    "start_time": "2023-01-18T13:01:19.238Z"
   },
   {
    "duration": 0,
    "start_time": "2023-01-18T13:01:19.239Z"
   },
   {
    "duration": 0,
    "start_time": "2023-01-18T13:01:19.240Z"
   },
   {
    "duration": 0,
    "start_time": "2023-01-18T13:01:19.241Z"
   },
   {
    "duration": 0,
    "start_time": "2023-01-18T13:01:19.242Z"
   },
   {
    "duration": 0,
    "start_time": "2023-01-18T13:01:19.243Z"
   },
   {
    "duration": 0,
    "start_time": "2023-01-18T13:01:19.245Z"
   },
   {
    "duration": 0,
    "start_time": "2023-01-18T13:01:19.246Z"
   },
   {
    "duration": 0,
    "start_time": "2023-01-18T13:01:19.246Z"
   },
   {
    "duration": 0,
    "start_time": "2023-01-18T13:01:19.247Z"
   },
   {
    "duration": 0,
    "start_time": "2023-01-18T13:01:19.248Z"
   },
   {
    "duration": 0,
    "start_time": "2023-01-18T13:01:19.249Z"
   },
   {
    "duration": 0,
    "start_time": "2023-01-18T13:01:19.250Z"
   },
   {
    "duration": 0,
    "start_time": "2023-01-18T13:01:19.251Z"
   },
   {
    "duration": 0,
    "start_time": "2023-01-18T13:01:19.252Z"
   },
   {
    "duration": 0,
    "start_time": "2023-01-18T13:01:19.257Z"
   },
   {
    "duration": 0,
    "start_time": "2023-01-18T13:01:19.258Z"
   },
   {
    "duration": 0,
    "start_time": "2023-01-18T13:01:19.261Z"
   },
   {
    "duration": 0,
    "start_time": "2023-01-18T13:01:19.261Z"
   },
   {
    "duration": 510,
    "start_time": "2023-01-18T13:01:31.906Z"
   },
   {
    "duration": 23,
    "start_time": "2023-01-18T13:01:32.418Z"
   },
   {
    "duration": 29,
    "start_time": "2023-01-18T13:01:32.443Z"
   },
   {
    "duration": 48,
    "start_time": "2023-01-18T13:01:32.474Z"
   },
   {
    "duration": 47,
    "start_time": "2023-01-18T13:01:32.524Z"
   },
   {
    "duration": 12,
    "start_time": "2023-01-18T13:01:32.581Z"
   },
   {
    "duration": 11,
    "start_time": "2023-01-18T13:01:32.595Z"
   },
   {
    "duration": 9,
    "start_time": "2023-01-18T13:01:32.607Z"
   },
   {
    "duration": 16,
    "start_time": "2023-01-18T13:01:32.618Z"
   },
   {
    "duration": 8,
    "start_time": "2023-01-18T13:01:32.636Z"
   },
   {
    "duration": 55,
    "start_time": "2023-01-18T13:01:32.645Z"
   },
   {
    "duration": 10,
    "start_time": "2023-01-18T13:01:32.702Z"
   },
   {
    "duration": 5,
    "start_time": "2023-01-18T13:01:32.714Z"
   },
   {
    "duration": 17,
    "start_time": "2023-01-18T13:01:32.722Z"
   },
   {
    "duration": 58,
    "start_time": "2023-01-18T13:01:32.741Z"
   },
   {
    "duration": 60,
    "start_time": "2023-01-18T13:01:32.802Z"
   },
   {
    "duration": 7,
    "start_time": "2023-01-18T13:01:32.864Z"
   },
   {
    "duration": 36,
    "start_time": "2023-01-18T13:01:32.873Z"
   },
   {
    "duration": 47,
    "start_time": "2023-01-18T13:01:32.911Z"
   },
   {
    "duration": 35,
    "start_time": "2023-01-18T13:01:32.960Z"
   },
   {
    "duration": 12,
    "start_time": "2023-01-18T13:01:32.997Z"
   },
   {
    "duration": 1859,
    "start_time": "2023-01-18T13:01:33.011Z"
   },
   {
    "duration": 19,
    "start_time": "2023-01-18T13:01:34.877Z"
   },
   {
    "duration": 507,
    "start_time": "2023-01-18T13:01:34.899Z"
   },
   {
    "duration": 482,
    "start_time": "2023-01-18T13:01:35.409Z"
   },
   {
    "duration": 480,
    "start_time": "2023-01-18T13:01:35.896Z"
   },
   {
    "duration": 499,
    "start_time": "2023-01-18T13:01:58.619Z"
   },
   {
    "duration": 22,
    "start_time": "2023-01-18T13:01:59.119Z"
   },
   {
    "duration": 62,
    "start_time": "2023-01-18T13:01:59.143Z"
   },
   {
    "duration": 12,
    "start_time": "2023-01-18T13:01:59.207Z"
   },
   {
    "duration": 46,
    "start_time": "2023-01-18T13:01:59.221Z"
   },
   {
    "duration": 7,
    "start_time": "2023-01-18T13:01:59.274Z"
   },
   {
    "duration": 21,
    "start_time": "2023-01-18T13:01:59.285Z"
   },
   {
    "duration": 23,
    "start_time": "2023-01-18T13:01:59.308Z"
   },
   {
    "duration": 39,
    "start_time": "2023-01-18T13:01:59.333Z"
   },
   {
    "duration": 18,
    "start_time": "2023-01-18T13:01:59.384Z"
   },
   {
    "duration": 47,
    "start_time": "2023-01-18T13:01:59.404Z"
   },
   {
    "duration": 26,
    "start_time": "2023-01-18T13:01:59.453Z"
   },
   {
    "duration": 28,
    "start_time": "2023-01-18T13:01:59.480Z"
   },
   {
    "duration": 30,
    "start_time": "2023-01-18T13:01:59.510Z"
   },
   {
    "duration": 50,
    "start_time": "2023-01-18T13:01:59.542Z"
   },
   {
    "duration": 76,
    "start_time": "2023-01-18T13:01:59.595Z"
   },
   {
    "duration": 7,
    "start_time": "2023-01-18T13:01:59.673Z"
   },
   {
    "duration": 75,
    "start_time": "2023-01-18T13:01:59.685Z"
   },
   {
    "duration": 20,
    "start_time": "2023-01-18T13:01:59.768Z"
   },
   {
    "duration": 21,
    "start_time": "2023-01-18T13:01:59.790Z"
   },
   {
    "duration": 55,
    "start_time": "2023-01-18T13:01:59.813Z"
   },
   {
    "duration": 1800,
    "start_time": "2023-01-18T13:01:59.871Z"
   },
   {
    "duration": 14,
    "start_time": "2023-01-18T13:02:01.681Z"
   },
   {
    "duration": 481,
    "start_time": "2023-01-18T13:02:01.698Z"
   },
   {
    "duration": 441,
    "start_time": "2023-01-18T13:02:02.180Z"
   },
   {
    "duration": 461,
    "start_time": "2023-01-18T13:02:02.623Z"
   },
   {
    "duration": 504,
    "start_time": "2023-01-18T13:02:27.970Z"
   },
   {
    "duration": 24,
    "start_time": "2023-01-18T13:02:28.481Z"
   },
   {
    "duration": 16,
    "start_time": "2023-01-18T13:02:28.507Z"
   },
   {
    "duration": 11,
    "start_time": "2023-01-18T13:02:28.525Z"
   },
   {
    "duration": 62,
    "start_time": "2023-01-18T13:02:28.538Z"
   },
   {
    "duration": 5,
    "start_time": "2023-01-18T13:02:28.601Z"
   },
   {
    "duration": 11,
    "start_time": "2023-01-18T13:02:28.608Z"
   },
   {
    "duration": 6,
    "start_time": "2023-01-18T13:02:28.621Z"
   },
   {
    "duration": 25,
    "start_time": "2023-01-18T13:02:28.629Z"
   },
   {
    "duration": 24,
    "start_time": "2023-01-18T13:02:28.661Z"
   },
   {
    "duration": 41,
    "start_time": "2023-01-18T13:02:28.686Z"
   },
   {
    "duration": 9,
    "start_time": "2023-01-18T13:02:28.730Z"
   },
   {
    "duration": 6,
    "start_time": "2023-01-18T13:02:28.741Z"
   },
   {
    "duration": 22,
    "start_time": "2023-01-18T13:02:28.750Z"
   },
   {
    "duration": 33,
    "start_time": "2023-01-18T13:02:28.775Z"
   },
   {
    "duration": 16,
    "start_time": "2023-01-18T13:02:28.812Z"
   },
   {
    "duration": 3,
    "start_time": "2023-01-18T13:02:28.830Z"
   },
   {
    "duration": 24,
    "start_time": "2023-01-18T13:02:28.835Z"
   },
   {
    "duration": 23,
    "start_time": "2023-01-18T13:02:28.867Z"
   },
   {
    "duration": 7,
    "start_time": "2023-01-18T13:02:28.892Z"
   },
   {
    "duration": 17,
    "start_time": "2023-01-18T13:02:28.901Z"
   },
   {
    "duration": 782,
    "start_time": "2023-01-18T13:02:28.919Z"
   },
   {
    "duration": 9,
    "start_time": "2023-01-18T13:02:29.703Z"
   },
   {
    "duration": 1074,
    "start_time": "2023-01-18T13:02:29.714Z"
   },
   {
    "duration": 1074,
    "start_time": "2023-01-18T13:02:30.790Z"
   },
   {
    "duration": 615,
    "start_time": "2023-01-18T13:02:31.866Z"
   },
   {
    "duration": 531,
    "start_time": "2023-01-18T13:02:52.086Z"
   },
   {
    "duration": 23,
    "start_time": "2023-01-18T13:02:52.619Z"
   },
   {
    "duration": 53,
    "start_time": "2023-01-18T13:02:52.659Z"
   },
   {
    "duration": 10,
    "start_time": "2023-01-18T13:02:52.714Z"
   },
   {
    "duration": 101,
    "start_time": "2023-01-18T13:02:52.726Z"
   },
   {
    "duration": 4,
    "start_time": "2023-01-18T13:02:52.828Z"
   },
   {
    "duration": 72,
    "start_time": "2023-01-18T13:02:52.833Z"
   },
   {
    "duration": 32,
    "start_time": "2023-01-18T13:02:52.907Z"
   },
   {
    "duration": 51,
    "start_time": "2023-01-18T13:02:52.941Z"
   },
   {
    "duration": 7,
    "start_time": "2023-01-18T13:02:52.994Z"
   },
   {
    "duration": 60,
    "start_time": "2023-01-18T13:02:53.003Z"
   },
   {
    "duration": 21,
    "start_time": "2023-01-18T13:02:53.069Z"
   },
   {
    "duration": 7,
    "start_time": "2023-01-18T13:02:53.092Z"
   },
   {
    "duration": 16,
    "start_time": "2023-01-18T13:02:53.102Z"
   },
   {
    "duration": 23,
    "start_time": "2023-01-18T13:02:53.120Z"
   },
   {
    "duration": 39,
    "start_time": "2023-01-18T13:02:53.145Z"
   },
   {
    "duration": 5,
    "start_time": "2023-01-18T13:02:53.186Z"
   },
   {
    "duration": 19,
    "start_time": "2023-01-18T13:02:53.194Z"
   },
   {
    "duration": 8,
    "start_time": "2023-01-18T13:02:53.215Z"
   },
   {
    "duration": 31,
    "start_time": "2023-01-18T13:02:53.225Z"
   },
   {
    "duration": 42,
    "start_time": "2023-01-18T13:02:53.259Z"
   },
   {
    "duration": 799,
    "start_time": "2023-01-18T13:02:53.303Z"
   },
   {
    "duration": 12,
    "start_time": "2023-01-18T13:02:54.104Z"
   },
   {
    "duration": 465,
    "start_time": "2023-01-18T13:02:54.118Z"
   },
   {
    "duration": 516,
    "start_time": "2023-01-18T13:02:54.587Z"
   },
   {
    "duration": 1051,
    "start_time": "2023-01-18T13:02:55.104Z"
   },
   {
    "duration": 525,
    "start_time": "2023-01-19T09:31:10.291Z"
   },
   {
    "duration": 27,
    "start_time": "2023-01-19T09:31:10.818Z"
   },
   {
    "duration": 19,
    "start_time": "2023-01-19T09:31:10.847Z"
   },
   {
    "duration": 14,
    "start_time": "2023-01-19T09:31:10.868Z"
   },
   {
    "duration": 61,
    "start_time": "2023-01-19T09:31:10.884Z"
   },
   {
    "duration": 3,
    "start_time": "2023-01-19T09:31:10.947Z"
   },
   {
    "duration": 16,
    "start_time": "2023-01-19T09:31:10.952Z"
   },
   {
    "duration": 5,
    "start_time": "2023-01-19T09:31:10.970Z"
   },
   {
    "duration": 17,
    "start_time": "2023-01-19T09:31:10.977Z"
   },
   {
    "duration": 10,
    "start_time": "2023-01-19T09:31:10.997Z"
   },
   {
    "duration": 48,
    "start_time": "2023-01-19T09:31:11.008Z"
   },
   {
    "duration": 9,
    "start_time": "2023-01-19T09:31:11.058Z"
   },
   {
    "duration": 6,
    "start_time": "2023-01-19T09:31:11.069Z"
   },
   {
    "duration": 22,
    "start_time": "2023-01-19T09:31:11.077Z"
   },
   {
    "duration": 27,
    "start_time": "2023-01-19T09:31:11.101Z"
   },
   {
    "duration": 27,
    "start_time": "2023-01-19T09:31:11.129Z"
   },
   {
    "duration": 4,
    "start_time": "2023-01-19T09:31:11.158Z"
   },
   {
    "duration": 20,
    "start_time": "2023-01-19T09:31:11.164Z"
   },
   {
    "duration": 19,
    "start_time": "2023-01-19T09:31:11.186Z"
   },
   {
    "duration": 4,
    "start_time": "2023-01-19T09:31:11.207Z"
   },
   {
    "duration": 33,
    "start_time": "2023-01-19T09:31:11.213Z"
   },
   {
    "duration": 804,
    "start_time": "2023-01-19T09:31:11.248Z"
   },
   {
    "duration": 13,
    "start_time": "2023-01-19T09:31:12.054Z"
   },
   {
    "duration": 699,
    "start_time": "2023-01-19T09:31:12.068Z"
   },
   {
    "duration": 791,
    "start_time": "2023-01-19T09:31:12.769Z"
   },
   {
    "duration": 671,
    "start_time": "2023-01-19T09:31:13.562Z"
   },
   {
    "duration": 379,
    "start_time": "2023-01-19T09:31:17.561Z"
   }
  ],
  "colab": {
   "provenance": []
  },
  "kernelspec": {
   "display_name": "Python 3 (ipykernel)",
   "language": "python",
   "name": "python3"
  },
  "language_info": {
   "codemirror_mode": {
    "name": "ipython",
    "version": 3
   },
   "file_extension": ".py",
   "mimetype": "text/x-python",
   "name": "python",
   "nbconvert_exporter": "python",
   "pygments_lexer": "ipython3",
   "version": "3.9.13"
  },
  "toc": {
   "base_numbering": 1,
   "nav_menu": {},
   "number_sections": true,
   "sideBar": true,
   "skip_h1_title": true,
   "title_cell": "Table of Contents",
   "title_sidebar": "Contents",
   "toc_cell": false,
   "toc_position": {
    "height": "calc(100% - 180px)",
    "left": "10px",
    "top": "150px",
    "width": "366.188px"
   },
   "toc_section_display": true,
   "toc_window_display": true
  }
 },
 "nbformat": 4,
 "nbformat_minor": 5
}
