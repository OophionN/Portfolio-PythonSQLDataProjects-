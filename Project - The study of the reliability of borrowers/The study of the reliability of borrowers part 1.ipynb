{
 "cells": [
  {
   "cell_type": "markdown",
   "id": "4f11de00",
   "metadata": {
    "deletable": false,
    "editable": false,
    "id": "4f11de00"
   },
   "source": [
    "# Исследование надежности заемщиков"
   ]
  },
  {
   "cell_type": "markdown",
   "id": "f09d6878",
   "metadata": {
    "deletable": false,
    "editable": false,
    "id": "f09d6878"
   },
   "source": [
    "Это первая часть проекта, она будет проверена автоматически. Вторую часть проверит ревьюер. "
   ]
  },
  {
   "cell_type": "markdown",
   "id": "516620ee",
   "metadata": {
    "deletable": false,
    "editable": false,
    "id": "516620ee"
   },
   "source": [
    "## Откройте таблицу и изучите общую информацию о данных"
   ]
  },
  {
   "cell_type": "markdown",
   "id": "76a8a9ce",
   "metadata": {
    "deletable": false,
    "editable": false,
    "id": "76a8a9ce",
    "tags": [
     "start_task"
    ]
   },
   "source": [
    "**Задание 1. Импортируйте библиотеку pandas. Считайте данные из csv-файла в датафрейм и сохраните в переменную `data`. Путь к файлу:**\n",
    "\n",
    "`/datasets/data.csv`"
   ]
  },
  {
   "cell_type": "code",
   "execution_count": 1,
   "id": "fab207d0",
   "metadata": {
    "id": "fab207d0"
   },
   "outputs": [],
   "source": [
    "import pandas as pd # импортируйте библиотеку pandas"
   ]
  },
  {
   "cell_type": "code",
   "execution_count": 2,
   "id": "6c82b607",
   "metadata": {
    "id": "6c82b607"
   },
   "outputs": [],
   "source": [
    "data=pd.read_csv ('/datasets/data.csv') # прочитайте csv-файл"
   ]
  },
  {
   "cell_type": "markdown",
   "id": "08bbb5b3",
   "metadata": {
    "deletable": false,
    "editable": false,
    "id": "08bbb5b3",
    "tags": [
     "start_task"
    ]
   },
   "source": [
    "**Задание 2. Выведите первые 20 строчек датафрейма `data` на экран.**"
   ]
  },
  {
   "cell_type": "code",
   "execution_count": 3,
   "id": "4ff33b36",
   "metadata": {
    "id": "4ff33b36"
   },
   "outputs": [
    {
     "name": "stdout",
     "output_type": "stream",
     "text": [
      "    children  days_employed  dob_years            education  education_id  \\\n",
      "0          1   -8437.673028         42               высшее             0   \n",
      "1          1   -4024.803754         36              среднее             1   \n",
      "2          0   -5623.422610         33              Среднее             1   \n",
      "3          3   -4124.747207         32              среднее             1   \n",
      "4          0  340266.072047         53              среднее             1   \n",
      "5          0    -926.185831         27               высшее             0   \n",
      "6          0   -2879.202052         43               высшее             0   \n",
      "7          0    -152.779569         50              СРЕДНЕЕ             1   \n",
      "8          2   -6929.865299         35               ВЫСШЕЕ             0   \n",
      "9          0   -2188.756445         41              среднее             1   \n",
      "10         2   -4171.483647         36               высшее             0   \n",
      "11         0    -792.701887         40              среднее             1   \n",
      "12         0            NaN         65              среднее             1   \n",
      "13         0   -1846.641941         54  неоконченное высшее             2   \n",
      "14         0   -1844.956182         56               высшее             0   \n",
      "15         1    -972.364419         26              среднее             1   \n",
      "16         0   -1719.934226         35              среднее             1   \n",
      "17         0   -2369.999720         33               высшее             0   \n",
      "18         0  400281.136913         53              среднее             1   \n",
      "19         0  -10038.818549         48              СРЕДНЕЕ             1   \n",
      "\n",
      "       family_status  family_status_id gender income_type  debt  \\\n",
      "0    женат / замужем                 0      F   сотрудник     0   \n",
      "1    женат / замужем                 0      F   сотрудник     0   \n",
      "2    женат / замужем                 0      M   сотрудник     0   \n",
      "3    женат / замужем                 0      M   сотрудник     0   \n",
      "4   гражданский брак                 1      F   пенсионер     0   \n",
      "5   гражданский брак                 1      M   компаньон     0   \n",
      "6    женат / замужем                 0      F   компаньон     0   \n",
      "7    женат / замужем                 0      M   сотрудник     0   \n",
      "8   гражданский брак                 1      F   сотрудник     0   \n",
      "9    женат / замужем                 0      M   сотрудник     0   \n",
      "10   женат / замужем                 0      M   компаньон     0   \n",
      "11   женат / замужем                 0      F   сотрудник     0   \n",
      "12  гражданский брак                 1      M   пенсионер     0   \n",
      "13   женат / замужем                 0      F   сотрудник     0   \n",
      "14  гражданский брак                 1      F   компаньон     1   \n",
      "15   женат / замужем                 0      F   сотрудник     0   \n",
      "16   женат / замужем                 0      F   сотрудник     0   \n",
      "17  гражданский брак                 1      M   сотрудник     0   \n",
      "18    вдовец / вдова                 2      F   пенсионер     0   \n",
      "19         в разводе                 3      F   сотрудник     0   \n",
      "\n",
      "     total_income                                 purpose  \n",
      "0   253875.639453                           покупка жилья  \n",
      "1   112080.014102                 приобретение автомобиля  \n",
      "2   145885.952297                           покупка жилья  \n",
      "3   267628.550329              дополнительное образование  \n",
      "4   158616.077870                         сыграть свадьбу  \n",
      "5   255763.565419                           покупка жилья  \n",
      "6   240525.971920                       операции с жильем  \n",
      "7   135823.934197                             образование  \n",
      "8    95856.832424                   на проведение свадьбы  \n",
      "9   144425.938277                 покупка жилья для семьи  \n",
      "10  113943.491460                    покупка недвижимости  \n",
      "11   77069.234271       покупка коммерческой недвижимости  \n",
      "12            NaN                         сыграть свадьбу  \n",
      "13  130458.228857                 приобретение автомобиля  \n",
      "14  165127.911772              покупка жилой недвижимости  \n",
      "15  116820.904450  строительство собственной недвижимости  \n",
      "16  289202.704229                            недвижимость  \n",
      "17   90410.586745              строительство недвижимости  \n",
      "18   56823.777243      на покупку подержанного автомобиля  \n",
      "19  242831.107982            на покупку своего автомобиля  \n"
     ]
    }
   ],
   "source": [
    "print (data.head(20))   # ваш код здесь"
   ]
  },
  {
   "cell_type": "markdown",
   "id": "c8f382ae",
   "metadata": {
    "deletable": false,
    "editable": false,
    "id": "c8f382ae",
    "tags": [
     "start_task"
    ]
   },
   "source": [
    "**Задание 3. Выведите основную информацию о датафрейме с помощью метода `info()`.**"
   ]
  },
  {
   "cell_type": "code",
   "execution_count": 4,
   "id": "e1ed9908",
   "metadata": {
    "id": "e1ed9908"
   },
   "outputs": [
    {
     "name": "stdout",
     "output_type": "stream",
     "text": [
      "<class 'pandas.core.frame.DataFrame'>\n",
      "RangeIndex: 21525 entries, 0 to 21524\n",
      "Data columns (total 12 columns):\n",
      " #   Column            Non-Null Count  Dtype  \n",
      "---  ------            --------------  -----  \n",
      " 0   children          21525 non-null  int64  \n",
      " 1   days_employed     19351 non-null  float64\n",
      " 2   dob_years         21525 non-null  int64  \n",
      " 3   education         21525 non-null  object \n",
      " 4   education_id      21525 non-null  int64  \n",
      " 5   family_status     21525 non-null  object \n",
      " 6   family_status_id  21525 non-null  int64  \n",
      " 7   gender            21525 non-null  object \n",
      " 8   income_type       21525 non-null  object \n",
      " 9   debt              21525 non-null  int64  \n",
      " 10  total_income      19351 non-null  float64\n",
      " 11  purpose           21525 non-null  object \n",
      "dtypes: float64(2), int64(5), object(5)\n",
      "memory usage: 2.0+ MB\n"
     ]
    }
   ],
   "source": [
    "data.info () # ваш код здесь"
   ]
  },
  {
   "cell_type": "markdown",
   "id": "f969a1cd",
   "metadata": {
    "deletable": false,
    "editable": false,
    "id": "f969a1cd"
   },
   "source": [
    "## Предобработка данных"
   ]
  },
  {
   "cell_type": "markdown",
   "id": "7283e864",
   "metadata": {
    "deletable": false,
    "editable": false,
    "id": "7283e864"
   },
   "source": [
    "### Удаление пропусков"
   ]
  },
  {
   "cell_type": "markdown",
   "id": "c9a0745e",
   "metadata": {
    "deletable": false,
    "editable": false,
    "id": "c9a0745e",
    "tags": [
     "start_task"
    ]
   },
   "source": [
    "**Задание 4. Выведите количество пропущенных значений для каждого столбца. Используйте комбинацию двух методов.**"
   ]
  },
  {
   "cell_type": "code",
   "execution_count": 5,
   "id": "b7a096e1",
   "metadata": {
    "id": "b7a096e1"
   },
   "outputs": [
    {
     "data": {
      "text/plain": [
       "children               0\n",
       "days_employed       2174\n",
       "dob_years              0\n",
       "education              0\n",
       "education_id           0\n",
       "family_status          0\n",
       "family_status_id       0\n",
       "gender                 0\n",
       "income_type            0\n",
       "debt                   0\n",
       "total_income        2174\n",
       "purpose                0\n",
       "dtype: int64"
      ]
     },
     "execution_count": 5,
     "metadata": {},
     "output_type": "execute_result"
    }
   ],
   "source": [
    "data.isna ().sum () # ваш код здесь"
   ]
  },
  {
   "cell_type": "markdown",
   "id": "c2578616",
   "metadata": {
    "deletable": false,
    "editable": false,
    "id": "c2578616",
    "tags": [
     "start_task"
    ]
   },
   "source": [
    "**Задание 5. В двух столбцах есть пропущенные значения. Один из них — `days_employed`. Пропуски в этом столбце вы обработаете на следующем этапе. Другой столбец с пропущенными значениями — `total_income` — хранит данные о доходах. На сумму дохода сильнее всего влияет тип занятости, поэтому заполнить пропуски в этом столбце нужно медианным значением по каждому типу из столбца `income_type`. Например, у человека с типом занятости `сотрудник` пропуск в столбце `total_income` должен быть заполнен медианным доходом среди всех записей с тем же типом.**"
   ]
  },
  {
   "cell_type": "code",
   "execution_count": 6,
   "id": "e8afc4bc",
   "metadata": {
    "id": "e8afc4bc"
   },
   "outputs": [],
   "source": [
    "for index in data ['income_type'].unique():\n",
    "    data.loc[(data['income_type'] == index) & (data['total_income'].isna()), 'total_income'] = \\\n",
    "    data.loc[(data['income_type'] == index), 'total_income'].median()  # ваш код здесь"
   ]
  },
  {
   "cell_type": "markdown",
   "id": "ae986d46",
   "metadata": {
    "deletable": false,
    "editable": false,
    "id": "ae986d46"
   },
   "source": [
    "### Обработка аномальных значений"
   ]
  },
  {
   "cell_type": "markdown",
   "id": "b049cbae",
   "metadata": {
    "deletable": false,
    "editable": false,
    "id": "b049cbae",
    "tags": [
     "start_task"
    ]
   },
   "source": [
    "**Задание 6. В данных могут встречаться артефакты (аномалии) — значения, которые не отражают действительность и появились по какой-то ошибке. Таким артефактом будет отрицательное количество дней трудового стажа в столбце `days_employed`. Для реальных данных это нормально. Обработайте значения в этом столбце: замените все отрицательные значения положительными с помощью метода `abs()`.**"
   ]
  },
  {
   "cell_type": "code",
   "execution_count": 7,
   "id": "187779b0",
   "metadata": {
    "id": "187779b0"
   },
   "outputs": [],
   "source": [
    "data ['days_employed'] = data ['days_employed'].abs ()  # ваш код здесь"
   ]
  },
  {
   "cell_type": "markdown",
   "id": "a13054c2",
   "metadata": {
    "deletable": false,
    "editable": false,
    "id": "a13054c2",
    "tags": [
     "start_task"
    ]
   },
   "source": [
    "**Задание 7. Для каждого типа занятости выведите медианное значение трудового стажа `days_employed` в днях.**"
   ]
  },
  {
   "cell_type": "code",
   "execution_count": 8,
   "id": "f3f5810c",
   "metadata": {
    "id": "f3f5810c"
   },
   "outputs": [
    {
     "data": {
      "text/plain": [
       "income_type\n",
       "безработный        366413.652744\n",
       "в декрете            3296.759962\n",
       "госслужащий          2689.368353\n",
       "компаньон            1547.382223\n",
       "пенсионер          365213.306266\n",
       "предприниматель       520.848083\n",
       "сотрудник            1574.202821\n",
       "студент               578.751554\n",
       "Name: days_employed, dtype: float64"
      ]
     },
     "execution_count": 8,
     "metadata": {},
     "output_type": "execute_result"
    }
   ],
   "source": [
    "data.groupby ('income_type') ['days_employed'].median ()\n",
    " # ваш код здесь"
   ]
  },
  {
   "cell_type": "markdown",
   "id": "dbc3168c",
   "metadata": {
    "deletable": false,
    "editable": false,
    "id": "dbc3168c"
   },
   "source": [
    "У двух типов (безработные и пенсионеры) получатся аномально большие значения. Исправить такие значения сложно, поэтому оставьте их как есть."
   ]
  },
  {
   "cell_type": "markdown",
   "id": "ff4378c2",
   "metadata": {
    "deletable": false,
    "editable": false,
    "id": "ff4378c2",
    "tags": [
     "start_task"
    ]
   },
   "source": [
    "**Задание 8. Выведите перечень уникальных значений столбца `children`.**"
   ]
  },
  {
   "cell_type": "code",
   "execution_count": 9,
   "id": "9bd0c232",
   "metadata": {
    "id": "9bd0c232"
   },
   "outputs": [
    {
     "data": {
      "text/plain": [
       "array([ 1,  0,  3,  2, -1,  4, 20,  5])"
      ]
     },
     "execution_count": 9,
     "metadata": {},
     "output_type": "execute_result"
    }
   ],
   "source": [
    "data ['children'].unique ()\n",
    "# ваш код здесь"
   ]
  },
  {
   "cell_type": "markdown",
   "id": "8e911990",
   "metadata": {
    "deletable": false,
    "editable": false,
    "id": "8e911990",
    "tags": [
     "start_task"
    ]
   },
   "source": [
    "**Задание 9. В столбце `children` есть два аномальных значения. Удалите строки, в которых встречаются такие аномальные значения из датафрейма `data`.**"
   ]
  },
  {
   "cell_type": "code",
   "execution_count": 10,
   "id": "6d5ba289",
   "metadata": {
    "id": "6d5ba289",
    "scrolled": true
   },
   "outputs": [],
   "source": [
    "data = data[~data['children'].isin([-1, 20])]\n",
    "\n",
    "\n",
    "\n",
    "# ваш код здесь"
   ]
  },
  {
   "cell_type": "markdown",
   "id": "18d77455",
   "metadata": {
    "deletable": false,
    "editable": false,
    "id": "18d77455",
    "tags": [
     "start_task"
    ]
   },
   "source": [
    "**Задание 10. Ещё раз выведите перечень уникальных значений столбца `children`, чтобы убедиться, что артефакты удалены.**"
   ]
  },
  {
   "cell_type": "code",
   "execution_count": 11,
   "id": "2c5fa92c",
   "metadata": {
    "id": "2c5fa92c"
   },
   "outputs": [
    {
     "data": {
      "text/plain": [
       "array([1, 0, 3, 2, 4, 5])"
      ]
     },
     "execution_count": 11,
     "metadata": {},
     "output_type": "execute_result"
    }
   ],
   "source": [
    "data ['children'].unique () # ваш код здесь"
   ]
  },
  {
   "cell_type": "markdown",
   "id": "0ec07dee",
   "metadata": {
    "deletable": false,
    "editable": false,
    "id": "0ec07dee"
   },
   "source": [
    "### Удаление пропусков (продолжение)"
   ]
  },
  {
   "cell_type": "markdown",
   "id": "0fc3ae3f",
   "metadata": {
    "deletable": false,
    "editable": false,
    "id": "0fc3ae3f",
    "tags": [
     "start_task"
    ]
   },
   "source": [
    "**Задание 11. Заполните пропуски в столбце `days_employed` медианными значениями по каждому типу занятости `income_type`.**"
   ]
  },
  {
   "cell_type": "code",
   "execution_count": 12,
   "id": "e2aea7ac",
   "metadata": {
    "id": "e2aea7ac"
   },
   "outputs": [],
   "source": [
    "for index in data ['income_type'].unique():\n",
    "    data.loc[(data['income_type'] == index) & (data['days_employed'].isna()), 'days_employed'] = \\\n",
    "    data.loc[(data['income_type'] == index), 'days_employed'].median() # ваш код здесь"
   ]
  },
  {
   "cell_type": "markdown",
   "id": "97b0b795",
   "metadata": {
    "deletable": false,
    "editable": false,
    "id": "97b0b795",
    "tags": [
     "start_task"
    ]
   },
   "source": [
    "**Задание 12. Убедитесь, что все пропуски заполнены. Проверьте себя и ещё раз выведите количество пропущенных значений для каждого столбца с помощью двух методов.**"
   ]
  },
  {
   "cell_type": "code",
   "execution_count": 13,
   "id": "79632a21",
   "metadata": {
    "id": "79632a21"
   },
   "outputs": [
    {
     "data": {
      "text/plain": [
       "children            0\n",
       "days_employed       0\n",
       "dob_years           0\n",
       "education           0\n",
       "education_id        0\n",
       "family_status       0\n",
       "family_status_id    0\n",
       "gender              0\n",
       "income_type         0\n",
       "debt                0\n",
       "total_income        0\n",
       "purpose             0\n",
       "dtype: int64"
      ]
     },
     "execution_count": 13,
     "metadata": {},
     "output_type": "execute_result"
    }
   ],
   "source": [
    "data.isna ().sum () # ваш код здесь"
   ]
  },
  {
   "cell_type": "markdown",
   "id": "bd4aeb20",
   "metadata": {
    "deletable": false,
    "editable": false,
    "id": "bd4aeb20"
   },
   "source": [
    "### Изменение типов данных"
   ]
  },
  {
   "cell_type": "markdown",
   "id": "963bfa58",
   "metadata": {
    "deletable": false,
    "editable": false,
    "id": "963bfa58",
    "tags": [
     "start_task"
    ]
   },
   "source": [
    "**Задание 13. Замените вещественный тип данных в столбце `total_income` на целочисленный с помощью метода `astype()`.**"
   ]
  },
  {
   "cell_type": "code",
   "execution_count": 14,
   "id": "73da6ea0",
   "metadata": {
    "id": "73da6ea0"
   },
   "outputs": [],
   "source": [
    "data ['total_income'] = data ['total_income'].astype(int)\n",
    "# ваш код здесь"
   ]
  },
  {
   "cell_type": "markdown",
   "id": "d290239e",
   "metadata": {
    "deletable": false,
    "editable": false,
    "id": "d290239e"
   },
   "source": [
    "### Обработка дубликатов"
   ]
  },
  {
   "cell_type": "markdown",
   "id": "1b5844fd",
   "metadata": {
    "deletable": false,
    "editable": false,
    "id": "1b5844fd",
    "tags": [
     "start_task"
    ]
   },
   "source": [
    "**Задание 14. Обработайте неявные дубликаты в столбце `education`. В этом столбце есть одни и те же значения, но записанные по-разному: с использованием заглавных и строчных букв. Приведите их к нижнему регистру.**"
   ]
  },
  {
   "cell_type": "code",
   "execution_count": 15,
   "id": "3f2504b3",
   "metadata": {
    "id": "3f2504b3"
   },
   "outputs": [],
   "source": [
    "data ['education']= data ['education'].str.lower ()  # ваш код здесь"
   ]
  },
  {
   "cell_type": "markdown",
   "id": "4c22acbc",
   "metadata": {
    "deletable": false,
    "editable": false,
    "id": "4c22acbc",
    "tags": [
     "start_task"
    ]
   },
   "source": [
    "**Задание 15. Выведите на экран количество строк-дубликатов в данных. Если такие строки присутствуют, удалите их.**"
   ]
  },
  {
   "cell_type": "code",
   "execution_count": 16,
   "id": "d34a4325",
   "metadata": {
    "id": "d34a4325"
   },
   "outputs": [
    {
     "data": {
      "text/plain": [
       "71"
      ]
     },
     "execution_count": 16,
     "metadata": {},
     "output_type": "execute_result"
    }
   ],
   "source": [
    "data.duplicated ().sum ()\n",
    "# посчитайте дубликаты"
   ]
  },
  {
   "cell_type": "code",
   "execution_count": 17,
   "id": "6e1a6499",
   "metadata": {
    "id": "6e1a6499"
   },
   "outputs": [],
   "source": [
    "data = data.drop_duplicates () # удалите дубликаты"
   ]
  },
  {
   "cell_type": "markdown",
   "id": "e5686ccc",
   "metadata": {
    "deletable": false,
    "editable": false,
    "id": "e5686ccc"
   },
   "source": [
    "### Категоризация данных"
   ]
  },
  {
   "cell_type": "markdown",
   "id": "636e9acd",
   "metadata": {
    "deletable": false,
    "editable": false,
    "id": "636e9acd",
    "tags": [
     "start_task"
    ]
   },
   "source": [
    "**Задание 16. На основании диапазонов, указанных ниже, создайте в датафрейме `data` столбец `total_income_category` с категориями:**\n",
    "\n",
    "- 0–30000 — `'E'`;\n",
    "- 30001–50000 — `'D'`;\n",
    "- 50001–200000 — `'C'`;\n",
    "- 200001–1000000 — `'B'`;\n",
    "- 1000001 и выше — `'A'`.\n",
    "\n",
    "\n",
    "**Например, кредитополучателю с доходом 25000 нужно назначить категорию `'E'`, а клиенту, получающему 235000, — `'B'`. Используйте собственную функцию с именем `categorize_income()` и метод `apply()`.**"
   ]
  },
  {
   "cell_type": "code",
   "execution_count": 18,
   "id": "880a77e5",
   "metadata": {
    "id": "880a77e5"
   },
   "outputs": [],
   "source": [
    "def categorize_income (row):\n",
    "    if row <= 30000:\n",
    "        return 'E'\n",
    "    if row <= 50000:\n",
    "        return 'D'\n",
    "    if row <= 200000:\n",
    "        return 'C'\n",
    "    if row <= 1000000:\n",
    "        return 'B'\n",
    "    \n",
    "    return 'A'\n",
    "# создайте функцию categorize_income()"
   ]
  },
  {
   "cell_type": "code",
   "execution_count": 19,
   "id": "6f25f161",
   "metadata": {
    "id": "6f25f161"
   },
   "outputs": [],
   "source": [
    "data ['total_income_category'] = data ['total_income'].apply (categorize_income)\n",
    "# примените функцию методом apply()"
   ]
  },
  {
   "cell_type": "markdown",
   "id": "3363b685",
   "metadata": {
    "deletable": false,
    "editable": false,
    "id": "3363b685",
    "tags": [
     "start_task"
    ]
   },
   "source": [
    "**Задание 17. Выведите на экран перечень уникальных целей взятия кредита из столбца `purpose`.**"
   ]
  },
  {
   "cell_type": "code",
   "execution_count": 20,
   "id": "e59f2c15",
   "metadata": {
    "id": "e59f2c15"
   },
   "outputs": [
    {
     "data": {
      "text/plain": [
       "array(['покупка жилья', 'приобретение автомобиля',\n",
       "       'дополнительное образование', 'сыграть свадьбу',\n",
       "       'операции с жильем', 'образование', 'на проведение свадьбы',\n",
       "       'покупка жилья для семьи', 'покупка недвижимости',\n",
       "       'покупка коммерческой недвижимости', 'покупка жилой недвижимости',\n",
       "       'строительство собственной недвижимости', 'недвижимость',\n",
       "       'строительство недвижимости', 'на покупку подержанного автомобиля',\n",
       "       'на покупку своего автомобиля',\n",
       "       'операции с коммерческой недвижимостью',\n",
       "       'строительство жилой недвижимости', 'жилье',\n",
       "       'операции со своей недвижимостью', 'автомобили',\n",
       "       'заняться образованием', 'сделка с подержанным автомобилем',\n",
       "       'получение образования', 'автомобиль', 'свадьба',\n",
       "       'получение дополнительного образования', 'покупка своего жилья',\n",
       "       'операции с недвижимостью', 'получение высшего образования',\n",
       "       'свой автомобиль', 'сделка с автомобилем',\n",
       "       'профильное образование', 'высшее образование',\n",
       "       'покупка жилья для сдачи', 'на покупку автомобиля', 'ремонт жилью',\n",
       "       'заняться высшим образованием'], dtype=object)"
      ]
     },
     "execution_count": 20,
     "metadata": {},
     "output_type": "execute_result"
    }
   ],
   "source": [
    "data ['purpose'].unique ()  # ваш код здесь"
   ]
  },
  {
   "cell_type": "markdown",
   "id": "bb33e847",
   "metadata": {
    "deletable": false,
    "editable": false,
    "id": "bb33e847",
    "tags": [
     "start_task"
    ]
   },
   "source": [
    "**Задание 18. Создайте функцию, которая на основании данных из столбца `purpose` сформирует новый столбец `purpose_category`, в который войдут следующие категории:**\n",
    "\n",
    "- `'операции с автомобилем'`,\n",
    "- `'операции с недвижимостью'`,\n",
    "- `'проведение свадьбы'`,\n",
    "- `'получение образования'`.\n",
    "\n",
    "**Например, если в столбце `purpose` находится подстрока `'на покупку автомобиля'`, то в столбце `purpose_category` должна появиться строка `'операции с автомобилем'`.**\n",
    "\n",
    "**Используйте собственную функцию с именем `categorize_purpose()` и метод `apply()`. Изучите данные в столбце `purpose` и определите, какие подстроки помогут вам правильно определить категорию.**"
   ]
  },
  {
   "cell_type": "code",
   "execution_count": 24,
   "id": "63909b83",
   "metadata": {
    "id": "63909b83"
   },
   "outputs": [],
   "source": [
    "def categorize_purpose (row):\n",
    "    target = row ['purpose']\n",
    "    if 'жиль' in target:\n",
    "        return 'операции с недвижимостью'\n",
    "    if 'недвиж' in target:\n",
    "        return 'операции с недвижимостью'\n",
    "    if 'автомоб' in target:\n",
    "        return 'операции с автомобилем'\n",
    "    if 'свадь' in target:\n",
    "        return 'проведение свадьбы'\n",
    "    return 'получение образования'\n",
    "    \n",
    "# создайте функцию categorize_purpose()"
   ]
  },
  {
   "cell_type": "code",
   "execution_count": 26,
   "id": "7cb4a81d",
   "metadata": {
    "id": "7cb4a81d"
   },
   "outputs": [],
   "source": [
    "data ['purpose_category'] = data.apply (categorize_purpose,axis=1)\n",
    "# примените функцию методом apply()# примените функцию методом apply()"
   ]
  }
 ],
 "metadata": {
  "ExecuteTimeLog": [
   {
    "duration": 347,
    "start_time": "2023-01-16T07:35:09.166Z"
   },
   {
    "duration": 143,
    "start_time": "2023-01-16T07:35:13.279Z"
   },
   {
    "duration": 10,
    "start_time": "2023-01-16T07:35:15.777Z"
   },
   {
    "duration": 14,
    "start_time": "2023-01-16T07:35:23.251Z"
   },
   {
    "duration": 63,
    "start_time": "2023-01-16T07:41:08.804Z"
   },
   {
    "duration": 10,
    "start_time": "2023-01-16T07:47:33.784Z"
   },
   {
    "duration": 7,
    "start_time": "2023-01-16T07:47:47.697Z"
   },
   {
    "duration": 8,
    "start_time": "2023-01-16T07:53:26.379Z"
   },
   {
    "duration": 8,
    "start_time": "2023-01-16T07:53:30.579Z"
   },
   {
    "duration": 18,
    "start_time": "2023-01-16T07:54:04.889Z"
   },
   {
    "duration": 21956,
    "start_time": "2023-01-16T08:00:09.811Z"
   },
   {
    "duration": 4,
    "start_time": "2023-01-16T08:22:15.301Z"
   },
   {
    "duration": 22,
    "start_time": "2023-01-16T08:25:50.154Z"
   },
   {
    "duration": 17,
    "start_time": "2023-01-16T08:26:30.448Z"
   },
   {
    "duration": 9,
    "start_time": "2023-01-16T08:27:05.751Z"
   },
   {
    "duration": 9,
    "start_time": "2023-01-16T08:27:39.029Z"
   },
   {
    "duration": 22,
    "start_time": "2023-01-16T08:29:43.313Z"
   },
   {
    "duration": 21,
    "start_time": "2023-01-16T08:30:40.449Z"
   },
   {
    "duration": 21,
    "start_time": "2023-01-16T08:31:51.709Z"
   },
   {
    "duration": 9,
    "start_time": "2023-01-16T08:32:21.063Z"
   },
   {
    "duration": 8,
    "start_time": "2023-01-16T08:32:28.638Z"
   },
   {
    "duration": 8,
    "start_time": "2023-01-16T08:32:44.243Z"
   },
   {
    "duration": 5,
    "start_time": "2023-01-16T08:33:36.785Z"
   },
   {
    "duration": 10,
    "start_time": "2023-01-16T08:41:05.163Z"
   },
   {
    "duration": 70,
    "start_time": "2023-01-16T08:49:09.078Z"
   },
   {
    "duration": 71,
    "start_time": "2023-01-16T08:49:41.375Z"
   },
   {
    "duration": 71,
    "start_time": "2023-01-16T08:50:19.231Z"
   },
   {
    "duration": 90,
    "start_time": "2023-01-16T08:51:42.871Z"
   },
   {
    "duration": 70,
    "start_time": "2023-01-16T08:52:13.127Z"
   },
   {
    "duration": 76,
    "start_time": "2023-01-16T08:56:00.812Z"
   },
   {
    "duration": 7,
    "start_time": "2023-01-16T08:57:45.254Z"
   },
   {
    "duration": 104,
    "start_time": "2023-01-16T08:58:15.001Z"
   },
   {
    "duration": 71,
    "start_time": "2023-01-16T08:58:40.022Z"
   },
   {
    "duration": 75,
    "start_time": "2023-01-16T08:58:57.528Z"
   },
   {
    "duration": 12,
    "start_time": "2023-01-16T09:02:45.157Z"
   },
   {
    "duration": 11,
    "start_time": "2023-01-16T09:03:07.534Z"
   },
   {
    "duration": 374,
    "start_time": "2023-01-16T09:03:32.645Z"
   },
   {
    "duration": 96,
    "start_time": "2023-01-16T09:03:33.021Z"
   },
   {
    "duration": 11,
    "start_time": "2023-01-16T09:03:33.119Z"
   },
   {
    "duration": 47,
    "start_time": "2023-01-16T09:03:33.131Z"
   },
   {
    "duration": 68,
    "start_time": "2023-01-16T09:03:33.180Z"
   },
   {
    "duration": 33,
    "start_time": "2023-01-16T09:03:33.249Z"
   },
   {
    "duration": 3,
    "start_time": "2023-01-16T09:03:33.284Z"
   },
   {
    "duration": 55,
    "start_time": "2023-01-16T09:03:33.289Z"
   },
   {
    "duration": 85,
    "start_time": "2023-01-16T09:03:33.345Z"
   },
   {
    "duration": 80,
    "start_time": "2023-01-16T09:03:33.432Z"
   },
   {
    "duration": 0,
    "start_time": "2023-01-16T09:03:33.517Z"
   },
   {
    "duration": 0,
    "start_time": "2023-01-16T09:03:33.518Z"
   },
   {
    "duration": 0,
    "start_time": "2023-01-16T09:03:33.519Z"
   },
   {
    "duration": 0,
    "start_time": "2023-01-16T09:03:33.519Z"
   },
   {
    "duration": 0,
    "start_time": "2023-01-16T09:03:33.520Z"
   },
   {
    "duration": 0,
    "start_time": "2023-01-16T09:03:33.521Z"
   },
   {
    "duration": 0,
    "start_time": "2023-01-16T09:03:33.522Z"
   },
   {
    "duration": 0,
    "start_time": "2023-01-16T09:03:33.523Z"
   },
   {
    "duration": 0,
    "start_time": "2023-01-16T09:03:33.524Z"
   },
   {
    "duration": 0,
    "start_time": "2023-01-16T09:03:33.525Z"
   },
   {
    "duration": 0,
    "start_time": "2023-01-16T09:03:33.526Z"
   },
   {
    "duration": 0,
    "start_time": "2023-01-16T09:03:33.527Z"
   },
   {
    "duration": 12,
    "start_time": "2023-01-16T09:04:12.135Z"
   },
   {
    "duration": 76,
    "start_time": "2023-01-16T09:04:41.799Z"
   },
   {
    "duration": 13,
    "start_time": "2023-01-16T09:04:48.959Z"
   },
   {
    "duration": 10,
    "start_time": "2023-01-16T09:05:18.705Z"
   },
   {
    "duration": 34,
    "start_time": "2023-01-16T09:06:40.408Z"
   },
   {
    "duration": 44,
    "start_time": "2023-01-16T09:10:59.069Z"
   },
   {
    "duration": 415,
    "start_time": "2023-01-16T09:43:56.386Z"
   },
   {
    "duration": 95,
    "start_time": "2023-01-16T09:43:56.803Z"
   },
   {
    "duration": 15,
    "start_time": "2023-01-16T09:43:56.900Z"
   },
   {
    "duration": 41,
    "start_time": "2023-01-16T09:43:56.919Z"
   },
   {
    "duration": 31,
    "start_time": "2023-01-16T09:43:56.962Z"
   },
   {
    "duration": 135,
    "start_time": "2023-01-16T09:43:56.995Z"
   },
   {
    "duration": 16,
    "start_time": "2023-01-16T09:43:57.132Z"
   },
   {
    "duration": 60,
    "start_time": "2023-01-16T09:43:57.150Z"
   },
   {
    "duration": 74,
    "start_time": "2023-01-16T09:43:57.214Z"
   },
   {
    "duration": 42,
    "start_time": "2023-01-16T09:43:57.292Z"
   },
   {
    "duration": 36,
    "start_time": "2023-01-16T09:43:57.336Z"
   },
   {
    "duration": 8,
    "start_time": "2023-01-16T09:43:57.375Z"
   },
   {
    "duration": 45,
    "start_time": "2023-01-16T09:43:57.385Z"
   },
   {
    "duration": 99,
    "start_time": "2023-01-16T09:43:57.432Z"
   },
   {
    "duration": 36,
    "start_time": "2023-01-16T09:43:57.534Z"
   },
   {
    "duration": 23,
    "start_time": "2023-01-16T09:43:57.573Z"
   },
   {
    "duration": 38,
    "start_time": "2023-01-16T09:43:57.599Z"
   },
   {
    "duration": 20,
    "start_time": "2023-01-16T09:43:57.639Z"
   },
   {
    "duration": 20,
    "start_time": "2023-01-16T09:43:57.661Z"
   },
   {
    "duration": 21,
    "start_time": "2023-01-16T09:43:57.683Z"
   },
   {
    "duration": 33,
    "start_time": "2023-01-16T09:43:57.705Z"
   },
   {
    "duration": 13,
    "start_time": "2023-01-16T09:43:57.740Z"
   },
   {
    "duration": 406,
    "start_time": "2023-01-16T09:49:12.789Z"
   },
   {
    "duration": 79,
    "start_time": "2023-01-16T09:49:13.197Z"
   },
   {
    "duration": 10,
    "start_time": "2023-01-16T09:49:13.278Z"
   },
   {
    "duration": 15,
    "start_time": "2023-01-16T09:49:13.289Z"
   },
   {
    "duration": 24,
    "start_time": "2023-01-16T09:49:13.306Z"
   },
   {
    "duration": 35,
    "start_time": "2023-01-16T09:49:13.331Z"
   },
   {
    "duration": 4,
    "start_time": "2023-01-16T09:49:13.368Z"
   },
   {
    "duration": 14,
    "start_time": "2023-01-16T09:49:13.373Z"
   },
   {
    "duration": 47,
    "start_time": "2023-01-16T09:49:13.388Z"
   },
   {
    "duration": 34,
    "start_time": "2023-01-16T09:49:13.437Z"
   },
   {
    "duration": 2,
    "start_time": "2023-01-16T09:49:13.473Z"
   },
   {
    "duration": 6,
    "start_time": "2023-01-16T09:49:13.477Z"
   },
   {
    "duration": 15,
    "start_time": "2023-01-16T09:49:13.485Z"
   },
   {
    "duration": 4,
    "start_time": "2023-01-16T09:49:13.503Z"
   },
   {
    "duration": 20,
    "start_time": "2023-01-16T09:49:13.509Z"
   },
   {
    "duration": 7,
    "start_time": "2023-01-16T09:49:13.531Z"
   },
   {
    "duration": 6,
    "start_time": "2023-01-16T09:49:13.540Z"
   },
   {
    "duration": 8,
    "start_time": "2023-01-16T09:49:13.548Z"
   },
   {
    "duration": 10,
    "start_time": "2023-01-16T09:49:13.557Z"
   },
   {
    "duration": 6,
    "start_time": "2023-01-16T09:49:13.569Z"
   },
   {
    "duration": 17,
    "start_time": "2023-01-16T09:49:13.578Z"
   },
   {
    "duration": 7,
    "start_time": "2023-01-16T09:49:13.597Z"
   },
   {
    "duration": 390,
    "start_time": "2023-01-16T09:53:35.378Z"
   },
   {
    "duration": 77,
    "start_time": "2023-01-16T09:53:35.770Z"
   },
   {
    "duration": 10,
    "start_time": "2023-01-16T09:53:35.849Z"
   },
   {
    "duration": 17,
    "start_time": "2023-01-16T09:53:35.860Z"
   },
   {
    "duration": 66,
    "start_time": "2023-01-16T09:53:35.879Z"
   },
   {
    "duration": 47,
    "start_time": "2023-01-16T09:53:35.947Z"
   },
   {
    "duration": 3,
    "start_time": "2023-01-16T09:53:35.996Z"
   },
   {
    "duration": 11,
    "start_time": "2023-01-16T09:53:36.001Z"
   },
   {
    "duration": 12,
    "start_time": "2023-01-16T09:53:36.015Z"
   },
   {
    "duration": 40,
    "start_time": "2023-01-16T09:53:36.028Z"
   },
   {
    "duration": 2,
    "start_time": "2023-01-16T09:53:36.069Z"
   },
   {
    "duration": 9,
    "start_time": "2023-01-16T09:53:36.073Z"
   },
   {
    "duration": 8,
    "start_time": "2023-01-16T09:53:36.083Z"
   },
   {
    "duration": 7,
    "start_time": "2023-01-16T09:53:36.093Z"
   },
   {
    "duration": 36,
    "start_time": "2023-01-16T09:53:36.101Z"
   },
   {
    "duration": 8,
    "start_time": "2023-01-16T09:53:36.139Z"
   },
   {
    "duration": 7,
    "start_time": "2023-01-16T09:53:36.149Z"
   },
   {
    "duration": 12,
    "start_time": "2023-01-16T09:53:36.158Z"
   },
   {
    "duration": 10,
    "start_time": "2023-01-16T09:53:36.171Z"
   },
   {
    "duration": 6,
    "start_time": "2023-01-16T09:53:36.183Z"
   },
   {
    "duration": 10,
    "start_time": "2023-01-16T09:53:36.190Z"
   },
   {
    "duration": 7,
    "start_time": "2023-01-16T09:53:36.201Z"
   },
   {
    "duration": 15,
    "start_time": "2023-01-16T09:58:38.066Z"
   },
   {
    "duration": 64,
    "start_time": "2023-01-16T10:00:10.589Z"
   },
   {
    "duration": 5,
    "start_time": "2023-01-16T10:01:20.711Z"
   },
   {
    "duration": 13,
    "start_time": "2023-01-16T10:03:06.102Z"
   },
   {
    "duration": 20,
    "start_time": "2023-01-16T10:04:31.526Z"
   },
   {
    "duration": 11,
    "start_time": "2023-01-16T10:06:21.661Z"
   },
   {
    "duration": 0,
    "start_time": "2023-01-16T10:08:32.517Z"
   },
   {
    "duration": 368,
    "start_time": "2023-01-16T10:08:45.773Z"
   },
   {
    "duration": 77,
    "start_time": "2023-01-16T10:08:46.143Z"
   },
   {
    "duration": 14,
    "start_time": "2023-01-16T10:08:46.222Z"
   },
   {
    "duration": 29,
    "start_time": "2023-01-16T10:08:46.238Z"
   },
   {
    "duration": 16,
    "start_time": "2023-01-16T10:08:46.270Z"
   },
   {
    "duration": 90,
    "start_time": "2023-01-16T10:08:46.289Z"
   },
   {
    "duration": 8,
    "start_time": "2023-01-16T10:08:46.380Z"
   },
   {
    "duration": 17,
    "start_time": "2023-01-16T10:08:46.389Z"
   },
   {
    "duration": 10,
    "start_time": "2023-01-16T10:08:46.408Z"
   },
   {
    "duration": 11,
    "start_time": "2023-01-16T10:08:46.419Z"
   },
   {
    "duration": 28,
    "start_time": "2023-01-16T10:08:46.432Z"
   },
   {
    "duration": 39,
    "start_time": "2023-01-16T10:08:46.462Z"
   },
   {
    "duration": 13,
    "start_time": "2023-01-16T10:08:46.504Z"
   },
   {
    "duration": 9,
    "start_time": "2023-01-16T10:08:46.520Z"
   },
   {
    "duration": 15,
    "start_time": "2023-01-16T10:08:46.531Z"
   },
   {
    "duration": 85,
    "start_time": "2023-01-16T10:08:46.548Z"
   },
   {
    "duration": 18,
    "start_time": "2023-01-16T10:08:46.634Z"
   },
   {
    "duration": 2,
    "start_time": "2023-01-16T10:08:46.653Z"
   },
   {
    "duration": 22,
    "start_time": "2023-01-16T10:08:46.657Z"
   },
   {
    "duration": 13,
    "start_time": "2023-01-16T10:08:46.681Z"
   },
   {
    "duration": 9,
    "start_time": "2023-01-16T10:08:46.696Z"
   },
   {
    "duration": 13,
    "start_time": "2023-01-16T10:08:46.707Z"
   },
   {
    "duration": 73,
    "start_time": "2023-01-16T10:09:12.299Z"
   },
   {
    "duration": 36,
    "start_time": "2023-01-16T10:09:37.427Z"
   },
   {
    "duration": 19,
    "start_time": "2023-01-16T10:09:50.886Z"
   },
   {
    "duration": 101,
    "start_time": "2023-01-16T10:18:25.008Z"
   },
   {
    "duration": 4,
    "start_time": "2023-01-16T10:19:46.869Z"
   },
   {
    "duration": 9,
    "start_time": "2023-01-16T10:21:09.087Z"
   },
   {
    "duration": 378,
    "start_time": "2023-01-16T10:22:13.753Z"
   },
   {
    "duration": 91,
    "start_time": "2023-01-16T10:22:14.135Z"
   },
   {
    "duration": 13,
    "start_time": "2023-01-16T10:22:14.228Z"
   },
   {
    "duration": 43,
    "start_time": "2023-01-16T10:22:14.243Z"
   },
   {
    "duration": 22,
    "start_time": "2023-01-16T10:22:14.289Z"
   },
   {
    "duration": 49,
    "start_time": "2023-01-16T10:22:14.312Z"
   },
   {
    "duration": 4,
    "start_time": "2023-01-16T10:22:14.363Z"
   },
   {
    "duration": 30,
    "start_time": "2023-01-16T10:22:14.369Z"
   },
   {
    "duration": 24,
    "start_time": "2023-01-16T10:22:14.401Z"
   },
   {
    "duration": 26,
    "start_time": "2023-01-16T10:22:14.427Z"
   },
   {
    "duration": 17,
    "start_time": "2023-01-16T10:22:14.455Z"
   },
   {
    "duration": 49,
    "start_time": "2023-01-16T10:22:14.475Z"
   },
   {
    "duration": 11,
    "start_time": "2023-01-16T10:22:14.526Z"
   },
   {
    "duration": 19,
    "start_time": "2023-01-16T10:22:14.540Z"
   },
   {
    "duration": 24,
    "start_time": "2023-01-16T10:22:14.562Z"
   },
   {
    "duration": 35,
    "start_time": "2023-01-16T10:22:14.588Z"
   },
   {
    "duration": 22,
    "start_time": "2023-01-16T10:22:14.626Z"
   },
   {
    "duration": 8,
    "start_time": "2023-01-16T10:22:14.652Z"
   },
   {
    "duration": 30,
    "start_time": "2023-01-16T10:22:14.662Z"
   },
   {
    "duration": 18,
    "start_time": "2023-01-16T10:22:14.694Z"
   },
   {
    "duration": 13,
    "start_time": "2023-01-16T10:22:14.714Z"
   },
   {
    "duration": 21,
    "start_time": "2023-01-16T10:22:14.729Z"
   },
   {
    "duration": 8,
    "start_time": "2023-01-16T10:22:50.582Z"
   },
   {
    "duration": 392,
    "start_time": "2023-01-16T10:37:50.529Z"
   },
   {
    "duration": 70,
    "start_time": "2023-01-16T10:37:50.922Z"
   },
   {
    "duration": 11,
    "start_time": "2023-01-16T10:37:50.994Z"
   },
   {
    "duration": 18,
    "start_time": "2023-01-16T10:37:51.008Z"
   },
   {
    "duration": 23,
    "start_time": "2023-01-16T10:37:51.028Z"
   },
   {
    "duration": 36,
    "start_time": "2023-01-16T10:37:51.052Z"
   },
   {
    "duration": 4,
    "start_time": "2023-01-16T10:37:51.090Z"
   },
   {
    "duration": 40,
    "start_time": "2023-01-16T10:37:51.096Z"
   },
   {
    "duration": 14,
    "start_time": "2023-01-16T10:37:51.137Z"
   },
   {
    "duration": 14,
    "start_time": "2023-01-16T10:37:51.153Z"
   },
   {
    "duration": 25,
    "start_time": "2023-01-16T10:37:51.169Z"
   },
   {
    "duration": 58,
    "start_time": "2023-01-16T10:37:51.196Z"
   },
   {
    "duration": 10,
    "start_time": "2023-01-16T10:37:51.256Z"
   },
   {
    "duration": 14,
    "start_time": "2023-01-16T10:37:51.268Z"
   },
   {
    "duration": 30,
    "start_time": "2023-01-16T10:37:51.283Z"
   },
   {
    "duration": 20,
    "start_time": "2023-01-16T10:37:51.315Z"
   },
   {
    "duration": 16,
    "start_time": "2023-01-16T10:37:51.337Z"
   },
   {
    "duration": 16,
    "start_time": "2023-01-16T10:37:51.354Z"
   },
   {
    "duration": 59,
    "start_time": "2023-01-16T10:37:51.371Z"
   },
   {
    "duration": 46,
    "start_time": "2023-01-16T10:37:51.432Z"
   },
   {
    "duration": 13,
    "start_time": "2023-01-16T10:37:51.480Z"
   },
   {
    "duration": 357,
    "start_time": "2023-01-16T10:37:51.494Z"
   },
   {
    "duration": 3,
    "start_time": "2023-01-16T10:39:37.274Z"
   },
   {
    "duration": 351,
    "start_time": "2023-01-16T10:39:39.878Z"
   },
   {
    "duration": 462,
    "start_time": "2023-01-16T10:39:47.314Z"
   },
   {
    "duration": 72,
    "start_time": "2023-01-16T10:39:47.779Z"
   },
   {
    "duration": 14,
    "start_time": "2023-01-16T10:39:47.853Z"
   },
   {
    "duration": 16,
    "start_time": "2023-01-16T10:39:47.869Z"
   },
   {
    "duration": 33,
    "start_time": "2023-01-16T10:39:47.888Z"
   },
   {
    "duration": 41,
    "start_time": "2023-01-16T10:39:47.923Z"
   },
   {
    "duration": 4,
    "start_time": "2023-01-16T10:39:47.966Z"
   },
   {
    "duration": 10,
    "start_time": "2023-01-16T10:39:47.972Z"
   },
   {
    "duration": 6,
    "start_time": "2023-01-16T10:39:47.984Z"
   },
   {
    "duration": 7,
    "start_time": "2023-01-16T10:39:48.013Z"
   },
   {
    "duration": 7,
    "start_time": "2023-01-16T10:39:48.022Z"
   },
   {
    "duration": 39,
    "start_time": "2023-01-16T10:39:48.031Z"
   },
   {
    "duration": 10,
    "start_time": "2023-01-16T10:39:48.072Z"
   },
   {
    "duration": 11,
    "start_time": "2023-01-16T10:39:48.084Z"
   },
   {
    "duration": 31,
    "start_time": "2023-01-16T10:39:48.097Z"
   },
   {
    "duration": 34,
    "start_time": "2023-01-16T10:39:48.130Z"
   },
   {
    "duration": 21,
    "start_time": "2023-01-16T10:39:48.166Z"
   },
   {
    "duration": 3,
    "start_time": "2023-01-16T10:39:48.189Z"
   },
   {
    "duration": 19,
    "start_time": "2023-01-16T10:39:48.194Z"
   },
   {
    "duration": 24,
    "start_time": "2023-01-16T10:39:48.215Z"
   },
   {
    "duration": 9,
    "start_time": "2023-01-16T10:39:48.242Z"
   },
   {
    "duration": 407,
    "start_time": "2023-01-16T10:39:48.253Z"
   },
   {
    "duration": 3,
    "start_time": "2023-01-16T10:40:37.270Z"
   },
   {
    "duration": 5,
    "start_time": "2023-01-16T10:40:49.653Z"
   },
   {
    "duration": 3,
    "start_time": "2023-01-16T10:41:18.950Z"
   },
   {
    "duration": 4,
    "start_time": "2023-01-16T10:42:53.109Z"
   },
   {
    "duration": 3,
    "start_time": "2023-01-16T10:43:03.096Z"
   },
   {
    "duration": 434,
    "start_time": "2023-01-16T10:43:09.038Z"
   },
   {
    "duration": 69,
    "start_time": "2023-01-16T10:43:09.474Z"
   },
   {
    "duration": 12,
    "start_time": "2023-01-16T10:43:09.547Z"
   },
   {
    "duration": 31,
    "start_time": "2023-01-16T10:43:09.561Z"
   },
   {
    "duration": 21,
    "start_time": "2023-01-16T10:43:09.595Z"
   },
   {
    "duration": 48,
    "start_time": "2023-01-16T10:43:09.619Z"
   },
   {
    "duration": 4,
    "start_time": "2023-01-16T10:43:09.669Z"
   },
   {
    "duration": 14,
    "start_time": "2023-01-16T10:43:09.675Z"
   },
   {
    "duration": 23,
    "start_time": "2023-01-16T10:43:09.691Z"
   },
   {
    "duration": 9,
    "start_time": "2023-01-16T10:43:09.716Z"
   },
   {
    "duration": 9,
    "start_time": "2023-01-16T10:43:09.726Z"
   },
   {
    "duration": 35,
    "start_time": "2023-01-16T10:43:09.737Z"
   },
   {
    "duration": 9,
    "start_time": "2023-01-16T10:43:09.775Z"
   },
   {
    "duration": 5,
    "start_time": "2023-01-16T10:43:09.785Z"
   },
   {
    "duration": 26,
    "start_time": "2023-01-16T10:43:09.812Z"
   },
   {
    "duration": 25,
    "start_time": "2023-01-16T10:43:09.840Z"
   },
   {
    "duration": 18,
    "start_time": "2023-01-16T10:43:09.866Z"
   },
   {
    "duration": 3,
    "start_time": "2023-01-16T10:43:09.886Z"
   },
   {
    "duration": 12,
    "start_time": "2023-01-16T10:43:09.890Z"
   },
   {
    "duration": 13,
    "start_time": "2023-01-16T10:43:09.904Z"
   },
   {
    "duration": 5,
    "start_time": "2023-01-16T10:43:09.919Z"
   },
   {
    "duration": 340,
    "start_time": "2023-01-16T10:43:09.926Z"
   },
   {
    "duration": 881,
    "start_time": "2023-01-16T10:44:03.214Z"
   },
   {
    "duration": 3,
    "start_time": "2023-01-16T10:45:18.246Z"
   },
   {
    "duration": 1367,
    "start_time": "2023-01-16T10:45:21.487Z"
   },
   {
    "duration": 156,
    "start_time": "2023-01-16T10:45:40.528Z"
   }
  ],
  "colab": {
   "provenance": []
  },
  "kernelspec": {
   "display_name": "Python 3 (ipykernel)",
   "language": "python",
   "name": "python3"
  },
  "language_info": {
   "codemirror_mode": {
    "name": "ipython",
    "version": 3
   },
   "file_extension": ".py",
   "mimetype": "text/x-python",
   "name": "python",
   "nbconvert_exporter": "python",
   "pygments_lexer": "ipython3",
   "version": "3.9.5"
  },
  "toc": {
   "base_numbering": 1,
   "nav_menu": {},
   "number_sections": true,
   "sideBar": true,
   "skip_h1_title": true,
   "title_cell": "Table of Contents",
   "title_sidebar": "Contents",
   "toc_cell": false,
   "toc_position": {},
   "toc_section_display": true,
   "toc_window_display": false
  }
 },
 "nbformat": 4,
 "nbformat_minor": 5
}
